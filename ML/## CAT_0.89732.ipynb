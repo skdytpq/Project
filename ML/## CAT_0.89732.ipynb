{
 "cells": [
  {
   "cell_type": "markdown",
   "metadata": {
    "id": "rSlGkmrvWWCN"
   },
   "source": [
    "# 1. Import"
   ]
  },
  {
   "cell_type": "code",
   "execution_count": 1,
   "metadata": {
    "colab": {
     "base_uri": "https://localhost:8080/"
    },
    "id": "RsdSWwH-e_D6",
    "outputId": "873001f3-eb20-43be-813d-3efe9a7dbfe9"
   },
   "outputs": [
    {
     "name": "stdout",
     "output_type": "stream",
     "text": [
      "Requirement already satisfied: catboost in /usr/local/lib/python3.7/dist-packages (1.0.3)\n",
      "Requirement already satisfied: pandas>=0.24.0 in /usr/local/lib/python3.7/dist-packages (from catboost) (1.1.5)\n",
      "Requirement already satisfied: six in /usr/local/lib/python3.7/dist-packages (from catboost) (1.15.0)\n",
      "Requirement already satisfied: numpy>=1.16.0 in /usr/local/lib/python3.7/dist-packages (from catboost) (1.19.5)\n",
      "Requirement already satisfied: graphviz in /usr/local/lib/python3.7/dist-packages (from catboost) (0.10.1)\n",
      "Requirement already satisfied: matplotlib in /usr/local/lib/python3.7/dist-packages (from catboost) (3.2.2)\n",
      "Requirement already satisfied: plotly in /usr/local/lib/python3.7/dist-packages (from catboost) (4.4.1)\n",
      "Requirement already satisfied: scipy in /usr/local/lib/python3.7/dist-packages (from catboost) (1.4.1)\n",
      "Requirement already satisfied: pytz>=2017.2 in /usr/local/lib/python3.7/dist-packages (from pandas>=0.24.0->catboost) (2018.9)\n",
      "Requirement already satisfied: python-dateutil>=2.7.3 in /usr/local/lib/python3.7/dist-packages (from pandas>=0.24.0->catboost) (2.8.2)\n",
      "Requirement already satisfied: kiwisolver>=1.0.1 in /usr/local/lib/python3.7/dist-packages (from matplotlib->catboost) (1.3.2)\n",
      "Requirement already satisfied: pyparsing!=2.0.4,!=2.1.2,!=2.1.6,>=2.0.1 in /usr/local/lib/python3.7/dist-packages (from matplotlib->catboost) (3.0.6)\n",
      "Requirement already satisfied: cycler>=0.10 in /usr/local/lib/python3.7/dist-packages (from matplotlib->catboost) (0.11.0)\n",
      "Requirement already satisfied: retrying>=1.3.3 in /usr/local/lib/python3.7/dist-packages (from plotly->catboost) (1.3.3)\n"
     ]
    }
   ],
   "source": [
    "!pip install catboost"
   ]
  },
  {
   "cell_type": "code",
   "execution_count": 1,
   "metadata": {
    "id": "D1cHjZa0WWCd"
   },
   "outputs": [],
   "source": [
    "import pandas as pd\n",
    "import numpy as np\n",
    "import matplotlib.pyplot as plt\n",
    "import gc\n",
    "import warnings\n",
    "warnings.filterwarnings(\"ignore\")\n",
    "\n",
    "from tqdm import tqdm\n",
    "\n",
    "# Data Wrangling\n",
    "import pandas as pd\n",
    "from pandas import Series, DataFrame\n",
    "import numpy as np\n",
    "\n",
    "# Visualization\n",
    "import matplotlib.pylab as plt\n",
    "from matplotlib import font_manager, rc\n",
    "import seaborn as sns\n",
    "\n",
    "# Preprocessing & Feature Engineering\n",
    "from sklearn.model_selection import train_test_split\n",
    "\n",
    "# Modeling\n",
    "from lightgbm import LGBMClassifier\n",
    "from catboost import CatBoostClassifier\n",
    "\n",
    "# Evaluation\n",
    "from sklearn.metrics import *\n",
    "\n",
    "# Utility\n",
    "import os\n",
    "import time\n",
    "import random\n",
    "import warnings; warnings.filterwarnings(\"ignore\")\n",
    "from IPython.display import Image\n",
    "import pickle\n",
    "from tqdm import tqdm, tqdm_notebook\n",
    "import platform\n",
    "from itertools import combinations"
   ]
  },
  {
   "cell_type": "markdown",
   "metadata": {
    "id": "pvBIb77jWWCk"
   },
   "source": [
    "# 2. Read Data"
   ]
  },
  {
   "cell_type": "code",
   "execution_count": 2,
   "metadata": {
    "colab": {
     "base_uri": "https://localhost:8080/"
    },
    "id": "eSGXoOJ6duE-",
    "outputId": "1a32e4e5-5298-43de-aeb5-bc17884d4462"
   },
   "outputs": [],
   "source": [
    "panel = pd.read_csv(os.path.abspath(\"../input\") + '/panel.csv')\n",
    "survey = pd.read_csv(os.path.abspath(\"../input\") + '/survey.csv')\n",
    "response_train = pd.read_csv(os.path.abspath(\"../input\") + '/response_train.csv')\n",
    "response_test = pd.read_csv(os.path.abspath(\"../input\") + '/response_test.csv')"
   ]
  },
  {
   "cell_type": "markdown",
   "metadata": {
    "id": "L4GOCsuKWWCm"
   },
   "source": [
    "__< 데이터 설명 >__  \n",
    "  \n",
    "* __panel__  \n",
    "  \n",
    "`GENDER` : 성별 - 1:남자 / 2:여자  \n",
    "`REGION` : 지역  \n",
    "`SQ1 ~ DQ7` : 설문조사 질문 설명  \n",
    "  \n",
    "* __Survey__  \n",
    "  \n",
    "`IR` : 난이도(응답가능성, 100이 최고) - 수치가 높으면 난이도가 높음  \n",
    "`LOI` : 설문하는데 걸리는 시간 (분단위)  \n",
    "`CPI` : 패널 응답 리워드 포인트 (1P~)  \n",
    "  \n",
    "* __Response_train__  \n",
    "  \n",
    "`ID` : submission을 식별하기 위한 ID로 사용"
   ]
  },
  {
   "cell_type": "markdown",
   "metadata": {
    "id": "_AYoef--WWCn"
   },
   "source": [
    "# 3. Data Cleansing"
   ]
  },
  {
   "cell_type": "markdown",
   "metadata": {
    "id": "ef9nmjBDWWCo"
   },
   "source": [
    "### panel"
   ]
  },
  {
   "cell_type": "code",
   "execution_count": 3,
   "metadata": {
    "colab": {
     "base_uri": "https://localhost:8080/"
    },
    "id": "1duVNJq0WWCp",
    "outputId": "536634f0-11ae-4959-eceb-ffc639cbfbee",
    "scrolled": true
   },
   "outputs": [
    {
     "data": {
      "text/plain": [
       "218809"
      ]
     },
     "execution_count": 3,
     "metadata": {},
     "output_type": "execute_result"
    }
   ],
   "source": [
    "# panel 결측치 개수 확인\n",
    "panel.isna().sum().sum()"
   ]
  },
  {
   "cell_type": "code",
   "execution_count": 4,
   "metadata": {
    "colab": {
     "base_uri": "https://localhost:8080/"
    },
    "id": "HK9B2aFwWWCs",
    "outputId": "c5368c1d-70e4-4037-a115-21fa71204f67"
   },
   "outputs": [
    {
     "data": {
      "text/plain": [
       "1982.0"
      ]
     },
     "execution_count": 4,
     "metadata": {},
     "output_type": "execute_result"
    }
   ],
   "source": [
    "# BIRTH 대체할 결측치 확인\n",
    "panel.BIRTH.value_counts().sort_values(ascending = False).index[0]"
   ]
  },
  {
   "cell_type": "code",
   "execution_count": 5,
   "metadata": {
    "colab": {
     "base_uri": "https://localhost:8080/"
    },
    "id": "WJRVsYKLWWCu",
    "outputId": "e0c50c1e-a68b-416e-9daf-04251fc3d97a",
    "scrolled": true
   },
   "outputs": [
    {
     "data": {
      "text/plain": [
       "2.0"
      ]
     },
     "execution_count": 5,
     "metadata": {},
     "output_type": "execute_result"
    }
   ],
   "source": [
    "# GENDER 대체할 결측치 확인\n",
    "panel.GENDER.value_counts().sort_values(ascending = False).index[0]"
   ]
  },
  {
   "cell_type": "code",
   "execution_count": 6,
   "metadata": {
    "colab": {
     "base_uri": "https://localhost:8080/"
    },
    "id": "1FJJrh93WWCw",
    "outputId": "a7a38277-8799-49de-d579-33d67172b34b"
   },
   "outputs": [
    {
     "data": {
      "text/plain": [
       "2.0"
      ]
     },
     "execution_count": 6,
     "metadata": {},
     "output_type": "execute_result"
    }
   ],
   "source": [
    "# REGION 대체할 결측치 확인\n",
    "panel.REGION.value_counts().sort_values(ascending = False).index[0]"
   ]
  },
  {
   "cell_type": "code",
   "execution_count": 7,
   "metadata": {
    "id": "0awfokAYWWCy"
   },
   "outputs": [],
   "source": [
    "# 결측치 처리\n",
    "panel.BIRTH.fillna(panel.BIRTH.value_counts().sort_values(ascending = False).index[0],inplace = True)\n",
    "panel.GENDER.fillna(panel.GENDER.value_counts().sort_values(ascending = False).index[0], inplace = True)\n",
    "panel.REGION.fillna(panel.REGION.value_counts().sort_values(ascending = False).index[0],inplace = True)\n",
    "\n",
    "## 나머지 데이터는 설문조사 결과이므로 0으로 처리\n",
    "panel.fillna(0,inplace = True)"
   ]
  },
  {
   "cell_type": "code",
   "execution_count": 8,
   "metadata": {
    "colab": {
     "base_uri": "https://localhost:8080/"
    },
    "id": "RLKU0IdaWWCz",
    "outputId": "5314bc3a-7406-4744-a423-506b7f0263ee"
   },
   "outputs": [
    {
     "data": {
      "text/plain": [
       "0"
      ]
     },
     "execution_count": 8,
     "metadata": {},
     "output_type": "execute_result"
    }
   ],
   "source": [
    "# 결측치 처리 후 확인\n",
    "panel.isna().sum().sum()"
   ]
  },
  {
   "cell_type": "markdown",
   "metadata": {
    "id": "r_6M93ZJWWC0"
   },
   "source": [
    "### 질문 데이터 전처리"
   ]
  },
  {
   "cell_type": "markdown",
   "metadata": {
    "id": "uRhPXlRpctaX"
   },
   "source": [
    "__< 처리 방법 >__  \n",
    "  \n",
    "* ',' , '.' 으로 이루어진 값을 `split`을 통해 응답값 통일화  \n",
    "* 질문 선지에 없는 답이 명시되어 있는 경우 : __-1__  \n",
    "* 멀티값인 경우 : __-2__"
   ]
  },
  {
   "cell_type": "markdown",
   "metadata": {
    "id": "o3eIVxSgWWC1"
   },
   "source": [
    "SQ1 - 성별"
   ]
  },
  {
   "cell_type": "code",
   "execution_count": 9,
   "metadata": {
    "id": "tS-1Tq9lWWC2"
   },
   "outputs": [],
   "source": [
    "# `GENDER`열이 존재하기 때문에 삭제\n",
    "panel = panel.drop(columns = ['SQ1'])"
   ]
  },
  {
   "cell_type": "markdown",
   "metadata": {
    "id": "VI3diJXGWWC3"
   },
   "source": [
    "SQ2 - 출생년도"
   ]
  },
  {
   "cell_type": "code",
   "execution_count": 10,
   "metadata": {
    "id": "OaYiqL1MWWC4"
   },
   "outputs": [],
   "source": [
    "# error로 변환\n",
    "panel.loc[panel['SQ2'] == 1 , 'SQ2'] = -1\n",
    "\n",
    "# BIRTH와 SQ2의 답이 다른 경우 error로 변환\n",
    "panel.loc[panel['SQ2'] != panel['BIRTH'] , 'SQ2'] = -1\n",
    "\n",
    "# int 변환\n",
    "panel['SQ2'] = panel['SQ2'].astype(int)"
   ]
  },
  {
   "cell_type": "markdown",
   "metadata": {
    "id": "eX_FMdr3WWC5"
   },
   "source": [
    "SQ3 - 사는 지역"
   ]
  },
  {
   "cell_type": "code",
   "execution_count": 11,
   "metadata": {
    "id": "ZRKK87qYWWC6"
   },
   "outputs": [],
   "source": [
    "panel['SQ3'] = panel['SQ3'].astype(str)\n",
    "panel['SQ3'] = panel.SQ3.apply(lambda x : x.split('.')[0] if '.' in x else x).apply(lambda x : x.split(',')[0] if ',' in x else x)\n",
    "panel['SQ3'] = panel['SQ3'].astype(int)"
   ]
  },
  {
   "cell_type": "markdown",
   "metadata": {
    "id": "SmTmv-OHWWC7"
   },
   "source": [
    "SQ4 - 사는 곳 유형"
   ]
  },
  {
   "cell_type": "code",
   "execution_count": 12,
   "metadata": {
    "id": "ERj8ygpCctag"
   },
   "outputs": [],
   "source": [
    "# SQ4 질문의 답\n",
    "lst_SQ4 = list(np.arange(0,7,1).astype(str));lst_SQ4.append('97');lst_SQ4.append('-2')"
   ]
  },
  {
   "cell_type": "code",
   "execution_count": 13,
   "metadata": {
    "id": "JHzhrgHRctah"
   },
   "outputs": [],
   "source": [
    "panel['SQ4'] = panel['SQ4'].astype(str)\n",
    "panel['SQ4'] = panel.SQ4.apply(lambda x : x.split(',')[0] if x.split(',')[0] == '97' else x).apply(lambda x : x.split(',')[0] if len(x) < 3 else x).apply(lambda x : x if x in lst_SQ4 else -1)\n",
    "panel['SQ4'] = panel['SQ4'].astype(int)"
   ]
  },
  {
   "cell_type": "markdown",
   "metadata": {
    "id": "Jszt2MbnWWC9"
   },
   "source": [
    "SQ5 - 최종학력"
   ]
  },
  {
   "cell_type": "code",
   "execution_count": 14,
   "metadata": {
    "id": "IGTx6OXHctai"
   },
   "outputs": [],
   "source": [
    "# SQ5 질문의 답\n",
    "lst_SQ5 = list(np.arange(0,5,1).astype(str))"
   ]
  },
  {
   "cell_type": "code",
   "execution_count": 15,
   "metadata": {
    "id": "JM0lWjWmWWC9"
   },
   "outputs": [],
   "source": [
    "panel['SQ5'] = panel['SQ5'].astype(str)\n",
    "panel['SQ5'] = panel.SQ5.apply(lambda x : x if x in lst_SQ5  else '-1')\n",
    "panel['SQ5'] = panel['SQ5'].astype(int)"
   ]
  },
  {
   "cell_type": "markdown",
   "metadata": {
    "id": "OoKjUEVNWWC_"
   },
   "source": [
    "SQ6 - 결혼 유무"
   ]
  },
  {
   "cell_type": "code",
   "execution_count": 16,
   "metadata": {
    "id": "bf08lV9dctaj"
   },
   "outputs": [],
   "source": [
    "# SQ6 질문의 답\n",
    "lst_SQ6 = list(np.arange(0,3,1).astype(str));lst_SQ6.append('97');lst_SQ6.append('-2')"
   ]
  },
  {
   "cell_type": "code",
   "execution_count": 17,
   "metadata": {
    "id": "9gl3RbOEWWDB"
   },
   "outputs": [],
   "source": [
    "panel['SQ6'] = panel['SQ6'].astype(str)\n",
    "panel['SQ6'] = panel.SQ6.apply(lambda x : x.split(',')[0] if x.split(',')[0] == '97' else x).apply(lambda x : x.split(',')[0] if len(x) <= 5 else x).apply(lambda x : x if x in lst_SQ6 else -1)\n",
    "panel['SQ6'] = panel['SQ6'].astype(int)"
   ]
  },
  {
   "cell_type": "markdown",
   "metadata": {
    "id": "QowVhXHrWWDC"
   },
   "source": [
    "SQ7 - 자녀 나이"
   ]
  },
  {
   "cell_type": "code",
   "execution_count": 18,
   "metadata": {
    "id": "CazwjerJctal"
   },
   "outputs": [],
   "source": [
    "# SQ7 질문의 답\n",
    "lst_SQ7 = list(np.arange(0,17,1).astype(str));lst_SQ7.append('99')"
   ]
  },
  {
   "cell_type": "code",
   "execution_count": 19,
   "metadata": {
    "id": "aJF-mDVTctam"
   },
   "outputs": [],
   "source": [
    "panel['SQ7'] = panel['SQ7'].astype(str)\n",
    "panel['SQ7'] = panel.SQ7.apply(lambda x : x.split('.')[0] if x.split('.')[0] == '99' else x).apply(lambda x : x.split('.')[0] if x.split('.')[0] in lst_SQ7 else x).apply(lambda x : x if x in lst_SQ7 else -1)\n",
    "panel['SQ7'] = panel['SQ7'].astype(int)"
   ]
  },
  {
   "cell_type": "markdown",
   "metadata": {
    "id": "bNG9gGnLWWDD"
   },
   "source": [
    "SQ8 - 가족 수"
   ]
  },
  {
   "cell_type": "code",
   "execution_count": 20,
   "metadata": {
    "id": "9fYoODyoctan"
   },
   "outputs": [],
   "source": [
    "# SQ8 질문의 답\n",
    "lst_SQ8 = list(np.arange(0,6,1).astype(str))"
   ]
  },
  {
   "cell_type": "code",
   "execution_count": 21,
   "metadata": {
    "id": "eV9VCto9WWDE"
   },
   "outputs": [],
   "source": [
    "panel['SQ8'] = panel['SQ8'].astype(str)\n",
    "panel['SQ8'] = panel.SQ8.apply(lambda x : x if x in lst_SQ8 else '-1')\n",
    "panel['SQ8'] = panel['SQ8'].astype(int)"
   ]
  },
  {
   "cell_type": "markdown",
   "metadata": {
    "id": "oiNgs4gJctao"
   },
   "source": [
    "A1 - 최근 1년이내 구입한 가전제품 __(multi)__"
   ]
  },
  {
   "cell_type": "code",
   "execution_count": 22,
   "metadata": {
    "id": "BrrSQ9vactap"
   },
   "outputs": [],
   "source": [
    "# A1 질문의 답\n",
    "lst_A1 = list(np.arange(0,23,1).astype(str));lst_A1.append('99');lst_A1.append('-2')"
   ]
  },
  {
   "cell_type": "code",
   "execution_count": 23,
   "metadata": {
    "id": "xvhpFkjjctap"
   },
   "outputs": [],
   "source": [
    "panel['A1'] = panel['A1'].astype(str)\n",
    "panel['A1'] = panel.A1.apply(lambda x : x.split('.')[0] if x.split('.')[0] in lst_A1 and len(x) <= 3 else x).apply(lambda x : -2 if len(x) >=3 else x).apply(lambda x : x if x in lst_A1 else '-1')\n",
    "panel['A1'] = panel['A1'].astype(int)"
   ]
  },
  {
   "cell_type": "markdown",
   "metadata": {
    "id": "5Bdv8uM-ctaq"
   },
   "source": [
    "B1 - 휴대폰 인터넷 통신망  \n",
    "  "
   ]
  },
  {
   "cell_type": "code",
   "execution_count": 24,
   "metadata": {
    "colab": {
     "base_uri": "https://localhost:8080/"
    },
    "id": "b1i9CTd9BSE3",
    "outputId": "3ec36c1b-6189-4823-c31c-7421d9e858a2"
   },
   "outputs": [
    {
     "data": {
      "text/plain": [
       "0               3598\n",
       "4               3134\n",
       "1               2706\n",
       "99              1720\n",
       "8               1642\n",
       "                ... \n",
       "1,10,2,3,4,8       1\n",
       "1,10,2,9           1\n",
       "1,10,2,5,6,9       1\n",
       "1,6                1\n",
       "1,4,6,7            1\n",
       "Name: B1, Length: 119, dtype: int64"
      ]
     },
     "execution_count": 24,
     "metadata": {},
     "output_type": "execute_result"
    }
   ],
   "source": [
    "panel.B1.value_counts()"
   ]
  },
  {
   "cell_type": "code",
   "execution_count": 25,
   "metadata": {
    "id": "qee72Hgvctaq"
   },
   "outputs": [],
   "source": [
    "# B1에 해당하는 답들이 아니라고 판단하여 삭제\n",
    "panel = panel.drop(columns = ['B1'])"
   ]
  },
  {
   "cell_type": "markdown",
   "metadata": {
    "id": "wpiuzjPyctar"
   },
   "source": [
    "B2 - 휴대폰 통신사  \n"
   ]
  },
  {
   "cell_type": "code",
   "execution_count": 26,
   "metadata": {
    "colab": {
     "base_uri": "https://localhost:8080/"
    },
    "id": "dhY1flR2BSE6",
    "outputId": "c9b47697-0848-4cfc-df8f-90f340ecd6cb"
   },
   "outputs": [
    {
     "data": {
      "text/plain": [
       "0              3981\n",
       "1              3869\n",
       "3              1765\n",
       "99             1360\n",
       "2              1311\n",
       "               ... \n",
       "2,3,4,6,7,9       1\n",
       "97,11             1\n",
       "97,redmi          1\n",
       "10,5,7,8          1\n",
       "1,2,3,5,6         1\n",
       "Name: B2, Length: 109, dtype: int64"
      ]
     },
     "execution_count": 26,
     "metadata": {},
     "output_type": "execute_result"
    }
   ],
   "source": [
    "panel.B2.value_counts()"
   ]
  },
  {
   "cell_type": "code",
   "execution_count": 27,
   "metadata": {
    "id": "kW-oMglsctar"
   },
   "outputs": [],
   "source": [
    "# B2에 해당하는 답들이 아니라고 판단하여 삭제\n",
    "panel = panel.drop(columns = ['B2'])"
   ]
  },
  {
   "cell_type": "markdown",
   "metadata": {
    "id": "DxEpsV_actas"
   },
   "source": [
    "B3 - 휴대폰 제조사  "
   ]
  },
  {
   "cell_type": "code",
   "execution_count": 28,
   "metadata": {
    "id": "jOq5WJhuctas"
   },
   "outputs": [],
   "source": [
    "# B3 질문의 답\n",
    "lst_B3 = list(np.arange(0,8,1).astype(str));lst_B3.append('99');lst_B3.append('-2');lst_B3.append('97')"
   ]
  },
  {
   "cell_type": "code",
   "execution_count": 29,
   "metadata": {
    "id": "bV_sVS11ctat"
   },
   "outputs": [],
   "source": [
    "panel['B3'] = panel['B3'].astype(str)\n",
    "\n",
    "# 9997 -> 현재 사용 중인 휴대폰 없음으로 처리\n",
    "panel.loc[panel['B3'] == '9997', 'B3'] == '99'\n",
    "panel['B3'] = panel.B3.apply(lambda x : x.split(',')[0] if x.split(',')[0] == '97' else x).apply(lambda x : -1 if len(x) >=3 else x).apply(lambda x : x if x in lst_B3 else '-1')\n",
    "panel['B3'] = panel['B3'].astype(int)"
   ]
  },
  {
   "cell_type": "markdown",
   "metadata": {
    "id": "1ICMS5dBctat"
   },
   "source": [
    "B4 - 사용하는 스마트 기기 __(multi)__"
   ]
  },
  {
   "cell_type": "code",
   "execution_count": 30,
   "metadata": {
    "id": "Ot-RzgVDctat"
   },
   "outputs": [],
   "source": [
    "# B4 질문의 답\n",
    "lst_B4 = list(np.arange(0,9,1).astype(str));lst_B4.append('99');lst_B4.append('-2');lst_B4.append('97')"
   ]
  },
  {
   "cell_type": "code",
   "execution_count": 31,
   "metadata": {
    "id": "KC3Q_F45ctau"
   },
   "outputs": [],
   "source": [
    "panel['B4'] = panel['B4'].astype(str)\n",
    "panel['B4'] =panel.B4.apply(lambda x : x.split(',')[0] if x.split(',')[0] == '97' else x).apply(lambda x : '-2' if len(x) >=3 else x).apply(lambda x : x if x in lst_B4 else '-1')\n",
    "panel['B4'] = panel['B4'].astype(int)"
   ]
  },
  {
   "cell_type": "markdown",
   "metadata": {
    "id": "oX0ZFFlFctau"
   },
   "source": [
    "B5 - TV 케이블 망"
   ]
  },
  {
   "cell_type": "code",
   "execution_count": 32,
   "metadata": {
    "id": "0iJDVECFctav"
   },
   "outputs": [],
   "source": [
    "# B5 질문의 답\n",
    "lst_B5 = list(np.arange(0,11,1).astype(str));lst_B5.append('99');lst_B5.append('-2');lst_B5.append('97')"
   ]
  },
  {
   "cell_type": "code",
   "execution_count": 33,
   "metadata": {
    "id": "GGPPxY-nctav"
   },
   "outputs": [],
   "source": [
    "panel['B5'] = panel['B5'].astype(str)\n",
    "panel['B5'] =panel.B5.apply(lambda x : x.split(',')[0] if x.split(',')[0] == '97' else x).apply(lambda x : x.split(',')[0] if x.split(',')[0] in lst_B5 and len(x) <= 3 else x).apply(lambda x : x if x in lst_B5 else '-1')\n",
    "panel['B5'] = panel['B5'].astype(int)"
   ]
  },
  {
   "cell_type": "markdown",
   "metadata": {
    "id": "d4FQRY2ictav"
   },
   "source": [
    "C1 - 가입 보험 종류 __(multi)__"
   ]
  },
  {
   "cell_type": "code",
   "execution_count": 34,
   "metadata": {
    "id": "zl4KzxX9ctaw"
   },
   "outputs": [],
   "source": [
    "# C1 질문의 답\n",
    "lst_C1 = list(np.arange(0,16,1).astype(str));lst_C1.append('99');lst_C1.append('-2')"
   ]
  },
  {
   "cell_type": "code",
   "execution_count": 35,
   "metadata": {
    "id": "t4qjSLjUctaw"
   },
   "outputs": [],
   "source": [
    "panel['C1'] = panel['C1'].astype(str)\n",
    "panel['C1'] =panel.C1.apply(lambda x : x.split(',')[0] if x.split(',')[0] == '99' else x).apply(lambda x : x.split(',')[0] if x.split(',')[0] in lst_C1 and len(x) <= 3 else x).apply(lambda x : '-2' if len(x) >=3 else x).apply(lambda x : x if x in lst_C1 else '-1')\n",
    "panel['C1'] = panel['C1'].astype(int)"
   ]
  },
  {
   "cell_type": "markdown",
   "metadata": {
    "id": "oJordW3Pctax"
   },
   "source": [
    "C2 - 주 거래 은행"
   ]
  },
  {
   "cell_type": "code",
   "execution_count": 36,
   "metadata": {
    "id": "D7TE7jrPctax"
   },
   "outputs": [],
   "source": [
    "# C2 질문의 답\n",
    "lst_C2 = list(np.arange(0,15,1).astype(str));lst_C2.append('97')"
   ]
  },
  {
   "cell_type": "code",
   "execution_count": 37,
   "metadata": {
    "id": "hWq2MOVKctay"
   },
   "outputs": [],
   "source": [
    "panel['C2'] = panel['C2'].astype(str)\n",
    "panel['C2'] =panel.C2.apply(lambda x : x.split(',')[0] if x.split(',')[0] == '97' else x).apply(lambda x : x.split(',')[0] if x.split(',')[0] in lst_C2 and len(x) <= 3 else x).apply(lambda x : x if x in lst_C2 else '-1')\n",
    "panel['C2'] = panel['C2'].astype(int)"
   ]
  },
  {
   "cell_type": "markdown",
   "metadata": {
    "id": "_VZQQXQectay"
   },
   "source": [
    "C3 - 사용중인 간편결제서비스 __(multi)__"
   ]
  },
  {
   "cell_type": "code",
   "execution_count": 38,
   "metadata": {
    "id": "nFb9VOb6ctay"
   },
   "outputs": [],
   "source": [
    "# C3 질문의 답\n",
    "lst_C3 = list(np.arange(0,11,1).astype(str));lst_C3.append('97');lst_C3.append('99');lst_C3.append('-2')"
   ]
  },
  {
   "cell_type": "code",
   "execution_count": 39,
   "metadata": {
    "id": "-CzzeaG3ctay"
   },
   "outputs": [],
   "source": [
    "panel['C3'] = panel['C3'].astype(str)\n",
    "panel['C3'] =panel.C3.apply(lambda x : x.split(',')[0] if x.split(',')[0] == '97' else x).apply(lambda x : x.split(',')[0] if x.split(',')[0] in lst_C3 and len(x) <= 3 else x).apply(lambda x : '-2' if len(x) >=3 else x).apply(lambda x : x if x in lst_C3 else '-1')\n",
    "panel['C3'] = panel['C3'].astype(int)"
   ]
  },
  {
   "cell_type": "markdown",
   "metadata": {
    "id": "YTFvuftHctaz"
   },
   "source": [
    "F1 - 주로 이용하는 대형할인마트"
   ]
  },
  {
   "cell_type": "code",
   "execution_count": 40,
   "metadata": {
    "id": "BIrSfNPLctaz"
   },
   "outputs": [],
   "source": [
    "# F1 질문의 답\n",
    "lst_F1 = list(np.arange(0,11,1).astype(str));lst_F1.append('97');lst_F1.append('99')"
   ]
  },
  {
   "cell_type": "code",
   "execution_count": 41,
   "metadata": {
    "id": "pzLzVjSGctaz"
   },
   "outputs": [],
   "source": [
    "panel['F1'] = panel['F1'].astype(str)\n",
    "panel['F1'] =panel.F1.apply(lambda x : x.split(',')[0] if x.split(',')[0] == '97' else x).apply(lambda x : x.split(',')[0] if x.split(',')[0] in lst_F1 and len(x) <= 3 else x).apply(lambda x : x if x in lst_F1 else '-1')\n",
    "panel['F1'] = panel['F1'].astype(int)"
   ]
  },
  {
   "cell_type": "markdown",
   "metadata": {
    "id": "USJjmzNYcta0"
   },
   "source": [
    "F2 - 주로 이용하는 온라인 대형할인마트"
   ]
  },
  {
   "cell_type": "code",
   "execution_count": 42,
   "metadata": {
    "id": "7EsGrbcXcta0"
   },
   "outputs": [],
   "source": [
    "# F2 질문의 답\n",
    "lst_F2 = list(np.arange(0,6,1).astype(str));lst_F2.append('97');lst_F2.append('99')"
   ]
  },
  {
   "cell_type": "code",
   "execution_count": 43,
   "metadata": {
    "id": "HQP-NJ7ncta0"
   },
   "outputs": [],
   "source": [
    "panel['F2'] = panel['F2'].astype(str)\n",
    "panel['F2'] =panel.F2.apply(lambda x : x.split(',')[0] if x.split(',')[0] == '97' else x).apply(lambda x : x.split(',')[0] if x.split(',')[0] in lst_F2 and len(x) <= 3 else x).apply(lambda x : x if x in lst_F2 else '-1')\n",
    "panel['F2'] = panel['F2'].astype(int)"
   ]
  },
  {
   "cell_type": "markdown",
   "metadata": {
    "id": "SzX8kFAecta0"
   },
   "source": [
    "H1 - 3개월간 음용한 주류"
   ]
  },
  {
   "cell_type": "code",
   "execution_count": 44,
   "metadata": {
    "id": "5jRRNb6Scta1"
   },
   "outputs": [],
   "source": [
    "# H1 질문의 답\n",
    "lst_H1 = list(np.arange(0,12,1).astype(str));lst_H1.append('97');lst_H1.append('99')"
   ]
  },
  {
   "cell_type": "code",
   "execution_count": 45,
   "metadata": {
    "id": "i0qdiomkcta1"
   },
   "outputs": [],
   "source": [
    "panel['H1'] = panel['H1'].astype(str)\n",
    "panel['H1'] =panel.H1.apply(lambda x : '-2' if len(x) >=3 else x).apply(lambda x : x if x in lst_H1 else '-1')\n",
    "panel['H1'] = panel['H1'].astype(int)"
   ]
  },
  {
   "cell_type": "markdown",
   "metadata": {
    "id": "FA8C0dPJcta2"
   },
   "source": [
    "T1 - 피우는 담배 브랜드"
   ]
  },
  {
   "cell_type": "code",
   "execution_count": 46,
   "metadata": {
    "id": "3qOTwZoIcta3"
   },
   "outputs": [],
   "source": [
    "# T1 질문의 답\n",
    "lst_T1 = list(np.arange(0,34,1).astype(str));lst_T1.append('971');lst_T1.append('972');lst_T1.append('99')"
   ]
  },
  {
   "cell_type": "code",
   "execution_count": 47,
   "metadata": {
    "id": "iT-SNuUscta3"
   },
   "outputs": [],
   "source": [
    "panel['T1'] = panel['T1'].astype(str)\n",
    "\n",
    "# 9997 -> 담배 피우지 않음으로 처리\n",
    "panel.loc[panel['T1'] == '9997', 'T1'] == '99'\n",
    "panel['T1'] =panel.T1.apply(lambda x : x.split(',')[0] if x.split(',')[0] == '971' else x).apply(lambda x : x.split(',')[0] if x.split(',')[0] == '972' else x).apply(lambda x : x.split(',')[0] if x.split(',')[0] in lst_T1 else x).apply(lambda x : x if x in lst_T1 else '-1')\n",
    "panel['T1'] = panel['T1'].astype(int)"
   ]
  },
  {
   "cell_type": "markdown",
   "metadata": {
    "id": "aChNISoxcta4"
   },
   "source": [
    "X1 - 주로 운전하는 자동차의 제조사"
   ]
  },
  {
   "cell_type": "code",
   "execution_count": 48,
   "metadata": {
    "id": "BAH-N0pYcta4"
   },
   "outputs": [],
   "source": [
    "# X1 질문의 답\n",
    "lst_X1 = list(np.arange(0,26,1).astype(str));lst_X1.append('97');lst_X1.append('99')"
   ]
  },
  {
   "cell_type": "code",
   "execution_count": 49,
   "metadata": {
    "id": "NlwpjD9Ycta4"
   },
   "outputs": [],
   "source": [
    "panel['X1'] = panel['X1'].astype(str)\n",
    "panel['X1'] =panel.X1.apply(lambda x : x.split(',')[0] if x.split(',')[0] == '97' else x).apply(lambda x : x.split(',')[0] if x.split(',')[0] in lst_X1 else x).apply(lambda x : x if x in lst_X1 else '-1')\n",
    "panel['X1'] = panel['X1'].astype(int)"
   ]
  },
  {
   "cell_type": "markdown",
   "metadata": {
    "id": "WG27RvEScta5"
   },
   "source": [
    "X2 - 자동차 구매 형태"
   ]
  },
  {
   "cell_type": "code",
   "execution_count": 50,
   "metadata": {
    "colab": {
     "base_uri": "https://localhost:8080/"
    },
    "id": "Tk1IiujhBSGL",
    "outputId": "a274be46-2ebf-404c-e176-9c08088fa4d9"
   },
   "outputs": [
    {
     "data": {
      "text/plain": [
       "0          8799\n",
       "1.0        2186\n",
       "99.0       1119\n",
       "2.0         629\n",
       "1           469\n",
       "4.0         459\n",
       "3.0         429\n",
       "5.0         406\n",
       "6.0         367\n",
       "11.0        237\n",
       "7.0         217\n",
       "8.0         186\n",
       "9.0         180\n",
       "2           109\n",
       "10.0         88\n",
       "99           86\n",
       "21.0         64\n",
       "12.0         42\n",
       "4            38\n",
       "5            38\n",
       "16.0         37\n",
       "1.0          31\n",
       "20.0         28\n",
       "13.0         28\n",
       "6            27\n",
       "8            24\n",
       "14.0         23\n",
       "19.0         22\n",
       "3            21\n",
       "97.0         21\n",
       "7            19\n",
       "98.0         18\n",
       "17.0         13\n",
       "6.0          12\n",
       "99.0         10\n",
       "15.0          9\n",
       "2.0           8\n",
       "98            7\n",
       "11            7\n",
       "3.0           7\n",
       "9             7\n",
       "18.0          6\n",
       "4.0           5\n",
       "5.0           4\n",
       "10            3\n",
       "7.0           3\n",
       "12            3\n",
       "22.0          2\n",
       "21.0          2\n",
       "8.0           2\n",
       "97,프리랜서       1\n",
       "14.0          1\n",
       "11.0          1\n",
       "10.0          1\n",
       "9.0           1\n",
       "14            1\n",
       "Name: X2, dtype: int64"
      ]
     },
     "execution_count": 50,
     "metadata": {},
     "output_type": "execute_result"
    }
   ],
   "source": [
    "panel.X2.value_counts()"
   ]
  },
  {
   "cell_type": "code",
   "execution_count": 51,
   "metadata": {
    "id": "Ty3xFX2kcta5"
   },
   "outputs": [],
   "source": [
    "# X2에 해당하는 답들이 아니라고 판단하여 삭제\n",
    "panel = panel.drop(columns = ['X2'])"
   ]
  },
  {
   "cell_type": "markdown",
   "metadata": {
    "id": "t5ZwYNzMcta5"
   },
   "source": [
    "X3 - 자주 이용하는 주유소"
   ]
  },
  {
   "cell_type": "code",
   "execution_count": 52,
   "metadata": {
    "id": "JPogue44cta6"
   },
   "outputs": [],
   "source": [
    "# X3 질문의 답\n",
    "lst_X3 = list(np.arange(0,9,1).astype(str));lst_X3.append('97');lst_X3.append('99')"
   ]
  },
  {
   "cell_type": "code",
   "execution_count": 53,
   "metadata": {
    "id": "xMEYtI9zcta6"
   },
   "outputs": [],
   "source": [
    "panel['X3'] = panel['X3'].astype(str)\n",
    "panel['X3'] =panel.X3.apply(lambda x : x.split(',')[0] if x.split(',')[0] == '97' else x).apply(lambda x : x.split(',')[0] if x.split(',')[0] in lst_X3 else x).apply(lambda x : x if x in lst_X3 else '-1')\n",
    "panel['X3'] = panel['X3'].astype(int)"
   ]
  },
  {
   "cell_type": "markdown",
   "metadata": {
    "id": "d6tQm6Bkcta7"
   },
   "source": [
    "X4 - 주 자동차 연료 타입"
   ]
  },
  {
   "cell_type": "code",
   "execution_count": 54,
   "metadata": {
    "id": "ui48kh4ncta8"
   },
   "outputs": [],
   "source": [
    "# X4 질문의 답\n",
    "lst_X4 = list(np.arange(0,5,1).astype(str));lst_X4.append('97');lst_X4.append('99')"
   ]
  },
  {
   "cell_type": "code",
   "execution_count": 55,
   "metadata": {
    "id": "d_Al374scta9"
   },
   "outputs": [],
   "source": [
    "panel['X4'] = panel['X4'].astype(str)\n",
    "panel['X4'] =panel.X4.apply(lambda x : x.split(',')[0] if x.split(',')[0] == '97' else x).apply(lambda x : x.split('.')[0] if x.split('.')[0] in lst_X4 else x).apply(lambda x : x if x in lst_X4 else '-1')\n",
    "panel['X4'] = panel['X4'].astype(int)"
   ]
  },
  {
   "cell_type": "markdown",
   "metadata": {
    "id": "CIfEywawcta-"
   },
   "source": [
    "DQ1 - 직업"
   ]
  },
  {
   "cell_type": "code",
   "execution_count": 56,
   "metadata": {
    "id": "RZ8Erg_qcta_"
   },
   "outputs": [],
   "source": [
    "# DQ1 질문의 답\n",
    "lst_DQ1 = list(np.arange(0,16,1).astype(str));lst_DQ1.append('97');lst_DQ1.append('99')"
   ]
  },
  {
   "cell_type": "code",
   "execution_count": 57,
   "metadata": {
    "id": "CXBRrLMbcta_"
   },
   "outputs": [],
   "source": [
    "panel['DQ1'] = panel['DQ1'].astype(str)\n",
    "panel['DQ1'] =panel.DQ1.apply(lambda x : x.split(',')[0] if x.split(',')[0] == '97' else x).apply(lambda x : x.split(',')[0] if x.split(',')[0] in lst_DQ1 else x).apply(lambda x : x if x in lst_DQ1 else '-1')\n",
    "panel['DQ1'] = panel['DQ1'].astype(int)"
   ]
  },
  {
   "cell_type": "markdown",
   "metadata": {
    "id": "lQiNOTWTcta_"
   },
   "source": [
    "DQ2 - 근무하는 직종"
   ]
  },
  {
   "cell_type": "code",
   "execution_count": 58,
   "metadata": {
    "id": "ORXYPDjkctbA"
   },
   "outputs": [],
   "source": [
    "# DQ2 질문의 답\n",
    "lst_DQ2 = list(np.arange(0,23,1).astype(str));lst_DQ2.append('97');lst_DQ2.append('99')"
   ]
  },
  {
   "cell_type": "code",
   "execution_count": 59,
   "metadata": {
    "id": "Js_W0u7SctbA"
   },
   "outputs": [],
   "source": [
    "panel['DQ2'] = panel['DQ2'].astype(str)\n",
    "panel['DQ2'] =panel.DQ2.apply(lambda x : x.split(',')[0] if x.split(',')[0] == '97' else x).apply(lambda x : x.split(',')[0] if x.split(',')[0] in lst_DQ2 else x).apply(lambda x : x if x in lst_DQ2 else '-1')\n",
    "panel['DQ2'] = panel['DQ2'].astype(int)"
   ]
  },
  {
   "cell_type": "markdown",
   "metadata": {
    "id": "YGVedtoectbA"
   },
   "source": [
    "DQ3 - 회사에서 담당하고 있는 직무분야"
   ]
  },
  {
   "cell_type": "code",
   "execution_count": 60,
   "metadata": {
    "id": "E-zUcUnfctbA"
   },
   "outputs": [],
   "source": [
    "# DQ3 질문의 답\n",
    "lst_DQ3 = list(np.arange(0,22,1).astype(str));lst_DQ3.append('97');lst_DQ3.append('99')"
   ]
  },
  {
   "cell_type": "code",
   "execution_count": 61,
   "metadata": {
    "id": "_ae2wfwCctbB"
   },
   "outputs": [],
   "source": [
    "panel['DQ3'] = panel['DQ3'].astype(str)\n",
    "panel['DQ3'] =panel.DQ3.apply(lambda x : x.split(',')[0] if x.split(',')[0] == '97' else x).apply(lambda x : x.split('.')[0] if x.split('.')[0] in lst_DQ3 else x).apply(lambda x : x if x in lst_DQ3 else '-1')\n",
    "panel['DQ3'] = panel['DQ3'].astype(int)"
   ]
  },
  {
   "cell_type": "markdown",
   "metadata": {
    "id": "-TTMFvv8ctbB"
   },
   "source": [
    "DQ4 - 직장에서 직급"
   ]
  },
  {
   "cell_type": "code",
   "execution_count": 62,
   "metadata": {
    "id": "0O0EOyXlctbB"
   },
   "outputs": [],
   "source": [
    "# DQ4 질문의 답\n",
    "lst_DQ4 = list(np.arange(0,8,1).astype(str));lst_DQ4.append('97');lst_DQ4.append('99')"
   ]
  },
  {
   "cell_type": "code",
   "execution_count": 63,
   "metadata": {
    "id": "Vvyv723GctbB"
   },
   "outputs": [],
   "source": [
    "panel['DQ4'] = panel['DQ4'].astype(str)\n",
    "panel['DQ4'] =panel.DQ4.apply(lambda x : x.split(',')[0] if x.split(',')[0] == '97' else x).apply(lambda x : x.split(',')[0] if x.split(',')[0] in lst_DQ4 else x).apply(lambda x : x if x in lst_DQ4 else '-1')\n",
    "panel['DQ4'] = panel['DQ4'].astype(int)"
   ]
  },
  {
   "cell_type": "markdown",
   "metadata": {
    "id": "-4PwI0HSctbC"
   },
   "source": [
    "DQ5 - 회사의 규모"
   ]
  },
  {
   "cell_type": "code",
   "execution_count": 64,
   "metadata": {
    "id": "G_ZhOihLctbC"
   },
   "outputs": [],
   "source": [
    "panel['DQ5'] = panel['DQ5'].astype(int)"
   ]
  },
  {
   "cell_type": "markdown",
   "metadata": {
    "id": "Dv1XwoErctbC"
   },
   "source": [
    "DQ6 - 한달 평균 가구소득"
   ]
  },
  {
   "cell_type": "code",
   "execution_count": 65,
   "metadata": {
    "id": "yDf-_L5rctbD"
   },
   "outputs": [],
   "source": [
    "panel['DQ6'] = panel['DQ6'].astype(int)"
   ]
  },
  {
   "cell_type": "markdown",
   "metadata": {
    "id": "Mt7fsRa0ctbD"
   },
   "source": [
    "DQ7 - 고용 형태"
   ]
  },
  {
   "cell_type": "code",
   "execution_count": 66,
   "metadata": {
    "id": "A3f4gj1nctbD"
   },
   "outputs": [],
   "source": [
    "panel['DQ7'] = panel['DQ7'].astype(int)"
   ]
  },
  {
   "cell_type": "markdown",
   "metadata": {
    "id": "hxOSyDhAWWDG"
   },
   "source": [
    "### survey"
   ]
  },
  {
   "cell_type": "code",
   "execution_count": 67,
   "metadata": {
    "colab": {
     "base_uri": "https://localhost:8080/"
    },
    "id": "DqnzoKtWWWDG",
    "outputId": "196e4e7e-f779-4095-b8b0-d404065f806c"
   },
   "outputs": [
    {
     "data": {
      "text/plain": [
       "surveyID         0\n",
       "TITLE            0\n",
       "IR               0\n",
       "LOI              0\n",
       "CATEGORIES    5027\n",
       "CPI              0\n",
       "dtype: int64"
      ]
     },
     "execution_count": 67,
     "metadata": {},
     "output_type": "execute_result"
    }
   ],
   "source": [
    "survey.isna().sum()"
   ]
  },
  {
   "cell_type": "code",
   "execution_count": 68,
   "metadata": {
    "id": "ko69W4HpWWDH"
   },
   "outputs": [],
   "source": [
    "# CATEGORIES 열은 의미가 없다고 판단되어 삭제\n",
    "survey.drop(columns  = 'CATEGORIES',inplace = True)"
   ]
  },
  {
   "cell_type": "code",
   "execution_count": 69,
   "metadata": {
    "colab": {
     "base_uri": "https://localhost:8080/"
    },
    "id": "ooTzTIEyWWDH",
    "outputId": "7e0577d6-5739-4170-c219-97aa3aa1db6e"
   },
   "outputs": [
    {
     "name": "stdout",
     "output_type": "stream",
     "text": [
      "<class 'pandas.core.frame.DataFrame'>\n",
      "RangeIndex: 5976 entries, 0 to 5975\n",
      "Data columns (total 5 columns):\n",
      " #   Column    Non-Null Count  Dtype  \n",
      "---  ------    --------------  -----  \n",
      " 0   surveyID  5976 non-null   object \n",
      " 1   TITLE     5976 non-null   object \n",
      " 2   IR        5976 non-null   int64  \n",
      " 3   LOI       5976 non-null   int64  \n",
      " 4   CPI       5976 non-null   float64\n",
      "dtypes: float64(1), int64(2), object(2)\n",
      "memory usage: 233.6+ KB\n"
     ]
    }
   ],
   "source": [
    "survey.info()"
   ]
  },
  {
   "cell_type": "markdown",
   "metadata": {
    "id": "0TygoawGWWDI"
   },
   "source": [
    "### response_train"
   ]
  },
  {
   "cell_type": "code",
   "execution_count": 70,
   "metadata": {
    "colab": {
     "base_uri": "https://localhost:8080/"
    },
    "id": "6Qe5FzAFWWDI",
    "outputId": "59515473-2dc7-48ff-df13-89734e65e55a"
   },
   "outputs": [
    {
     "data": {
      "text/plain": [
       "userID      0\n",
       "surveyID    0\n",
       "TIME        0\n",
       "STATUS      0\n",
       "dtype: int64"
      ]
     },
     "execution_count": 70,
     "metadata": {},
     "output_type": "execute_result"
    }
   ],
   "source": [
    "response_train.isna().sum()"
   ]
  },
  {
   "cell_type": "markdown",
   "metadata": {
    "id": "eU1n88UhWWDI"
   },
   "source": [
    "### response_test"
   ]
  },
  {
   "cell_type": "code",
   "execution_count": 71,
   "metadata": {
    "colab": {
     "base_uri": "https://localhost:8080/"
    },
    "id": "v93CrxR0WWDI",
    "outputId": "0e92d8b8-a7be-44b2-edf4-c8a1b3133d30",
    "scrolled": false
   },
   "outputs": [
    {
     "data": {
      "text/plain": [
       "ID          0\n",
       "userID      0\n",
       "surveyID    0\n",
       "TIME        0\n",
       "dtype: int64"
      ]
     },
     "execution_count": 71,
     "metadata": {},
     "output_type": "execute_result"
    }
   ],
   "source": [
    "response_test.isna().sum()"
   ]
  },
  {
   "cell_type": "markdown",
   "metadata": {
    "id": "orFYY4wQWWDJ"
   },
   "source": [
    "### Merge Data"
   ]
  },
  {
   "cell_type": "code",
   "execution_count": 72,
   "metadata": {
    "colab": {
     "base_uri": "https://localhost:8080/"
    },
    "id": "zm0TH_fw4wxU",
    "outputId": "10a42136-8d7f-49e2-fee2-1dfbc7ba64d4"
   },
   "outputs": [
    {
     "name": "stdout",
     "output_type": "stream",
     "text": [
      "userID // 0.0\n",
      "BIRTH // 0.0\n",
      "GENDER // 0.0\n",
      "REGION // 0.0\n",
      "TYPE // 0.0\n",
      "SQ2 // 0.0\n",
      "SQ3 // 0.09690273501177323\n",
      "SQ4 // 0.0973253637626034\n",
      "SQ5 // 0.15190484815552738\n",
      "SQ6 // 0.15220672583469178\n",
      "SQ7 // 0.1849906417919459\n",
      "SQ8 // 0.18728491215359536\n",
      "A1 // 0.20956348487592827\n",
      "B3 // 0.24403791583650306\n",
      "B4 // 0.25381875264142967\n",
      "B5 // 0.26323733623135903\n",
      "C1 // 0.3160659300851295\n",
      "C2 // 0.41484030670772204\n",
      "C3 // 0.4265531606593009\n",
      "F1 // 0.4703857996739721\n",
      "F2 // 0.4793213789772384\n",
      "H1 // 0.4933285032904667\n",
      "T1 // 0.49846042383626155\n",
      "X1 // 0.5119845438628268\n",
      "X3 // 0.5558775584133309\n",
      "X4 // 0.6999335869105838\n",
      "DQ1 // 0.7594034897059712\n",
      "DQ2 // 0.7828895731449617\n",
      "DQ3 // 0.7886856245849182\n",
      "DQ4 // 0.790315764052406\n",
      "DQ5 // 0.7946628026323733\n",
      "DQ6 // 0.7953873090623679\n",
      "DQ7 // 0.798406085854012\n"
     ]
    }
   ],
   "source": [
    "# 결측값 확인\n",
    "for i in panel.columns:\n",
    "    try:\n",
    "        print( i,'//' ,np.sum(panel[i] == 0) / panel.shape[0])\n",
    "    except:\n",
    "        pass"
   ]
  },
  {
   "cell_type": "code",
   "execution_count": 73,
   "metadata": {
    "id": "5TqOWo2aWWDJ"
   },
   "outputs": [],
   "source": [
    "train = response_train.merge(survey).merge(panel, on = 'userID')\n",
    "test = response_test.merge(survey).merge(panel, on = 'userID')"
   ]
  },
  {
   "cell_type": "code",
   "execution_count": 74,
   "metadata": {
    "colab": {
     "base_uri": "https://localhost:8080/"
    },
    "id": "oKLAfhf0BSHt",
    "outputId": "fc5ec4b1-daed-4249-d093-1cf62ca3a9d2",
    "scrolled": true
   },
   "outputs": [
    {
     "data": {
      "text/plain": [
       "40"
      ]
     },
     "execution_count": 74,
     "metadata": {},
     "output_type": "execute_result"
    }
   ],
   "source": [
    "gc.collect()"
   ]
  },
  {
   "cell_type": "markdown",
   "metadata": {
    "id": "N0ASqJzxWWDK"
   },
   "source": [
    "# 4. Features Engineering"
   ]
  },
  {
   "cell_type": "markdown",
   "metadata": {
    "id": "IlD7q4SPmUyj"
   },
   "source": [
    "* 질문관련"
   ]
  },
  {
   "cell_type": "code",
   "execution_count": 75,
   "metadata": {
    "id": "_8w5aRhSmW4w"
   },
   "outputs": [],
   "source": [
    "train['error_sum'] = (train.loc[:,'SQ2':'DQ7']==0).sum(axis=1)\n",
    "test['error_sum'] = (test.loc[:,'SQ2':'DQ7']==0).sum(axis=1)"
   ]
  },
  {
   "cell_type": "markdown",
   "metadata": {
    "id": "9XR__4UKmYFp"
   },
   "source": [
    "* 분할"
   ]
  },
  {
   "cell_type": "code",
   "execution_count": 76,
   "metadata": {
    "colab": {
     "base_uri": "https://localhost:8080/"
    },
    "id": "R7tU-iBbnnqF",
    "outputId": "a6769d3c-f82e-4b5a-b3f1-bc7ec6021bc6"
   },
   "outputs": [
    {
     "data": {
      "text/plain": [
       "Index(['userID', 'surveyID', 'TIME', 'STATUS', 'TITLE', 'IR', 'LOI', 'CPI',\n",
       "       'BIRTH', 'GENDER', 'REGION', 'TYPE', 'SQ2', 'SQ3', 'SQ4', 'SQ5', 'SQ6',\n",
       "       'SQ7', 'SQ8', 'A1', 'B3', 'B4', 'B5', 'C1', 'C2', 'C3', 'F1', 'F2',\n",
       "       'H1', 'T1', 'X1', 'X3', 'X4', 'DQ1', 'DQ2', 'DQ3', 'DQ4', 'DQ5', 'DQ6',\n",
       "       'DQ7', 'error_sum'],\n",
       "      dtype='object')"
      ]
     },
     "execution_count": 76,
     "metadata": {},
     "output_type": "execute_result"
    }
   ],
   "source": [
    "train.columns"
   ]
  },
  {
   "cell_type": "code",
   "execution_count": 77,
   "metadata": {
    "id": "eHcO9sNTe9VA"
   },
   "outputs": [],
   "source": [
    "train = train.drop([ 'C2', 'C3', 'F1', 'F2',\n",
    "       'H1', 'T1', 'X1', 'X3', 'X4', 'DQ1', 'DQ2', 'DQ3', 'DQ4', 'DQ5', 'DQ6',\n",
    "       'DQ7'],axis=1)\n",
    "\n",
    "test = test.drop([ 'C2', 'C3', 'F1', 'F2',\n",
    "       'H1', 'T1', 'X1', 'X3', 'X4', 'DQ1', 'DQ2', 'DQ3', 'DQ4', 'DQ5', 'DQ6',\n",
    "       'DQ7'],axis=1)d"
   ]
  },
  {
   "cell_type": "code",
   "execution_count": 78,
   "metadata": {
    "colab": {
     "base_uri": "https://localhost:8080/"
    },
    "id": "HHw3fBmBDDSk",
    "outputId": "f6cff841-447b-48c3-f0ee-4813830f3f50"
   },
   "outputs": [
    {
     "data": {
      "text/plain": [
       "891"
      ]
     },
     "execution_count": 78,
     "metadata": {},
     "output_type": "execute_result"
    }
   ],
   "source": [
    "\n",
    "len(set(train.userID.unique())-set((test.userID.unique())))"
   ]
  },
  {
   "cell_type": "code",
   "execution_count": 79,
   "metadata": {
    "id": "g1lkISLee9VA"
   },
   "outputs": [],
   "source": [
    "# train 데이터 분할\n",
    "before_train = train.query(\"TIME>='2020-11-01 00:00:00' and TIME< '2021-03-01 00:00:00'\")\n",
    "train = train.query(\"TIME>='2021-03-01 00:00:00'\")"
   ]
  },
  {
   "cell_type": "code",
   "execution_count": 80,
   "metadata": {
    "colab": {
     "base_uri": "https://localhost:8080/"
    },
    "id": "-g03kUMpB3sk",
    "outputId": "ad05968a-0c99-42aa-f421-a9b9f7e4465b"
   },
   "outputs": [
    {
     "data": {
      "text/plain": [
       "182"
      ]
     },
     "execution_count": 80,
     "metadata": {},
     "output_type": "execute_result"
    }
   ],
   "source": [
    "len(set(test.userID.unique()) - set(train.userID.unique()))"
   ]
  },
  {
   "cell_type": "code",
   "execution_count": 81,
   "metadata": {
    "id": "s7wuaV6Ze9VB"
   },
   "outputs": [],
   "source": [
    "# month는 drop 예정\n",
    "train['TIME'] =  pd.to_datetime(train['TIME'], format='%Y/%m/%d')\n",
    "train['weekday'] = train['TIME'].dt.dayofweek\n",
    "train['month'] = train['TIME'].dt.month\n",
    "train['hour'] = train['TIME'].dt.hour\n",
    "\n",
    "test['TIME'] =  pd.to_datetime(test['TIME'], format='%Y/%m/%d')\n",
    "test['weekday'] = test['TIME'].dt.dayofweek\n",
    "test['month'] = train['TIME'].dt.month\n",
    "test['hour'] = test['TIME'].dt.hour"
   ]
  },
  {
   "cell_type": "code",
   "execution_count": 82,
   "metadata": {
    "id": "aVx1Dqk3ew_B"
   },
   "outputs": [],
   "source": [
    "# 6~10월 요일 별 응답률\n",
    "train_weekday_ratio = train.groupby('weekday')['STATUS'].mean().reset_index().rename(columns = {'STATUS' : 'STATUS_ratio_weekday'})\n",
    "\n",
    "train = train.merge(train_weekday_ratio,on='weekday')\n",
    "test = test.merge(train_weekday_ratio,on='weekday')\n",
    "#tr_test = tr_test.merge(train_weekday_ratio,on='weekday')"
   ]
  },
  {
   "cell_type": "code",
   "execution_count": 83,
   "metadata": {
    "id": "vJWpvnjfew_B"
   },
   "outputs": [],
   "source": [
    "# 6~10월 시간 별 응답률\n",
    "train_hour_ratio = train.groupby('hour')['STATUS'].mean().reset_index().rename(columns = {'STATUS' : 'STATUS_ratio_hour'})\n",
    "\n",
    "train = train.merge(train_hour_ratio,on='hour')\n",
    "test = test.merge(train_hour_ratio,on='hour')\n",
    "#tr_test = tr_test.merge(train_hour_ratio,on='hour')"
   ]
  },
  {
   "cell_type": "code",
   "execution_count": 84,
   "metadata": {
    "id": "NcITXQYSLZ3I"
   },
   "outputs": [],
   "source": [
    "IR_index = (before_train.query('STATUS == 1')['IR'].value_counts()/before_train.query('STATUS == 1')['IR'].value_counts().sum()).sort_values(ascending = False).head(2).index.tolist()\n",
    "LOI_index = (before_train.query('STATUS == 1')['LOI'].value_counts()/before_train.query('STATUS == 1')['LOI'].value_counts().sum()).sort_values(ascending = False).head(5).index.tolist()\n",
    "CPI_index = (before_train.query('STATUS == 1')['CPI'].value_counts()/before_train.query('STATUS == 1')['CPI'].value_counts().sum()).sort_values(ascending = False).head(5).index.tolist()"
   ]
  },
  {
   "cell_type": "code",
   "execution_count": 85,
   "metadata": {
    "id": "4bGfksYKpS9A"
   },
   "outputs": [],
   "source": [
    "train['IR_ind'] = train['IR'].apply(lambda x : 1if x in IR_index else 0)\n",
    "train['LOI_ind'] = train['LOI'].apply(lambda x : 1 if x in LOI_index else 0)\n",
    "train['CPI_ind'] = train['CPI'].apply(lambda x : 1 if x in CPI_index else 0)\n",
    "test['IR_ind'] = test['IR'].apply(lambda x : 1 if x in IR_index else 0)\n",
    "test['LOI_ind'] = test['LOI'].apply(lambda x : 1 if x in LOI_index else 0)\n",
    "test['CPI_ind'] = test['CPI'].apply(lambda x : 1 if x in CPI_index else 0)"
   ]
  },
  {
   "cell_type": "markdown",
   "metadata": {
    "id": "53XjUyVBe9VD"
   },
   "source": [
    "* 응답 추세(2020/6~10)"
   ]
  },
  {
   "cell_type": "code",
   "execution_count": 86,
   "metadata": {
    "id": "vOFqdvT9e9VD"
   },
   "outputs": [],
   "source": [
    "week_to = train['TIME'].max()\n",
    "week_trans = []\n",
    "for i in range(6):\n",
    "    week_from = week_to + pd.DateOffset(weeks=-1)\n",
    "    week_trans.append(train.query('@week_from < TIME <= @week_to')\n",
    "                      .groupby('userID')['STATUS']\n",
    "                      .agg([(f'w{6-i}', 'mean')])\n",
    "                      .reset_index())\n",
    "    week_to = week_from\n",
    "    #userID별 월별 응답 평균"
   ]
  },
  {
   "cell_type": "code",
   "execution_count": 87,
   "metadata": {
    "id": "jCqQ-6xke9VD"
   },
   "outputs": [],
   "source": [
    "# 리스트로부터 데이터프레임 변환    \n",
    "f = pd.DataFrame({'userID': train.userID.unique()})"
   ]
  },
  {
   "cell_type": "code",
   "execution_count": 88,
   "metadata": {
    "id": "YfjGFCrbe9VD"
   },
   "outputs": [],
   "source": [
    "for w in week_trans[::-1]:\n",
    "    f = f.merge(w,how='left',on='userID')"
   ]
  },
  {
   "cell_type": "code",
   "execution_count": 89,
   "metadata": {
    "id": "BAN_Z-Dke9VD"
   },
   "outputs": [],
   "source": [
    "for i in f.columns[1:]:\n",
    "    f[i] = f[i].fillna(f[i].mean())"
   ]
  },
  {
   "cell_type": "code",
   "execution_count": 90,
   "metadata": {
    "id": "1XmAQOJJe9VD"
   },
   "outputs": [],
   "source": [
    "train = train.merge(f, how='left')"
   ]
  },
  {
   "cell_type": "code",
   "execution_count": 91,
   "metadata": {
    "id": "0snV0HI3ew_E"
   },
   "outputs": [],
   "source": [
    "test = test.merge(f, how='left')\n",
    "#tr_test = tr_test.merge(f, how ='left')"
   ]
  },
  {
   "cell_type": "code",
   "execution_count": 92,
   "metadata": {
    "colab": {
     "base_uri": "https://localhost:8080/"
    },
    "id": "VgOhZsx1ew_E",
    "outputId": "250415f2-3120-4cb7-83e0-d312594176ec"
   },
   "outputs": [
    {
     "data": {
      "text/plain": [
       "0.000000    552583\n",
       "0.018868      2551\n",
       "0.019231       804\n",
       "0.019608      1637\n",
       "0.020833       657\n",
       "             ...  \n",
       "0.909091      2904\n",
       "0.916667      2079\n",
       "0.923077      1416\n",
       "0.928571      1205\n",
       "1.000000    205915\n",
       "Name: w6, Length: 78, dtype: int64"
      ]
     },
     "execution_count": 92,
     "metadata": {},
     "output_type": "execute_result"
    }
   ],
   "source": [
    "test.w6.value_counts().sort_index()"
   ]
  },
  {
   "cell_type": "code",
   "execution_count": 93,
   "metadata": {
    "id": "xgUw0NQbew_E"
   },
   "outputs": [],
   "source": [
    "for i in f.columns[1:]:\n",
    "    test[i] = test[i].fillna(test[i].mean())"
   ]
  },
  {
   "cell_type": "code",
   "execution_count": 94,
   "metadata": {
    "colab": {
     "base_uri": "https://localhost:8080/"
    },
    "id": "wbLr0uNLe9VD",
    "outputId": "54fecd47-46b6-4add-e9c4-ecff5e051560"
   },
   "outputs": [
    {
     "data": {
      "text/plain": [
       "((1170545, 39), (1355517, 39))"
      ]
     },
     "execution_count": 94,
     "metadata": {},
     "output_type": "execute_result"
    }
   ],
   "source": [
    "train.shape, test.shape"
   ]
  },
  {
   "cell_type": "code",
   "execution_count": 95,
   "metadata": {
    "colab": {
     "base_uri": "https://localhost:8080/"
    },
    "id": "QR4tVd49ew_F",
    "outputId": "bd6143ab-9894-42ed-bc04-02e9a71551c6"
   },
   "outputs": [
    {
     "data": {
      "text/plain": [
       "222"
      ]
     },
     "execution_count": 95,
     "metadata": {},
     "output_type": "execute_result"
    }
   ],
   "source": [
    "gc.collect()"
   ]
  },
  {
   "cell_type": "markdown",
   "metadata": {
    "id": "KDRZ5fISj10I"
   },
   "source": [
    "패널별 응답시, 리워드 난이도 시간 ~ before train"
   ]
  },
  {
   "cell_type": "code",
   "execution_count": 100,
   "metadata": {
    "id": "TZrFdq5Ej7Fe"
   },
   "outputs": [],
   "source": [
    "response_CPI = before_train[before_train.STATUS==1].groupby('userID')['CPI'].agg([\n",
    "    ('TOT_CPI', lambda x: np.sum(x)),\n",
    "    ('AVG_CPI', lambda x: np.mean(x)),\n",
    "    ('MIN_CPI', lambda x: np.min(x)),\n",
    "    ('MAX_CPI', lambda x: np.max(x))\n",
    "]).reset_index()"
   ]
  },
  {
   "cell_type": "code",
   "execution_count": 101,
   "metadata": {
    "id": "SUwLIuOXkgtl"
   },
   "outputs": [],
   "source": [
    "response_IR = before_train[before_train.STATUS==1].groupby('userID')['IR'].agg([\n",
    "    ('TOT_IR', lambda x: np.sum(x)),\n",
    "    ('AVG_IR', lambda x: np.mean(x)),\n",
    "    ('MIN_IR', lambda x: np.min(x)),\n",
    "    ('MAX_IR', lambda x: np.max(x))\n",
    "]).reset_index()"
   ]
  },
  {
   "cell_type": "code",
   "execution_count": 102,
   "metadata": {
    "id": "LL7ug7RCklH0"
   },
   "outputs": [],
   "source": [
    "response_LOI = before_train[before_train.STATUS==1].groupby('userID')['IR'].agg([\n",
    "    ('TOT_LOI', lambda x: np.sum(x)),\n",
    "    ('AVG_LOI', lambda x: np.mean(x)),\n",
    "    ('MIN_LOI', lambda x: np.min(x)),\n",
    "    ('MAX_LOI', lambda x: np.max(x))\n",
    "]).reset_index()"
   ]
  },
  {
   "cell_type": "code",
   "execution_count": 103,
   "metadata": {
    "id": "RfRb5LtCkcOs"
   },
   "outputs": [],
   "source": [
    "train = train.merge(response_CPI, how='left')\n",
    "train = train.merge(response_IR, how='left')\n",
    "train = train.merge(response_LOI, how='left')"
   ]
  },
  {
   "cell_type": "code",
   "execution_count": 104,
   "metadata": {
    "id": "EJBtqbcblIqC"
   },
   "outputs": [],
   "source": [
    "train.fillna(0,inplace=True)"
   ]
  },
  {
   "cell_type": "code",
   "execution_count": 105,
   "metadata": {
    "id": "pZoDriuylDpt"
   },
   "outputs": [],
   "source": [
    "test = test.merge(response_CPI, how='left')\n",
    "test = test.merge(response_IR, how='left')\n",
    "test = test.merge(response_LOI, how='left')"
   ]
  },
  {
   "cell_type": "code",
   "execution_count": 106,
   "metadata": {
    "id": "wMshU3AxlM1b"
   },
   "outputs": [],
   "source": [
    "test.fillna(0, inplace=True)"
   ]
  },
  {
   "cell_type": "code",
   "execution_count": 107,
   "metadata": {},
   "outputs": [
    {
     "data": {
      "text/plain": [
       "((1170545, 50), (1355517, 50))"
      ]
     },
     "execution_count": 107,
     "metadata": {},
     "output_type": "execute_result"
    }
   ],
   "source": [
    "train.shape, test.shape"
   ]
  },
  {
   "cell_type": "markdown",
   "metadata": {
    "id": "V9Fx6xRpew_F"
   },
   "source": [
    "* 군집분석"
   ]
  },
  {
   "cell_type": "code",
   "execution_count": 110,
   "metadata": {
    "collapsed": true,
    "id": "XpC7LDVFew_F"
   },
   "outputs": [
    {
     "ename": "KeyError",
     "evalue": "\"['month'] not found in axis\"",
     "output_type": "error",
     "traceback": [
      "\u001b[1;31m---------------------------------------------------------------------------\u001b[0m",
      "\u001b[1;31mKeyError\u001b[0m                                  Traceback (most recent call last)",
      "\u001b[1;32m<ipython-input-110-13bd4bb352d0>\u001b[0m in \u001b[0;36m<module>\u001b[1;34m\u001b[0m\n\u001b[1;32m----> 1\u001b[1;33m \u001b[0mtrain\u001b[0m \u001b[1;33m=\u001b[0m \u001b[0mtrain\u001b[0m\u001b[1;33m.\u001b[0m\u001b[0mdrop\u001b[0m\u001b[1;33m(\u001b[0m\u001b[0mcolumns\u001b[0m \u001b[1;33m=\u001b[0m \u001b[1;34m'month'\u001b[0m\u001b[1;33m)\u001b[0m\u001b[1;33m\u001b[0m\u001b[1;33m\u001b[0m\u001b[0m\n\u001b[0m\u001b[0;32m      2\u001b[0m \u001b[0mtest\u001b[0m \u001b[1;33m=\u001b[0m \u001b[0mtest\u001b[0m\u001b[1;33m.\u001b[0m\u001b[0mdrop\u001b[0m\u001b[1;33m(\u001b[0m\u001b[0mcolumns\u001b[0m \u001b[1;33m=\u001b[0m \u001b[1;34m'month'\u001b[0m\u001b[1;33m)\u001b[0m\u001b[1;33m\u001b[0m\u001b[1;33m\u001b[0m\u001b[0m\n",
      "\u001b[1;32m~\\anaconda3\\lib\\site-packages\\pandas\\core\\frame.py\u001b[0m in \u001b[0;36mdrop\u001b[1;34m(self, labels, axis, index, columns, level, inplace, errors)\u001b[0m\n\u001b[0;32m   4306\u001b[0m                 \u001b[0mweight\u001b[0m  \u001b[1;36m1.0\u001b[0m     \u001b[1;36m0.8\u001b[0m\u001b[1;33m\u001b[0m\u001b[1;33m\u001b[0m\u001b[0m\n\u001b[0;32m   4307\u001b[0m         \"\"\"\n\u001b[1;32m-> 4308\u001b[1;33m         return super().drop(\n\u001b[0m\u001b[0;32m   4309\u001b[0m             \u001b[0mlabels\u001b[0m\u001b[1;33m=\u001b[0m\u001b[0mlabels\u001b[0m\u001b[1;33m,\u001b[0m\u001b[1;33m\u001b[0m\u001b[1;33m\u001b[0m\u001b[0m\n\u001b[0;32m   4310\u001b[0m             \u001b[0maxis\u001b[0m\u001b[1;33m=\u001b[0m\u001b[0maxis\u001b[0m\u001b[1;33m,\u001b[0m\u001b[1;33m\u001b[0m\u001b[1;33m\u001b[0m\u001b[0m\n",
      "\u001b[1;32m~\\anaconda3\\lib\\site-packages\\pandas\\core\\generic.py\u001b[0m in \u001b[0;36mdrop\u001b[1;34m(self, labels, axis, index, columns, level, inplace, errors)\u001b[0m\n\u001b[0;32m   4151\u001b[0m         \u001b[1;32mfor\u001b[0m \u001b[0maxis\u001b[0m\u001b[1;33m,\u001b[0m \u001b[0mlabels\u001b[0m \u001b[1;32min\u001b[0m \u001b[0maxes\u001b[0m\u001b[1;33m.\u001b[0m\u001b[0mitems\u001b[0m\u001b[1;33m(\u001b[0m\u001b[1;33m)\u001b[0m\u001b[1;33m:\u001b[0m\u001b[1;33m\u001b[0m\u001b[1;33m\u001b[0m\u001b[0m\n\u001b[0;32m   4152\u001b[0m             \u001b[1;32mif\u001b[0m \u001b[0mlabels\u001b[0m \u001b[1;32mis\u001b[0m \u001b[1;32mnot\u001b[0m \u001b[1;32mNone\u001b[0m\u001b[1;33m:\u001b[0m\u001b[1;33m\u001b[0m\u001b[1;33m\u001b[0m\u001b[0m\n\u001b[1;32m-> 4153\u001b[1;33m                 \u001b[0mobj\u001b[0m \u001b[1;33m=\u001b[0m \u001b[0mobj\u001b[0m\u001b[1;33m.\u001b[0m\u001b[0m_drop_axis\u001b[0m\u001b[1;33m(\u001b[0m\u001b[0mlabels\u001b[0m\u001b[1;33m,\u001b[0m \u001b[0maxis\u001b[0m\u001b[1;33m,\u001b[0m \u001b[0mlevel\u001b[0m\u001b[1;33m=\u001b[0m\u001b[0mlevel\u001b[0m\u001b[1;33m,\u001b[0m \u001b[0merrors\u001b[0m\u001b[1;33m=\u001b[0m\u001b[0merrors\u001b[0m\u001b[1;33m)\u001b[0m\u001b[1;33m\u001b[0m\u001b[1;33m\u001b[0m\u001b[0m\n\u001b[0m\u001b[0;32m   4154\u001b[0m \u001b[1;33m\u001b[0m\u001b[0m\n\u001b[0;32m   4155\u001b[0m         \u001b[1;32mif\u001b[0m \u001b[0minplace\u001b[0m\u001b[1;33m:\u001b[0m\u001b[1;33m\u001b[0m\u001b[1;33m\u001b[0m\u001b[0m\n",
      "\u001b[1;32m~\\anaconda3\\lib\\site-packages\\pandas\\core\\generic.py\u001b[0m in \u001b[0;36m_drop_axis\u001b[1;34m(self, labels, axis, level, errors)\u001b[0m\n\u001b[0;32m   4186\u001b[0m                 \u001b[0mnew_axis\u001b[0m \u001b[1;33m=\u001b[0m \u001b[0maxis\u001b[0m\u001b[1;33m.\u001b[0m\u001b[0mdrop\u001b[0m\u001b[1;33m(\u001b[0m\u001b[0mlabels\u001b[0m\u001b[1;33m,\u001b[0m \u001b[0mlevel\u001b[0m\u001b[1;33m=\u001b[0m\u001b[0mlevel\u001b[0m\u001b[1;33m,\u001b[0m \u001b[0merrors\u001b[0m\u001b[1;33m=\u001b[0m\u001b[0merrors\u001b[0m\u001b[1;33m)\u001b[0m\u001b[1;33m\u001b[0m\u001b[1;33m\u001b[0m\u001b[0m\n\u001b[0;32m   4187\u001b[0m             \u001b[1;32melse\u001b[0m\u001b[1;33m:\u001b[0m\u001b[1;33m\u001b[0m\u001b[1;33m\u001b[0m\u001b[0m\n\u001b[1;32m-> 4188\u001b[1;33m                 \u001b[0mnew_axis\u001b[0m \u001b[1;33m=\u001b[0m \u001b[0maxis\u001b[0m\u001b[1;33m.\u001b[0m\u001b[0mdrop\u001b[0m\u001b[1;33m(\u001b[0m\u001b[0mlabels\u001b[0m\u001b[1;33m,\u001b[0m \u001b[0merrors\u001b[0m\u001b[1;33m=\u001b[0m\u001b[0merrors\u001b[0m\u001b[1;33m)\u001b[0m\u001b[1;33m\u001b[0m\u001b[1;33m\u001b[0m\u001b[0m\n\u001b[0m\u001b[0;32m   4189\u001b[0m             \u001b[0mresult\u001b[0m \u001b[1;33m=\u001b[0m \u001b[0mself\u001b[0m\u001b[1;33m.\u001b[0m\u001b[0mreindex\u001b[0m\u001b[1;33m(\u001b[0m\u001b[1;33m**\u001b[0m\u001b[1;33m{\u001b[0m\u001b[0maxis_name\u001b[0m\u001b[1;33m:\u001b[0m \u001b[0mnew_axis\u001b[0m\u001b[1;33m}\u001b[0m\u001b[1;33m)\u001b[0m\u001b[1;33m\u001b[0m\u001b[1;33m\u001b[0m\u001b[0m\n\u001b[0;32m   4190\u001b[0m \u001b[1;33m\u001b[0m\u001b[0m\n",
      "\u001b[1;32m~\\anaconda3\\lib\\site-packages\\pandas\\core\\indexes\\base.py\u001b[0m in \u001b[0;36mdrop\u001b[1;34m(self, labels, errors)\u001b[0m\n\u001b[0;32m   5589\u001b[0m         \u001b[1;32mif\u001b[0m \u001b[0mmask\u001b[0m\u001b[1;33m.\u001b[0m\u001b[0many\u001b[0m\u001b[1;33m(\u001b[0m\u001b[1;33m)\u001b[0m\u001b[1;33m:\u001b[0m\u001b[1;33m\u001b[0m\u001b[1;33m\u001b[0m\u001b[0m\n\u001b[0;32m   5590\u001b[0m             \u001b[1;32mif\u001b[0m \u001b[0merrors\u001b[0m \u001b[1;33m!=\u001b[0m \u001b[1;34m\"ignore\"\u001b[0m\u001b[1;33m:\u001b[0m\u001b[1;33m\u001b[0m\u001b[1;33m\u001b[0m\u001b[0m\n\u001b[1;32m-> 5591\u001b[1;33m                 \u001b[1;32mraise\u001b[0m \u001b[0mKeyError\u001b[0m\u001b[1;33m(\u001b[0m\u001b[1;34mf\"{labels[mask]} not found in axis\"\u001b[0m\u001b[1;33m)\u001b[0m\u001b[1;33m\u001b[0m\u001b[1;33m\u001b[0m\u001b[0m\n\u001b[0m\u001b[0;32m   5592\u001b[0m             \u001b[0mindexer\u001b[0m \u001b[1;33m=\u001b[0m \u001b[0mindexer\u001b[0m\u001b[1;33m[\u001b[0m\u001b[1;33m~\u001b[0m\u001b[0mmask\u001b[0m\u001b[1;33m]\u001b[0m\u001b[1;33m\u001b[0m\u001b[1;33m\u001b[0m\u001b[0m\n\u001b[0;32m   5593\u001b[0m         \u001b[1;32mreturn\u001b[0m \u001b[0mself\u001b[0m\u001b[1;33m.\u001b[0m\u001b[0mdelete\u001b[0m\u001b[1;33m(\u001b[0m\u001b[0mindexer\u001b[0m\u001b[1;33m)\u001b[0m\u001b[1;33m\u001b[0m\u001b[1;33m\u001b[0m\u001b[0m\n",
      "\u001b[1;31mKeyError\u001b[0m: \"['month'] not found in axis\""
     ]
    }
   ],
   "source": [
    "train = train.drop(columns = 'month')\n",
    "test = test.drop(columns = 'month')"
   ]
  },
  {
   "cell_type": "code",
   "execution_count": 111,
   "metadata": {
    "id": "34aYHsR8ew_F"
   },
   "outputs": [],
   "source": [
    "from sklearn.cluster import KMeans\n",
    "\n",
    "class KMeansFeaturizer:\n",
    "    \"\"\" 숫자 데이터를 k-평균 클러스터 멤버십으로 변환.\n",
    "\n",
    "    이 변환기는 입력 데이터에 k-평균을 수행해 각 데이터 포인트를 가장 가까운 클러스터의 id로 변환한다.\n",
    "    만약 목표 변수가 주어지면 유사한 데이터 포인트와 함께 grouping되고,\n",
    "    분류 경계에 따르는 클러스터를 생성하기 위해 스케일링되고, k-평균 입력에 포함된다.\n",
    "    \"\"\"\n",
    "\n",
    "    def __init__(self, k = 30, target_scale = 5.0, random_state = None):\n",
    "        self.k = k\n",
    "        self.target_scale = target_scale\n",
    "        self.random_state = random_state\n",
    "\n",
    "    def fit(self, X, y = None):\n",
    "        \"\"\" 입력 데이터에 k-평균을 수행하고 중심점을 찾는다.\n",
    "        \"\"\"\n",
    "        if y is None: # 목표 변수가 없으면 단순한 k-평균 수행\n",
    "            km_model = KMeans(n_clusters = self.k, n_init = 20, random_state = self.random_state)\n",
    "            km_model.fit(X)\n",
    "            \n",
    "            self.inertia_ = km_model.inertia_\n",
    "            self.km_model = km_model\n",
    "            self.cluster_centers_ = km_model.cluster_centers_\n",
    "            return self\n",
    "\n",
    "        # 목표 변수가 있으면, 적절한 스케일링을 적용하고, 이를 k-평균에 대한 입력 데이터에 포함시킨다.\n",
    "        data_with_target = np.hstack((X, y[:, np.newaxis] * self.target_scale))\n",
    "        # 데이터와 타겟에 대해 사전 학습할 k-평균 모델 구축\n",
    "        km_model_pretrain = KMeans(n_clusters = self.k, n_init = 20, random_state = self.random_state)\n",
    "        km_model_pretrain.fit(data_with_target)\n",
    "\n",
    "        # k평균을 두번째로 실행해 목표 변수 없이 원시 공간에서 클러스터를 얻는다. 사전 학습을 통해 얻은 중심점을 활용해 초기화한다.\n",
    "        # 반복을 통해 클러스터 할당과 중심점 계산을 다시 수행한다.\n",
    "\n",
    "        km_model = KMeans(n_clusters = self.k, init = km_model_pretrain.cluster_centers_[:,:data_with_target.shape[1]-1], n_init = 1, max_iter = 1)\n",
    "\n",
    "        km_model.fit(X)\n",
    "        \n",
    "        self.inertia_ = km_model.inertia_\n",
    "        self.km_model = km_model\n",
    "        self.cluster_centers_ = km_model.cluster_centers_\n",
    "        return self\n",
    "\n",
    "    def transform(self, X, y = None):\n",
    "        \"\"\" 각 입력 데이터 포인트에 대해 가장 가까운 클러스터 ID 산출\n",
    "        \"\"\"\n",
    "        clusters = self.km_model.predict(X)\n",
    "        return clusters[:, np.newaxis]\n",
    "\n",
    "    def fit_transform(self, X, y = None):\n",
    "        self.fit(X, y)\n",
    "        return self.transform(X, y)"
   ]
  },
  {
   "cell_type": "code",
   "execution_count": 112,
   "metadata": {},
   "outputs": [
    {
     "data": {
      "text/plain": [
       "29"
      ]
     },
     "execution_count": 112,
     "metadata": {},
     "output_type": "execute_result"
    }
   ],
   "source": [
    "gc.collect()"
   ]
  },
  {
   "cell_type": "code",
   "execution_count": 113,
   "metadata": {
    "id": "0sGu1NTDew_F"
   },
   "outputs": [],
   "source": [
    "train_num_features = train.select_dtypes(exclude=['object','datetime64[ns]'])\n",
    "test_num_features = test.select_dtypes(exclude=['object','datetime64[ns]'])"
   ]
  },
  {
   "cell_type": "code",
   "execution_count": 114,
   "metadata": {
    "id": "WubpbQ9qew_F"
   },
   "outputs": [],
   "source": [
    "km = KMeansFeaturizer(k=30,random_state = 42)"
   ]
  },
  {
   "cell_type": "code",
   "execution_count": 115,
   "metadata": {
    "id": "bv8Zl7PXew_F"
   },
   "outputs": [],
   "source": [
    "cus_train_kmean = km.fit_transform(train_num_features)\n",
    "cus_test_kmean = km.transform(test_num_features)"
   ]
  },
  {
   "cell_type": "code",
   "execution_count": 116,
   "metadata": {
    "id": "dxAG0beyew_G"
   },
   "outputs": [],
   "source": [
    "cus_train_kmean = pd.DataFrame(cus_train_kmean).rename(columns = {0 : 'KMeans'})\n",
    "cus_test_kmean = pd.DataFrame(cus_test_kmean).rename(columns = {0 : 'KMeans'})"
   ]
  },
  {
   "cell_type": "code",
   "execution_count": 117,
   "metadata": {
    "id": "cFXd0C4Dew_G"
   },
   "outputs": [],
   "source": [
    "train = pd.concat([train, cus_train_kmean], axis = 1)\n",
    "test = pd.concat([test, cus_test_kmean], axis = 1)"
   ]
  },
  {
   "cell_type": "code",
   "execution_count": 118,
   "metadata": {
    "colab": {
     "base_uri": "https://localhost:8080/"
    },
    "id": "MKlz8W4tew_G",
    "outputId": "2b63b953-6084-4527-d462-ff660f6e4f1a"
   },
   "outputs": [
    {
     "data": {
      "text/plain": [
       "((1170545, 51), (1355517, 51))"
      ]
     },
     "execution_count": 118,
     "metadata": {},
     "output_type": "execute_result"
    }
   ],
   "source": [
    "train.shape, test.shape"
   ]
  },
  {
   "cell_type": "markdown",
   "metadata": {
    "id": "nAxyFZURew_G"
   },
   "source": [
    "* BIRTH 이산화"
   ]
  },
  {
   "cell_type": "code",
   "execution_count": 119,
   "metadata": {
    "id": "kGnr36LXew_G"
   },
   "outputs": [],
   "source": [
    "train.loc[train.BIRTH < 1950,'BIRTH'] = 1940\n",
    "train.loc[(1950 <=train.BIRTH) & (train.BIRTH < 1960),'BIRTH'] = 1950\n",
    "train.loc[(1960 <= train.BIRTH) & (train.BIRTH < 1970),'BIRTH'] = 1960\n",
    "train.loc[(1970 <=train.BIRTH) & (train.BIRTH < 1980),'BIRTH'] = 1970\n",
    "train.loc[(1980 <=train.BIRTH) & (train.BIRTH < 1990),'BIRTH'] = 1980\n",
    "train.loc[(1990 <=train.BIRTH) & (train.BIRTH < 2000),'BIRTH'] = 1990\n",
    "train.loc[(2000 <=train.BIRTH) & (train.BIRTH < 2010),'BIRTH'] = 2000\n",
    "\n",
    "#plt.plot(train.STATUS.groupby(train.BIRTH).sum() / train.STATUS.groupby(train.BIRTH).count())\n",
    "\n",
    "# 나름대로 유의미?\n",
    "train['BIRTH'] = train['BIRTH']\n",
    "\n",
    "test.loc[test.BIRTH < 1950,'BIRTH'] = 1940\n",
    "test.loc[(1950 <=test.BIRTH) & (test.BIRTH < 1960),'BIRTH'] = 1950\n",
    "test.loc[(1960 <= test.BIRTH) & (test.BIRTH < 1970),'BIRTH'] = 1960\n",
    "test.loc[(1970 <=test.BIRTH) & (test.BIRTH < 1980),'BIRTH'] = 1970\n",
    "test.loc[(1980 <=test.BIRTH) & (test.BIRTH < 1990),'BIRTH'] = 1980\n",
    "test.loc[(1990 <=test.BIRTH) & (test.BIRTH < 2000),'BIRTH'] = 1990\n",
    "test.loc[(2000 <=test.BIRTH) & (test.BIRTH < 2010),'BIRTH'] = 2000\n",
    "\n",
    "test['BIRTH'] = test['BIRTH']"
   ]
  },
  {
   "cell_type": "markdown",
   "metadata": {
    "id": "GRIwCTlmGhai"
   },
   "source": [
    "# 5. Feature Selection"
   ]
  },
  {
   "cell_type": "markdown",
   "metadata": {
    "id": "DTTVWzN0iagf"
   },
   "source": [
    "* 학습용 데이터들 만들기"
   ]
  },
  {
   "cell_type": "code",
   "execution_count": 120,
   "metadata": {
    "id": "noeWCh_RW7vh"
   },
   "outputs": [],
   "source": [
    "X_train = train.iloc[:,5:]\n",
    "y_train = train.STATUS\n",
    "X_test = test.iloc[:,5:]\n",
    "ID = test['ID']"
   ]
  },
  {
   "cell_type": "code",
   "execution_count": 121,
   "metadata": {
    "id": "DBiEd73AWyQp"
   },
   "outputs": [],
   "source": [
    " #범주형 변수와 수치형 변수를 분리\n",
    "cat_features = ['BIRTH','GENDER','REGION','TYPE','SQ2','SQ3','SQ4','SQ5','SQ6','SQ7','SQ8','A1','B3','B4','B5','C1','weekday','hour', 'KMeans']\n",
    "num_features = list(set(X_train.columns) - set(cat_features))"
   ]
  },
  {
   "cell_type": "code",
   "execution_count": 122,
   "metadata": {
    "colab": {
     "base_uri": "https://localhost:8080/"
    },
    "id": "hbWeeD2ke9VE",
    "outputId": "cbd0221e-2818-4328-e31e-8800c2781370"
   },
   "outputs": [
    {
     "data": {
      "text/plain": [
       "((1170545, 46), (1355517, 46))"
      ]
     },
     "execution_count": 122,
     "metadata": {},
     "output_type": "execute_result"
    }
   ],
   "source": [
    "X_train.shape,X_test.shape"
   ]
  },
  {
   "cell_type": "code",
   "execution_count": 123,
   "metadata": {
    "id": "2IMEgSeVew_H"
   },
   "outputs": [],
   "source": [
    "X_train[cat_features] = X_train[cat_features].astype(str)"
   ]
  },
  {
   "cell_type": "code",
   "execution_count": 124,
   "metadata": {
    "id": "Q_nbbCVFew_H"
   },
   "outputs": [],
   "source": [
    "X_test[cat_features] = X_test[cat_features].astype(str)"
   ]
  },
  {
   "cell_type": "code",
   "execution_count": 125,
   "metadata": {
    "colab": {
     "base_uri": "https://localhost:8080/"
    },
    "id": "GFdHJwweew_H",
    "outputId": "4efa46b7-1ce1-42c1-91ec-980c97707a02"
   },
   "outputs": [
    {
     "data": {
      "text/plain": [
       "40"
      ]
     },
     "execution_count": 125,
     "metadata": {},
     "output_type": "execute_result"
    }
   ],
   "source": [
    "gc.collect()"
   ]
  },
  {
   "cell_type": "markdown",
   "metadata": {
    "id": "CZiXg5Gsie4f"
   },
   "source": [
    "* 원핫 인코딩"
   ]
  },
  {
   "cell_type": "code",
   "execution_count": 126,
   "metadata": {
    "id": "VrHjAdqbaYcv"
   },
   "outputs": [],
   "source": [
    "# OneHotEncoding 변환\n",
    "if len(cat_features) > 0:\n",
    "    X_train = pd.concat([X_train[num_features], pd.get_dummies(X_train[cat_features])], axis=1)\n",
    "    X_test = pd.concat([X_test[num_features], pd.get_dummies(X_test[cat_features])], axis=1)\n",
    "else:\n",
    "    X_train= X_train[num_features]\n",
    "    X_test = test[num_features]\n",
    "bag = (set(X_train.columns) - set(X_test.columns))\n",
    "for i in bag:\n",
    "    X_test[i] = 0"
   ]
  },
  {
   "cell_type": "code",
   "execution_count": 127,
   "metadata": {
    "colab": {
     "base_uri": "https://localhost:8080/"
    },
    "id": "B2MeLbFFew_H",
    "outputId": "ba7324b3-8665-4be5-e474-06764b1446f0"
   },
   "outputs": [
    {
     "data": {
      "text/plain": [
       "((1170545, 337), (1355517, 337))"
      ]
     },
     "execution_count": 127,
     "metadata": {},
     "output_type": "execute_result"
    }
   ],
   "source": [
    "X_train.shape,X_test.shape"
   ]
  },
  {
   "cell_type": "code",
   "execution_count": 128,
   "metadata": {
    "colab": {
     "base_uri": "https://localhost:8080/"
    },
    "id": "RB6xm2Lnew_H",
    "outputId": "262f08d4-b085-4160-8035-c874a2324d38"
   },
   "outputs": [
    {
     "data": {
      "text/plain": [
       "[]"
      ]
     },
     "execution_count": 128,
     "metadata": {},
     "output_type": "execute_result"
    }
   ],
   "source": [
    "list(set(X_train.columns) - set(X_test.columns))"
   ]
  },
  {
   "cell_type": "code",
   "execution_count": 129,
   "metadata": {
    "colab": {
     "base_uri": "https://localhost:8080/"
    },
    "id": "SpRxa7Veew_H",
    "outputId": "10d55608-9f34-4d99-ddcc-472101d7b8c4"
   },
   "outputs": [
    {
     "data": {
      "text/plain": [
       "60"
      ]
     },
     "execution_count": 129,
     "metadata": {},
     "output_type": "execute_result"
    }
   ],
   "source": [
    "gc.collect()"
   ]
  },
  {
   "cell_type": "markdown",
   "metadata": {
    "id": "5yRxrC1-BSIz"
   },
   "source": [
    "### Shap"
   ]
  },
  {
   "cell_type": "code",
   "execution_count": 130,
   "metadata": {
    "colab": {
     "base_uri": "https://localhost:8080/"
    },
    "id": "yBQzoW2umdob",
    "outputId": "0f232426-62bc-4550-b37d-a32109fbc16c"
   },
   "outputs": [
    {
     "name": "stdout",
     "output_type": "stream",
     "text": [
      "Requirement already satisfied: shap in c:\\users\\jinho\\anaconda3\\lib\\site-packages (0.40.0)\n",
      "Requirement already satisfied: numba in c:\\users\\jinho\\anaconda3\\lib\\site-packages (from shap) (0.51.2)\n",
      "Requirement already satisfied: scipy in c:\\users\\jinho\\anaconda3\\lib\\site-packages (from shap) (1.5.2)\n",
      "Requirement already satisfied: pandas in c:\\users\\jinho\\anaconda3\\lib\\site-packages (from shap) (1.2.4)\n",
      "Requirement already satisfied: tqdm>4.25.0 in c:\\users\\jinho\\anaconda3\\lib\\site-packages (from shap) (4.50.2)\n",
      "Requirement already satisfied: numpy in c:\\users\\jinho\\anaconda3\\lib\\site-packages (from shap) (1.19.5)\n",
      "Requirement already satisfied: slicer==0.0.7 in c:\\users\\jinho\\anaconda3\\lib\\site-packages (from shap) (0.0.7)\n",
      "Requirement already satisfied: scikit-learn in c:\\users\\jinho\\anaconda3\\lib\\site-packages (from shap) (0.23.2)\n",
      "Requirement already satisfied: packaging>20.9 in c:\\users\\jinho\\anaconda3\\lib\\site-packages (from shap) (21.3)\n",
      "Requirement already satisfied: cloudpickle in c:\\users\\jinho\\anaconda3\\lib\\site-packages (from shap) (1.6.0)\n",
      "Requirement already satisfied: llvmlite<0.35,>=0.34.0.dev0 in c:\\users\\jinho\\anaconda3\\lib\\site-packages (from numba->shap) (0.34.0)\n",
      "Requirement already satisfied: setuptools in c:\\users\\jinho\\anaconda3\\lib\\site-packages (from numba->shap) (50.3.1.post20201107)\n",
      "Requirement already satisfied: pytz>=2017.3 in c:\\users\\jinho\\anaconda3\\lib\\site-packages (from pandas->shap) (2020.1)\n",
      "Requirement already satisfied: python-dateutil>=2.7.3 in c:\\users\\jinho\\anaconda3\\lib\\site-packages (from pandas->shap) (2.8.1)\n",
      "Requirement already satisfied: threadpoolctl>=2.0.0 in c:\\users\\jinho\\anaconda3\\lib\\site-packages (from scikit-learn->shap) (2.1.0)\n",
      "Requirement already satisfied: joblib>=0.11 in c:\\users\\jinho\\anaconda3\\lib\\site-packages (from scikit-learn->shap) (0.17.0)\n",
      "Requirement already satisfied: pyparsing!=3.0.5,>=2.0.2 in c:\\users\\jinho\\anaconda3\\lib\\site-packages (from packaging>20.9->shap) (2.4.7)\n",
      "Requirement already satisfied: six>=1.5 in c:\\users\\jinho\\anaconda3\\lib\\site-packages (from python-dateutil>=2.7.3->pandas->shap) (1.15.0)\n"
     ]
    }
   ],
   "source": [
    "!pip install shap"
   ]
  },
  {
   "cell_type": "code",
   "execution_count": 131,
   "metadata": {
    "colab": {
     "base_uri": "https://localhost:8080/"
    },
    "id": "ojPEajXOYw64",
    "outputId": "85ffe0b0-2bc6-4809-9d2a-e63bc7c2dec0"
   },
   "outputs": [
    {
     "name": "stdout",
     "output_type": "stream",
     "text": [
      "Learning rate set to 0.210444\n",
      "0:\tlearn: 0.5397757\ttotal: 338ms\tremaining: 5m 37s\n",
      "1:\tlearn: 0.4560854\ttotal: 524ms\tremaining: 4m 21s\n",
      "2:\tlearn: 0.4120235\ttotal: 734ms\tremaining: 4m 3s\n",
      "3:\tlearn: 0.3877288\ttotal: 942ms\tremaining: 3m 54s\n",
      "4:\tlearn: 0.3721383\ttotal: 1.11s\tremaining: 3m 41s\n",
      "5:\tlearn: 0.3609054\ttotal: 1.28s\tremaining: 3m 33s\n",
      "6:\tlearn: 0.3540719\ttotal: 1.46s\tremaining: 3m 26s\n",
      "7:\tlearn: 0.3477825\ttotal: 1.64s\tremaining: 3m 23s\n",
      "8:\tlearn: 0.3444790\ttotal: 1.82s\tremaining: 3m 20s\n",
      "9:\tlearn: 0.3414914\ttotal: 2.01s\tremaining: 3m 19s\n",
      "10:\tlearn: 0.3389120\ttotal: 2.19s\tremaining: 3m 17s\n",
      "11:\tlearn: 0.3371746\ttotal: 2.39s\tremaining: 3m 16s\n",
      "12:\tlearn: 0.3355857\ttotal: 2.56s\tremaining: 3m 14s\n",
      "13:\tlearn: 0.3339074\ttotal: 2.73s\tremaining: 3m 12s\n",
      "14:\tlearn: 0.3327763\ttotal: 2.9s\tremaining: 3m 10s\n",
      "15:\tlearn: 0.3318654\ttotal: 3.08s\tremaining: 3m 9s\n",
      "16:\tlearn: 0.3307520\ttotal: 3.27s\tremaining: 3m 9s\n",
      "17:\tlearn: 0.3300829\ttotal: 3.46s\tremaining: 3m 8s\n",
      "18:\tlearn: 0.3292219\ttotal: 3.68s\tremaining: 3m 9s\n",
      "19:\tlearn: 0.3285658\ttotal: 3.89s\tremaining: 3m 10s\n",
      "20:\tlearn: 0.3277969\ttotal: 4.06s\tremaining: 3m 9s\n",
      "21:\tlearn: 0.3270046\ttotal: 4.23s\tremaining: 3m 8s\n",
      "22:\tlearn: 0.3259320\ttotal: 4.45s\tremaining: 3m 9s\n",
      "23:\tlearn: 0.3252366\ttotal: 4.64s\tremaining: 3m 8s\n",
      "24:\tlearn: 0.3247516\ttotal: 4.83s\tremaining: 3m 8s\n",
      "25:\tlearn: 0.3241415\ttotal: 5.03s\tremaining: 3m 8s\n",
      "26:\tlearn: 0.3236460\ttotal: 5.23s\tremaining: 3m 8s\n",
      "27:\tlearn: 0.3228243\ttotal: 5.44s\tremaining: 3m 8s\n",
      "28:\tlearn: 0.3223262\ttotal: 5.64s\tremaining: 3m 9s\n",
      "29:\tlearn: 0.3219934\ttotal: 5.83s\tremaining: 3m 8s\n",
      "30:\tlearn: 0.3214968\ttotal: 5.99s\tremaining: 3m 7s\n",
      "31:\tlearn: 0.3206572\ttotal: 6.18s\tremaining: 3m 6s\n",
      "32:\tlearn: 0.3198561\ttotal: 6.36s\tremaining: 3m 6s\n",
      "33:\tlearn: 0.3194394\ttotal: 6.53s\tremaining: 3m 5s\n",
      "34:\tlearn: 0.3191499\ttotal: 6.72s\tremaining: 3m 5s\n",
      "35:\tlearn: 0.3186086\ttotal: 6.92s\tremaining: 3m 5s\n",
      "36:\tlearn: 0.3181306\ttotal: 7.15s\tremaining: 3m 6s\n",
      "37:\tlearn: 0.3177751\ttotal: 7.35s\tremaining: 3m 6s\n",
      "38:\tlearn: 0.3174323\ttotal: 7.53s\tremaining: 3m 5s\n",
      "39:\tlearn: 0.3169284\ttotal: 7.71s\tremaining: 3m 5s\n",
      "40:\tlearn: 0.3164703\ttotal: 7.9s\tremaining: 3m 4s\n",
      "41:\tlearn: 0.3163244\ttotal: 8.08s\tremaining: 3m 4s\n",
      "42:\tlearn: 0.3160419\ttotal: 8.25s\tremaining: 3m 3s\n",
      "43:\tlearn: 0.3155379\ttotal: 8.43s\tremaining: 3m 3s\n",
      "44:\tlearn: 0.3152409\ttotal: 8.59s\tremaining: 3m 2s\n",
      "45:\tlearn: 0.3150097\ttotal: 8.76s\tremaining: 3m 1s\n",
      "46:\tlearn: 0.3147480\ttotal: 8.97s\tremaining: 3m 1s\n",
      "47:\tlearn: 0.3144561\ttotal: 9.16s\tremaining: 3m 1s\n",
      "48:\tlearn: 0.3140498\ttotal: 9.35s\tremaining: 3m 1s\n",
      "49:\tlearn: 0.3137106\ttotal: 9.54s\tremaining: 3m 1s\n",
      "50:\tlearn: 0.3134143\ttotal: 9.7s\tremaining: 3m\n",
      "51:\tlearn: 0.3130264\ttotal: 9.89s\tremaining: 3m\n",
      "52:\tlearn: 0.3127610\ttotal: 10.1s\tremaining: 2m 59s\n",
      "53:\tlearn: 0.3124113\ttotal: 10.3s\tremaining: 2m 59s\n",
      "54:\tlearn: 0.3123032\ttotal: 10.4s\tremaining: 2m 59s\n",
      "55:\tlearn: 0.3118962\ttotal: 10.6s\tremaining: 2m 59s\n",
      "56:\tlearn: 0.3117662\ttotal: 10.8s\tremaining: 2m 59s\n",
      "57:\tlearn: 0.3115503\ttotal: 11s\tremaining: 2m 58s\n",
      "58:\tlearn: 0.3113375\ttotal: 11.2s\tremaining: 2m 57s\n",
      "59:\tlearn: 0.3110653\ttotal: 11.3s\tremaining: 2m 57s\n",
      "60:\tlearn: 0.3109241\ttotal: 11.5s\tremaining: 2m 56s\n",
      "61:\tlearn: 0.3108289\ttotal: 11.7s\tremaining: 2m 56s\n",
      "62:\tlearn: 0.3106436\ttotal: 11.8s\tremaining: 2m 55s\n",
      "63:\tlearn: 0.3103590\ttotal: 12s\tremaining: 2m 55s\n",
      "64:\tlearn: 0.3101437\ttotal: 12.2s\tremaining: 2m 54s\n",
      "65:\tlearn: 0.3100416\ttotal: 12.3s\tremaining: 2m 54s\n",
      "66:\tlearn: 0.3098561\ttotal: 12.5s\tremaining: 2m 54s\n",
      "67:\tlearn: 0.3096547\ttotal: 12.7s\tremaining: 2m 54s\n",
      "68:\tlearn: 0.3095459\ttotal: 12.9s\tremaining: 2m 53s\n",
      "69:\tlearn: 0.3093521\ttotal: 13s\tremaining: 2m 52s\n",
      "70:\tlearn: 0.3091920\ttotal: 13.2s\tremaining: 2m 52s\n",
      "71:\tlearn: 0.3089599\ttotal: 13.4s\tremaining: 2m 52s\n",
      "72:\tlearn: 0.3088286\ttotal: 13.5s\tremaining: 2m 51s\n",
      "73:\tlearn: 0.3087222\ttotal: 13.7s\tremaining: 2m 51s\n",
      "74:\tlearn: 0.3086250\ttotal: 13.9s\tremaining: 2m 51s\n",
      "75:\tlearn: 0.3085027\ttotal: 14s\tremaining: 2m 50s\n",
      "76:\tlearn: 0.3082276\ttotal: 14.2s\tremaining: 2m 50s\n",
      "77:\tlearn: 0.3081173\ttotal: 14.4s\tremaining: 2m 49s\n",
      "78:\tlearn: 0.3079536\ttotal: 14.5s\tremaining: 2m 49s\n",
      "79:\tlearn: 0.3077506\ttotal: 14.7s\tremaining: 2m 49s\n",
      "80:\tlearn: 0.3076415\ttotal: 14.9s\tremaining: 2m 48s\n",
      "81:\tlearn: 0.3075520\ttotal: 15.1s\tremaining: 2m 48s\n",
      "82:\tlearn: 0.3074545\ttotal: 15.2s\tremaining: 2m 48s\n",
      "83:\tlearn: 0.3072952\ttotal: 15.4s\tremaining: 2m 48s\n",
      "84:\tlearn: 0.3071530\ttotal: 15.6s\tremaining: 2m 47s\n",
      "85:\tlearn: 0.3070119\ttotal: 15.8s\tremaining: 2m 47s\n",
      "86:\tlearn: 0.3068717\ttotal: 15.9s\tremaining: 2m 47s\n",
      "87:\tlearn: 0.3067959\ttotal: 16.1s\tremaining: 2m 46s\n",
      "88:\tlearn: 0.3066631\ttotal: 16.3s\tremaining: 2m 46s\n",
      "89:\tlearn: 0.3064550\ttotal: 16.4s\tremaining: 2m 46s\n",
      "90:\tlearn: 0.3063234\ttotal: 16.6s\tremaining: 2m 45s\n",
      "91:\tlearn: 0.3062413\ttotal: 16.8s\tremaining: 2m 45s\n",
      "92:\tlearn: 0.3061531\ttotal: 17s\tremaining: 2m 45s\n",
      "93:\tlearn: 0.3060555\ttotal: 17.2s\tremaining: 2m 45s\n",
      "94:\tlearn: 0.3058823\ttotal: 17.3s\tremaining: 2m 45s\n",
      "95:\tlearn: 0.3058098\ttotal: 17.5s\tremaining: 2m 44s\n",
      "96:\tlearn: 0.3057456\ttotal: 17.7s\tremaining: 2m 44s\n",
      "97:\tlearn: 0.3056693\ttotal: 17.9s\tremaining: 2m 44s\n",
      "98:\tlearn: 0.3055945\ttotal: 18s\tremaining: 2m 43s\n",
      "99:\tlearn: 0.3054782\ttotal: 18.2s\tremaining: 2m 43s\n",
      "100:\tlearn: 0.3054282\ttotal: 18.4s\tremaining: 2m 43s\n",
      "101:\tlearn: 0.3053726\ttotal: 18.5s\tremaining: 2m 42s\n",
      "102:\tlearn: 0.3053137\ttotal: 18.7s\tremaining: 2m 42s\n",
      "103:\tlearn: 0.3051966\ttotal: 18.9s\tremaining: 2m 42s\n",
      "104:\tlearn: 0.3051278\ttotal: 19s\tremaining: 2m 42s\n",
      "105:\tlearn: 0.3050393\ttotal: 19.2s\tremaining: 2m 41s\n",
      "106:\tlearn: 0.3049526\ttotal: 19.3s\tremaining: 2m 41s\n",
      "107:\tlearn: 0.3049155\ttotal: 19.5s\tremaining: 2m 41s\n",
      "108:\tlearn: 0.3048793\ttotal: 19.6s\tremaining: 2m 40s\n",
      "109:\tlearn: 0.3048293\ttotal: 19.8s\tremaining: 2m 40s\n",
      "110:\tlearn: 0.3047192\ttotal: 20s\tremaining: 2m 40s\n",
      "111:\tlearn: 0.3046543\ttotal: 20.2s\tremaining: 2m 40s\n",
      "112:\tlearn: 0.3045994\ttotal: 20.4s\tremaining: 2m 39s\n",
      "113:\tlearn: 0.3044838\ttotal: 20.5s\tremaining: 2m 39s\n",
      "114:\tlearn: 0.3042818\ttotal: 20.7s\tremaining: 2m 39s\n",
      "115:\tlearn: 0.3041206\ttotal: 20.9s\tremaining: 2m 39s\n",
      "116:\tlearn: 0.3040392\ttotal: 21s\tremaining: 2m 38s\n",
      "117:\tlearn: 0.3039251\ttotal: 21.2s\tremaining: 2m 38s\n",
      "118:\tlearn: 0.3038407\ttotal: 21.4s\tremaining: 2m 38s\n",
      "119:\tlearn: 0.3037478\ttotal: 21.5s\tremaining: 2m 37s\n",
      "120:\tlearn: 0.3036502\ttotal: 21.8s\tremaining: 2m 38s\n",
      "121:\tlearn: 0.3036040\ttotal: 22s\tremaining: 2m 38s\n",
      "122:\tlearn: 0.3035086\ttotal: 22.2s\tremaining: 2m 38s\n",
      "123:\tlearn: 0.3033819\ttotal: 22.3s\tremaining: 2m 37s\n",
      "124:\tlearn: 0.3033155\ttotal: 22.5s\tremaining: 2m 37s\n",
      "125:\tlearn: 0.3031796\ttotal: 22.7s\tremaining: 2m 37s\n",
      "126:\tlearn: 0.3031140\ttotal: 22.9s\tremaining: 2m 37s\n",
      "127:\tlearn: 0.3030518\ttotal: 23.1s\tremaining: 2m 37s\n",
      "128:\tlearn: 0.3029791\ttotal: 23.2s\tremaining: 2m 36s\n",
      "129:\tlearn: 0.3028912\ttotal: 23.4s\tremaining: 2m 36s\n",
      "130:\tlearn: 0.3028431\ttotal: 23.6s\tremaining: 2m 36s\n",
      "131:\tlearn: 0.3027704\ttotal: 23.7s\tremaining: 2m 36s\n",
      "132:\tlearn: 0.3027268\ttotal: 23.9s\tremaining: 2m 35s\n",
      "133:\tlearn: 0.3026147\ttotal: 24.1s\tremaining: 2m 35s\n",
      "134:\tlearn: 0.3025691\ttotal: 24.2s\tremaining: 2m 35s\n",
      "135:\tlearn: 0.3024546\ttotal: 24.4s\tremaining: 2m 35s\n",
      "136:\tlearn: 0.3024100\ttotal: 24.6s\tremaining: 2m 35s\n",
      "137:\tlearn: 0.3023559\ttotal: 24.8s\tremaining: 2m 34s\n",
      "138:\tlearn: 0.3022472\ttotal: 25s\tremaining: 2m 34s\n",
      "139:\tlearn: 0.3021396\ttotal: 25.1s\tremaining: 2m 34s\n",
      "140:\tlearn: 0.3020751\ttotal: 25.3s\tremaining: 2m 34s\n",
      "141:\tlearn: 0.3020254\ttotal: 25.5s\tremaining: 2m 34s\n",
      "142:\tlearn: 0.3019358\ttotal: 25.7s\tremaining: 2m 34s\n",
      "143:\tlearn: 0.3017248\ttotal: 25.9s\tremaining: 2m 33s\n",
      "144:\tlearn: 0.3016707\ttotal: 26.1s\tremaining: 2m 33s\n",
      "145:\tlearn: 0.3015417\ttotal: 26.2s\tremaining: 2m 33s\n",
      "146:\tlearn: 0.3014816\ttotal: 26.4s\tremaining: 2m 33s\n",
      "147:\tlearn: 0.3014284\ttotal: 26.6s\tremaining: 2m 33s\n",
      "148:\tlearn: 0.3013500\ttotal: 26.8s\tremaining: 2m 33s\n",
      "149:\tlearn: 0.3013035\ttotal: 27s\tremaining: 2m 33s\n",
      "150:\tlearn: 0.3012552\ttotal: 27.2s\tremaining: 2m 32s\n",
      "151:\tlearn: 0.3012089\ttotal: 27.4s\tremaining: 2m 32s\n",
      "152:\tlearn: 0.3011526\ttotal: 27.6s\tremaining: 2m 32s\n",
      "153:\tlearn: 0.3010905\ttotal: 27.8s\tremaining: 2m 32s\n",
      "154:\tlearn: 0.3010099\ttotal: 28s\tremaining: 2m 32s\n",
      "155:\tlearn: 0.3009592\ttotal: 28.2s\tremaining: 2m 32s\n",
      "156:\tlearn: 0.3008511\ttotal: 28.4s\tremaining: 2m 32s\n",
      "157:\tlearn: 0.3007822\ttotal: 28.6s\tremaining: 2m 32s\n"
     ]
    },
    {
     "name": "stdout",
     "output_type": "stream",
     "text": [
      "158:\tlearn: 0.3007346\ttotal: 28.8s\tremaining: 2m 32s\n",
      "159:\tlearn: 0.3006313\ttotal: 28.9s\tremaining: 2m 31s\n",
      "160:\tlearn: 0.3005776\ttotal: 29.1s\tremaining: 2m 31s\n",
      "161:\tlearn: 0.3005214\ttotal: 29.3s\tremaining: 2m 31s\n",
      "162:\tlearn: 0.3004559\ttotal: 29.5s\tremaining: 2m 31s\n",
      "163:\tlearn: 0.3003807\ttotal: 29.7s\tremaining: 2m 31s\n",
      "164:\tlearn: 0.3003373\ttotal: 29.8s\tremaining: 2m 30s\n",
      "165:\tlearn: 0.3003002\ttotal: 30s\tremaining: 2m 30s\n",
      "166:\tlearn: 0.3002618\ttotal: 30.2s\tremaining: 2m 30s\n",
      "167:\tlearn: 0.3002317\ttotal: 30.4s\tremaining: 2m 30s\n",
      "168:\tlearn: 0.3001871\ttotal: 30.5s\tremaining: 2m 30s\n",
      "169:\tlearn: 0.3001437\ttotal: 30.7s\tremaining: 2m 30s\n",
      "170:\tlearn: 0.3001011\ttotal: 30.9s\tremaining: 2m 29s\n",
      "171:\tlearn: 0.2999514\ttotal: 31.1s\tremaining: 2m 29s\n",
      "172:\tlearn: 0.2998858\ttotal: 31.3s\tremaining: 2m 29s\n",
      "173:\tlearn: 0.2998518\ttotal: 31.4s\tremaining: 2m 29s\n",
      "174:\tlearn: 0.2997781\ttotal: 31.6s\tremaining: 2m 28s\n",
      "175:\tlearn: 0.2997345\ttotal: 31.8s\tremaining: 2m 28s\n",
      "176:\tlearn: 0.2996744\ttotal: 31.9s\tremaining: 2m 28s\n",
      "177:\tlearn: 0.2996236\ttotal: 32.1s\tremaining: 2m 28s\n",
      "178:\tlearn: 0.2995795\ttotal: 32.3s\tremaining: 2m 28s\n",
      "179:\tlearn: 0.2995360\ttotal: 32.5s\tremaining: 2m 28s\n",
      "180:\tlearn: 0.2995013\ttotal: 32.7s\tremaining: 2m 28s\n",
      "181:\tlearn: 0.2994557\ttotal: 32.9s\tremaining: 2m 27s\n",
      "182:\tlearn: 0.2993398\ttotal: 33.1s\tremaining: 2m 27s\n",
      "183:\tlearn: 0.2992923\ttotal: 33.2s\tremaining: 2m 27s\n",
      "184:\tlearn: 0.2992614\ttotal: 33.4s\tremaining: 2m 27s\n",
      "185:\tlearn: 0.2991991\ttotal: 33.6s\tremaining: 2m 27s\n",
      "186:\tlearn: 0.2991496\ttotal: 33.8s\tremaining: 2m 26s\n",
      "187:\tlearn: 0.2990934\ttotal: 34s\tremaining: 2m 26s\n",
      "188:\tlearn: 0.2990458\ttotal: 34.2s\tremaining: 2m 26s\n",
      "189:\tlearn: 0.2989929\ttotal: 34.3s\tremaining: 2m 26s\n",
      "190:\tlearn: 0.2989324\ttotal: 34.5s\tremaining: 2m 26s\n",
      "191:\tlearn: 0.2988758\ttotal: 34.7s\tremaining: 2m 26s\n",
      "192:\tlearn: 0.2988144\ttotal: 34.9s\tremaining: 2m 25s\n",
      "193:\tlearn: 0.2986855\ttotal: 35.1s\tremaining: 2m 25s\n",
      "194:\tlearn: 0.2986227\ttotal: 35.3s\tremaining: 2m 25s\n",
      "195:\tlearn: 0.2985447\ttotal: 35.5s\tremaining: 2m 25s\n",
      "196:\tlearn: 0.2984461\ttotal: 35.7s\tremaining: 2m 25s\n",
      "197:\tlearn: 0.2984073\ttotal: 35.8s\tremaining: 2m 25s\n",
      "198:\tlearn: 0.2983664\ttotal: 36s\tremaining: 2m 25s\n",
      "199:\tlearn: 0.2983354\ttotal: 36.2s\tremaining: 2m 24s\n",
      "200:\tlearn: 0.2982927\ttotal: 36.4s\tremaining: 2m 24s\n",
      "201:\tlearn: 0.2982545\ttotal: 36.6s\tremaining: 2m 24s\n",
      "202:\tlearn: 0.2981838\ttotal: 36.7s\tremaining: 2m 24s\n",
      "203:\tlearn: 0.2980614\ttotal: 36.9s\tremaining: 2m 24s\n",
      "204:\tlearn: 0.2980087\ttotal: 37.1s\tremaining: 2m 24s\n",
      "205:\tlearn: 0.2979765\ttotal: 37.3s\tremaining: 2m 23s\n",
      "206:\tlearn: 0.2978673\ttotal: 37.5s\tremaining: 2m 23s\n",
      "207:\tlearn: 0.2978345\ttotal: 37.7s\tremaining: 2m 23s\n",
      "208:\tlearn: 0.2977917\ttotal: 37.9s\tremaining: 2m 23s\n",
      "209:\tlearn: 0.2977492\ttotal: 38.1s\tremaining: 2m 23s\n",
      "210:\tlearn: 0.2976732\ttotal: 38.3s\tremaining: 2m 23s\n",
      "211:\tlearn: 0.2976387\ttotal: 38.4s\tremaining: 2m 22s\n",
      "212:\tlearn: 0.2975353\ttotal: 38.6s\tremaining: 2m 22s\n",
      "213:\tlearn: 0.2974902\ttotal: 38.8s\tremaining: 2m 22s\n",
      "214:\tlearn: 0.2974471\ttotal: 39s\tremaining: 2m 22s\n",
      "215:\tlearn: 0.2973813\ttotal: 39.2s\tremaining: 2m 22s\n",
      "216:\tlearn: 0.2973284\ttotal: 39.4s\tremaining: 2m 22s\n",
      "217:\tlearn: 0.2972445\ttotal: 39.6s\tremaining: 2m 22s\n",
      "218:\tlearn: 0.2971975\ttotal: 39.8s\tremaining: 2m 21s\n",
      "219:\tlearn: 0.2971539\ttotal: 40s\tremaining: 2m 21s\n",
      "220:\tlearn: 0.2971000\ttotal: 40.2s\tremaining: 2m 21s\n",
      "221:\tlearn: 0.2970522\ttotal: 40.4s\tremaining: 2m 21s\n",
      "222:\tlearn: 0.2970065\ttotal: 40.6s\tremaining: 2m 21s\n",
      "223:\tlearn: 0.2969854\ttotal: 40.8s\tremaining: 2m 21s\n",
      "224:\tlearn: 0.2969544\ttotal: 40.9s\tremaining: 2m 20s\n",
      "225:\tlearn: 0.2969064\ttotal: 41.1s\tremaining: 2m 20s\n",
      "226:\tlearn: 0.2968437\ttotal: 41.3s\tremaining: 2m 20s\n",
      "227:\tlearn: 0.2967962\ttotal: 41.5s\tremaining: 2m 20s\n",
      "228:\tlearn: 0.2967747\ttotal: 41.6s\tremaining: 2m 20s\n",
      "229:\tlearn: 0.2967459\ttotal: 41.8s\tremaining: 2m 20s\n",
      "230:\tlearn: 0.2966999\ttotal: 42s\tremaining: 2m 19s\n",
      "231:\tlearn: 0.2966503\ttotal: 42.2s\tremaining: 2m 19s\n",
      "232:\tlearn: 0.2965978\ttotal: 42.4s\tremaining: 2m 19s\n",
      "233:\tlearn: 0.2965612\ttotal: 42.6s\tremaining: 2m 19s\n",
      "234:\tlearn: 0.2965219\ttotal: 42.7s\tremaining: 2m 19s\n",
      "235:\tlearn: 0.2964862\ttotal: 42.9s\tremaining: 2m 18s\n",
      "236:\tlearn: 0.2964390\ttotal: 43.1s\tremaining: 2m 18s\n",
      "237:\tlearn: 0.2964008\ttotal: 43.2s\tremaining: 2m 18s\n",
      "238:\tlearn: 0.2963605\ttotal: 43.4s\tremaining: 2m 18s\n",
      "239:\tlearn: 0.2963161\ttotal: 43.6s\tremaining: 2m 18s\n",
      "240:\tlearn: 0.2962934\ttotal: 43.8s\tremaining: 2m 17s\n",
      "241:\tlearn: 0.2962655\ttotal: 43.9s\tremaining: 2m 17s\n",
      "242:\tlearn: 0.2962228\ttotal: 44.1s\tremaining: 2m 17s\n",
      "243:\tlearn: 0.2961862\ttotal: 44.3s\tremaining: 2m 17s\n",
      "244:\tlearn: 0.2961503\ttotal: 44.5s\tremaining: 2m 17s\n",
      "245:\tlearn: 0.2961118\ttotal: 44.7s\tremaining: 2m 16s\n",
      "246:\tlearn: 0.2959828\ttotal: 44.8s\tremaining: 2m 16s\n",
      "247:\tlearn: 0.2959505\ttotal: 45s\tremaining: 2m 16s\n",
      "248:\tlearn: 0.2959097\ttotal: 45.2s\tremaining: 2m 16s\n",
      "249:\tlearn: 0.2958558\ttotal: 45.4s\tremaining: 2m 16s\n",
      "250:\tlearn: 0.2958195\ttotal: 45.6s\tremaining: 2m 16s\n",
      "251:\tlearn: 0.2957882\ttotal: 45.8s\tremaining: 2m 15s\n",
      "252:\tlearn: 0.2957688\ttotal: 46s\tremaining: 2m 15s\n",
      "253:\tlearn: 0.2957399\ttotal: 46.2s\tremaining: 2m 15s\n",
      "254:\tlearn: 0.2957069\ttotal: 46.3s\tremaining: 2m 15s\n",
      "255:\tlearn: 0.2956117\ttotal: 46.5s\tremaining: 2m 15s\n",
      "256:\tlearn: 0.2955641\ttotal: 46.8s\tremaining: 2m 15s\n",
      "257:\tlearn: 0.2955262\ttotal: 46.9s\tremaining: 2m 15s\n",
      "258:\tlearn: 0.2954971\ttotal: 47.1s\tremaining: 2m 14s\n",
      "259:\tlearn: 0.2954624\ttotal: 47.3s\tremaining: 2m 14s\n",
      "260:\tlearn: 0.2954209\ttotal: 47.5s\tremaining: 2m 14s\n",
      "261:\tlearn: 0.2953878\ttotal: 47.7s\tremaining: 2m 14s\n",
      "262:\tlearn: 0.2953556\ttotal: 47.9s\tremaining: 2m 14s\n",
      "263:\tlearn: 0.2953080\ttotal: 48s\tremaining: 2m 13s\n",
      "264:\tlearn: 0.2952760\ttotal: 48.2s\tremaining: 2m 13s\n",
      "265:\tlearn: 0.2952380\ttotal: 48.4s\tremaining: 2m 13s\n",
      "266:\tlearn: 0.2951831\ttotal: 48.6s\tremaining: 2m 13s\n",
      "267:\tlearn: 0.2951488\ttotal: 48.8s\tremaining: 2m 13s\n",
      "268:\tlearn: 0.2950603\ttotal: 49s\tremaining: 2m 13s\n",
      "269:\tlearn: 0.2950349\ttotal: 49.1s\tremaining: 2m 12s\n",
      "270:\tlearn: 0.2950015\ttotal: 49.3s\tremaining: 2m 12s\n",
      "271:\tlearn: 0.2949502\ttotal: 49.5s\tremaining: 2m 12s\n",
      "272:\tlearn: 0.2949146\ttotal: 49.7s\tremaining: 2m 12s\n",
      "273:\tlearn: 0.2948873\ttotal: 49.9s\tremaining: 2m 12s\n",
      "274:\tlearn: 0.2948523\ttotal: 50.1s\tremaining: 2m 12s\n",
      "275:\tlearn: 0.2947937\ttotal: 50.3s\tremaining: 2m 11s\n",
      "276:\tlearn: 0.2947433\ttotal: 50.5s\tremaining: 2m 11s\n",
      "277:\tlearn: 0.2947132\ttotal: 50.6s\tremaining: 2m 11s\n",
      "278:\tlearn: 0.2946201\ttotal: 50.8s\tremaining: 2m 11s\n",
      "279:\tlearn: 0.2945583\ttotal: 50.9s\tremaining: 2m 11s\n",
      "280:\tlearn: 0.2945106\ttotal: 51.1s\tremaining: 2m 10s\n",
      "281:\tlearn: 0.2944812\ttotal: 51.3s\tremaining: 2m 10s\n",
      "282:\tlearn: 0.2944247\ttotal: 51.5s\tremaining: 2m 10s\n",
      "283:\tlearn: 0.2943467\ttotal: 51.6s\tremaining: 2m 10s\n",
      "284:\tlearn: 0.2942729\ttotal: 51.8s\tremaining: 2m 9s\n",
      "285:\tlearn: 0.2942369\ttotal: 52s\tremaining: 2m 9s\n",
      "286:\tlearn: 0.2941986\ttotal: 52.1s\tremaining: 2m 9s\n",
      "287:\tlearn: 0.2941657\ttotal: 52.3s\tremaining: 2m 9s\n",
      "288:\tlearn: 0.2941284\ttotal: 52.5s\tremaining: 2m 9s\n",
      "289:\tlearn: 0.2940805\ttotal: 52.7s\tremaining: 2m 9s\n",
      "290:\tlearn: 0.2940412\ttotal: 52.9s\tremaining: 2m 8s\n",
      "291:\tlearn: 0.2940110\ttotal: 53.1s\tremaining: 2m 8s\n",
      "292:\tlearn: 0.2939694\ttotal: 53.3s\tremaining: 2m 8s\n",
      "293:\tlearn: 0.2939363\ttotal: 53.5s\tremaining: 2m 8s\n",
      "294:\tlearn: 0.2938996\ttotal: 53.6s\tremaining: 2m 8s\n",
      "295:\tlearn: 0.2938626\ttotal: 53.8s\tremaining: 2m 8s\n",
      "296:\tlearn: 0.2938438\ttotal: 54s\tremaining: 2m 7s\n",
      "297:\tlearn: 0.2938015\ttotal: 54.2s\tremaining: 2m 7s\n",
      "298:\tlearn: 0.2937802\ttotal: 54.3s\tremaining: 2m 7s\n",
      "299:\tlearn: 0.2937455\ttotal: 54.5s\tremaining: 2m 7s\n",
      "300:\tlearn: 0.2937181\ttotal: 54.7s\tremaining: 2m 7s\n",
      "301:\tlearn: 0.2936874\ttotal: 54.9s\tremaining: 2m 6s\n",
      "302:\tlearn: 0.2936221\ttotal: 55.1s\tremaining: 2m 6s\n",
      "303:\tlearn: 0.2935803\ttotal: 55.2s\tremaining: 2m 6s\n",
      "304:\tlearn: 0.2935568\ttotal: 55.4s\tremaining: 2m 6s\n",
      "305:\tlearn: 0.2935081\ttotal: 55.6s\tremaining: 2m 6s\n",
      "306:\tlearn: 0.2934619\ttotal: 55.8s\tremaining: 2m 6s\n",
      "307:\tlearn: 0.2934347\ttotal: 56s\tremaining: 2m 5s\n",
      "308:\tlearn: 0.2934074\ttotal: 56.2s\tremaining: 2m 5s\n",
      "309:\tlearn: 0.2933731\ttotal: 56.4s\tremaining: 2m 5s\n",
      "310:\tlearn: 0.2933501\ttotal: 56.5s\tremaining: 2m 5s\n",
      "311:\tlearn: 0.2933068\ttotal: 56.7s\tremaining: 2m 5s\n",
      "312:\tlearn: 0.2932743\ttotal: 56.9s\tremaining: 2m 4s\n",
      "313:\tlearn: 0.2932502\ttotal: 57.1s\tremaining: 2m 4s\n"
     ]
    },
    {
     "name": "stdout",
     "output_type": "stream",
     "text": [
      "314:\tlearn: 0.2931917\ttotal: 57.2s\tremaining: 2m 4s\n",
      "315:\tlearn: 0.2931654\ttotal: 57.4s\tremaining: 2m 4s\n",
      "316:\tlearn: 0.2931250\ttotal: 57.6s\tremaining: 2m 4s\n",
      "317:\tlearn: 0.2930946\ttotal: 57.7s\tremaining: 2m 3s\n",
      "318:\tlearn: 0.2930571\ttotal: 57.9s\tremaining: 2m 3s\n",
      "319:\tlearn: 0.2930188\ttotal: 58.1s\tremaining: 2m 3s\n",
      "320:\tlearn: 0.2929875\ttotal: 58.3s\tremaining: 2m 3s\n",
      "321:\tlearn: 0.2929485\ttotal: 58.4s\tremaining: 2m 3s\n",
      "322:\tlearn: 0.2929274\ttotal: 58.6s\tremaining: 2m 2s\n",
      "323:\tlearn: 0.2929012\ttotal: 58.8s\tremaining: 2m 2s\n",
      "324:\tlearn: 0.2928118\ttotal: 59s\tremaining: 2m 2s\n",
      "325:\tlearn: 0.2927862\ttotal: 59.1s\tremaining: 2m 2s\n",
      "326:\tlearn: 0.2927625\ttotal: 59.3s\tremaining: 2m 2s\n",
      "327:\tlearn: 0.2927070\ttotal: 59.5s\tremaining: 2m 1s\n",
      "328:\tlearn: 0.2926707\ttotal: 59.7s\tremaining: 2m 1s\n",
      "329:\tlearn: 0.2926077\ttotal: 59.9s\tremaining: 2m 1s\n",
      "330:\tlearn: 0.2925885\ttotal: 1m\tremaining: 2m 1s\n",
      "331:\tlearn: 0.2925651\ttotal: 1m\tremaining: 2m 1s\n",
      "332:\tlearn: 0.2925412\ttotal: 1m\tremaining: 2m 1s\n",
      "333:\tlearn: 0.2925104\ttotal: 1m\tremaining: 2m\n",
      "334:\tlearn: 0.2924596\ttotal: 1m\tremaining: 2m\n",
      "335:\tlearn: 0.2924338\ttotal: 1m\tremaining: 2m\n",
      "336:\tlearn: 0.2924084\ttotal: 1m 1s\tremaining: 2m\n",
      "337:\tlearn: 0.2923789\ttotal: 1m 1s\tremaining: 2m\n",
      "338:\tlearn: 0.2923435\ttotal: 1m 1s\tremaining: 1m 59s\n",
      "339:\tlearn: 0.2923094\ttotal: 1m 1s\tremaining: 1m 59s\n",
      "340:\tlearn: 0.2922889\ttotal: 1m 1s\tremaining: 1m 59s\n",
      "341:\tlearn: 0.2922569\ttotal: 1m 1s\tremaining: 1m 59s\n",
      "342:\tlearn: 0.2922270\ttotal: 1m 2s\tremaining: 1m 59s\n",
      "343:\tlearn: 0.2922020\ttotal: 1m 2s\tremaining: 1m 58s\n",
      "344:\tlearn: 0.2921750\ttotal: 1m 2s\tremaining: 1m 58s\n",
      "345:\tlearn: 0.2921429\ttotal: 1m 2s\tremaining: 1m 58s\n",
      "346:\tlearn: 0.2921083\ttotal: 1m 2s\tremaining: 1m 58s\n",
      "347:\tlearn: 0.2920767\ttotal: 1m 3s\tremaining: 1m 58s\n",
      "348:\tlearn: 0.2920428\ttotal: 1m 3s\tremaining: 1m 58s\n",
      "349:\tlearn: 0.2920153\ttotal: 1m 3s\tremaining: 1m 57s\n",
      "350:\tlearn: 0.2919760\ttotal: 1m 3s\tremaining: 1m 57s\n",
      "351:\tlearn: 0.2919434\ttotal: 1m 3s\tremaining: 1m 57s\n",
      "352:\tlearn: 0.2919155\ttotal: 1m 3s\tremaining: 1m 57s\n",
      "353:\tlearn: 0.2918633\ttotal: 1m 4s\tremaining: 1m 57s\n",
      "354:\tlearn: 0.2918269\ttotal: 1m 4s\tremaining: 1m 56s\n",
      "355:\tlearn: 0.2917990\ttotal: 1m 4s\tremaining: 1m 56s\n",
      "356:\tlearn: 0.2917747\ttotal: 1m 4s\tremaining: 1m 56s\n",
      "357:\tlearn: 0.2917404\ttotal: 1m 4s\tremaining: 1m 56s\n",
      "358:\tlearn: 0.2917069\ttotal: 1m 4s\tremaining: 1m 56s\n",
      "359:\tlearn: 0.2916770\ttotal: 1m 5s\tremaining: 1m 55s\n",
      "360:\tlearn: 0.2916477\ttotal: 1m 5s\tremaining: 1m 55s\n",
      "361:\tlearn: 0.2916242\ttotal: 1m 5s\tremaining: 1m 55s\n",
      "362:\tlearn: 0.2916074\ttotal: 1m 5s\tremaining: 1m 55s\n",
      "363:\tlearn: 0.2915725\ttotal: 1m 5s\tremaining: 1m 55s\n",
      "364:\tlearn: 0.2915460\ttotal: 1m 6s\tremaining: 1m 54s\n",
      "365:\tlearn: 0.2915198\ttotal: 1m 6s\tremaining: 1m 54s\n",
      "366:\tlearn: 0.2914887\ttotal: 1m 6s\tremaining: 1m 54s\n",
      "367:\tlearn: 0.2914511\ttotal: 1m 6s\tremaining: 1m 54s\n",
      "368:\tlearn: 0.2913516\ttotal: 1m 6s\tremaining: 1m 54s\n",
      "369:\tlearn: 0.2913093\ttotal: 1m 6s\tremaining: 1m 53s\n",
      "370:\tlearn: 0.2912809\ttotal: 1m 7s\tremaining: 1m 53s\n",
      "371:\tlearn: 0.2912556\ttotal: 1m 7s\tremaining: 1m 53s\n",
      "372:\tlearn: 0.2912287\ttotal: 1m 7s\tremaining: 1m 53s\n",
      "373:\tlearn: 0.2911990\ttotal: 1m 7s\tremaining: 1m 53s\n",
      "374:\tlearn: 0.2911586\ttotal: 1m 7s\tremaining: 1m 52s\n",
      "375:\tlearn: 0.2911397\ttotal: 1m 7s\tremaining: 1m 52s\n",
      "376:\tlearn: 0.2910860\ttotal: 1m 8s\tremaining: 1m 52s\n",
      "377:\tlearn: 0.2910420\ttotal: 1m 8s\tremaining: 1m 52s\n",
      "378:\tlearn: 0.2910197\ttotal: 1m 8s\tremaining: 1m 52s\n",
      "379:\tlearn: 0.2909906\ttotal: 1m 8s\tremaining: 1m 52s\n",
      "380:\tlearn: 0.2909626\ttotal: 1m 8s\tremaining: 1m 51s\n",
      "381:\tlearn: 0.2909455\ttotal: 1m 8s\tremaining: 1m 51s\n",
      "382:\tlearn: 0.2909128\ttotal: 1m 9s\tremaining: 1m 51s\n",
      "383:\tlearn: 0.2908778\ttotal: 1m 9s\tremaining: 1m 51s\n",
      "384:\tlearn: 0.2908495\ttotal: 1m 9s\tremaining: 1m 51s\n",
      "385:\tlearn: 0.2908281\ttotal: 1m 9s\tremaining: 1m 50s\n",
      "386:\tlearn: 0.2908014\ttotal: 1m 9s\tremaining: 1m 50s\n",
      "387:\tlearn: 0.2907775\ttotal: 1m 10s\tremaining: 1m 50s\n",
      "388:\tlearn: 0.2907576\ttotal: 1m 10s\tremaining: 1m 50s\n",
      "389:\tlearn: 0.2907334\ttotal: 1m 10s\tremaining: 1m 50s\n",
      "390:\tlearn: 0.2906842\ttotal: 1m 10s\tremaining: 1m 49s\n",
      "391:\tlearn: 0.2906522\ttotal: 1m 10s\tremaining: 1m 49s\n",
      "392:\tlearn: 0.2906178\ttotal: 1m 10s\tremaining: 1m 49s\n",
      "393:\tlearn: 0.2905948\ttotal: 1m 11s\tremaining: 1m 49s\n",
      "394:\tlearn: 0.2905667\ttotal: 1m 11s\tremaining: 1m 49s\n",
      "395:\tlearn: 0.2905370\ttotal: 1m 11s\tremaining: 1m 48s\n",
      "396:\tlearn: 0.2905086\ttotal: 1m 11s\tremaining: 1m 48s\n",
      "397:\tlearn: 0.2904826\ttotal: 1m 11s\tremaining: 1m 48s\n",
      "398:\tlearn: 0.2904586\ttotal: 1m 11s\tremaining: 1m 48s\n",
      "399:\tlearn: 0.2904360\ttotal: 1m 12s\tremaining: 1m 48s\n",
      "400:\tlearn: 0.2904103\ttotal: 1m 12s\tremaining: 1m 48s\n",
      "401:\tlearn: 0.2903879\ttotal: 1m 12s\tremaining: 1m 47s\n",
      "402:\tlearn: 0.2903475\ttotal: 1m 12s\tremaining: 1m 47s\n",
      "403:\tlearn: 0.2903211\ttotal: 1m 12s\tremaining: 1m 47s\n",
      "404:\tlearn: 0.2902933\ttotal: 1m 13s\tremaining: 1m 47s\n",
      "405:\tlearn: 0.2902252\ttotal: 1m 13s\tremaining: 1m 47s\n",
      "406:\tlearn: 0.2902016\ttotal: 1m 13s\tremaining: 1m 47s\n",
      "407:\tlearn: 0.2901661\ttotal: 1m 13s\tremaining: 1m 46s\n",
      "408:\tlearn: 0.2901216\ttotal: 1m 13s\tremaining: 1m 46s\n",
      "409:\tlearn: 0.2900972\ttotal: 1m 14s\tremaining: 1m 46s\n",
      "410:\tlearn: 0.2900686\ttotal: 1m 14s\tremaining: 1m 46s\n",
      "411:\tlearn: 0.2900433\ttotal: 1m 14s\tremaining: 1m 46s\n",
      "412:\tlearn: 0.2900101\ttotal: 1m 14s\tremaining: 1m 46s\n",
      "413:\tlearn: 0.2899833\ttotal: 1m 14s\tremaining: 1m 46s\n",
      "414:\tlearn: 0.2899541\ttotal: 1m 15s\tremaining: 1m 45s\n",
      "415:\tlearn: 0.2899316\ttotal: 1m 15s\tremaining: 1m 45s\n",
      "416:\tlearn: 0.2899100\ttotal: 1m 15s\tremaining: 1m 45s\n",
      "417:\tlearn: 0.2898832\ttotal: 1m 15s\tremaining: 1m 45s\n",
      "418:\tlearn: 0.2898675\ttotal: 1m 15s\tremaining: 1m 45s\n",
      "419:\tlearn: 0.2898529\ttotal: 1m 15s\tremaining: 1m 44s\n",
      "420:\tlearn: 0.2898253\ttotal: 1m 16s\tremaining: 1m 44s\n",
      "421:\tlearn: 0.2897803\ttotal: 1m 16s\tremaining: 1m 44s\n",
      "422:\tlearn: 0.2897123\ttotal: 1m 16s\tremaining: 1m 44s\n",
      "423:\tlearn: 0.2896834\ttotal: 1m 16s\tremaining: 1m 44s\n",
      "424:\tlearn: 0.2896533\ttotal: 1m 16s\tremaining: 1m 44s\n",
      "425:\tlearn: 0.2896261\ttotal: 1m 17s\tremaining: 1m 43s\n",
      "426:\tlearn: 0.2895950\ttotal: 1m 17s\tremaining: 1m 43s\n",
      "427:\tlearn: 0.2895672\ttotal: 1m 17s\tremaining: 1m 43s\n",
      "428:\tlearn: 0.2895416\ttotal: 1m 17s\tremaining: 1m 43s\n",
      "429:\tlearn: 0.2895094\ttotal: 1m 17s\tremaining: 1m 43s\n",
      "430:\tlearn: 0.2894940\ttotal: 1m 18s\tremaining: 1m 43s\n",
      "431:\tlearn: 0.2894572\ttotal: 1m 18s\tremaining: 1m 42s\n",
      "432:\tlearn: 0.2894368\ttotal: 1m 18s\tremaining: 1m 42s\n",
      "433:\tlearn: 0.2894122\ttotal: 1m 18s\tremaining: 1m 42s\n",
      "434:\tlearn: 0.2893820\ttotal: 1m 18s\tremaining: 1m 42s\n",
      "435:\tlearn: 0.2893569\ttotal: 1m 18s\tremaining: 1m 42s\n",
      "436:\tlearn: 0.2893106\ttotal: 1m 19s\tremaining: 1m 41s\n",
      "437:\tlearn: 0.2892814\ttotal: 1m 19s\tremaining: 1m 41s\n",
      "438:\tlearn: 0.2892476\ttotal: 1m 19s\tremaining: 1m 41s\n",
      "439:\tlearn: 0.2892186\ttotal: 1m 19s\tremaining: 1m 41s\n",
      "440:\tlearn: 0.2891810\ttotal: 1m 19s\tremaining: 1m 41s\n",
      "441:\tlearn: 0.2891525\ttotal: 1m 20s\tremaining: 1m 41s\n",
      "442:\tlearn: 0.2891257\ttotal: 1m 20s\tremaining: 1m 40s\n",
      "443:\tlearn: 0.2891047\ttotal: 1m 20s\tremaining: 1m 40s\n",
      "444:\tlearn: 0.2890855\ttotal: 1m 20s\tremaining: 1m 40s\n",
      "445:\tlearn: 0.2890739\ttotal: 1m 20s\tremaining: 1m 40s\n",
      "446:\tlearn: 0.2890454\ttotal: 1m 20s\tremaining: 1m 40s\n",
      "447:\tlearn: 0.2890139\ttotal: 1m 21s\tremaining: 1m 39s\n",
      "448:\tlearn: 0.2889838\ttotal: 1m 21s\tremaining: 1m 39s\n",
      "449:\tlearn: 0.2889647\ttotal: 1m 21s\tremaining: 1m 39s\n",
      "450:\tlearn: 0.2889464\ttotal: 1m 21s\tremaining: 1m 39s\n",
      "451:\tlearn: 0.2889289\ttotal: 1m 21s\tremaining: 1m 39s\n",
      "452:\tlearn: 0.2889142\ttotal: 1m 22s\tremaining: 1m 39s\n",
      "453:\tlearn: 0.2888856\ttotal: 1m 22s\tremaining: 1m 38s\n",
      "454:\tlearn: 0.2888644\ttotal: 1m 22s\tremaining: 1m 38s\n",
      "455:\tlearn: 0.2888379\ttotal: 1m 22s\tremaining: 1m 38s\n",
      "456:\tlearn: 0.2887904\ttotal: 1m 22s\tremaining: 1m 38s\n",
      "457:\tlearn: 0.2887690\ttotal: 1m 22s\tremaining: 1m 38s\n",
      "458:\tlearn: 0.2887416\ttotal: 1m 22s\tremaining: 1m 37s\n",
      "459:\tlearn: 0.2887168\ttotal: 1m 23s\tremaining: 1m 37s\n",
      "460:\tlearn: 0.2886777\ttotal: 1m 23s\tremaining: 1m 37s\n",
      "461:\tlearn: 0.2886555\ttotal: 1m 23s\tremaining: 1m 37s\n",
      "462:\tlearn: 0.2886309\ttotal: 1m 23s\tremaining: 1m 37s\n",
      "463:\tlearn: 0.2886126\ttotal: 1m 23s\tremaining: 1m 36s\n",
      "464:\tlearn: 0.2885874\ttotal: 1m 24s\tremaining: 1m 36s\n",
      "465:\tlearn: 0.2885659\ttotal: 1m 24s\tremaining: 1m 36s\n",
      "466:\tlearn: 0.2885381\ttotal: 1m 24s\tremaining: 1m 36s\n",
      "467:\tlearn: 0.2885132\ttotal: 1m 24s\tremaining: 1m 36s\n",
      "468:\tlearn: 0.2884737\ttotal: 1m 24s\tremaining: 1m 36s\n"
     ]
    },
    {
     "name": "stdout",
     "output_type": "stream",
     "text": [
      "469:\tlearn: 0.2884492\ttotal: 1m 25s\tremaining: 1m 35s\n",
      "470:\tlearn: 0.2884301\ttotal: 1m 25s\tremaining: 1m 35s\n",
      "471:\tlearn: 0.2884002\ttotal: 1m 25s\tremaining: 1m 35s\n",
      "472:\tlearn: 0.2883806\ttotal: 1m 25s\tremaining: 1m 35s\n",
      "473:\tlearn: 0.2883445\ttotal: 1m 25s\tremaining: 1m 35s\n",
      "474:\tlearn: 0.2883279\ttotal: 1m 26s\tremaining: 1m 35s\n",
      "475:\tlearn: 0.2883060\ttotal: 1m 26s\tremaining: 1m 34s\n",
      "476:\tlearn: 0.2882698\ttotal: 1m 26s\tremaining: 1m 34s\n",
      "477:\tlearn: 0.2882268\ttotal: 1m 26s\tremaining: 1m 34s\n",
      "478:\tlearn: 0.2882015\ttotal: 1m 26s\tremaining: 1m 34s\n",
      "479:\tlearn: 0.2881658\ttotal: 1m 27s\tremaining: 1m 34s\n",
      "480:\tlearn: 0.2881145\ttotal: 1m 27s\tremaining: 1m 34s\n",
      "481:\tlearn: 0.2880913\ttotal: 1m 27s\tremaining: 1m 33s\n",
      "482:\tlearn: 0.2880619\ttotal: 1m 27s\tremaining: 1m 33s\n",
      "483:\tlearn: 0.2880059\ttotal: 1m 27s\tremaining: 1m 33s\n",
      "484:\tlearn: 0.2879622\ttotal: 1m 27s\tremaining: 1m 33s\n",
      "485:\tlearn: 0.2879358\ttotal: 1m 28s\tremaining: 1m 33s\n",
      "486:\tlearn: 0.2879162\ttotal: 1m 28s\tremaining: 1m 33s\n",
      "487:\tlearn: 0.2878933\ttotal: 1m 28s\tremaining: 1m 32s\n",
      "488:\tlearn: 0.2878782\ttotal: 1m 28s\tremaining: 1m 32s\n",
      "489:\tlearn: 0.2878592\ttotal: 1m 28s\tremaining: 1m 32s\n",
      "490:\tlearn: 0.2878333\ttotal: 1m 28s\tremaining: 1m 32s\n",
      "491:\tlearn: 0.2878105\ttotal: 1m 29s\tremaining: 1m 32s\n",
      "492:\tlearn: 0.2877912\ttotal: 1m 29s\tremaining: 1m 31s\n",
      "493:\tlearn: 0.2877666\ttotal: 1m 29s\tremaining: 1m 31s\n",
      "494:\tlearn: 0.2877436\ttotal: 1m 29s\tremaining: 1m 31s\n",
      "495:\tlearn: 0.2877242\ttotal: 1m 29s\tremaining: 1m 31s\n",
      "496:\tlearn: 0.2877033\ttotal: 1m 29s\tremaining: 1m 31s\n",
      "497:\tlearn: 0.2876816\ttotal: 1m 30s\tremaining: 1m 30s\n",
      "498:\tlearn: 0.2876590\ttotal: 1m 30s\tremaining: 1m 30s\n",
      "499:\tlearn: 0.2876430\ttotal: 1m 30s\tremaining: 1m 30s\n",
      "500:\tlearn: 0.2876224\ttotal: 1m 30s\tremaining: 1m 30s\n",
      "501:\tlearn: 0.2875979\ttotal: 1m 30s\tremaining: 1m 30s\n",
      "502:\tlearn: 0.2875717\ttotal: 1m 31s\tremaining: 1m 30s\n",
      "503:\tlearn: 0.2875367\ttotal: 1m 31s\tremaining: 1m 29s\n",
      "504:\tlearn: 0.2875217\ttotal: 1m 31s\tremaining: 1m 29s\n",
      "505:\tlearn: 0.2874987\ttotal: 1m 31s\tremaining: 1m 29s\n",
      "506:\tlearn: 0.2874646\ttotal: 1m 31s\tremaining: 1m 29s\n",
      "507:\tlearn: 0.2874064\ttotal: 1m 31s\tremaining: 1m 29s\n",
      "508:\tlearn: 0.2873419\ttotal: 1m 32s\tremaining: 1m 28s\n",
      "509:\tlearn: 0.2873208\ttotal: 1m 32s\tremaining: 1m 28s\n",
      "510:\tlearn: 0.2872935\ttotal: 1m 32s\tremaining: 1m 28s\n",
      "511:\tlearn: 0.2872685\ttotal: 1m 32s\tremaining: 1m 28s\n",
      "512:\tlearn: 0.2872475\ttotal: 1m 32s\tremaining: 1m 28s\n",
      "513:\tlearn: 0.2872231\ttotal: 1m 32s\tremaining: 1m 27s\n",
      "514:\tlearn: 0.2872010\ttotal: 1m 33s\tremaining: 1m 27s\n",
      "515:\tlearn: 0.2871769\ttotal: 1m 33s\tremaining: 1m 27s\n",
      "516:\tlearn: 0.2871575\ttotal: 1m 33s\tremaining: 1m 27s\n",
      "517:\tlearn: 0.2871365\ttotal: 1m 33s\tremaining: 1m 27s\n",
      "518:\tlearn: 0.2871255\ttotal: 1m 33s\tremaining: 1m 26s\n",
      "519:\tlearn: 0.2870925\ttotal: 1m 34s\tremaining: 1m 26s\n",
      "520:\tlearn: 0.2870679\ttotal: 1m 34s\tremaining: 1m 26s\n",
      "521:\tlearn: 0.2870439\ttotal: 1m 34s\tremaining: 1m 26s\n",
      "522:\tlearn: 0.2870188\ttotal: 1m 34s\tremaining: 1m 26s\n",
      "523:\tlearn: 0.2870053\ttotal: 1m 34s\tremaining: 1m 25s\n",
      "524:\tlearn: 0.2869818\ttotal: 1m 34s\tremaining: 1m 25s\n",
      "525:\tlearn: 0.2869598\ttotal: 1m 34s\tremaining: 1m 25s\n",
      "526:\tlearn: 0.2869389\ttotal: 1m 35s\tremaining: 1m 25s\n",
      "527:\tlearn: 0.2869201\ttotal: 1m 35s\tremaining: 1m 25s\n",
      "528:\tlearn: 0.2868952\ttotal: 1m 35s\tremaining: 1m 25s\n",
      "529:\tlearn: 0.2868714\ttotal: 1m 35s\tremaining: 1m 24s\n",
      "530:\tlearn: 0.2868550\ttotal: 1m 35s\tremaining: 1m 24s\n",
      "531:\tlearn: 0.2868400\ttotal: 1m 35s\tremaining: 1m 24s\n",
      "532:\tlearn: 0.2868199\ttotal: 1m 36s\tremaining: 1m 24s\n",
      "533:\tlearn: 0.2867987\ttotal: 1m 36s\tremaining: 1m 24s\n",
      "534:\tlearn: 0.2867761\ttotal: 1m 36s\tremaining: 1m 23s\n",
      "535:\tlearn: 0.2867575\ttotal: 1m 36s\tremaining: 1m 23s\n",
      "536:\tlearn: 0.2867250\ttotal: 1m 36s\tremaining: 1m 23s\n",
      "537:\tlearn: 0.2867004\ttotal: 1m 37s\tremaining: 1m 23s\n",
      "538:\tlearn: 0.2866896\ttotal: 1m 37s\tremaining: 1m 23s\n",
      "539:\tlearn: 0.2866720\ttotal: 1m 37s\tremaining: 1m 22s\n",
      "540:\tlearn: 0.2866440\ttotal: 1m 37s\tremaining: 1m 22s\n",
      "541:\tlearn: 0.2866167\ttotal: 1m 37s\tremaining: 1m 22s\n",
      "542:\tlearn: 0.2865580\ttotal: 1m 38s\tremaining: 1m 22s\n",
      "543:\tlearn: 0.2865323\ttotal: 1m 38s\tremaining: 1m 22s\n",
      "544:\tlearn: 0.2865119\ttotal: 1m 38s\tremaining: 1m 22s\n",
      "545:\tlearn: 0.2864798\ttotal: 1m 38s\tremaining: 1m 21s\n",
      "546:\tlearn: 0.2864622\ttotal: 1m 38s\tremaining: 1m 21s\n",
      "547:\tlearn: 0.2864437\ttotal: 1m 38s\tremaining: 1m 21s\n",
      "548:\tlearn: 0.2864205\ttotal: 1m 39s\tremaining: 1m 21s\n",
      "549:\tlearn: 0.2863990\ttotal: 1m 39s\tremaining: 1m 21s\n",
      "550:\tlearn: 0.2863762\ttotal: 1m 39s\tremaining: 1m 21s\n",
      "551:\tlearn: 0.2863562\ttotal: 1m 39s\tremaining: 1m 20s\n",
      "552:\tlearn: 0.2863273\ttotal: 1m 39s\tremaining: 1m 20s\n",
      "553:\tlearn: 0.2862662\ttotal: 1m 39s\tremaining: 1m 20s\n",
      "554:\tlearn: 0.2862399\ttotal: 1m 40s\tremaining: 1m 20s\n",
      "555:\tlearn: 0.2861986\ttotal: 1m 40s\tremaining: 1m 20s\n",
      "556:\tlearn: 0.2861800\ttotal: 1m 40s\tremaining: 1m 19s\n",
      "557:\tlearn: 0.2861588\ttotal: 1m 40s\tremaining: 1m 19s\n",
      "558:\tlearn: 0.2861404\ttotal: 1m 40s\tremaining: 1m 19s\n",
      "559:\tlearn: 0.2860927\ttotal: 1m 41s\tremaining: 1m 19s\n",
      "560:\tlearn: 0.2860759\ttotal: 1m 41s\tremaining: 1m 19s\n",
      "561:\tlearn: 0.2860606\ttotal: 1m 41s\tremaining: 1m 19s\n",
      "562:\tlearn: 0.2860368\ttotal: 1m 41s\tremaining: 1m 18s\n",
      "563:\tlearn: 0.2860167\ttotal: 1m 41s\tremaining: 1m 18s\n",
      "564:\tlearn: 0.2859951\ttotal: 1m 42s\tremaining: 1m 18s\n",
      "565:\tlearn: 0.2859778\ttotal: 1m 42s\tremaining: 1m 18s\n",
      "566:\tlearn: 0.2859535\ttotal: 1m 42s\tremaining: 1m 18s\n",
      "567:\tlearn: 0.2859377\ttotal: 1m 42s\tremaining: 1m 17s\n",
      "568:\tlearn: 0.2859264\ttotal: 1m 42s\tremaining: 1m 17s\n",
      "569:\tlearn: 0.2859031\ttotal: 1m 42s\tremaining: 1m 17s\n",
      "570:\tlearn: 0.2858906\ttotal: 1m 43s\tremaining: 1m 17s\n",
      "571:\tlearn: 0.2858705\ttotal: 1m 43s\tremaining: 1m 17s\n",
      "572:\tlearn: 0.2858509\ttotal: 1m 43s\tremaining: 1m 17s\n",
      "573:\tlearn: 0.2858342\ttotal: 1m 43s\tremaining: 1m 16s\n",
      "574:\tlearn: 0.2858098\ttotal: 1m 43s\tremaining: 1m 16s\n",
      "575:\tlearn: 0.2857866\ttotal: 1m 44s\tremaining: 1m 16s\n",
      "576:\tlearn: 0.2857524\ttotal: 1m 44s\tremaining: 1m 16s\n",
      "577:\tlearn: 0.2857362\ttotal: 1m 44s\tremaining: 1m 16s\n",
      "578:\tlearn: 0.2857185\ttotal: 1m 44s\tremaining: 1m 16s\n",
      "579:\tlearn: 0.2856958\ttotal: 1m 44s\tremaining: 1m 15s\n",
      "580:\tlearn: 0.2856826\ttotal: 1m 44s\tremaining: 1m 15s\n",
      "581:\tlearn: 0.2856662\ttotal: 1m 45s\tremaining: 1m 15s\n",
      "582:\tlearn: 0.2856396\ttotal: 1m 45s\tremaining: 1m 15s\n",
      "583:\tlearn: 0.2856158\ttotal: 1m 45s\tremaining: 1m 15s\n",
      "584:\tlearn: 0.2855955\ttotal: 1m 45s\tremaining: 1m 14s\n",
      "585:\tlearn: 0.2855768\ttotal: 1m 45s\tremaining: 1m 14s\n",
      "586:\tlearn: 0.2855570\ttotal: 1m 46s\tremaining: 1m 14s\n",
      "587:\tlearn: 0.2855268\ttotal: 1m 46s\tremaining: 1m 14s\n",
      "588:\tlearn: 0.2855070\ttotal: 1m 46s\tremaining: 1m 14s\n",
      "589:\tlearn: 0.2854936\ttotal: 1m 46s\tremaining: 1m 14s\n",
      "590:\tlearn: 0.2854653\ttotal: 1m 46s\tremaining: 1m 13s\n",
      "591:\tlearn: 0.2853689\ttotal: 1m 47s\tremaining: 1m 13s\n",
      "592:\tlearn: 0.2853177\ttotal: 1m 47s\tremaining: 1m 13s\n",
      "593:\tlearn: 0.2852994\ttotal: 1m 47s\tremaining: 1m 13s\n",
      "594:\tlearn: 0.2852750\ttotal: 1m 47s\tremaining: 1m 13s\n",
      "595:\tlearn: 0.2852507\ttotal: 1m 47s\tremaining: 1m 13s\n",
      "596:\tlearn: 0.2852299\ttotal: 1m 48s\tremaining: 1m 12s\n",
      "597:\tlearn: 0.2852091\ttotal: 1m 48s\tremaining: 1m 12s\n",
      "598:\tlearn: 0.2851818\ttotal: 1m 48s\tremaining: 1m 12s\n",
      "599:\tlearn: 0.2851641\ttotal: 1m 48s\tremaining: 1m 12s\n",
      "600:\tlearn: 0.2851398\ttotal: 1m 48s\tremaining: 1m 12s\n",
      "601:\tlearn: 0.2851274\ttotal: 1m 49s\tremaining: 1m 12s\n",
      "602:\tlearn: 0.2851068\ttotal: 1m 49s\tremaining: 1m 11s\n",
      "603:\tlearn: 0.2850867\ttotal: 1m 49s\tremaining: 1m 11s\n",
      "604:\tlearn: 0.2850701\ttotal: 1m 49s\tremaining: 1m 11s\n",
      "605:\tlearn: 0.2850518\ttotal: 1m 49s\tremaining: 1m 11s\n",
      "606:\tlearn: 0.2850234\ttotal: 1m 49s\tremaining: 1m 11s\n",
      "607:\tlearn: 0.2850007\ttotal: 1m 50s\tremaining: 1m 10s\n",
      "608:\tlearn: 0.2849691\ttotal: 1m 50s\tremaining: 1m 10s\n",
      "609:\tlearn: 0.2849302\ttotal: 1m 50s\tremaining: 1m 10s\n",
      "610:\tlearn: 0.2849043\ttotal: 1m 50s\tremaining: 1m 10s\n",
      "611:\tlearn: 0.2848732\ttotal: 1m 50s\tremaining: 1m 10s\n",
      "612:\tlearn: 0.2848596\ttotal: 1m 51s\tremaining: 1m 10s\n",
      "613:\tlearn: 0.2848457\ttotal: 1m 51s\tremaining: 1m 9s\n",
      "614:\tlearn: 0.2848306\ttotal: 1m 51s\tremaining: 1m 9s\n",
      "615:\tlearn: 0.2848102\ttotal: 1m 51s\tremaining: 1m 9s\n",
      "616:\tlearn: 0.2847916\ttotal: 1m 51s\tremaining: 1m 9s\n",
      "617:\tlearn: 0.2847701\ttotal: 1m 51s\tremaining: 1m 9s\n",
      "618:\tlearn: 0.2847444\ttotal: 1m 52s\tremaining: 1m 8s\n",
      "619:\tlearn: 0.2847298\ttotal: 1m 52s\tremaining: 1m 8s\n",
      "620:\tlearn: 0.2847084\ttotal: 1m 52s\tremaining: 1m 8s\n",
      "621:\tlearn: 0.2846889\ttotal: 1m 52s\tremaining: 1m 8s\n"
     ]
    },
    {
     "name": "stdout",
     "output_type": "stream",
     "text": [
      "622:\tlearn: 0.2846689\ttotal: 1m 52s\tremaining: 1m 8s\n",
      "623:\tlearn: 0.2846572\ttotal: 1m 53s\tremaining: 1m 8s\n",
      "624:\tlearn: 0.2846275\ttotal: 1m 53s\tremaining: 1m 7s\n",
      "625:\tlearn: 0.2845979\ttotal: 1m 53s\tremaining: 1m 7s\n",
      "626:\tlearn: 0.2845788\ttotal: 1m 53s\tremaining: 1m 7s\n",
      "627:\tlearn: 0.2845486\ttotal: 1m 53s\tremaining: 1m 7s\n",
      "628:\tlearn: 0.2845250\ttotal: 1m 53s\tremaining: 1m 7s\n",
      "629:\tlearn: 0.2845068\ttotal: 1m 54s\tremaining: 1m 7s\n",
      "630:\tlearn: 0.2844940\ttotal: 1m 54s\tremaining: 1m 6s\n",
      "631:\tlearn: 0.2844687\ttotal: 1m 54s\tremaining: 1m 6s\n",
      "632:\tlearn: 0.2844496\ttotal: 1m 54s\tremaining: 1m 6s\n",
      "633:\tlearn: 0.2844265\ttotal: 1m 54s\tremaining: 1m 6s\n",
      "634:\tlearn: 0.2844135\ttotal: 1m 55s\tremaining: 1m 6s\n",
      "635:\tlearn: 0.2843895\ttotal: 1m 55s\tremaining: 1m 6s\n",
      "636:\tlearn: 0.2843616\ttotal: 1m 55s\tremaining: 1m 5s\n",
      "637:\tlearn: 0.2843370\ttotal: 1m 55s\tremaining: 1m 5s\n",
      "638:\tlearn: 0.2842815\ttotal: 1m 55s\tremaining: 1m 5s\n",
      "639:\tlearn: 0.2842697\ttotal: 1m 56s\tremaining: 1m 5s\n",
      "640:\tlearn: 0.2842544\ttotal: 1m 56s\tremaining: 1m 5s\n",
      "641:\tlearn: 0.2841782\ttotal: 1m 56s\tremaining: 1m 4s\n",
      "642:\tlearn: 0.2841578\ttotal: 1m 56s\tremaining: 1m 4s\n",
      "643:\tlearn: 0.2841292\ttotal: 1m 56s\tremaining: 1m 4s\n",
      "644:\tlearn: 0.2841028\ttotal: 1m 57s\tremaining: 1m 4s\n",
      "645:\tlearn: 0.2840778\ttotal: 1m 57s\tremaining: 1m 4s\n",
      "646:\tlearn: 0.2840340\ttotal: 1m 57s\tremaining: 1m 4s\n",
      "647:\tlearn: 0.2840097\ttotal: 1m 57s\tremaining: 1m 3s\n",
      "648:\tlearn: 0.2839897\ttotal: 1m 57s\tremaining: 1m 3s\n",
      "649:\tlearn: 0.2839717\ttotal: 1m 58s\tremaining: 1m 3s\n",
      "650:\tlearn: 0.2839541\ttotal: 1m 58s\tremaining: 1m 3s\n",
      "651:\tlearn: 0.2839024\ttotal: 1m 58s\tremaining: 1m 3s\n",
      "652:\tlearn: 0.2838762\ttotal: 1m 58s\tremaining: 1m 3s\n",
      "653:\tlearn: 0.2838582\ttotal: 1m 58s\tremaining: 1m 2s\n",
      "654:\tlearn: 0.2838363\ttotal: 1m 59s\tremaining: 1m 2s\n",
      "655:\tlearn: 0.2838214\ttotal: 1m 59s\tremaining: 1m 2s\n",
      "656:\tlearn: 0.2837985\ttotal: 1m 59s\tremaining: 1m 2s\n",
      "657:\tlearn: 0.2837822\ttotal: 1m 59s\tremaining: 1m 2s\n",
      "658:\tlearn: 0.2837602\ttotal: 1m 59s\tremaining: 1m 2s\n",
      "659:\tlearn: 0.2837362\ttotal: 2m\tremaining: 1m 1s\n",
      "660:\tlearn: 0.2837190\ttotal: 2m\tremaining: 1m 1s\n",
      "661:\tlearn: 0.2836944\ttotal: 2m\tremaining: 1m 1s\n",
      "662:\tlearn: 0.2836753\ttotal: 2m\tremaining: 1m 1s\n",
      "663:\tlearn: 0.2836111\ttotal: 2m\tremaining: 1m 1s\n",
      "664:\tlearn: 0.2835898\ttotal: 2m\tremaining: 1m\n",
      "665:\tlearn: 0.2835701\ttotal: 2m 1s\tremaining: 1m\n",
      "666:\tlearn: 0.2835560\ttotal: 2m 1s\tremaining: 1m\n",
      "667:\tlearn: 0.2835341\ttotal: 2m 1s\tremaining: 1m\n",
      "668:\tlearn: 0.2835200\ttotal: 2m 1s\tremaining: 1m\n",
      "669:\tlearn: 0.2834993\ttotal: 2m 1s\tremaining: 1m\n",
      "670:\tlearn: 0.2834780\ttotal: 2m 2s\tremaining: 59.8s\n",
      "671:\tlearn: 0.2834557\ttotal: 2m 2s\tremaining: 59.7s\n",
      "672:\tlearn: 0.2834057\ttotal: 2m 2s\tremaining: 59.5s\n",
      "673:\tlearn: 0.2833743\ttotal: 2m 2s\tremaining: 59.3s\n",
      "674:\tlearn: 0.2833372\ttotal: 2m 2s\tremaining: 59.1s\n",
      "675:\tlearn: 0.2833129\ttotal: 2m 2s\tremaining: 58.9s\n",
      "676:\tlearn: 0.2832980\ttotal: 2m 3s\tremaining: 58.7s\n",
      "677:\tlearn: 0.2832784\ttotal: 2m 3s\tremaining: 58.6s\n",
      "678:\tlearn: 0.2832582\ttotal: 2m 3s\tremaining: 58.4s\n",
      "679:\tlearn: 0.2832395\ttotal: 2m 3s\tremaining: 58.2s\n",
      "680:\tlearn: 0.2832249\ttotal: 2m 3s\tremaining: 58s\n",
      "681:\tlearn: 0.2832107\ttotal: 2m 3s\tremaining: 57.8s\n",
      "682:\tlearn: 0.2831953\ttotal: 2m 4s\tremaining: 57.6s\n",
      "683:\tlearn: 0.2831873\ttotal: 2m 4s\tremaining: 57.4s\n",
      "684:\tlearn: 0.2831658\ttotal: 2m 4s\tremaining: 57.3s\n",
      "685:\tlearn: 0.2831522\ttotal: 2m 4s\tremaining: 57.1s\n",
      "686:\tlearn: 0.2831341\ttotal: 2m 4s\tremaining: 56.9s\n",
      "687:\tlearn: 0.2831108\ttotal: 2m 5s\tremaining: 56.7s\n",
      "688:\tlearn: 0.2830906\ttotal: 2m 5s\tremaining: 56.5s\n",
      "689:\tlearn: 0.2830641\ttotal: 2m 5s\tremaining: 56.3s\n",
      "690:\tlearn: 0.2830412\ttotal: 2m 5s\tremaining: 56.2s\n",
      "691:\tlearn: 0.2830138\ttotal: 2m 5s\tremaining: 56s\n",
      "692:\tlearn: 0.2829978\ttotal: 2m 5s\tremaining: 55.8s\n",
      "693:\tlearn: 0.2829758\ttotal: 2m 6s\tremaining: 55.6s\n",
      "694:\tlearn: 0.2829579\ttotal: 2m 6s\tremaining: 55.4s\n",
      "695:\tlearn: 0.2829394\ttotal: 2m 6s\tremaining: 55.2s\n",
      "696:\tlearn: 0.2829228\ttotal: 2m 6s\tremaining: 55s\n",
      "697:\tlearn: 0.2829092\ttotal: 2m 6s\tremaining: 54.8s\n",
      "698:\tlearn: 0.2828940\ttotal: 2m 6s\tremaining: 54.6s\n",
      "699:\tlearn: 0.2828783\ttotal: 2m 7s\tremaining: 54.5s\n",
      "700:\tlearn: 0.2828639\ttotal: 2m 7s\tremaining: 54.3s\n",
      "701:\tlearn: 0.2828259\ttotal: 2m 7s\tremaining: 54.1s\n",
      "702:\tlearn: 0.2828128\ttotal: 2m 7s\tremaining: 53.9s\n",
      "703:\tlearn: 0.2827881\ttotal: 2m 7s\tremaining: 53.7s\n",
      "704:\tlearn: 0.2827677\ttotal: 2m 7s\tremaining: 53.5s\n",
      "705:\tlearn: 0.2827479\ttotal: 2m 8s\tremaining: 53.3s\n",
      "706:\tlearn: 0.2827175\ttotal: 2m 8s\tremaining: 53.1s\n",
      "707:\tlearn: 0.2827027\ttotal: 2m 8s\tremaining: 53s\n",
      "708:\tlearn: 0.2826797\ttotal: 2m 8s\tremaining: 52.8s\n",
      "709:\tlearn: 0.2826504\ttotal: 2m 8s\tremaining: 52.6s\n",
      "710:\tlearn: 0.2826309\ttotal: 2m 8s\tremaining: 52.4s\n",
      "711:\tlearn: 0.2826162\ttotal: 2m 9s\tremaining: 52.2s\n",
      "712:\tlearn: 0.2825982\ttotal: 2m 9s\tremaining: 52s\n",
      "713:\tlearn: 0.2825807\ttotal: 2m 9s\tremaining: 51.9s\n",
      "714:\tlearn: 0.2825613\ttotal: 2m 9s\tremaining: 51.7s\n",
      "715:\tlearn: 0.2825517\ttotal: 2m 9s\tremaining: 51.5s\n",
      "716:\tlearn: 0.2825318\ttotal: 2m 9s\tremaining: 51.3s\n",
      "717:\tlearn: 0.2825189\ttotal: 2m 10s\tremaining: 51.1s\n",
      "718:\tlearn: 0.2824895\ttotal: 2m 10s\tremaining: 50.9s\n",
      "719:\tlearn: 0.2824578\ttotal: 2m 10s\tremaining: 50.8s\n",
      "720:\tlearn: 0.2824362\ttotal: 2m 10s\tremaining: 50.6s\n",
      "721:\tlearn: 0.2824197\ttotal: 2m 10s\tremaining: 50.4s\n",
      "722:\tlearn: 0.2823735\ttotal: 2m 11s\tremaining: 50.2s\n",
      "723:\tlearn: 0.2823555\ttotal: 2m 11s\tremaining: 50s\n",
      "724:\tlearn: 0.2823357\ttotal: 2m 11s\tremaining: 49.8s\n",
      "725:\tlearn: 0.2822787\ttotal: 2m 11s\tremaining: 49.6s\n",
      "726:\tlearn: 0.2822545\ttotal: 2m 11s\tremaining: 49.5s\n",
      "727:\tlearn: 0.2822355\ttotal: 2m 11s\tremaining: 49.3s\n",
      "728:\tlearn: 0.2822217\ttotal: 2m 12s\tremaining: 49.1s\n",
      "729:\tlearn: 0.2822012\ttotal: 2m 12s\tremaining: 48.9s\n",
      "730:\tlearn: 0.2821869\ttotal: 2m 12s\tremaining: 48.7s\n",
      "731:\tlearn: 0.2821408\ttotal: 2m 12s\tremaining: 48.5s\n",
      "732:\tlearn: 0.2821238\ttotal: 2m 12s\tremaining: 48.4s\n",
      "733:\tlearn: 0.2821088\ttotal: 2m 12s\tremaining: 48.2s\n",
      "734:\tlearn: 0.2820857\ttotal: 2m 13s\tremaining: 48s\n",
      "735:\tlearn: 0.2820647\ttotal: 2m 13s\tremaining: 47.8s\n",
      "736:\tlearn: 0.2819768\ttotal: 2m 13s\tremaining: 47.6s\n",
      "737:\tlearn: 0.2819589\ttotal: 2m 13s\tremaining: 47.4s\n",
      "738:\tlearn: 0.2819369\ttotal: 2m 13s\tremaining: 47.3s\n",
      "739:\tlearn: 0.2819225\ttotal: 2m 13s\tremaining: 47.1s\n",
      "740:\tlearn: 0.2818986\ttotal: 2m 14s\tremaining: 46.9s\n",
      "741:\tlearn: 0.2818866\ttotal: 2m 14s\tremaining: 46.7s\n",
      "742:\tlearn: 0.2818698\ttotal: 2m 14s\tremaining: 46.5s\n",
      "743:\tlearn: 0.2818519\ttotal: 2m 14s\tremaining: 46.3s\n",
      "744:\tlearn: 0.2818290\ttotal: 2m 14s\tremaining: 46.2s\n",
      "745:\tlearn: 0.2818107\ttotal: 2m 15s\tremaining: 46s\n",
      "746:\tlearn: 0.2818000\ttotal: 2m 15s\tremaining: 45.8s\n",
      "747:\tlearn: 0.2817781\ttotal: 2m 15s\tremaining: 45.6s\n",
      "748:\tlearn: 0.2817664\ttotal: 2m 15s\tremaining: 45.4s\n",
      "749:\tlearn: 0.2817512\ttotal: 2m 15s\tremaining: 45.2s\n",
      "750:\tlearn: 0.2817298\ttotal: 2m 15s\tremaining: 45s\n",
      "751:\tlearn: 0.2817106\ttotal: 2m 16s\tremaining: 44.9s\n",
      "752:\tlearn: 0.2816995\ttotal: 2m 16s\tremaining: 44.7s\n",
      "753:\tlearn: 0.2816665\ttotal: 2m 16s\tremaining: 44.5s\n",
      "754:\tlearn: 0.2816479\ttotal: 2m 16s\tremaining: 44.3s\n",
      "755:\tlearn: 0.2816326\ttotal: 2m 16s\tremaining: 44.1s\n",
      "756:\tlearn: 0.2816224\ttotal: 2m 16s\tremaining: 44s\n",
      "757:\tlearn: 0.2816085\ttotal: 2m 17s\tremaining: 43.8s\n",
      "758:\tlearn: 0.2815645\ttotal: 2m 17s\tremaining: 43.6s\n",
      "759:\tlearn: 0.2815423\ttotal: 2m 17s\tremaining: 43.4s\n",
      "760:\tlearn: 0.2815190\ttotal: 2m 17s\tremaining: 43.2s\n",
      "761:\tlearn: 0.2814931\ttotal: 2m 17s\tremaining: 43s\n",
      "762:\tlearn: 0.2814746\ttotal: 2m 17s\tremaining: 42.8s\n",
      "763:\tlearn: 0.2814600\ttotal: 2m 18s\tremaining: 42.7s\n",
      "764:\tlearn: 0.2814330\ttotal: 2m 18s\tremaining: 42.5s\n",
      "765:\tlearn: 0.2814024\ttotal: 2m 18s\tremaining: 42.3s\n",
      "766:\tlearn: 0.2813833\ttotal: 2m 18s\tremaining: 42.1s\n",
      "767:\tlearn: 0.2813713\ttotal: 2m 18s\tremaining: 41.9s\n",
      "768:\tlearn: 0.2813526\ttotal: 2m 18s\tremaining: 41.7s\n",
      "769:\tlearn: 0.2813409\ttotal: 2m 19s\tremaining: 41.6s\n",
      "770:\tlearn: 0.2813318\ttotal: 2m 19s\tremaining: 41.4s\n",
      "771:\tlearn: 0.2813059\ttotal: 2m 19s\tremaining: 41.2s\n",
      "772:\tlearn: 0.2812872\ttotal: 2m 19s\tremaining: 41s\n",
      "773:\tlearn: 0.2812760\ttotal: 2m 19s\tremaining: 40.8s\n",
      "774:\tlearn: 0.2812569\ttotal: 2m 19s\tremaining: 40.6s\n",
      "775:\tlearn: 0.2812365\ttotal: 2m 20s\tremaining: 40.4s\n",
      "776:\tlearn: 0.2812183\ttotal: 2m 20s\tremaining: 40.3s\n",
      "777:\tlearn: 0.2811888\ttotal: 2m 20s\tremaining: 40.1s\n",
      "778:\tlearn: 0.2811656\ttotal: 2m 20s\tremaining: 39.9s\n",
      "779:\tlearn: 0.2811509\ttotal: 2m 20s\tremaining: 39.7s\n"
     ]
    },
    {
     "name": "stdout",
     "output_type": "stream",
     "text": [
      "780:\tlearn: 0.2811341\ttotal: 2m 21s\tremaining: 39.5s\n",
      "781:\tlearn: 0.2811197\ttotal: 2m 21s\tremaining: 39.4s\n",
      "782:\tlearn: 0.2810986\ttotal: 2m 21s\tremaining: 39.2s\n",
      "783:\tlearn: 0.2810838\ttotal: 2m 21s\tremaining: 39s\n",
      "784:\tlearn: 0.2810667\ttotal: 2m 21s\tremaining: 38.8s\n",
      "785:\tlearn: 0.2810510\ttotal: 2m 21s\tremaining: 38.6s\n",
      "786:\tlearn: 0.2810292\ttotal: 2m 22s\tremaining: 38.5s\n",
      "787:\tlearn: 0.2810070\ttotal: 2m 22s\tremaining: 38.3s\n",
      "788:\tlearn: 0.2809861\ttotal: 2m 22s\tremaining: 38.1s\n",
      "789:\tlearn: 0.2809691\ttotal: 2m 22s\tremaining: 37.9s\n",
      "790:\tlearn: 0.2809566\ttotal: 2m 22s\tremaining: 37.7s\n",
      "791:\tlearn: 0.2809302\ttotal: 2m 23s\tremaining: 37.6s\n",
      "792:\tlearn: 0.2809195\ttotal: 2m 23s\tremaining: 37.4s\n",
      "793:\tlearn: 0.2809026\ttotal: 2m 23s\tremaining: 37.2s\n",
      "794:\tlearn: 0.2808807\ttotal: 2m 23s\tremaining: 37s\n",
      "795:\tlearn: 0.2808585\ttotal: 2m 23s\tremaining: 36.9s\n",
      "796:\tlearn: 0.2808386\ttotal: 2m 23s\tremaining: 36.7s\n",
      "797:\tlearn: 0.2808222\ttotal: 2m 24s\tremaining: 36.5s\n",
      "798:\tlearn: 0.2808076\ttotal: 2m 24s\tremaining: 36.3s\n",
      "799:\tlearn: 0.2807852\ttotal: 2m 24s\tremaining: 36.1s\n",
      "800:\tlearn: 0.2807694\ttotal: 2m 24s\tremaining: 36s\n",
      "801:\tlearn: 0.2807517\ttotal: 2m 24s\tremaining: 35.8s\n",
      "802:\tlearn: 0.2807366\ttotal: 2m 25s\tremaining: 35.6s\n",
      "803:\tlearn: 0.2807263\ttotal: 2m 25s\tremaining: 35.4s\n",
      "804:\tlearn: 0.2807075\ttotal: 2m 25s\tremaining: 35.2s\n",
      "805:\tlearn: 0.2806825\ttotal: 2m 25s\tremaining: 35s\n",
      "806:\tlearn: 0.2806635\ttotal: 2m 25s\tremaining: 34.9s\n",
      "807:\tlearn: 0.2806430\ttotal: 2m 25s\tremaining: 34.7s\n",
      "808:\tlearn: 0.2806225\ttotal: 2m 26s\tremaining: 34.5s\n",
      "809:\tlearn: 0.2806002\ttotal: 2m 26s\tremaining: 34.3s\n",
      "810:\tlearn: 0.2805809\ttotal: 2m 26s\tremaining: 34.1s\n",
      "811:\tlearn: 0.2805664\ttotal: 2m 26s\tremaining: 34s\n",
      "812:\tlearn: 0.2805562\ttotal: 2m 26s\tremaining: 33.8s\n",
      "813:\tlearn: 0.2805344\ttotal: 2m 26s\tremaining: 33.6s\n",
      "814:\tlearn: 0.2805147\ttotal: 2m 27s\tremaining: 33.4s\n",
      "815:\tlearn: 0.2804840\ttotal: 2m 27s\tremaining: 33.2s\n",
      "816:\tlearn: 0.2804739\ttotal: 2m 27s\tremaining: 33s\n",
      "817:\tlearn: 0.2804617\ttotal: 2m 27s\tremaining: 32.9s\n",
      "818:\tlearn: 0.2804470\ttotal: 2m 27s\tremaining: 32.7s\n",
      "819:\tlearn: 0.2804235\ttotal: 2m 28s\tremaining: 32.5s\n",
      "820:\tlearn: 0.2804054\ttotal: 2m 28s\tremaining: 32.3s\n",
      "821:\tlearn: 0.2803875\ttotal: 2m 28s\tremaining: 32.1s\n",
      "822:\tlearn: 0.2803713\ttotal: 2m 28s\tremaining: 32s\n",
      "823:\tlearn: 0.2803542\ttotal: 2m 28s\tremaining: 31.8s\n",
      "824:\tlearn: 0.2803320\ttotal: 2m 28s\tremaining: 31.6s\n",
      "825:\tlearn: 0.2803177\ttotal: 2m 29s\tremaining: 31.4s\n",
      "826:\tlearn: 0.2802994\ttotal: 2m 29s\tremaining: 31.2s\n",
      "827:\tlearn: 0.2802853\ttotal: 2m 29s\tremaining: 31.1s\n",
      "828:\tlearn: 0.2802606\ttotal: 2m 29s\tremaining: 30.9s\n",
      "829:\tlearn: 0.2802351\ttotal: 2m 29s\tremaining: 30.7s\n",
      "830:\tlearn: 0.2802163\ttotal: 2m 30s\tremaining: 30.5s\n",
      "831:\tlearn: 0.2802038\ttotal: 2m 30s\tremaining: 30.3s\n",
      "832:\tlearn: 0.2801828\ttotal: 2m 30s\tremaining: 30.1s\n",
      "833:\tlearn: 0.2801593\ttotal: 2m 30s\tremaining: 30s\n",
      "834:\tlearn: 0.2801459\ttotal: 2m 30s\tremaining: 29.8s\n",
      "835:\tlearn: 0.2801341\ttotal: 2m 30s\tremaining: 29.6s\n",
      "836:\tlearn: 0.2801104\ttotal: 2m 31s\tremaining: 29.4s\n",
      "837:\tlearn: 0.2800921\ttotal: 2m 31s\tremaining: 29.2s\n",
      "838:\tlearn: 0.2800673\ttotal: 2m 31s\tremaining: 29.1s\n",
      "839:\tlearn: 0.2800456\ttotal: 2m 31s\tremaining: 28.9s\n",
      "840:\tlearn: 0.2800331\ttotal: 2m 31s\tremaining: 28.7s\n",
      "841:\tlearn: 0.2800181\ttotal: 2m 32s\tremaining: 28.5s\n",
      "842:\tlearn: 0.2800005\ttotal: 2m 32s\tremaining: 28.4s\n",
      "843:\tlearn: 0.2799860\ttotal: 2m 32s\tremaining: 28.2s\n",
      "844:\tlearn: 0.2799677\ttotal: 2m 32s\tremaining: 28s\n",
      "845:\tlearn: 0.2799455\ttotal: 2m 32s\tremaining: 27.8s\n",
      "846:\tlearn: 0.2799264\ttotal: 2m 32s\tremaining: 27.6s\n",
      "847:\tlearn: 0.2799090\ttotal: 2m 33s\tremaining: 27.5s\n",
      "848:\tlearn: 0.2798862\ttotal: 2m 33s\tremaining: 27.3s\n",
      "849:\tlearn: 0.2798653\ttotal: 2m 33s\tremaining: 27.1s\n",
      "850:\tlearn: 0.2798439\ttotal: 2m 33s\tremaining: 26.9s\n",
      "851:\tlearn: 0.2798268\ttotal: 2m 33s\tremaining: 26.7s\n",
      "852:\tlearn: 0.2798093\ttotal: 2m 34s\tremaining: 26.6s\n",
      "853:\tlearn: 0.2797917\ttotal: 2m 34s\tremaining: 26.4s\n",
      "854:\tlearn: 0.2797485\ttotal: 2m 34s\tremaining: 26.2s\n",
      "855:\tlearn: 0.2797288\ttotal: 2m 34s\tremaining: 26s\n",
      "856:\tlearn: 0.2797116\ttotal: 2m 34s\tremaining: 25.8s\n",
      "857:\tlearn: 0.2796951\ttotal: 2m 35s\tremaining: 25.7s\n",
      "858:\tlearn: 0.2796782\ttotal: 2m 35s\tremaining: 25.5s\n",
      "859:\tlearn: 0.2796614\ttotal: 2m 35s\tremaining: 25.3s\n",
      "860:\tlearn: 0.2796183\ttotal: 2m 35s\tremaining: 25.1s\n",
      "861:\tlearn: 0.2795999\ttotal: 2m 35s\tremaining: 24.9s\n",
      "862:\tlearn: 0.2795830\ttotal: 2m 35s\tremaining: 24.8s\n",
      "863:\tlearn: 0.2795764\ttotal: 2m 36s\tremaining: 24.6s\n",
      "864:\tlearn: 0.2795573\ttotal: 2m 36s\tremaining: 24.4s\n",
      "865:\tlearn: 0.2795336\ttotal: 2m 36s\tremaining: 24.2s\n",
      "866:\tlearn: 0.2795165\ttotal: 2m 36s\tremaining: 24s\n",
      "867:\tlearn: 0.2795003\ttotal: 2m 36s\tremaining: 23.9s\n",
      "868:\tlearn: 0.2794792\ttotal: 2m 37s\tremaining: 23.7s\n",
      "869:\tlearn: 0.2794639\ttotal: 2m 37s\tremaining: 23.5s\n",
      "870:\tlearn: 0.2794495\ttotal: 2m 37s\tremaining: 23.3s\n",
      "871:\tlearn: 0.2794359\ttotal: 2m 37s\tremaining: 23.1s\n",
      "872:\tlearn: 0.2794245\ttotal: 2m 37s\tremaining: 23s\n",
      "873:\tlearn: 0.2794085\ttotal: 2m 38s\tremaining: 22.8s\n",
      "874:\tlearn: 0.2793936\ttotal: 2m 38s\tremaining: 22.6s\n",
      "875:\tlearn: 0.2793842\ttotal: 2m 38s\tremaining: 22.4s\n",
      "876:\tlearn: 0.2793665\ttotal: 2m 38s\tremaining: 22.2s\n",
      "877:\tlearn: 0.2793481\ttotal: 2m 38s\tremaining: 22.1s\n",
      "878:\tlearn: 0.2793277\ttotal: 2m 38s\tremaining: 21.9s\n",
      "879:\tlearn: 0.2793136\ttotal: 2m 39s\tremaining: 21.7s\n",
      "880:\tlearn: 0.2792942\ttotal: 2m 39s\tremaining: 21.5s\n",
      "881:\tlearn: 0.2792816\ttotal: 2m 39s\tremaining: 21.3s\n",
      "882:\tlearn: 0.2792642\ttotal: 2m 39s\tremaining: 21.2s\n",
      "883:\tlearn: 0.2792232\ttotal: 2m 39s\tremaining: 21s\n",
      "884:\tlearn: 0.2792093\ttotal: 2m 40s\tremaining: 20.8s\n",
      "885:\tlearn: 0.2791943\ttotal: 2m 40s\tremaining: 20.6s\n",
      "886:\tlearn: 0.2791751\ttotal: 2m 40s\tremaining: 20.4s\n",
      "887:\tlearn: 0.2791607\ttotal: 2m 40s\tremaining: 20.3s\n",
      "888:\tlearn: 0.2791449\ttotal: 2m 40s\tremaining: 20.1s\n",
      "889:\tlearn: 0.2791409\ttotal: 2m 40s\tremaining: 19.9s\n",
      "890:\tlearn: 0.2791278\ttotal: 2m 41s\tremaining: 19.7s\n",
      "891:\tlearn: 0.2791113\ttotal: 2m 41s\tremaining: 19.5s\n",
      "892:\tlearn: 0.2790906\ttotal: 2m 41s\tremaining: 19.4s\n",
      "893:\tlearn: 0.2790729\ttotal: 2m 41s\tremaining: 19.2s\n",
      "894:\tlearn: 0.2790561\ttotal: 2m 41s\tremaining: 19s\n",
      "895:\tlearn: 0.2790390\ttotal: 2m 42s\tremaining: 18.8s\n",
      "896:\tlearn: 0.2790091\ttotal: 2m 42s\tremaining: 18.6s\n",
      "897:\tlearn: 0.2789873\ttotal: 2m 42s\tremaining: 18.5s\n",
      "898:\tlearn: 0.2789767\ttotal: 2m 42s\tremaining: 18.3s\n",
      "899:\tlearn: 0.2789586\ttotal: 2m 42s\tremaining: 18.1s\n",
      "900:\tlearn: 0.2789465\ttotal: 2m 42s\tremaining: 17.9s\n",
      "901:\tlearn: 0.2789311\ttotal: 2m 43s\tremaining: 17.7s\n",
      "902:\tlearn: 0.2789204\ttotal: 2m 43s\tremaining: 17.5s\n",
      "903:\tlearn: 0.2789057\ttotal: 2m 43s\tremaining: 17.4s\n",
      "904:\tlearn: 0.2788914\ttotal: 2m 43s\tremaining: 17.2s\n",
      "905:\tlearn: 0.2788787\ttotal: 2m 43s\tremaining: 17s\n",
      "906:\tlearn: 0.2788648\ttotal: 2m 43s\tremaining: 16.8s\n",
      "907:\tlearn: 0.2788500\ttotal: 2m 44s\tremaining: 16.6s\n",
      "908:\tlearn: 0.2788328\ttotal: 2m 44s\tremaining: 16.4s\n",
      "909:\tlearn: 0.2788158\ttotal: 2m 44s\tremaining: 16.3s\n",
      "910:\tlearn: 0.2788019\ttotal: 2m 44s\tremaining: 16.1s\n",
      "911:\tlearn: 0.2787890\ttotal: 2m 44s\tremaining: 15.9s\n",
      "912:\tlearn: 0.2787717\ttotal: 2m 45s\tremaining: 15.7s\n",
      "913:\tlearn: 0.2787579\ttotal: 2m 45s\tremaining: 15.5s\n",
      "914:\tlearn: 0.2787456\ttotal: 2m 45s\tremaining: 15.4s\n",
      "915:\tlearn: 0.2787410\ttotal: 2m 45s\tremaining: 15.2s\n",
      "916:\tlearn: 0.2787247\ttotal: 2m 45s\tremaining: 15s\n",
      "917:\tlearn: 0.2786976\ttotal: 2m 45s\tremaining: 14.8s\n",
      "918:\tlearn: 0.2786720\ttotal: 2m 46s\tremaining: 14.6s\n",
      "919:\tlearn: 0.2786545\ttotal: 2m 46s\tremaining: 14.5s\n",
      "920:\tlearn: 0.2786450\ttotal: 2m 46s\tremaining: 14.3s\n",
      "921:\tlearn: 0.2786297\ttotal: 2m 46s\tremaining: 14.1s\n",
      "922:\tlearn: 0.2786189\ttotal: 2m 46s\tremaining: 13.9s\n",
      "923:\tlearn: 0.2786026\ttotal: 2m 46s\tremaining: 13.7s\n",
      "924:\tlearn: 0.2785819\ttotal: 2m 47s\tremaining: 13.6s\n",
      "925:\tlearn: 0.2785699\ttotal: 2m 47s\tremaining: 13.4s\n",
      "926:\tlearn: 0.2785462\ttotal: 2m 47s\tremaining: 13.2s\n",
      "927:\tlearn: 0.2785329\ttotal: 2m 47s\tremaining: 13s\n",
      "928:\tlearn: 0.2785170\ttotal: 2m 47s\tremaining: 12.8s\n",
      "929:\tlearn: 0.2785035\ttotal: 2m 47s\tremaining: 12.6s\n",
      "930:\tlearn: 0.2784879\ttotal: 2m 48s\tremaining: 12.5s\n",
      "931:\tlearn: 0.2784767\ttotal: 2m 48s\tremaining: 12.3s\n",
      "932:\tlearn: 0.2784643\ttotal: 2m 48s\tremaining: 12.1s\n",
      "933:\tlearn: 0.2784475\ttotal: 2m 48s\tremaining: 11.9s\n",
      "934:\tlearn: 0.2784342\ttotal: 2m 48s\tremaining: 11.7s\n",
      "935:\tlearn: 0.2784171\ttotal: 2m 49s\tremaining: 11.6s\n"
     ]
    },
    {
     "name": "stdout",
     "output_type": "stream",
     "text": [
      "936:\tlearn: 0.2783995\ttotal: 2m 49s\tremaining: 11.4s\n",
      "937:\tlearn: 0.2783925\ttotal: 2m 49s\tremaining: 11.2s\n",
      "938:\tlearn: 0.2783667\ttotal: 2m 49s\tremaining: 11s\n",
      "939:\tlearn: 0.2783515\ttotal: 2m 49s\tremaining: 10.8s\n",
      "940:\tlearn: 0.2783388\ttotal: 2m 49s\tremaining: 10.7s\n",
      "941:\tlearn: 0.2783215\ttotal: 2m 50s\tremaining: 10.5s\n",
      "942:\tlearn: 0.2783039\ttotal: 2m 50s\tremaining: 10.3s\n",
      "943:\tlearn: 0.2782816\ttotal: 2m 50s\tremaining: 10.1s\n",
      "944:\tlearn: 0.2782640\ttotal: 2m 50s\tremaining: 9.94s\n",
      "945:\tlearn: 0.2782487\ttotal: 2m 50s\tremaining: 9.75s\n",
      "946:\tlearn: 0.2782180\ttotal: 2m 51s\tremaining: 9.57s\n",
      "947:\tlearn: 0.2782064\ttotal: 2m 51s\tremaining: 9.39s\n",
      "948:\tlearn: 0.2781907\ttotal: 2m 51s\tremaining: 9.21s\n",
      "949:\tlearn: 0.2781706\ttotal: 2m 51s\tremaining: 9.03s\n",
      "950:\tlearn: 0.2781546\ttotal: 2m 51s\tremaining: 8.85s\n",
      "951:\tlearn: 0.2781402\ttotal: 2m 52s\tremaining: 8.68s\n",
      "952:\tlearn: 0.2781232\ttotal: 2m 52s\tremaining: 8.5s\n",
      "953:\tlearn: 0.2781106\ttotal: 2m 52s\tremaining: 8.32s\n",
      "954:\tlearn: 0.2780932\ttotal: 2m 52s\tremaining: 8.13s\n",
      "955:\tlearn: 0.2780683\ttotal: 2m 52s\tremaining: 7.95s\n",
      "956:\tlearn: 0.2780488\ttotal: 2m 52s\tremaining: 7.77s\n",
      "957:\tlearn: 0.2780392\ttotal: 2m 53s\tremaining: 7.59s\n",
      "958:\tlearn: 0.2780178\ttotal: 2m 53s\tremaining: 7.41s\n",
      "959:\tlearn: 0.2780095\ttotal: 2m 53s\tremaining: 7.23s\n",
      "960:\tlearn: 0.2779847\ttotal: 2m 53s\tremaining: 7.05s\n",
      "961:\tlearn: 0.2779685\ttotal: 2m 53s\tremaining: 6.86s\n",
      "962:\tlearn: 0.2779516\ttotal: 2m 53s\tremaining: 6.68s\n",
      "963:\tlearn: 0.2779380\ttotal: 2m 54s\tremaining: 6.5s\n",
      "964:\tlearn: 0.2779216\ttotal: 2m 54s\tremaining: 6.32s\n",
      "965:\tlearn: 0.2779089\ttotal: 2m 54s\tremaining: 6.14s\n",
      "966:\tlearn: 0.2778912\ttotal: 2m 54s\tremaining: 5.96s\n",
      "967:\tlearn: 0.2778676\ttotal: 2m 54s\tremaining: 5.78s\n",
      "968:\tlearn: 0.2778415\ttotal: 2m 54s\tremaining: 5.6s\n",
      "969:\tlearn: 0.2778247\ttotal: 2m 55s\tremaining: 5.42s\n",
      "970:\tlearn: 0.2778096\ttotal: 2m 55s\tremaining: 5.24s\n",
      "971:\tlearn: 0.2777910\ttotal: 2m 55s\tremaining: 5.05s\n",
      "972:\tlearn: 0.2777700\ttotal: 2m 55s\tremaining: 4.88s\n",
      "973:\tlearn: 0.2777546\ttotal: 2m 55s\tremaining: 4.69s\n",
      "974:\tlearn: 0.2777327\ttotal: 2m 56s\tremaining: 4.51s\n",
      "975:\tlearn: 0.2777205\ttotal: 2m 56s\tremaining: 4.33s\n",
      "976:\tlearn: 0.2777097\ttotal: 2m 56s\tremaining: 4.16s\n",
      "977:\tlearn: 0.2776987\ttotal: 2m 56s\tremaining: 3.97s\n",
      "978:\tlearn: 0.2776730\ttotal: 2m 56s\tremaining: 3.79s\n",
      "979:\tlearn: 0.2776600\ttotal: 2m 57s\tremaining: 3.61s\n",
      "980:\tlearn: 0.2776478\ttotal: 2m 57s\tremaining: 3.43s\n",
      "981:\tlearn: 0.2776306\ttotal: 2m 57s\tremaining: 3.25s\n",
      "982:\tlearn: 0.2776207\ttotal: 2m 57s\tremaining: 3.07s\n",
      "983:\tlearn: 0.2775966\ttotal: 2m 57s\tremaining: 2.89s\n",
      "984:\tlearn: 0.2775727\ttotal: 2m 58s\tremaining: 2.71s\n",
      "985:\tlearn: 0.2775530\ttotal: 2m 58s\tremaining: 2.53s\n",
      "986:\tlearn: 0.2775358\ttotal: 2m 58s\tremaining: 2.35s\n",
      "987:\tlearn: 0.2775178\ttotal: 2m 58s\tremaining: 2.17s\n",
      "988:\tlearn: 0.2774998\ttotal: 2m 58s\tremaining: 1.99s\n",
      "989:\tlearn: 0.2774792\ttotal: 2m 58s\tremaining: 1.81s\n",
      "990:\tlearn: 0.2774710\ttotal: 2m 59s\tremaining: 1.63s\n",
      "991:\tlearn: 0.2774566\ttotal: 2m 59s\tremaining: 1.45s\n",
      "992:\tlearn: 0.2774391\ttotal: 2m 59s\tremaining: 1.27s\n",
      "993:\tlearn: 0.2774239\ttotal: 2m 59s\tremaining: 1.08s\n",
      "994:\tlearn: 0.2774032\ttotal: 2m 59s\tremaining: 904ms\n",
      "995:\tlearn: 0.2773852\ttotal: 3m\tremaining: 723ms\n",
      "996:\tlearn: 0.2773600\ttotal: 3m\tremaining: 543ms\n",
      "997:\tlearn: 0.2773420\ttotal: 3m\tremaining: 362ms\n",
      "998:\tlearn: 0.2773243\ttotal: 3m\tremaining: 181ms\n",
      "999:\tlearn: 0.2773045\ttotal: 3m\tremaining: 0us\n"
     ]
    },
    {
     "data": {
      "image/png": "[encoded data removed]",
      "text/plain": [
       "<Figure size 576x684 with 1 Axes>"
      ]
     },
     "metadata": {
      "needs_background": "light"
     },
     "output_type": "display_data"
    }
   ],
   "source": [
    "import shap\n",
    "\n",
    "# DF, based on which importance is checked\n",
    "X_importance = X_test\n",
    "\n",
    "# Explain model predictions using shap library:\n",
    "model = CatBoostClassifier(random_state=42).fit(X_train, y_train)\n",
    "explainer = shap.TreeExplainer(model)\n",
    "shap_values = explainer.shap_values(X_importance)\n",
    "# Plot summary_plot as barplot:\n",
    "shap.summary_plot(shap_values, X_importance, plot_type='bar')"
   ]
  },
  {
   "cell_type": "code",
   "execution_count": 132,
   "metadata": {
    "id": "lMVBpp8zew_I",
    "scrolled": false
   },
   "outputs": [
    {
     "data": {
      "text/html": [
       "<div>\n",
       "<style scoped>\n",
       "    .dataframe tbody tr th:only-of-type {\n",
       "        vertical-align: middle;\n",
       "    }\n",
       "\n",
       "    .dataframe tbody tr th {\n",
       "        vertical-align: top;\n",
       "    }\n",
       "\n",
       "    .dataframe thead th {\n",
       "        text-align: right;\n",
       "    }\n",
       "</style>\n",
       "<table border=\"1\" class=\"dataframe\">\n",
       "  <thead>\n",
       "    <tr style=\"text-align: right;\">\n",
       "      <th></th>\n",
       "      <th>column_name</th>\n",
       "      <th>shap_importance</th>\n",
       "    </tr>\n",
       "  </thead>\n",
       "  <tbody>\n",
       "    <tr>\n",
       "      <th>11</th>\n",
       "      <td>w1</td>\n",
       "      <td>0.622808</td>\n",
       "    </tr>\n",
       "    <tr>\n",
       "      <th>14</th>\n",
       "      <td>w3</td>\n",
       "      <td>0.412398</td>\n",
       "    </tr>\n",
       "    <tr>\n",
       "      <th>25</th>\n",
       "      <td>w2</td>\n",
       "      <td>0.401088</td>\n",
       "    </tr>\n",
       "    <tr>\n",
       "      <th>23</th>\n",
       "      <td>w4</td>\n",
       "      <td>0.374056</td>\n",
       "    </tr>\n",
       "    <tr>\n",
       "      <th>16</th>\n",
       "      <td>w5</td>\n",
       "      <td>0.318697</td>\n",
       "    </tr>\n",
       "    <tr>\n",
       "      <th>...</th>\n",
       "      <td>...</td>\n",
       "      <td>...</td>\n",
       "    </tr>\n",
       "    <tr>\n",
       "      <th>314</th>\n",
       "      <td>KMeans_15</td>\n",
       "      <td>0.0</td>\n",
       "    </tr>\n",
       "    <tr>\n",
       "      <th>59</th>\n",
       "      <td>SQ2_1939</td>\n",
       "      <td>0.0</td>\n",
       "    </tr>\n",
       "    <tr>\n",
       "      <th>60</th>\n",
       "      <td>SQ2_1940</td>\n",
       "      <td>0.0</td>\n",
       "    </tr>\n",
       "    <tr>\n",
       "      <th>61</th>\n",
       "      <td>SQ2_1941</td>\n",
       "      <td>0.0</td>\n",
       "    </tr>\n",
       "    <tr>\n",
       "      <th>216</th>\n",
       "      <td>A1_8</td>\n",
       "      <td>0.0</td>\n",
       "    </tr>\n",
       "  </tbody>\n",
       "</table>\n",
       "<p>337 rows × 2 columns</p>\n",
       "</div>"
      ],
      "text/plain": [
       "    column_name shap_importance\n",
       "11           w1        0.622808\n",
       "14           w3        0.412398\n",
       "25           w2        0.401088\n",
       "23           w4        0.374056\n",
       "16           w5        0.318697\n",
       "..          ...             ...\n",
       "314   KMeans_15             0.0\n",
       "59     SQ2_1939             0.0\n",
       "60     SQ2_1940             0.0\n",
       "61     SQ2_1941             0.0\n",
       "216        A1_8             0.0\n",
       "\n",
       "[337 rows x 2 columns]"
      ]
     },
     "execution_count": 132,
     "metadata": {},
     "output_type": "execute_result"
    }
   ],
   "source": [
    "shap_sum = np.abs(shap_values).mean(axis=0)\n",
    "importance_df = pd.DataFrame([X_importance.columns.tolist(), shap_sum.tolist()]).T\n",
    "importance_df.columns = ['column_name', 'shap_importance']\n",
    "importance_df = importance_df.sort_values('shap_importance', ascending=False)\n",
    "importance_df"
   ]
  },
  {
   "cell_type": "code",
   "execution_count": 133,
   "metadata": {
    "id": "kVeWzOcpmYE2"
   },
   "outputs": [
    {
     "data": {
      "text/plain": [
       "((1170545, 321), (1355517, 321))"
      ]
     },
     "execution_count": 133,
     "metadata": {},
     "output_type": "execute_result"
    }
   ],
   "source": [
    "features_selected = importance_df.query('shap_importance > 0').column_name.tolist()\n",
    "X_train = X_train[features_selected]\n",
    "X_test = X_test[features_selected]\n",
    "#X_valid = X_valid[features_selected]\n",
    "X_train.shape, X_test.shape#, X_valid.shape"
   ]
  },
  {
   "cell_type": "code",
   "execution_count": 134,
   "metadata": {
    "id": "cxRR8WbRBE_E"
   },
   "outputs": [
    {
     "data": {
      "text/plain": [
       "2569"
      ]
     },
     "execution_count": 134,
     "metadata": {},
     "output_type": "execute_result"
    }
   ],
   "source": [
    "len(set(test.userID.unique()) - set(before_train.userID.unique()))\n",
    "# 비포 트레인에 없는 ID => 총 3천개\n",
    "# 트레인에 없는 ID => 총 4백개\n",
    "# tr_test에 없는 ID => 총 1700개"
   ]
  },
  {
   "cell_type": "markdown",
   "metadata": {
    "id": "nSokowSIBSI5"
   },
   "source": [
    "# 6. Modeling"
   ]
  },
  {
   "cell_type": "code",
   "execution_count": 135,
   "metadata": {
    "id": "X9KHo5-Ze9VG"
   },
   "outputs": [],
   "source": [
    "# Set Dataset\n",
    "train_X, valid_X, train_y, valid_y = train_test_split(X_train, y_train, test_size=0.3, random_state=42)"
   ]
  },
  {
   "cell_type": "code",
   "execution_count": 136,
   "metadata": {
    "colab": {
     "base_uri": "https://localhost:8080/"
    },
    "id": "Sa6Yv1ZDew_I",
    "outputId": "0a52bb08-0f81-401a-9355-a267e0918953"
   },
   "outputs": [
    {
     "data": {
      "text/plain": [
       "((819381, 321), (351164, 321), (819381,), (351164,))"
      ]
     },
     "execution_count": 136,
     "metadata": {},
     "output_type": "execute_result"
    }
   ],
   "source": [
    "train_X.shape, valid_X.shape, train_y.shape, valid_y.shape"
   ]
  },
  {
   "cell_type": "code",
   "execution_count": 137,
   "metadata": {
    "colab": {
     "base_uri": "https://localhost:8080/"
    },
    "id": "E-PDMya-ew_J",
    "outputId": "a47d18aa-486c-44dd-f242-ce433e77abb0"
   },
   "outputs": [
    {
     "data": {
      "text/plain": [
       "4888"
      ]
     },
     "execution_count": 137,
     "metadata": {},
     "output_type": "execute_result"
    }
   ],
   "source": [
    "gc.collect()"
   ]
  },
  {
   "cell_type": "markdown",
   "metadata": {
    "id": "QPs9g5HYew_J"
   },
   "source": [
    "### CatBoost"
   ]
  },
  {
   "cell_type": "code",
   "execution_count": 138,
   "metadata": {
    "id": "ROOFUSllew_J"
   },
   "outputs": [],
   "source": [
    "from sklearn.metrics import roc_auc_score\n",
    "from sklearn.model_selection import StratifiedKFold"
   ]
  },
  {
   "cell_type": "code",
   "execution_count": 139,
   "metadata": {
    "colab": {
     "base_uri": "https://localhost:8080/"
    },
    "id": "5dG25TAsew_J",
    "outputId": "2734256f-be5f-49ae-ce08-44cbd537b25f",
    "scrolled": true
   },
   "outputs": [
    {
     "name": "stdout",
     "output_type": "stream",
     "text": [
      "Learning rate set to 0.180714\n",
      "0:\tlearn: 0.5584147\ttotal: 117ms\tremaining: 1m 57s\n",
      "1:\tlearn: 0.4768240\ttotal: 213ms\tremaining: 1m 46s\n",
      "2:\tlearn: 0.4340972\ttotal: 323ms\tremaining: 1m 47s\n",
      "3:\tlearn: 0.4067200\ttotal: 420ms\tremaining: 1m 44s\n",
      "4:\tlearn: 0.3849648\ttotal: 518ms\tremaining: 1m 43s\n",
      "5:\tlearn: 0.3713395\ttotal: 615ms\tremaining: 1m 41s\n",
      "6:\tlearn: 0.3618391\ttotal: 714ms\tremaining: 1m 41s\n",
      "7:\tlearn: 0.3544419\ttotal: 833ms\tremaining: 1m 43s\n",
      "8:\tlearn: 0.3500831\ttotal: 945ms\tremaining: 1m 44s\n",
      "9:\tlearn: 0.3462845\ttotal: 1.05s\tremaining: 1m 43s\n",
      "10:\tlearn: 0.3435001\ttotal: 1.15s\tremaining: 1m 43s\n",
      "11:\tlearn: 0.3411587\ttotal: 1.25s\tremaining: 1m 42s\n",
      "12:\tlearn: 0.3389358\ttotal: 1.35s\tremaining: 1m 42s\n",
      "13:\tlearn: 0.3371973\ttotal: 1.45s\tremaining: 1m 42s\n",
      "14:\tlearn: 0.3354791\ttotal: 1.55s\tremaining: 1m 41s\n",
      "15:\tlearn: 0.3344139\ttotal: 1.66s\tremaining: 1m 41s\n",
      "16:\tlearn: 0.3331903\ttotal: 1.75s\tremaining: 1m 41s\n",
      "17:\tlearn: 0.3323618\ttotal: 1.88s\tremaining: 1m 42s\n",
      "18:\tlearn: 0.3315292\ttotal: 2s\tremaining: 1m 43s\n",
      "19:\tlearn: 0.3309020\ttotal: 2.11s\tremaining: 1m 43s\n",
      "20:\tlearn: 0.3300236\ttotal: 2.24s\tremaining: 1m 44s\n",
      "21:\tlearn: 0.3292118\ttotal: 2.34s\tremaining: 1m 43s\n",
      "22:\tlearn: 0.3284981\ttotal: 2.44s\tremaining: 1m 43s\n",
      "23:\tlearn: 0.3278629\ttotal: 2.54s\tremaining: 1m 43s\n",
      "24:\tlearn: 0.3270495\ttotal: 2.64s\tremaining: 1m 43s\n",
      "25:\tlearn: 0.3261229\ttotal: 2.75s\tremaining: 1m 42s\n",
      "26:\tlearn: 0.3255001\ttotal: 2.87s\tremaining: 1m 43s\n",
      "27:\tlearn: 0.3248415\ttotal: 2.99s\tremaining: 1m 43s\n",
      "28:\tlearn: 0.3241510\ttotal: 3.09s\tremaining: 1m 43s\n",
      "29:\tlearn: 0.3235468\ttotal: 3.19s\tremaining: 1m 43s\n",
      "30:\tlearn: 0.3227947\ttotal: 3.32s\tremaining: 1m 43s\n",
      "31:\tlearn: 0.3225236\ttotal: 3.43s\tremaining: 1m 43s\n",
      "32:\tlearn: 0.3219966\ttotal: 3.54s\tremaining: 1m 43s\n",
      "33:\tlearn: 0.3217167\ttotal: 3.65s\tremaining: 1m 43s\n",
      "34:\tlearn: 0.3213867\ttotal: 3.75s\tremaining: 1m 43s\n",
      "35:\tlearn: 0.3209525\ttotal: 3.86s\tremaining: 1m 43s\n",
      "36:\tlearn: 0.3205814\ttotal: 3.98s\tremaining: 1m 43s\n",
      "37:\tlearn: 0.3201092\ttotal: 4.11s\tremaining: 1m 44s\n",
      "38:\tlearn: 0.3198612\ttotal: 4.22s\tremaining: 1m 44s\n",
      "39:\tlearn: 0.3196468\ttotal: 4.32s\tremaining: 1m 43s\n",
      "40:\tlearn: 0.3191396\ttotal: 4.43s\tremaining: 1m 43s\n",
      "41:\tlearn: 0.3189038\ttotal: 4.55s\tremaining: 1m 43s\n",
      "42:\tlearn: 0.3184055\ttotal: 4.68s\tremaining: 1m 44s\n",
      "43:\tlearn: 0.3179170\ttotal: 4.79s\tremaining: 1m 44s\n",
      "44:\tlearn: 0.3175725\ttotal: 4.91s\tremaining: 1m 44s\n",
      "45:\tlearn: 0.3172204\ttotal: 5.01s\tremaining: 1m 44s\n",
      "46:\tlearn: 0.3169001\ttotal: 5.12s\tremaining: 1m 43s\n",
      "47:\tlearn: 0.3165783\ttotal: 5.25s\tremaining: 1m 44s\n",
      "48:\tlearn: 0.3162809\ttotal: 5.36s\tremaining: 1m 44s\n",
      "49:\tlearn: 0.3159682\ttotal: 5.46s\tremaining: 1m 43s\n",
      "50:\tlearn: 0.3156797\ttotal: 5.56s\tremaining: 1m 43s\n",
      "51:\tlearn: 0.3153650\ttotal: 5.67s\tremaining: 1m 43s\n",
      "52:\tlearn: 0.3152064\ttotal: 5.78s\tremaining: 1m 43s\n",
      "53:\tlearn: 0.3149094\ttotal: 5.89s\tremaining: 1m 43s\n",
      "54:\tlearn: 0.3146146\ttotal: 6s\tremaining: 1m 43s\n",
      "55:\tlearn: 0.3143043\ttotal: 6.12s\tremaining: 1m 43s\n",
      "56:\tlearn: 0.3141688\ttotal: 6.27s\tremaining: 1m 43s\n",
      "57:\tlearn: 0.3139411\ttotal: 6.39s\tremaining: 1m 43s\n",
      "58:\tlearn: 0.3136481\ttotal: 6.52s\tremaining: 1m 44s\n",
      "59:\tlearn: 0.3135540\ttotal: 6.65s\tremaining: 1m 44s\n",
      "60:\tlearn: 0.3133362\ttotal: 6.79s\tremaining: 1m 44s\n",
      "61:\tlearn: 0.3129876\ttotal: 6.89s\tremaining: 1m 44s\n",
      "62:\tlearn: 0.3127792\ttotal: 7s\tremaining: 1m 44s\n",
      "63:\tlearn: 0.3125400\ttotal: 7.11s\tremaining: 1m 43s\n",
      "64:\tlearn: 0.3123637\ttotal: 7.22s\tremaining: 1m 43s\n",
      "65:\tlearn: 0.3121609\ttotal: 7.33s\tremaining: 1m 43s\n",
      "66:\tlearn: 0.3120838\ttotal: 7.42s\tremaining: 1m 43s\n",
      "67:\tlearn: 0.3118424\ttotal: 7.55s\tremaining: 1m 43s\n",
      "68:\tlearn: 0.3117386\ttotal: 7.64s\tremaining: 1m 43s\n",
      "69:\tlearn: 0.3114763\ttotal: 7.74s\tremaining: 1m 42s\n",
      "70:\tlearn: 0.3113428\ttotal: 7.86s\tremaining: 1m 42s\n",
      "71:\tlearn: 0.3111502\ttotal: 7.96s\tremaining: 1m 42s\n",
      "72:\tlearn: 0.3108716\ttotal: 8.06s\tremaining: 1m 42s\n",
      "73:\tlearn: 0.3106894\ttotal: 8.16s\tremaining: 1m 42s\n",
      "74:\tlearn: 0.3105623\ttotal: 8.26s\tremaining: 1m 41s\n",
      "75:\tlearn: 0.3103364\ttotal: 8.37s\tremaining: 1m 41s\n",
      "76:\tlearn: 0.3101103\ttotal: 8.49s\tremaining: 1m 41s\n",
      "77:\tlearn: 0.3099499\ttotal: 8.59s\tremaining: 1m 41s\n",
      "78:\tlearn: 0.3098485\ttotal: 8.69s\tremaining: 1m 41s\n",
      "79:\tlearn: 0.3097173\ttotal: 8.79s\tremaining: 1m 41s\n",
      "80:\tlearn: 0.3095778\ttotal: 8.89s\tremaining: 1m 40s\n",
      "81:\tlearn: 0.3094566\ttotal: 9s\tremaining: 1m 40s\n",
      "82:\tlearn: 0.3093149\ttotal: 9.1s\tremaining: 1m 40s\n",
      "83:\tlearn: 0.3092186\ttotal: 9.21s\tremaining: 1m 40s\n",
      "84:\tlearn: 0.3091282\ttotal: 9.33s\tremaining: 1m 40s\n",
      "85:\tlearn: 0.3089902\ttotal: 9.43s\tremaining: 1m 40s\n",
      "86:\tlearn: 0.3088900\ttotal: 9.52s\tremaining: 1m 39s\n",
      "87:\tlearn: 0.3087211\ttotal: 9.63s\tremaining: 1m 39s\n",
      "88:\tlearn: 0.3084752\ttotal: 9.72s\tremaining: 1m 39s\n",
      "89:\tlearn: 0.3083901\ttotal: 9.85s\tremaining: 1m 39s\n",
      "90:\tlearn: 0.3082375\ttotal: 9.95s\tremaining: 1m 39s\n",
      "91:\tlearn: 0.3079954\ttotal: 10.1s\tremaining: 1m 39s\n",
      "92:\tlearn: 0.3079167\ttotal: 10.2s\tremaining: 1m 39s\n",
      "93:\tlearn: 0.3077932\ttotal: 10.3s\tremaining: 1m 39s\n",
      "94:\tlearn: 0.3076388\ttotal: 10.4s\tremaining: 1m 38s\n",
      "95:\tlearn: 0.3074243\ttotal: 10.5s\tremaining: 1m 38s\n",
      "96:\tlearn: 0.3073309\ttotal: 10.6s\tremaining: 1m 38s\n",
      "97:\tlearn: 0.3070934\ttotal: 10.7s\tremaining: 1m 38s\n",
      "98:\tlearn: 0.3069907\ttotal: 10.8s\tremaining: 1m 38s\n",
      "99:\tlearn: 0.3068595\ttotal: 10.9s\tremaining: 1m 38s\n",
      "100:\tlearn: 0.3067300\ttotal: 11s\tremaining: 1m 38s\n",
      "101:\tlearn: 0.3066305\ttotal: 11.1s\tremaining: 1m 37s\n",
      "102:\tlearn: 0.3065232\ttotal: 11.2s\tremaining: 1m 37s\n",
      "103:\tlearn: 0.3063830\ttotal: 11.3s\tremaining: 1m 37s\n",
      "104:\tlearn: 0.3063053\ttotal: 11.5s\tremaining: 1m 37s\n",
      "105:\tlearn: 0.3061744\ttotal: 11.6s\tremaining: 1m 37s\n",
      "106:\tlearn: 0.3060841\ttotal: 11.7s\tremaining: 1m 37s\n",
      "107:\tlearn: 0.3059775\ttotal: 11.8s\tremaining: 1m 37s\n",
      "108:\tlearn: 0.3059153\ttotal: 11.9s\tremaining: 1m 37s\n",
      "109:\tlearn: 0.3058324\ttotal: 12s\tremaining: 1m 37s\n",
      "110:\tlearn: 0.3057478\ttotal: 12.1s\tremaining: 1m 36s\n",
      "111:\tlearn: 0.3056289\ttotal: 12.2s\tremaining: 1m 36s\n",
      "112:\tlearn: 0.3055236\ttotal: 12.3s\tremaining: 1m 36s\n",
      "113:\tlearn: 0.3054593\ttotal: 12.4s\tremaining: 1m 36s\n",
      "114:\tlearn: 0.3053786\ttotal: 12.5s\tremaining: 1m 36s\n",
      "115:\tlearn: 0.3052371\ttotal: 12.6s\tremaining: 1m 36s\n",
      "116:\tlearn: 0.3051544\ttotal: 12.7s\tremaining: 1m 36s\n",
      "117:\tlearn: 0.3050702\ttotal: 12.9s\tremaining: 1m 36s\n",
      "118:\tlearn: 0.3050248\ttotal: 13s\tremaining: 1m 36s\n",
      "119:\tlearn: 0.3048735\ttotal: 13.1s\tremaining: 1m 35s\n",
      "120:\tlearn: 0.3048282\ttotal: 13.2s\tremaining: 1m 35s\n",
      "121:\tlearn: 0.3047546\ttotal: 13.3s\tremaining: 1m 35s\n",
      "122:\tlearn: 0.3046910\ttotal: 13.4s\tremaining: 1m 35s\n",
      "123:\tlearn: 0.3046394\ttotal: 13.5s\tremaining: 1m 35s\n",
      "124:\tlearn: 0.3046007\ttotal: 13.6s\tremaining: 1m 35s\n",
      "125:\tlearn: 0.3045108\ttotal: 13.7s\tremaining: 1m 35s\n",
      "126:\tlearn: 0.3044176\ttotal: 13.8s\tremaining: 1m 35s\n",
      "127:\tlearn: 0.3043384\ttotal: 13.9s\tremaining: 1m 35s\n",
      "128:\tlearn: 0.3042941\ttotal: 14s\tremaining: 1m 34s\n",
      "129:\tlearn: 0.3041214\ttotal: 14.2s\tremaining: 1m 34s\n",
      "130:\tlearn: 0.3039278\ttotal: 14.3s\tremaining: 1m 34s\n",
      "131:\tlearn: 0.3038385\ttotal: 14.4s\tremaining: 1m 34s\n",
      "132:\tlearn: 0.3037637\ttotal: 14.5s\tremaining: 1m 34s\n",
      "133:\tlearn: 0.3036925\ttotal: 14.6s\tremaining: 1m 34s\n",
      "134:\tlearn: 0.3036086\ttotal: 14.7s\tremaining: 1m 34s\n",
      "135:\tlearn: 0.3035259\ttotal: 14.9s\tremaining: 1m 34s\n",
      "136:\tlearn: 0.3034222\ttotal: 15s\tremaining: 1m 34s\n",
      "137:\tlearn: 0.3033607\ttotal: 15.1s\tremaining: 1m 34s\n",
      "138:\tlearn: 0.3032711\ttotal: 15.2s\tremaining: 1m 34s\n",
      "139:\tlearn: 0.3031762\ttotal: 15.3s\tremaining: 1m 33s\n",
      "140:\tlearn: 0.3030837\ttotal: 15.4s\tremaining: 1m 33s\n",
      "141:\tlearn: 0.3030540\ttotal: 15.5s\tremaining: 1m 33s\n",
      "142:\tlearn: 0.3028647\ttotal: 15.6s\tremaining: 1m 33s\n",
      "143:\tlearn: 0.3026763\ttotal: 15.7s\tremaining: 1m 33s\n",
      "144:\tlearn: 0.3025931\ttotal: 15.8s\tremaining: 1m 33s\n",
      "145:\tlearn: 0.3024519\ttotal: 15.9s\tremaining: 1m 33s\n",
      "146:\tlearn: 0.3023968\ttotal: 16s\tremaining: 1m 33s\n",
      "147:\tlearn: 0.3023360\ttotal: 16.2s\tremaining: 1m 32s\n",
      "148:\tlearn: 0.3022679\ttotal: 16.2s\tremaining: 1m 32s\n",
      "149:\tlearn: 0.3022108\ttotal: 16.4s\tremaining: 1m 32s\n",
      "150:\tlearn: 0.3021676\ttotal: 16.5s\tremaining: 1m 32s\n",
      "151:\tlearn: 0.3021133\ttotal: 16.6s\tremaining: 1m 32s\n",
      "152:\tlearn: 0.3020641\ttotal: 16.7s\tremaining: 1m 32s\n",
      "153:\tlearn: 0.3019888\ttotal: 16.8s\tremaining: 1m 32s\n",
      "154:\tlearn: 0.3019419\ttotal: 16.9s\tremaining: 1m 32s\n",
      "155:\tlearn: 0.3018613\ttotal: 17s\tremaining: 1m 32s\n",
      "156:\tlearn: 0.3017974\ttotal: 17.1s\tremaining: 1m 31s\n",
      "157:\tlearn: 0.3017089\ttotal: 17.2s\tremaining: 1m 31s\n"
     ]
    },
    {
     "name": "stdout",
     "output_type": "stream",
     "text": [
      "158:\tlearn: 0.3016414\ttotal: 17.3s\tremaining: 1m 31s\n",
      "159:\tlearn: 0.3015737\ttotal: 17.4s\tremaining: 1m 31s\n",
      "160:\tlearn: 0.3015347\ttotal: 17.6s\tremaining: 1m 31s\n",
      "161:\tlearn: 0.3014621\ttotal: 17.7s\tremaining: 1m 31s\n",
      "162:\tlearn: 0.3014077\ttotal: 17.8s\tremaining: 1m 31s\n",
      "163:\tlearn: 0.3013602\ttotal: 17.9s\tremaining: 1m 31s\n",
      "164:\tlearn: 0.3013045\ttotal: 18s\tremaining: 1m 30s\n",
      "165:\tlearn: 0.3012474\ttotal: 18.1s\tremaining: 1m 30s\n",
      "166:\tlearn: 0.3011711\ttotal: 18.2s\tremaining: 1m 30s\n",
      "167:\tlearn: 0.3010804\ttotal: 18.3s\tremaining: 1m 30s\n",
      "168:\tlearn: 0.3010358\ttotal: 18.4s\tremaining: 1m 30s\n",
      "169:\tlearn: 0.3009506\ttotal: 18.5s\tremaining: 1m 30s\n",
      "170:\tlearn: 0.3008213\ttotal: 18.6s\tremaining: 1m 30s\n",
      "171:\tlearn: 0.3007770\ttotal: 18.7s\tremaining: 1m 30s\n",
      "172:\tlearn: 0.3007187\ttotal: 18.8s\tremaining: 1m 29s\n",
      "173:\tlearn: 0.3006668\ttotal: 18.9s\tremaining: 1m 29s\n",
      "174:\tlearn: 0.3005708\ttotal: 19s\tremaining: 1m 29s\n",
      "175:\tlearn: 0.3005156\ttotal: 19.1s\tremaining: 1m 29s\n",
      "176:\tlearn: 0.3004436\ttotal: 19.2s\tremaining: 1m 29s\n",
      "177:\tlearn: 0.3003427\ttotal: 19.4s\tremaining: 1m 29s\n",
      "178:\tlearn: 0.3002889\ttotal: 19.4s\tremaining: 1m 29s\n",
      "179:\tlearn: 0.3002096\ttotal: 19.6s\tremaining: 1m 29s\n",
      "180:\tlearn: 0.3001704\ttotal: 19.7s\tremaining: 1m 28s\n",
      "181:\tlearn: 0.3001264\ttotal: 19.8s\tremaining: 1m 28s\n",
      "182:\tlearn: 0.3000768\ttotal: 19.9s\tremaining: 1m 28s\n",
      "183:\tlearn: 0.3000381\ttotal: 20s\tremaining: 1m 28s\n",
      "184:\tlearn: 0.2999839\ttotal: 20.1s\tremaining: 1m 28s\n",
      "185:\tlearn: 0.2999413\ttotal: 20.2s\tremaining: 1m 28s\n",
      "186:\tlearn: 0.2998886\ttotal: 20.3s\tremaining: 1m 28s\n",
      "187:\tlearn: 0.2998555\ttotal: 20.4s\tremaining: 1m 28s\n",
      "188:\tlearn: 0.2998034\ttotal: 20.5s\tremaining: 1m 28s\n",
      "189:\tlearn: 0.2997520\ttotal: 20.7s\tremaining: 1m 28s\n",
      "190:\tlearn: 0.2996989\ttotal: 20.8s\tremaining: 1m 28s\n",
      "191:\tlearn: 0.2996539\ttotal: 20.9s\tremaining: 1m 28s\n",
      "192:\tlearn: 0.2996153\ttotal: 21.1s\tremaining: 1m 28s\n",
      "193:\tlearn: 0.2995777\ttotal: 21.2s\tremaining: 1m 28s\n",
      "194:\tlearn: 0.2995327\ttotal: 21.3s\tremaining: 1m 27s\n",
      "195:\tlearn: 0.2994876\ttotal: 21.4s\tremaining: 1m 27s\n",
      "196:\tlearn: 0.2994127\ttotal: 21.5s\tremaining: 1m 27s\n",
      "197:\tlearn: 0.2992966\ttotal: 21.6s\tremaining: 1m 27s\n",
      "198:\tlearn: 0.2992039\ttotal: 21.8s\tremaining: 1m 27s\n",
      "199:\tlearn: 0.2990822\ttotal: 21.9s\tremaining: 1m 27s\n",
      "200:\tlearn: 0.2990289\ttotal: 22s\tremaining: 1m 27s\n",
      "201:\tlearn: 0.2989176\ttotal: 22.1s\tremaining: 1m 27s\n",
      "202:\tlearn: 0.2988352\ttotal: 22.2s\tremaining: 1m 27s\n",
      "203:\tlearn: 0.2987678\ttotal: 22.3s\tremaining: 1m 26s\n",
      "204:\tlearn: 0.2987099\ttotal: 22.4s\tremaining: 1m 26s\n",
      "205:\tlearn: 0.2986550\ttotal: 22.5s\tremaining: 1m 26s\n",
      "206:\tlearn: 0.2986209\ttotal: 22.6s\tremaining: 1m 26s\n",
      "207:\tlearn: 0.2984730\ttotal: 22.7s\tremaining: 1m 26s\n",
      "208:\tlearn: 0.2984456\ttotal: 22.8s\tremaining: 1m 26s\n",
      "209:\tlearn: 0.2983998\ttotal: 22.9s\tremaining: 1m 26s\n",
      "210:\tlearn: 0.2983494\ttotal: 23s\tremaining: 1m 26s\n",
      "211:\tlearn: 0.2982987\ttotal: 23.1s\tremaining: 1m 25s\n",
      "212:\tlearn: 0.2982691\ttotal: 23.2s\tremaining: 1m 25s\n",
      "213:\tlearn: 0.2982279\ttotal: 23.3s\tremaining: 1m 25s\n",
      "214:\tlearn: 0.2981623\ttotal: 23.4s\tremaining: 1m 25s\n",
      "215:\tlearn: 0.2980911\ttotal: 23.6s\tremaining: 1m 25s\n",
      "216:\tlearn: 0.2980475\ttotal: 23.7s\tremaining: 1m 25s\n",
      "217:\tlearn: 0.2980145\ttotal: 23.8s\tremaining: 1m 25s\n",
      "218:\tlearn: 0.2979736\ttotal: 23.9s\tremaining: 1m 25s\n",
      "219:\tlearn: 0.2979377\ttotal: 24.1s\tremaining: 1m 25s\n",
      "220:\tlearn: 0.2979041\ttotal: 24.2s\tremaining: 1m 25s\n",
      "221:\tlearn: 0.2978606\ttotal: 24.3s\tremaining: 1m 25s\n",
      "222:\tlearn: 0.2978367\ttotal: 24.5s\tremaining: 1m 25s\n",
      "223:\tlearn: 0.2977924\ttotal: 24.6s\tremaining: 1m 25s\n",
      "224:\tlearn: 0.2977432\ttotal: 24.7s\tremaining: 1m 25s\n",
      "225:\tlearn: 0.2976352\ttotal: 24.9s\tremaining: 1m 25s\n",
      "226:\tlearn: 0.2975834\ttotal: 25s\tremaining: 1m 25s\n",
      "227:\tlearn: 0.2975545\ttotal: 25.1s\tremaining: 1m 25s\n",
      "228:\tlearn: 0.2974954\ttotal: 25.3s\tremaining: 1m 25s\n",
      "229:\tlearn: 0.2973910\ttotal: 25.5s\tremaining: 1m 25s\n",
      "230:\tlearn: 0.2973535\ttotal: 25.6s\tremaining: 1m 25s\n",
      "231:\tlearn: 0.2973171\ttotal: 25.8s\tremaining: 1m 25s\n",
      "232:\tlearn: 0.2972762\ttotal: 25.9s\tremaining: 1m 25s\n",
      "233:\tlearn: 0.2972412\ttotal: 26s\tremaining: 1m 25s\n",
      "234:\tlearn: 0.2971329\ttotal: 26.2s\tremaining: 1m 25s\n",
      "235:\tlearn: 0.2970730\ttotal: 26.3s\tremaining: 1m 25s\n",
      "236:\tlearn: 0.2970323\ttotal: 26.4s\tremaining: 1m 25s\n",
      "237:\tlearn: 0.2969837\ttotal: 26.6s\tremaining: 1m 25s\n",
      "238:\tlearn: 0.2968885\ttotal: 26.7s\tremaining: 1m 25s\n",
      "239:\tlearn: 0.2968545\ttotal: 26.8s\tremaining: 1m 24s\n",
      "240:\tlearn: 0.2968133\ttotal: 27s\tremaining: 1m 24s\n",
      "241:\tlearn: 0.2967582\ttotal: 27.1s\tremaining: 1m 24s\n",
      "242:\tlearn: 0.2967160\ttotal: 27.2s\tremaining: 1m 24s\n",
      "243:\tlearn: 0.2966822\ttotal: 27.4s\tremaining: 1m 24s\n",
      "244:\tlearn: 0.2966369\ttotal: 27.5s\tremaining: 1m 24s\n",
      "245:\tlearn: 0.2966172\ttotal: 27.6s\tremaining: 1m 24s\n",
      "246:\tlearn: 0.2965650\ttotal: 27.7s\tremaining: 1m 24s\n",
      "247:\tlearn: 0.2965294\ttotal: 27.9s\tremaining: 1m 24s\n",
      "248:\tlearn: 0.2964875\ttotal: 28s\tremaining: 1m 24s\n",
      "249:\tlearn: 0.2964492\ttotal: 28.1s\tremaining: 1m 24s\n",
      "250:\tlearn: 0.2964189\ttotal: 28.2s\tremaining: 1m 24s\n",
      "251:\tlearn: 0.2963636\ttotal: 28.3s\tremaining: 1m 24s\n",
      "252:\tlearn: 0.2963279\ttotal: 28.4s\tremaining: 1m 23s\n",
      "253:\tlearn: 0.2962849\ttotal: 28.6s\tremaining: 1m 23s\n",
      "254:\tlearn: 0.2962525\ttotal: 28.7s\tremaining: 1m 23s\n",
      "255:\tlearn: 0.2962192\ttotal: 28.8s\tremaining: 1m 23s\n",
      "256:\tlearn: 0.2961873\ttotal: 28.9s\tremaining: 1m 23s\n",
      "257:\tlearn: 0.2961235\ttotal: 29s\tremaining: 1m 23s\n",
      "258:\tlearn: 0.2960705\ttotal: 29.1s\tremaining: 1m 23s\n",
      "259:\tlearn: 0.2960395\ttotal: 29.3s\tremaining: 1m 23s\n",
      "260:\tlearn: 0.2959993\ttotal: 29.4s\tremaining: 1m 23s\n",
      "261:\tlearn: 0.2959725\ttotal: 29.5s\tremaining: 1m 23s\n",
      "262:\tlearn: 0.2959377\ttotal: 29.6s\tremaining: 1m 22s\n",
      "263:\tlearn: 0.2959040\ttotal: 29.7s\tremaining: 1m 22s\n",
      "264:\tlearn: 0.2958757\ttotal: 29.8s\tremaining: 1m 22s\n",
      "265:\tlearn: 0.2958139\ttotal: 29.9s\tremaining: 1m 22s\n",
      "266:\tlearn: 0.2957806\ttotal: 30s\tremaining: 1m 22s\n",
      "267:\tlearn: 0.2957244\ttotal: 30.1s\tremaining: 1m 22s\n",
      "268:\tlearn: 0.2956837\ttotal: 30.2s\tremaining: 1m 22s\n",
      "269:\tlearn: 0.2956393\ttotal: 30.3s\tremaining: 1m 22s\n",
      "270:\tlearn: 0.2956156\ttotal: 30.4s\tremaining: 1m 21s\n",
      "271:\tlearn: 0.2955751\ttotal: 30.5s\tremaining: 1m 21s\n",
      "272:\tlearn: 0.2955304\ttotal: 30.7s\tremaining: 1m 21s\n",
      "273:\tlearn: 0.2954879\ttotal: 30.8s\tremaining: 1m 21s\n",
      "274:\tlearn: 0.2954343\ttotal: 30.9s\tremaining: 1m 21s\n",
      "275:\tlearn: 0.2953935\ttotal: 31s\tremaining: 1m 21s\n",
      "276:\tlearn: 0.2953201\ttotal: 31.1s\tremaining: 1m 21s\n",
      "277:\tlearn: 0.2952837\ttotal: 31.2s\tremaining: 1m 21s\n",
      "278:\tlearn: 0.2952248\ttotal: 31.3s\tremaining: 1m 20s\n",
      "279:\tlearn: 0.2951952\ttotal: 31.4s\tremaining: 1m 20s\n",
      "280:\tlearn: 0.2951562\ttotal: 31.5s\tremaining: 1m 20s\n",
      "281:\tlearn: 0.2951159\ttotal: 31.6s\tremaining: 1m 20s\n",
      "282:\tlearn: 0.2950665\ttotal: 31.8s\tremaining: 1m 20s\n",
      "283:\tlearn: 0.2950293\ttotal: 31.9s\tremaining: 1m 20s\n",
      "284:\tlearn: 0.2950080\ttotal: 32s\tremaining: 1m 20s\n",
      "285:\tlearn: 0.2949714\ttotal: 32.1s\tremaining: 1m 20s\n",
      "286:\tlearn: 0.2949481\ttotal: 32.2s\tremaining: 1m 19s\n",
      "287:\tlearn: 0.2949006\ttotal: 32.3s\tremaining: 1m 19s\n",
      "288:\tlearn: 0.2948603\ttotal: 32.4s\tremaining: 1m 19s\n",
      "289:\tlearn: 0.2948225\ttotal: 32.5s\tremaining: 1m 19s\n",
      "290:\tlearn: 0.2947494\ttotal: 32.6s\tremaining: 1m 19s\n",
      "291:\tlearn: 0.2946792\ttotal: 32.7s\tremaining: 1m 19s\n",
      "292:\tlearn: 0.2946483\ttotal: 32.8s\tremaining: 1m 19s\n",
      "293:\tlearn: 0.2946038\ttotal: 32.9s\tremaining: 1m 19s\n",
      "294:\tlearn: 0.2945099\ttotal: 33s\tremaining: 1m 18s\n",
      "295:\tlearn: 0.2944692\ttotal: 33.1s\tremaining: 1m 18s\n",
      "296:\tlearn: 0.2944384\ttotal: 33.3s\tremaining: 1m 18s\n",
      "297:\tlearn: 0.2943710\ttotal: 33.4s\tremaining: 1m 18s\n",
      "298:\tlearn: 0.2943466\ttotal: 33.5s\tremaining: 1m 18s\n",
      "299:\tlearn: 0.2942438\ttotal: 33.6s\tremaining: 1m 18s\n",
      "300:\tlearn: 0.2942132\ttotal: 33.7s\tremaining: 1m 18s\n",
      "301:\tlearn: 0.2941843\ttotal: 33.8s\tremaining: 1m 18s\n",
      "302:\tlearn: 0.2941169\ttotal: 33.9s\tremaining: 1m 18s\n",
      "303:\tlearn: 0.2940905\ttotal: 34s\tremaining: 1m 17s\n",
      "304:\tlearn: 0.2940661\ttotal: 34.1s\tremaining: 1m 17s\n",
      "305:\tlearn: 0.2940352\ttotal: 34.2s\tremaining: 1m 17s\n",
      "306:\tlearn: 0.2940050\ttotal: 34.3s\tremaining: 1m 17s\n",
      "307:\tlearn: 0.2939681\ttotal: 34.5s\tremaining: 1m 17s\n",
      "308:\tlearn: 0.2939185\ttotal: 34.6s\tremaining: 1m 17s\n",
      "309:\tlearn: 0.2938463\ttotal: 34.7s\tremaining: 1m 17s\n",
      "310:\tlearn: 0.2937588\ttotal: 34.8s\tremaining: 1m 17s\n",
      "311:\tlearn: 0.2937122\ttotal: 34.9s\tremaining: 1m 16s\n",
      "312:\tlearn: 0.2936679\ttotal: 35s\tremaining: 1m 16s\n",
      "313:\tlearn: 0.2936314\ttotal: 35.1s\tremaining: 1m 16s\n"
     ]
    },
    {
     "name": "stdout",
     "output_type": "stream",
     "text": [
      "314:\tlearn: 0.2935998\ttotal: 35.2s\tremaining: 1m 16s\n",
      "315:\tlearn: 0.2935768\ttotal: 35.3s\tremaining: 1m 16s\n",
      "316:\tlearn: 0.2935289\ttotal: 35.4s\tremaining: 1m 16s\n",
      "317:\tlearn: 0.2934977\ttotal: 35.5s\tremaining: 1m 16s\n",
      "318:\tlearn: 0.2934676\ttotal: 35.6s\tremaining: 1m 16s\n",
      "319:\tlearn: 0.2934272\ttotal: 35.7s\tremaining: 1m 15s\n",
      "320:\tlearn: 0.2933937\ttotal: 35.9s\tremaining: 1m 15s\n",
      "321:\tlearn: 0.2933534\ttotal: 36s\tremaining: 1m 15s\n",
      "322:\tlearn: 0.2932842\ttotal: 36.1s\tremaining: 1m 15s\n",
      "323:\tlearn: 0.2932545\ttotal: 36.2s\tremaining: 1m 15s\n",
      "324:\tlearn: 0.2932177\ttotal: 36.3s\tremaining: 1m 15s\n",
      "325:\tlearn: 0.2931586\ttotal: 36.4s\tremaining: 1m 15s\n",
      "326:\tlearn: 0.2931345\ttotal: 36.5s\tremaining: 1m 15s\n",
      "327:\tlearn: 0.2931160\ttotal: 36.6s\tremaining: 1m 14s\n",
      "328:\tlearn: 0.2930812\ttotal: 36.7s\tremaining: 1m 14s\n",
      "329:\tlearn: 0.2930474\ttotal: 36.8s\tremaining: 1m 14s\n",
      "330:\tlearn: 0.2930044\ttotal: 36.9s\tremaining: 1m 14s\n",
      "331:\tlearn: 0.2929696\ttotal: 37s\tremaining: 1m 14s\n",
      "332:\tlearn: 0.2929145\ttotal: 37.1s\tremaining: 1m 14s\n",
      "333:\tlearn: 0.2928879\ttotal: 37.2s\tremaining: 1m 14s\n",
      "334:\tlearn: 0.2928676\ttotal: 37.3s\tremaining: 1m 14s\n",
      "335:\tlearn: 0.2928316\ttotal: 37.4s\tremaining: 1m 14s\n",
      "336:\tlearn: 0.2927760\ttotal: 37.5s\tremaining: 1m 13s\n",
      "337:\tlearn: 0.2927415\ttotal: 37.7s\tremaining: 1m 13s\n",
      "338:\tlearn: 0.2926926\ttotal: 37.8s\tremaining: 1m 13s\n",
      "339:\tlearn: 0.2926618\ttotal: 37.9s\tremaining: 1m 13s\n",
      "340:\tlearn: 0.2926083\ttotal: 38s\tremaining: 1m 13s\n",
      "341:\tlearn: 0.2925731\ttotal: 38.1s\tremaining: 1m 13s\n",
      "342:\tlearn: 0.2925561\ttotal: 38.2s\tremaining: 1m 13s\n",
      "343:\tlearn: 0.2925331\ttotal: 38.3s\tremaining: 1m 13s\n",
      "344:\tlearn: 0.2925024\ttotal: 38.4s\tremaining: 1m 12s\n",
      "345:\tlearn: 0.2924575\ttotal: 38.5s\tremaining: 1m 12s\n",
      "346:\tlearn: 0.2924191\ttotal: 38.7s\tremaining: 1m 12s\n",
      "347:\tlearn: 0.2923483\ttotal: 38.8s\tremaining: 1m 12s\n",
      "348:\tlearn: 0.2923010\ttotal: 38.9s\tremaining: 1m 12s\n",
      "349:\tlearn: 0.2922824\ttotal: 39s\tremaining: 1m 12s\n",
      "350:\tlearn: 0.2922569\ttotal: 39.1s\tremaining: 1m 12s\n",
      "351:\tlearn: 0.2921912\ttotal: 39.2s\tremaining: 1m 12s\n",
      "352:\tlearn: 0.2921596\ttotal: 39.3s\tremaining: 1m 11s\n",
      "353:\tlearn: 0.2921254\ttotal: 39.4s\tremaining: 1m 11s\n",
      "354:\tlearn: 0.2920792\ttotal: 39.5s\tremaining: 1m 11s\n",
      "355:\tlearn: 0.2920431\ttotal: 39.6s\tremaining: 1m 11s\n",
      "356:\tlearn: 0.2920114\ttotal: 39.7s\tremaining: 1m 11s\n",
      "357:\tlearn: 0.2919693\ttotal: 39.9s\tremaining: 1m 11s\n",
      "358:\tlearn: 0.2919377\ttotal: 40s\tremaining: 1m 11s\n",
      "359:\tlearn: 0.2918990\ttotal: 40.1s\tremaining: 1m 11s\n",
      "360:\tlearn: 0.2918645\ttotal: 40.2s\tremaining: 1m 11s\n",
      "361:\tlearn: 0.2918392\ttotal: 40.3s\tremaining: 1m 11s\n",
      "362:\tlearn: 0.2918145\ttotal: 40.4s\tremaining: 1m 10s\n",
      "363:\tlearn: 0.2917705\ttotal: 40.5s\tremaining: 1m 10s\n",
      "364:\tlearn: 0.2917423\ttotal: 40.6s\tremaining: 1m 10s\n",
      "365:\tlearn: 0.2916981\ttotal: 40.7s\tremaining: 1m 10s\n",
      "366:\tlearn: 0.2916513\ttotal: 40.8s\tremaining: 1m 10s\n",
      "367:\tlearn: 0.2915943\ttotal: 40.9s\tremaining: 1m 10s\n",
      "368:\tlearn: 0.2915482\ttotal: 41s\tremaining: 1m 10s\n",
      "369:\tlearn: 0.2915303\ttotal: 41.1s\tremaining: 1m 10s\n",
      "370:\tlearn: 0.2915022\ttotal: 41.3s\tremaining: 1m 9s\n",
      "371:\tlearn: 0.2914724\ttotal: 41.4s\tremaining: 1m 9s\n",
      "372:\tlearn: 0.2914328\ttotal: 41.5s\tremaining: 1m 9s\n",
      "373:\tlearn: 0.2914108\ttotal: 41.6s\tremaining: 1m 9s\n",
      "374:\tlearn: 0.2913896\ttotal: 41.7s\tremaining: 1m 9s\n",
      "375:\tlearn: 0.2913631\ttotal: 41.8s\tremaining: 1m 9s\n",
      "376:\tlearn: 0.2913317\ttotal: 41.9s\tremaining: 1m 9s\n",
      "377:\tlearn: 0.2913080\ttotal: 42s\tremaining: 1m 9s\n",
      "378:\tlearn: 0.2912865\ttotal: 42.1s\tremaining: 1m 9s\n",
      "379:\tlearn: 0.2912655\ttotal: 42.3s\tremaining: 1m 8s\n",
      "380:\tlearn: 0.2912276\ttotal: 42.4s\tremaining: 1m 8s\n",
      "381:\tlearn: 0.2911870\ttotal: 42.5s\tremaining: 1m 8s\n",
      "382:\tlearn: 0.2911451\ttotal: 42.6s\tremaining: 1m 8s\n",
      "383:\tlearn: 0.2911037\ttotal: 42.7s\tremaining: 1m 8s\n",
      "384:\tlearn: 0.2910751\ttotal: 42.8s\tremaining: 1m 8s\n",
      "385:\tlearn: 0.2910544\ttotal: 42.9s\tremaining: 1m 8s\n",
      "386:\tlearn: 0.2910197\ttotal: 43s\tremaining: 1m 8s\n",
      "387:\tlearn: 0.2909934\ttotal: 43.1s\tremaining: 1m 8s\n",
      "388:\tlearn: 0.2909673\ttotal: 43.2s\tremaining: 1m 7s\n",
      "389:\tlearn: 0.2909411\ttotal: 43.3s\tremaining: 1m 7s\n",
      "390:\tlearn: 0.2909240\ttotal: 43.4s\tremaining: 1m 7s\n",
      "391:\tlearn: 0.2908906\ttotal: 43.5s\tremaining: 1m 7s\n",
      "392:\tlearn: 0.2908573\ttotal: 43.7s\tremaining: 1m 7s\n",
      "393:\tlearn: 0.2908201\ttotal: 43.8s\tremaining: 1m 7s\n",
      "394:\tlearn: 0.2907945\ttotal: 43.9s\tremaining: 1m 7s\n",
      "395:\tlearn: 0.2907478\ttotal: 44s\tremaining: 1m 7s\n",
      "396:\tlearn: 0.2907076\ttotal: 44.1s\tremaining: 1m 7s\n",
      "397:\tlearn: 0.2906835\ttotal: 44.2s\tremaining: 1m 6s\n",
      "398:\tlearn: 0.2906328\ttotal: 44.3s\tremaining: 1m 6s\n",
      "399:\tlearn: 0.2906000\ttotal: 44.4s\tremaining: 1m 6s\n",
      "400:\tlearn: 0.2905682\ttotal: 44.5s\tremaining: 1m 6s\n",
      "401:\tlearn: 0.2905338\ttotal: 44.7s\tremaining: 1m 6s\n",
      "402:\tlearn: 0.2904432\ttotal: 44.8s\tremaining: 1m 6s\n",
      "403:\tlearn: 0.2904279\ttotal: 44.9s\tremaining: 1m 6s\n",
      "404:\tlearn: 0.2903925\ttotal: 45s\tremaining: 1m 6s\n",
      "405:\tlearn: 0.2903545\ttotal: 45.1s\tremaining: 1m 5s\n",
      "406:\tlearn: 0.2903341\ttotal: 45.2s\tremaining: 1m 5s\n",
      "407:\tlearn: 0.2903087\ttotal: 45.3s\tremaining: 1m 5s\n",
      "408:\tlearn: 0.2902758\ttotal: 45.4s\tremaining: 1m 5s\n",
      "409:\tlearn: 0.2902368\ttotal: 45.5s\tremaining: 1m 5s\n",
      "410:\tlearn: 0.2901921\ttotal: 45.6s\tremaining: 1m 5s\n",
      "411:\tlearn: 0.2901628\ttotal: 45.7s\tremaining: 1m 5s\n",
      "412:\tlearn: 0.2901400\ttotal: 45.9s\tremaining: 1m 5s\n",
      "413:\tlearn: 0.2901122\ttotal: 46s\tremaining: 1m 5s\n",
      "414:\tlearn: 0.2900718\ttotal: 46.1s\tremaining: 1m 4s\n",
      "415:\tlearn: 0.2900450\ttotal: 46.2s\tremaining: 1m 4s\n",
      "416:\tlearn: 0.2900118\ttotal: 46.3s\tremaining: 1m 4s\n",
      "417:\tlearn: 0.2899915\ttotal: 46.4s\tremaining: 1m 4s\n",
      "418:\tlearn: 0.2899597\ttotal: 46.5s\tremaining: 1m 4s\n",
      "419:\tlearn: 0.2899328\ttotal: 46.6s\tremaining: 1m 4s\n",
      "420:\tlearn: 0.2899022\ttotal: 46.8s\tremaining: 1m 4s\n",
      "421:\tlearn: 0.2898666\ttotal: 46.9s\tremaining: 1m 4s\n",
      "422:\tlearn: 0.2898199\ttotal: 47s\tremaining: 1m 4s\n",
      "423:\tlearn: 0.2897896\ttotal: 47.1s\tremaining: 1m 3s\n",
      "424:\tlearn: 0.2897540\ttotal: 47.2s\tremaining: 1m 3s\n",
      "425:\tlearn: 0.2897009\ttotal: 47.3s\tremaining: 1m 3s\n",
      "426:\tlearn: 0.2896819\ttotal: 47.4s\tremaining: 1m 3s\n",
      "427:\tlearn: 0.2896578\ttotal: 47.5s\tremaining: 1m 3s\n",
      "428:\tlearn: 0.2896392\ttotal: 47.6s\tremaining: 1m 3s\n",
      "429:\tlearn: 0.2896236\ttotal: 47.7s\tremaining: 1m 3s\n",
      "430:\tlearn: 0.2895662\ttotal: 47.8s\tremaining: 1m 3s\n",
      "431:\tlearn: 0.2895318\ttotal: 47.9s\tremaining: 1m 3s\n",
      "432:\tlearn: 0.2895050\ttotal: 48s\tremaining: 1m 2s\n",
      "433:\tlearn: 0.2894810\ttotal: 48.2s\tremaining: 1m 2s\n",
      "434:\tlearn: 0.2894413\ttotal: 48.3s\tremaining: 1m 2s\n",
      "435:\tlearn: 0.2894150\ttotal: 48.4s\tremaining: 1m 2s\n",
      "436:\tlearn: 0.2893817\ttotal: 48.5s\tremaining: 1m 2s\n",
      "437:\tlearn: 0.2893252\ttotal: 48.6s\tremaining: 1m 2s\n",
      "438:\tlearn: 0.2892977\ttotal: 48.7s\tremaining: 1m 2s\n",
      "439:\tlearn: 0.2892620\ttotal: 48.8s\tremaining: 1m 2s\n",
      "440:\tlearn: 0.2892201\ttotal: 48.9s\tremaining: 1m 2s\n",
      "441:\tlearn: 0.2891919\ttotal: 49s\tremaining: 1m 1s\n",
      "442:\tlearn: 0.2891606\ttotal: 49.2s\tremaining: 1m 1s\n",
      "443:\tlearn: 0.2891309\ttotal: 49.3s\tremaining: 1m 1s\n",
      "444:\tlearn: 0.2890986\ttotal: 49.4s\tremaining: 1m 1s\n",
      "445:\tlearn: 0.2890496\ttotal: 49.5s\tremaining: 1m 1s\n",
      "446:\tlearn: 0.2890274\ttotal: 49.6s\tremaining: 1m 1s\n",
      "447:\tlearn: 0.2889973\ttotal: 49.7s\tremaining: 1m 1s\n",
      "448:\tlearn: 0.2889604\ttotal: 49.8s\tremaining: 1m 1s\n",
      "449:\tlearn: 0.2889371\ttotal: 49.9s\tremaining: 1m 1s\n",
      "450:\tlearn: 0.2889150\ttotal: 50s\tremaining: 1m\n",
      "451:\tlearn: 0.2888835\ttotal: 50.1s\tremaining: 1m\n",
      "452:\tlearn: 0.2888298\ttotal: 50.3s\tremaining: 1m\n",
      "453:\tlearn: 0.2887994\ttotal: 50.4s\tremaining: 1m\n",
      "454:\tlearn: 0.2887603\ttotal: 50.5s\tremaining: 1m\n",
      "455:\tlearn: 0.2887311\ttotal: 50.6s\tremaining: 1m\n",
      "456:\tlearn: 0.2887101\ttotal: 50.7s\tremaining: 1m\n",
      "457:\tlearn: 0.2886842\ttotal: 50.8s\tremaining: 1m\n",
      "458:\tlearn: 0.2886630\ttotal: 50.9s\tremaining: 1m\n",
      "459:\tlearn: 0.2886300\ttotal: 51s\tremaining: 59.9s\n",
      "460:\tlearn: 0.2885994\ttotal: 51.2s\tremaining: 59.8s\n",
      "461:\tlearn: 0.2885712\ttotal: 51.3s\tremaining: 59.7s\n",
      "462:\tlearn: 0.2885427\ttotal: 51.4s\tremaining: 59.6s\n",
      "463:\tlearn: 0.2885149\ttotal: 51.5s\tremaining: 59.5s\n",
      "464:\tlearn: 0.2884874\ttotal: 51.6s\tremaining: 59.4s\n",
      "465:\tlearn: 0.2884564\ttotal: 51.7s\tremaining: 59.3s\n",
      "466:\tlearn: 0.2884171\ttotal: 51.8s\tremaining: 59.2s\n",
      "467:\tlearn: 0.2884083\ttotal: 51.9s\tremaining: 59s\n",
      "468:\tlearn: 0.2883808\ttotal: 52.1s\tremaining: 58.9s\n",
      "469:\tlearn: 0.2883582\ttotal: 52.2s\tremaining: 58.8s\n",
      "470:\tlearn: 0.2883351\ttotal: 52.3s\tremaining: 58.7s\n",
      "471:\tlearn: 0.2883036\ttotal: 52.4s\tremaining: 58.6s\n"
     ]
    },
    {
     "name": "stdout",
     "output_type": "stream",
     "text": [
      "472:\tlearn: 0.2882658\ttotal: 52.5s\tremaining: 58.5s\n",
      "473:\tlearn: 0.2882110\ttotal: 52.6s\tremaining: 58.4s\n",
      "474:\tlearn: 0.2881837\ttotal: 52.7s\tremaining: 58.3s\n",
      "475:\tlearn: 0.2881539\ttotal: 52.9s\tremaining: 58.2s\n",
      "476:\tlearn: 0.2881189\ttotal: 53s\tremaining: 58.1s\n",
      "477:\tlearn: 0.2880983\ttotal: 53.1s\tremaining: 58s\n",
      "478:\tlearn: 0.2880743\ttotal: 53.2s\tremaining: 57.9s\n",
      "479:\tlearn: 0.2880480\ttotal: 53.3s\tremaining: 57.7s\n",
      "480:\tlearn: 0.2880249\ttotal: 53.4s\tremaining: 57.6s\n",
      "481:\tlearn: 0.2880030\ttotal: 53.5s\tremaining: 57.5s\n",
      "482:\tlearn: 0.2879840\ttotal: 53.6s\tremaining: 57.4s\n",
      "483:\tlearn: 0.2879464\ttotal: 53.7s\tremaining: 57.3s\n",
      "484:\tlearn: 0.2879138\ttotal: 53.8s\tremaining: 57.2s\n",
      "485:\tlearn: 0.2878801\ttotal: 53.9s\tremaining: 57s\n",
      "486:\tlearn: 0.2878404\ttotal: 54.1s\tremaining: 56.9s\n",
      "487:\tlearn: 0.2878051\ttotal: 54.2s\tremaining: 56.8s\n",
      "488:\tlearn: 0.2877830\ttotal: 54.3s\tremaining: 56.7s\n",
      "489:\tlearn: 0.2877356\ttotal: 54.4s\tremaining: 56.6s\n",
      "490:\tlearn: 0.2877094\ttotal: 54.5s\tremaining: 56.5s\n",
      "491:\tlearn: 0.2876890\ttotal: 54.6s\tremaining: 56.4s\n",
      "492:\tlearn: 0.2876717\ttotal: 54.7s\tremaining: 56.3s\n",
      "493:\tlearn: 0.2876593\ttotal: 54.8s\tremaining: 56.1s\n",
      "494:\tlearn: 0.2876430\ttotal: 54.9s\tremaining: 56s\n",
      "495:\tlearn: 0.2876125\ttotal: 55s\tremaining: 55.9s\n",
      "496:\tlearn: 0.2875841\ttotal: 55.1s\tremaining: 55.8s\n",
      "497:\tlearn: 0.2875592\ttotal: 55.2s\tremaining: 55.7s\n",
      "498:\tlearn: 0.2875443\ttotal: 55.3s\tremaining: 55.6s\n",
      "499:\tlearn: 0.2875270\ttotal: 55.4s\tremaining: 55.4s\n",
      "500:\tlearn: 0.2875072\ttotal: 55.6s\tremaining: 55.3s\n",
      "501:\tlearn: 0.2874835\ttotal: 55.7s\tremaining: 55.2s\n",
      "502:\tlearn: 0.2874590\ttotal: 55.8s\tremaining: 55.1s\n",
      "503:\tlearn: 0.2874323\ttotal: 55.9s\tremaining: 55s\n",
      "504:\tlearn: 0.2873913\ttotal: 56s\tremaining: 54.9s\n",
      "505:\tlearn: 0.2873670\ttotal: 56.1s\tremaining: 54.8s\n",
      "506:\tlearn: 0.2873394\ttotal: 56.2s\tremaining: 54.7s\n",
      "507:\tlearn: 0.2873120\ttotal: 56.3s\tremaining: 54.6s\n",
      "508:\tlearn: 0.2872866\ttotal: 56.5s\tremaining: 54.5s\n",
      "509:\tlearn: 0.2872598\ttotal: 56.6s\tremaining: 54.4s\n",
      "510:\tlearn: 0.2872386\ttotal: 56.7s\tremaining: 54.2s\n",
      "511:\tlearn: 0.2872090\ttotal: 56.8s\tremaining: 54.1s\n",
      "512:\tlearn: 0.2871811\ttotal: 56.9s\tremaining: 54s\n",
      "513:\tlearn: 0.2871452\ttotal: 57s\tremaining: 53.9s\n",
      "514:\tlearn: 0.2871129\ttotal: 57.1s\tremaining: 53.8s\n",
      "515:\tlearn: 0.2870939\ttotal: 57.2s\tremaining: 53.7s\n",
      "516:\tlearn: 0.2870722\ttotal: 57.3s\tremaining: 53.6s\n",
      "517:\tlearn: 0.2870455\ttotal: 57.5s\tremaining: 53.5s\n",
      "518:\tlearn: 0.2870196\ttotal: 57.6s\tremaining: 53.4s\n",
      "519:\tlearn: 0.2869931\ttotal: 57.7s\tremaining: 53.3s\n",
      "520:\tlearn: 0.2869657\ttotal: 57.8s\tremaining: 53.1s\n",
      "521:\tlearn: 0.2869248\ttotal: 57.9s\tremaining: 53s\n",
      "522:\tlearn: 0.2868909\ttotal: 58s\tremaining: 52.9s\n",
      "523:\tlearn: 0.2868683\ttotal: 58.1s\tremaining: 52.8s\n",
      "524:\tlearn: 0.2868408\ttotal: 58.2s\tremaining: 52.7s\n",
      "525:\tlearn: 0.2868150\ttotal: 58.3s\tremaining: 52.6s\n",
      "526:\tlearn: 0.2867933\ttotal: 58.5s\tremaining: 52.5s\n",
      "527:\tlearn: 0.2867656\ttotal: 58.6s\tremaining: 52.4s\n",
      "528:\tlearn: 0.2867410\ttotal: 58.7s\tremaining: 52.3s\n",
      "529:\tlearn: 0.2867125\ttotal: 58.8s\tremaining: 52.1s\n",
      "530:\tlearn: 0.2866925\ttotal: 58.9s\tremaining: 52s\n",
      "531:\tlearn: 0.2866725\ttotal: 59s\tremaining: 51.9s\n",
      "532:\tlearn: 0.2866451\ttotal: 59.1s\tremaining: 51.8s\n",
      "533:\tlearn: 0.2866320\ttotal: 59.2s\tremaining: 51.7s\n",
      "534:\tlearn: 0.2865881\ttotal: 59.3s\tremaining: 51.6s\n",
      "535:\tlearn: 0.2865684\ttotal: 59.4s\tremaining: 51.5s\n",
      "536:\tlearn: 0.2865401\ttotal: 59.6s\tremaining: 51.3s\n",
      "537:\tlearn: 0.2865208\ttotal: 59.7s\tremaining: 51.2s\n",
      "538:\tlearn: 0.2865002\ttotal: 59.8s\tremaining: 51.1s\n",
      "539:\tlearn: 0.2864853\ttotal: 59.9s\tremaining: 51s\n",
      "540:\tlearn: 0.2864538\ttotal: 60s\tremaining: 50.9s\n",
      "541:\tlearn: 0.2864153\ttotal: 1m\tremaining: 50.8s\n",
      "542:\tlearn: 0.2863923\ttotal: 1m\tremaining: 50.7s\n",
      "543:\tlearn: 0.2863757\ttotal: 1m\tremaining: 50.5s\n",
      "544:\tlearn: 0.2863585\ttotal: 1m\tremaining: 50.4s\n",
      "545:\tlearn: 0.2863368\ttotal: 1m\tremaining: 50.3s\n",
      "546:\tlearn: 0.2863078\ttotal: 1m\tremaining: 50.2s\n",
      "547:\tlearn: 0.2862852\ttotal: 1m\tremaining: 50.1s\n",
      "548:\tlearn: 0.2862628\ttotal: 1m\tremaining: 50s\n",
      "549:\tlearn: 0.2862384\ttotal: 1m\tremaining: 49.9s\n",
      "550:\tlearn: 0.2862144\ttotal: 1m 1s\tremaining: 49.7s\n",
      "551:\tlearn: 0.2861890\ttotal: 1m 1s\tremaining: 49.6s\n",
      "552:\tlearn: 0.2861635\ttotal: 1m 1s\tremaining: 49.5s\n",
      "553:\tlearn: 0.2861474\ttotal: 1m 1s\tremaining: 49.4s\n",
      "554:\tlearn: 0.2861273\ttotal: 1m 1s\tremaining: 49.3s\n",
      "555:\tlearn: 0.2861079\ttotal: 1m 1s\tremaining: 49.2s\n",
      "556:\tlearn: 0.2860873\ttotal: 1m 1s\tremaining: 49.1s\n",
      "557:\tlearn: 0.2860686\ttotal: 1m 1s\tremaining: 48.9s\n",
      "558:\tlearn: 0.2860419\ttotal: 1m 1s\tremaining: 48.8s\n",
      "559:\tlearn: 0.2860254\ttotal: 1m 2s\tremaining: 48.7s\n",
      "560:\tlearn: 0.2859991\ttotal: 1m 2s\tremaining: 48.6s\n",
      "561:\tlearn: 0.2859739\ttotal: 1m 2s\tremaining: 48.5s\n",
      "562:\tlearn: 0.2859501\ttotal: 1m 2s\tremaining: 48.4s\n",
      "563:\tlearn: 0.2859246\ttotal: 1m 2s\tremaining: 48.3s\n",
      "564:\tlearn: 0.2859023\ttotal: 1m 2s\tremaining: 48.2s\n",
      "565:\tlearn: 0.2858828\ttotal: 1m 2s\tremaining: 48.1s\n",
      "566:\tlearn: 0.2858581\ttotal: 1m 2s\tremaining: 48s\n",
      "567:\tlearn: 0.2858343\ttotal: 1m 2s\tremaining: 47.9s\n",
      "568:\tlearn: 0.2858059\ttotal: 1m 3s\tremaining: 47.7s\n",
      "569:\tlearn: 0.2857834\ttotal: 1m 3s\tremaining: 47.6s\n",
      "570:\tlearn: 0.2857609\ttotal: 1m 3s\tremaining: 47.5s\n",
      "571:\tlearn: 0.2857239\ttotal: 1m 3s\tremaining: 47.4s\n",
      "572:\tlearn: 0.2856945\ttotal: 1m 3s\tremaining: 47.3s\n",
      "573:\tlearn: 0.2856791\ttotal: 1m 3s\tremaining: 47.2s\n",
      "574:\tlearn: 0.2856542\ttotal: 1m 3s\tremaining: 47.1s\n",
      "575:\tlearn: 0.2856359\ttotal: 1m 3s\tremaining: 46.9s\n",
      "576:\tlearn: 0.2856149\ttotal: 1m 3s\tremaining: 46.8s\n",
      "577:\tlearn: 0.2855857\ttotal: 1m 3s\tremaining: 46.7s\n",
      "578:\tlearn: 0.2855606\ttotal: 1m 4s\tremaining: 46.6s\n",
      "579:\tlearn: 0.2855128\ttotal: 1m 4s\tremaining: 46.5s\n",
      "580:\tlearn: 0.2854831\ttotal: 1m 4s\tremaining: 46.4s\n",
      "581:\tlearn: 0.2854629\ttotal: 1m 4s\tremaining: 46.3s\n",
      "582:\tlearn: 0.2854157\ttotal: 1m 4s\tremaining: 46.2s\n",
      "583:\tlearn: 0.2853980\ttotal: 1m 4s\tremaining: 46s\n",
      "584:\tlearn: 0.2853806\ttotal: 1m 4s\tremaining: 45.9s\n",
      "585:\tlearn: 0.2853487\ttotal: 1m 4s\tremaining: 45.8s\n",
      "586:\tlearn: 0.2853282\ttotal: 1m 4s\tremaining: 45.7s\n",
      "587:\tlearn: 0.2853150\ttotal: 1m 5s\tremaining: 45.6s\n",
      "588:\tlearn: 0.2852892\ttotal: 1m 5s\tremaining: 45.5s\n",
      "589:\tlearn: 0.2852673\ttotal: 1m 5s\tremaining: 45.4s\n",
      "590:\tlearn: 0.2852248\ttotal: 1m 5s\tremaining: 45.3s\n",
      "591:\tlearn: 0.2852031\ttotal: 1m 5s\tremaining: 45.1s\n",
      "592:\tlearn: 0.2851594\ttotal: 1m 5s\tremaining: 45s\n",
      "593:\tlearn: 0.2851296\ttotal: 1m 5s\tremaining: 44.9s\n",
      "594:\tlearn: 0.2851096\ttotal: 1m 5s\tremaining: 44.8s\n",
      "595:\tlearn: 0.2850886\ttotal: 1m 5s\tremaining: 44.7s\n",
      "596:\tlearn: 0.2850655\ttotal: 1m 6s\tremaining: 44.6s\n",
      "597:\tlearn: 0.2850476\ttotal: 1m 6s\tremaining: 44.5s\n",
      "598:\tlearn: 0.2850210\ttotal: 1m 6s\tremaining: 44.4s\n",
      "599:\tlearn: 0.2850013\ttotal: 1m 6s\tremaining: 44.2s\n",
      "600:\tlearn: 0.2849811\ttotal: 1m 6s\tremaining: 44.1s\n",
      "601:\tlearn: 0.2849607\ttotal: 1m 6s\tremaining: 44s\n",
      "602:\tlearn: 0.2849338\ttotal: 1m 6s\tremaining: 43.9s\n",
      "603:\tlearn: 0.2849125\ttotal: 1m 6s\tremaining: 43.8s\n",
      "604:\tlearn: 0.2848917\ttotal: 1m 6s\tremaining: 43.7s\n",
      "605:\tlearn: 0.2848686\ttotal: 1m 7s\tremaining: 43.6s\n",
      "606:\tlearn: 0.2848333\ttotal: 1m 7s\tremaining: 43.5s\n",
      "607:\tlearn: 0.2848172\ttotal: 1m 7s\tremaining: 43.4s\n",
      "608:\tlearn: 0.2847781\ttotal: 1m 7s\tremaining: 43.3s\n",
      "609:\tlearn: 0.2847620\ttotal: 1m 7s\tremaining: 43.2s\n",
      "610:\tlearn: 0.2847370\ttotal: 1m 7s\tremaining: 43s\n",
      "611:\tlearn: 0.2847133\ttotal: 1m 7s\tremaining: 42.9s\n",
      "612:\tlearn: 0.2846864\ttotal: 1m 7s\tremaining: 42.8s\n",
      "613:\tlearn: 0.2846504\ttotal: 1m 7s\tremaining: 42.7s\n",
      "614:\tlearn: 0.2846293\ttotal: 1m 8s\tremaining: 42.6s\n",
      "615:\tlearn: 0.2845943\ttotal: 1m 8s\tremaining: 42.5s\n",
      "616:\tlearn: 0.2845740\ttotal: 1m 8s\tremaining: 42.4s\n",
      "617:\tlearn: 0.2845492\ttotal: 1m 8s\tremaining: 42.3s\n",
      "618:\tlearn: 0.2845345\ttotal: 1m 8s\tremaining: 42.1s\n",
      "619:\tlearn: 0.2845192\ttotal: 1m 8s\tremaining: 42s\n",
      "620:\tlearn: 0.2844998\ttotal: 1m 8s\tremaining: 41.9s\n",
      "621:\tlearn: 0.2844825\ttotal: 1m 8s\tremaining: 41.8s\n",
      "622:\tlearn: 0.2844581\ttotal: 1m 8s\tremaining: 41.7s\n",
      "623:\tlearn: 0.2844340\ttotal: 1m 9s\tremaining: 41.6s\n",
      "624:\tlearn: 0.2844111\ttotal: 1m 9s\tremaining: 41.5s\n",
      "625:\tlearn: 0.2843846\ttotal: 1m 9s\tremaining: 41.4s\n",
      "626:\tlearn: 0.2843694\ttotal: 1m 9s\tremaining: 41.2s\n",
      "627:\tlearn: 0.2843451\ttotal: 1m 9s\tremaining: 41.1s\n",
      "628:\tlearn: 0.2843119\ttotal: 1m 9s\tremaining: 41s\n",
      "629:\tlearn: 0.2842833\ttotal: 1m 9s\tremaining: 40.9s\n",
      "630:\tlearn: 0.2842623\ttotal: 1m 9s\tremaining: 40.8s\n",
      "631:\tlearn: 0.2842284\ttotal: 1m 9s\tremaining: 40.7s\n"
     ]
    },
    {
     "name": "stdout",
     "output_type": "stream",
     "text": [
      "632:\tlearn: 0.2842069\ttotal: 1m 10s\tremaining: 40.6s\n",
      "633:\tlearn: 0.2841960\ttotal: 1m 10s\tremaining: 40.5s\n",
      "634:\tlearn: 0.2841776\ttotal: 1m 10s\tremaining: 40.4s\n",
      "635:\tlearn: 0.2841550\ttotal: 1m 10s\tremaining: 40.3s\n",
      "636:\tlearn: 0.2841240\ttotal: 1m 10s\tremaining: 40.1s\n",
      "637:\tlearn: 0.2841064\ttotal: 1m 10s\tremaining: 40s\n",
      "638:\tlearn: 0.2840887\ttotal: 1m 10s\tremaining: 39.9s\n",
      "639:\tlearn: 0.2840685\ttotal: 1m 10s\tremaining: 39.8s\n",
      "640:\tlearn: 0.2840411\ttotal: 1m 10s\tremaining: 39.7s\n",
      "641:\tlearn: 0.2840181\ttotal: 1m 11s\tremaining: 39.6s\n",
      "642:\tlearn: 0.2839991\ttotal: 1m 11s\tremaining: 39.5s\n",
      "643:\tlearn: 0.2839788\ttotal: 1m 11s\tremaining: 39.4s\n",
      "644:\tlearn: 0.2839602\ttotal: 1m 11s\tremaining: 39.3s\n",
      "645:\tlearn: 0.2839330\ttotal: 1m 11s\tremaining: 39.1s\n",
      "646:\tlearn: 0.2839035\ttotal: 1m 11s\tremaining: 39s\n",
      "647:\tlearn: 0.2838878\ttotal: 1m 11s\tremaining: 38.9s\n",
      "648:\tlearn: 0.2838749\ttotal: 1m 11s\tremaining: 38.8s\n",
      "649:\tlearn: 0.2838560\ttotal: 1m 11s\tremaining: 38.7s\n",
      "650:\tlearn: 0.2838366\ttotal: 1m 11s\tremaining: 38.6s\n",
      "651:\tlearn: 0.2838194\ttotal: 1m 12s\tremaining: 38.5s\n",
      "652:\tlearn: 0.2837989\ttotal: 1m 12s\tremaining: 38.4s\n",
      "653:\tlearn: 0.2837829\ttotal: 1m 12s\tremaining: 38.3s\n",
      "654:\tlearn: 0.2837652\ttotal: 1m 12s\tremaining: 38.1s\n",
      "655:\tlearn: 0.2837372\ttotal: 1m 12s\tremaining: 38s\n",
      "656:\tlearn: 0.2837121\ttotal: 1m 12s\tremaining: 37.9s\n",
      "657:\tlearn: 0.2836517\ttotal: 1m 12s\tremaining: 37.8s\n",
      "658:\tlearn: 0.2836305\ttotal: 1m 12s\tremaining: 37.7s\n",
      "659:\tlearn: 0.2836058\ttotal: 1m 12s\tremaining: 37.6s\n",
      "660:\tlearn: 0.2835810\ttotal: 1m 13s\tremaining: 37.5s\n",
      "661:\tlearn: 0.2835581\ttotal: 1m 13s\tremaining: 37.3s\n",
      "662:\tlearn: 0.2835286\ttotal: 1m 13s\tremaining: 37.2s\n",
      "663:\tlearn: 0.2835064\ttotal: 1m 13s\tremaining: 37.1s\n",
      "664:\tlearn: 0.2834878\ttotal: 1m 13s\tremaining: 37s\n",
      "665:\tlearn: 0.2834636\ttotal: 1m 13s\tremaining: 36.9s\n",
      "666:\tlearn: 0.2834512\ttotal: 1m 13s\tremaining: 36.8s\n",
      "667:\tlearn: 0.2834349\ttotal: 1m 13s\tremaining: 36.7s\n",
      "668:\tlearn: 0.2834123\ttotal: 1m 13s\tremaining: 36.6s\n",
      "669:\tlearn: 0.2833863\ttotal: 1m 14s\tremaining: 36.5s\n",
      "670:\tlearn: 0.2833670\ttotal: 1m 14s\tremaining: 36.4s\n",
      "671:\tlearn: 0.2833324\ttotal: 1m 14s\tremaining: 36.2s\n",
      "672:\tlearn: 0.2833143\ttotal: 1m 14s\tremaining: 36.1s\n",
      "673:\tlearn: 0.2832976\ttotal: 1m 14s\tremaining: 36s\n",
      "674:\tlearn: 0.2832769\ttotal: 1m 14s\tremaining: 35.9s\n",
      "675:\tlearn: 0.2832622\ttotal: 1m 14s\tremaining: 35.8s\n",
      "676:\tlearn: 0.2832446\ttotal: 1m 14s\tremaining: 35.7s\n",
      "677:\tlearn: 0.2832238\ttotal: 1m 14s\tremaining: 35.6s\n",
      "678:\tlearn: 0.2832003\ttotal: 1m 15s\tremaining: 35.5s\n",
      "679:\tlearn: 0.2831866\ttotal: 1m 15s\tremaining: 35.3s\n",
      "680:\tlearn: 0.2831663\ttotal: 1m 15s\tremaining: 35.2s\n",
      "681:\tlearn: 0.2831483\ttotal: 1m 15s\tremaining: 35.1s\n",
      "682:\tlearn: 0.2831243\ttotal: 1m 15s\tremaining: 35s\n",
      "683:\tlearn: 0.2831091\ttotal: 1m 15s\tremaining: 34.9s\n",
      "684:\tlearn: 0.2830810\ttotal: 1m 15s\tremaining: 34.8s\n",
      "685:\tlearn: 0.2830590\ttotal: 1m 15s\tremaining: 34.7s\n",
      "686:\tlearn: 0.2830432\ttotal: 1m 15s\tremaining: 34.6s\n",
      "687:\tlearn: 0.2830270\ttotal: 1m 15s\tremaining: 34.4s\n",
      "688:\tlearn: 0.2830087\ttotal: 1m 16s\tremaining: 34.3s\n",
      "689:\tlearn: 0.2829941\ttotal: 1m 16s\tremaining: 34.2s\n",
      "690:\tlearn: 0.2829581\ttotal: 1m 16s\tremaining: 34.1s\n",
      "691:\tlearn: 0.2829016\ttotal: 1m 16s\tremaining: 34s\n",
      "692:\tlearn: 0.2828756\ttotal: 1m 16s\tremaining: 33.9s\n",
      "693:\tlearn: 0.2828531\ttotal: 1m 16s\tremaining: 33.8s\n",
      "694:\tlearn: 0.2828366\ttotal: 1m 16s\tremaining: 33.7s\n",
      "695:\tlearn: 0.2828157\ttotal: 1m 16s\tremaining: 33.5s\n",
      "696:\tlearn: 0.2827950\ttotal: 1m 16s\tremaining: 33.4s\n",
      "697:\tlearn: 0.2827600\ttotal: 1m 17s\tremaining: 33.3s\n",
      "698:\tlearn: 0.2827407\ttotal: 1m 17s\tremaining: 33.2s\n",
      "699:\tlearn: 0.2827272\ttotal: 1m 17s\tremaining: 33.1s\n",
      "700:\tlearn: 0.2827026\ttotal: 1m 17s\tremaining: 33s\n",
      "701:\tlearn: 0.2826901\ttotal: 1m 17s\tremaining: 32.9s\n",
      "702:\tlearn: 0.2826446\ttotal: 1m 17s\tremaining: 32.8s\n",
      "703:\tlearn: 0.2826212\ttotal: 1m 17s\tremaining: 32.7s\n",
      "704:\tlearn: 0.2825963\ttotal: 1m 17s\tremaining: 32.6s\n",
      "705:\tlearn: 0.2825802\ttotal: 1m 17s\tremaining: 32.4s\n",
      "706:\tlearn: 0.2825671\ttotal: 1m 18s\tremaining: 32.3s\n",
      "707:\tlearn: 0.2825449\ttotal: 1m 18s\tremaining: 32.2s\n",
      "708:\tlearn: 0.2825216\ttotal: 1m 18s\tremaining: 32.1s\n",
      "709:\tlearn: 0.2825022\ttotal: 1m 18s\tremaining: 32s\n",
      "710:\tlearn: 0.2824802\ttotal: 1m 18s\tremaining: 31.9s\n",
      "711:\tlearn: 0.2824592\ttotal: 1m 18s\tremaining: 31.8s\n",
      "712:\tlearn: 0.2824351\ttotal: 1m 18s\tremaining: 31.7s\n",
      "713:\tlearn: 0.2824139\ttotal: 1m 18s\tremaining: 31.6s\n",
      "714:\tlearn: 0.2823641\ttotal: 1m 18s\tremaining: 31.5s\n",
      "715:\tlearn: 0.2823427\ttotal: 1m 19s\tremaining: 31.3s\n",
      "716:\tlearn: 0.2823239\ttotal: 1m 19s\tremaining: 31.2s\n",
      "717:\tlearn: 0.2823021\ttotal: 1m 19s\tremaining: 31.1s\n",
      "718:\tlearn: 0.2822810\ttotal: 1m 19s\tremaining: 31s\n",
      "719:\tlearn: 0.2822579\ttotal: 1m 19s\tremaining: 30.9s\n",
      "720:\tlearn: 0.2822366\ttotal: 1m 19s\tremaining: 30.8s\n",
      "721:\tlearn: 0.2822025\ttotal: 1m 19s\tremaining: 30.7s\n",
      "722:\tlearn: 0.2821755\ttotal: 1m 19s\tremaining: 30.6s\n",
      "723:\tlearn: 0.2821664\ttotal: 1m 19s\tremaining: 30.5s\n",
      "724:\tlearn: 0.2821432\ttotal: 1m 20s\tremaining: 30.3s\n",
      "725:\tlearn: 0.2821320\ttotal: 1m 20s\tremaining: 30.2s\n",
      "726:\tlearn: 0.2821122\ttotal: 1m 20s\tremaining: 30.1s\n",
      "727:\tlearn: 0.2820982\ttotal: 1m 20s\tremaining: 30s\n",
      "728:\tlearn: 0.2820812\ttotal: 1m 20s\tremaining: 29.9s\n",
      "729:\tlearn: 0.2820659\ttotal: 1m 20s\tremaining: 29.8s\n",
      "730:\tlearn: 0.2820497\ttotal: 1m 20s\tremaining: 29.7s\n",
      "731:\tlearn: 0.2820310\ttotal: 1m 20s\tremaining: 29.6s\n",
      "732:\tlearn: 0.2820102\ttotal: 1m 20s\tremaining: 29.5s\n",
      "733:\tlearn: 0.2819911\ttotal: 1m 20s\tremaining: 29.3s\n",
      "734:\tlearn: 0.2819675\ttotal: 1m 21s\tremaining: 29.2s\n",
      "735:\tlearn: 0.2819483\ttotal: 1m 21s\tremaining: 29.1s\n",
      "736:\tlearn: 0.2819262\ttotal: 1m 21s\tremaining: 29s\n",
      "737:\tlearn: 0.2819059\ttotal: 1m 21s\tremaining: 28.9s\n",
      "738:\tlearn: 0.2818908\ttotal: 1m 21s\tremaining: 28.8s\n",
      "739:\tlearn: 0.2818708\ttotal: 1m 21s\tremaining: 28.7s\n",
      "740:\tlearn: 0.2818460\ttotal: 1m 21s\tremaining: 28.6s\n",
      "741:\tlearn: 0.2818238\ttotal: 1m 21s\tremaining: 28.5s\n",
      "742:\tlearn: 0.2818118\ttotal: 1m 21s\tremaining: 28.4s\n",
      "743:\tlearn: 0.2817920\ttotal: 1m 22s\tremaining: 28.3s\n",
      "744:\tlearn: 0.2817743\ttotal: 1m 22s\tremaining: 28.1s\n",
      "745:\tlearn: 0.2817465\ttotal: 1m 22s\tremaining: 28s\n",
      "746:\tlearn: 0.2817231\ttotal: 1m 22s\tremaining: 27.9s\n",
      "747:\tlearn: 0.2817080\ttotal: 1m 22s\tremaining: 27.8s\n",
      "748:\tlearn: 0.2816828\ttotal: 1m 22s\tremaining: 27.7s\n",
      "749:\tlearn: 0.2816627\ttotal: 1m 22s\tremaining: 27.6s\n",
      "750:\tlearn: 0.2816447\ttotal: 1m 22s\tremaining: 27.5s\n",
      "751:\tlearn: 0.2816160\ttotal: 1m 23s\tremaining: 27.4s\n",
      "752:\tlearn: 0.2815963\ttotal: 1m 23s\tremaining: 27.3s\n",
      "753:\tlearn: 0.2815742\ttotal: 1m 23s\tremaining: 27.2s\n",
      "754:\tlearn: 0.2815589\ttotal: 1m 23s\tremaining: 27s\n",
      "755:\tlearn: 0.2815386\ttotal: 1m 23s\tremaining: 26.9s\n",
      "756:\tlearn: 0.2815193\ttotal: 1m 23s\tremaining: 26.8s\n",
      "757:\tlearn: 0.2815047\ttotal: 1m 23s\tremaining: 26.7s\n",
      "758:\tlearn: 0.2814893\ttotal: 1m 23s\tremaining: 26.6s\n",
      "759:\tlearn: 0.2814699\ttotal: 1m 23s\tremaining: 26.5s\n",
      "760:\tlearn: 0.2814368\ttotal: 1m 23s\tremaining: 26.4s\n",
      "761:\tlearn: 0.2814174\ttotal: 1m 24s\tremaining: 26.3s\n",
      "762:\tlearn: 0.2814043\ttotal: 1m 24s\tremaining: 26.2s\n",
      "763:\tlearn: 0.2813826\ttotal: 1m 24s\tremaining: 26s\n",
      "764:\tlearn: 0.2813597\ttotal: 1m 24s\tremaining: 25.9s\n",
      "765:\tlearn: 0.2813474\ttotal: 1m 24s\tremaining: 25.8s\n",
      "766:\tlearn: 0.2813279\ttotal: 1m 24s\tremaining: 25.7s\n",
      "767:\tlearn: 0.2813023\ttotal: 1m 24s\tremaining: 25.6s\n",
      "768:\tlearn: 0.2812863\ttotal: 1m 24s\tremaining: 25.5s\n",
      "769:\tlearn: 0.2812630\ttotal: 1m 25s\tremaining: 25.4s\n",
      "770:\tlearn: 0.2812425\ttotal: 1m 25s\tremaining: 25.3s\n",
      "771:\tlearn: 0.2812299\ttotal: 1m 25s\tremaining: 25.2s\n",
      "772:\tlearn: 0.2812154\ttotal: 1m 25s\tremaining: 25.1s\n",
      "773:\tlearn: 0.2811996\ttotal: 1m 25s\tremaining: 25s\n",
      "774:\tlearn: 0.2811587\ttotal: 1m 25s\tremaining: 24.8s\n",
      "775:\tlearn: 0.2811458\ttotal: 1m 25s\tremaining: 24.7s\n",
      "776:\tlearn: 0.2811272\ttotal: 1m 25s\tremaining: 24.6s\n",
      "777:\tlearn: 0.2811019\ttotal: 1m 25s\tremaining: 24.5s\n",
      "778:\tlearn: 0.2810813\ttotal: 1m 26s\tremaining: 24.4s\n",
      "779:\tlearn: 0.2810650\ttotal: 1m 26s\tremaining: 24.3s\n",
      "780:\tlearn: 0.2810447\ttotal: 1m 26s\tremaining: 24.2s\n",
      "781:\tlearn: 0.2810204\ttotal: 1m 26s\tremaining: 24.1s\n",
      "782:\tlearn: 0.2810028\ttotal: 1m 26s\tremaining: 24s\n",
      "783:\tlearn: 0.2809845\ttotal: 1m 26s\tremaining: 23.9s\n",
      "784:\tlearn: 0.2809538\ttotal: 1m 26s\tremaining: 23.8s\n",
      "785:\tlearn: 0.2809374\ttotal: 1m 26s\tremaining: 23.6s\n",
      "786:\tlearn: 0.2809258\ttotal: 1m 26s\tremaining: 23.5s\n",
      "787:\tlearn: 0.2809116\ttotal: 1m 27s\tremaining: 23.4s\n"
     ]
    },
    {
     "name": "stdout",
     "output_type": "stream",
     "text": [
      "788:\tlearn: 0.2808639\ttotal: 1m 27s\tremaining: 23.3s\n",
      "789:\tlearn: 0.2808458\ttotal: 1m 27s\tremaining: 23.2s\n",
      "790:\tlearn: 0.2808239\ttotal: 1m 27s\tremaining: 23.1s\n",
      "791:\tlearn: 0.2808044\ttotal: 1m 27s\tremaining: 23s\n",
      "792:\tlearn: 0.2807788\ttotal: 1m 27s\tremaining: 22.9s\n",
      "793:\tlearn: 0.2807652\ttotal: 1m 27s\tremaining: 22.8s\n",
      "794:\tlearn: 0.2807518\ttotal: 1m 27s\tremaining: 22.7s\n",
      "795:\tlearn: 0.2807208\ttotal: 1m 27s\tremaining: 22.5s\n",
      "796:\tlearn: 0.2807047\ttotal: 1m 28s\tremaining: 22.4s\n",
      "797:\tlearn: 0.2806899\ttotal: 1m 28s\tremaining: 22.3s\n",
      "798:\tlearn: 0.2806659\ttotal: 1m 28s\tremaining: 22.2s\n",
      "799:\tlearn: 0.2806436\ttotal: 1m 28s\tremaining: 22.1s\n",
      "800:\tlearn: 0.2806191\ttotal: 1m 28s\tremaining: 22s\n",
      "801:\tlearn: 0.2805912\ttotal: 1m 28s\tremaining: 21.9s\n",
      "802:\tlearn: 0.2805610\ttotal: 1m 28s\tremaining: 21.8s\n",
      "803:\tlearn: 0.2805317\ttotal: 1m 28s\tremaining: 21.7s\n",
      "804:\tlearn: 0.2805121\ttotal: 1m 28s\tremaining: 21.6s\n",
      "805:\tlearn: 0.2804965\ttotal: 1m 29s\tremaining: 21.4s\n",
      "806:\tlearn: 0.2804805\ttotal: 1m 29s\tremaining: 21.3s\n",
      "807:\tlearn: 0.2804585\ttotal: 1m 29s\tremaining: 21.2s\n",
      "808:\tlearn: 0.2804414\ttotal: 1m 29s\tremaining: 21.1s\n",
      "809:\tlearn: 0.2803712\ttotal: 1m 29s\tremaining: 21s\n",
      "810:\tlearn: 0.2803367\ttotal: 1m 29s\tremaining: 20.9s\n",
      "811:\tlearn: 0.2803159\ttotal: 1m 29s\tremaining: 20.8s\n",
      "812:\tlearn: 0.2802929\ttotal: 1m 29s\tremaining: 20.7s\n",
      "813:\tlearn: 0.2802764\ttotal: 1m 30s\tremaining: 20.6s\n",
      "814:\tlearn: 0.2802456\ttotal: 1m 30s\tremaining: 20.5s\n",
      "815:\tlearn: 0.2802214\ttotal: 1m 30s\tremaining: 20.3s\n",
      "816:\tlearn: 0.2801686\ttotal: 1m 30s\tremaining: 20.2s\n",
      "817:\tlearn: 0.2801276\ttotal: 1m 30s\tremaining: 20.1s\n",
      "818:\tlearn: 0.2801104\ttotal: 1m 30s\tremaining: 20s\n",
      "819:\tlearn: 0.2800613\ttotal: 1m 30s\tremaining: 19.9s\n",
      "820:\tlearn: 0.2800371\ttotal: 1m 30s\tremaining: 19.8s\n",
      "821:\tlearn: 0.2800237\ttotal: 1m 30s\tremaining: 19.7s\n",
      "822:\tlearn: 0.2799919\ttotal: 1m 31s\tremaining: 19.6s\n",
      "823:\tlearn: 0.2799721\ttotal: 1m 31s\tremaining: 19.5s\n",
      "824:\tlearn: 0.2799496\ttotal: 1m 31s\tremaining: 19.4s\n",
      "825:\tlearn: 0.2799313\ttotal: 1m 31s\tremaining: 19.2s\n",
      "826:\tlearn: 0.2799106\ttotal: 1m 31s\tremaining: 19.1s\n",
      "827:\tlearn: 0.2798927\ttotal: 1m 31s\tremaining: 19s\n",
      "828:\tlearn: 0.2798775\ttotal: 1m 31s\tremaining: 18.9s\n",
      "829:\tlearn: 0.2798577\ttotal: 1m 31s\tremaining: 18.8s\n",
      "830:\tlearn: 0.2798232\ttotal: 1m 31s\tremaining: 18.7s\n",
      "831:\tlearn: 0.2797856\ttotal: 1m 32s\tremaining: 18.6s\n",
      "832:\tlearn: 0.2797664\ttotal: 1m 32s\tremaining: 18.5s\n",
      "833:\tlearn: 0.2797437\ttotal: 1m 32s\tremaining: 18.4s\n",
      "834:\tlearn: 0.2797149\ttotal: 1m 32s\tremaining: 18.3s\n",
      "835:\tlearn: 0.2796977\ttotal: 1m 32s\tremaining: 18.2s\n",
      "836:\tlearn: 0.2796761\ttotal: 1m 32s\tremaining: 18s\n",
      "837:\tlearn: 0.2796506\ttotal: 1m 32s\tremaining: 17.9s\n",
      "838:\tlearn: 0.2796274\ttotal: 1m 32s\tremaining: 17.8s\n",
      "839:\tlearn: 0.2796061\ttotal: 1m 32s\tremaining: 17.7s\n",
      "840:\tlearn: 0.2795860\ttotal: 1m 33s\tremaining: 17.6s\n",
      "841:\tlearn: 0.2795650\ttotal: 1m 33s\tremaining: 17.5s\n",
      "842:\tlearn: 0.2795473\ttotal: 1m 33s\tremaining: 17.4s\n",
      "843:\tlearn: 0.2795307\ttotal: 1m 33s\tremaining: 17.3s\n",
      "844:\tlearn: 0.2795174\ttotal: 1m 33s\tremaining: 17.2s\n",
      "845:\tlearn: 0.2794996\ttotal: 1m 33s\tremaining: 17s\n",
      "846:\tlearn: 0.2794786\ttotal: 1m 33s\tremaining: 16.9s\n",
      "847:\tlearn: 0.2794667\ttotal: 1m 33s\tremaining: 16.8s\n",
      "848:\tlearn: 0.2794463\ttotal: 1m 33s\tremaining: 16.7s\n",
      "849:\tlearn: 0.2794295\ttotal: 1m 34s\tremaining: 16.6s\n",
      "850:\tlearn: 0.2794082\ttotal: 1m 34s\tremaining: 16.5s\n",
      "851:\tlearn: 0.2793868\ttotal: 1m 34s\tremaining: 16.4s\n",
      "852:\tlearn: 0.2793664\ttotal: 1m 34s\tremaining: 16.3s\n",
      "853:\tlearn: 0.2793449\ttotal: 1m 34s\tremaining: 16.2s\n",
      "854:\tlearn: 0.2793281\ttotal: 1m 34s\tremaining: 16.1s\n",
      "855:\tlearn: 0.2792955\ttotal: 1m 34s\tremaining: 15.9s\n",
      "856:\tlearn: 0.2792765\ttotal: 1m 34s\tremaining: 15.8s\n",
      "857:\tlearn: 0.2792595\ttotal: 1m 35s\tremaining: 15.7s\n",
      "858:\tlearn: 0.2792425\ttotal: 1m 35s\tremaining: 15.6s\n",
      "859:\tlearn: 0.2792223\ttotal: 1m 35s\tremaining: 15.5s\n",
      "860:\tlearn: 0.2792006\ttotal: 1m 35s\tremaining: 15.4s\n",
      "861:\tlearn: 0.2791862\ttotal: 1m 35s\tremaining: 15.3s\n",
      "862:\tlearn: 0.2791669\ttotal: 1m 35s\tremaining: 15.2s\n",
      "863:\tlearn: 0.2791506\ttotal: 1m 35s\tremaining: 15.1s\n",
      "864:\tlearn: 0.2791282\ttotal: 1m 35s\tremaining: 15s\n",
      "865:\tlearn: 0.2791012\ttotal: 1m 35s\tremaining: 14.8s\n",
      "866:\tlearn: 0.2790833\ttotal: 1m 36s\tremaining: 14.7s\n",
      "867:\tlearn: 0.2790681\ttotal: 1m 36s\tremaining: 14.6s\n",
      "868:\tlearn: 0.2790496\ttotal: 1m 36s\tremaining: 14.5s\n",
      "869:\tlearn: 0.2790229\ttotal: 1m 36s\tremaining: 14.4s\n",
      "870:\tlearn: 0.2790126\ttotal: 1m 36s\tremaining: 14.3s\n",
      "871:\tlearn: 0.2789951\ttotal: 1m 36s\tremaining: 14.2s\n",
      "872:\tlearn: 0.2789769\ttotal: 1m 36s\tremaining: 14.1s\n",
      "873:\tlearn: 0.2789624\ttotal: 1m 36s\tremaining: 14s\n",
      "874:\tlearn: 0.2789401\ttotal: 1m 36s\tremaining: 13.8s\n",
      "875:\tlearn: 0.2789260\ttotal: 1m 37s\tremaining: 13.7s\n",
      "876:\tlearn: 0.2789106\ttotal: 1m 37s\tremaining: 13.6s\n",
      "877:\tlearn: 0.2788927\ttotal: 1m 37s\tremaining: 13.5s\n",
      "878:\tlearn: 0.2788765\ttotal: 1m 37s\tremaining: 13.4s\n",
      "879:\tlearn: 0.2788527\ttotal: 1m 37s\tremaining: 13.3s\n",
      "880:\tlearn: 0.2788358\ttotal: 1m 37s\tremaining: 13.2s\n",
      "881:\tlearn: 0.2788178\ttotal: 1m 37s\tremaining: 13.1s\n",
      "882:\tlearn: 0.2787993\ttotal: 1m 37s\tremaining: 13s\n",
      "883:\tlearn: 0.2787864\ttotal: 1m 37s\tremaining: 12.9s\n",
      "884:\tlearn: 0.2787677\ttotal: 1m 38s\tremaining: 12.7s\n",
      "885:\tlearn: 0.2787476\ttotal: 1m 38s\tremaining: 12.6s\n",
      "886:\tlearn: 0.2787256\ttotal: 1m 38s\tremaining: 12.5s\n",
      "887:\tlearn: 0.2787105\ttotal: 1m 38s\tremaining: 12.4s\n",
      "888:\tlearn: 0.2786836\ttotal: 1m 38s\tremaining: 12.3s\n",
      "889:\tlearn: 0.2786723\ttotal: 1m 38s\tremaining: 12.2s\n",
      "890:\tlearn: 0.2786572\ttotal: 1m 38s\tremaining: 12.1s\n",
      "891:\tlearn: 0.2786320\ttotal: 1m 38s\tremaining: 12s\n",
      "892:\tlearn: 0.2786038\ttotal: 1m 38s\tremaining: 11.9s\n",
      "893:\tlearn: 0.2785824\ttotal: 1m 39s\tremaining: 11.7s\n",
      "894:\tlearn: 0.2785567\ttotal: 1m 39s\tremaining: 11.6s\n",
      "895:\tlearn: 0.2785439\ttotal: 1m 39s\tremaining: 11.5s\n",
      "896:\tlearn: 0.2785250\ttotal: 1m 39s\tremaining: 11.4s\n",
      "897:\tlearn: 0.2785080\ttotal: 1m 39s\tremaining: 11.3s\n",
      "898:\tlearn: 0.2784890\ttotal: 1m 39s\tremaining: 11.2s\n",
      "899:\tlearn: 0.2784685\ttotal: 1m 39s\tremaining: 11.1s\n",
      "900:\tlearn: 0.2784500\ttotal: 1m 39s\tremaining: 11s\n",
      "901:\tlearn: 0.2784229\ttotal: 1m 39s\tremaining: 10.9s\n",
      "902:\tlearn: 0.2784082\ttotal: 1m 40s\tremaining: 10.8s\n",
      "903:\tlearn: 0.2783908\ttotal: 1m 40s\tremaining: 10.6s\n",
      "904:\tlearn: 0.2783717\ttotal: 1m 40s\tremaining: 10.5s\n",
      "905:\tlearn: 0.2783588\ttotal: 1m 40s\tremaining: 10.4s\n",
      "906:\tlearn: 0.2783321\ttotal: 1m 40s\tremaining: 10.3s\n",
      "907:\tlearn: 0.2783135\ttotal: 1m 40s\tremaining: 10.2s\n",
      "908:\tlearn: 0.2782930\ttotal: 1m 40s\tremaining: 10.1s\n",
      "909:\tlearn: 0.2782812\ttotal: 1m 40s\tremaining: 9.98s\n",
      "910:\tlearn: 0.2782618\ttotal: 1m 40s\tremaining: 9.87s\n",
      "911:\tlearn: 0.2782411\ttotal: 1m 41s\tremaining: 9.75s\n",
      "912:\tlearn: 0.2782210\ttotal: 1m 41s\tremaining: 9.64s\n",
      "913:\tlearn: 0.2781952\ttotal: 1m 41s\tremaining: 9.53s\n",
      "914:\tlearn: 0.2781735\ttotal: 1m 41s\tremaining: 9.42s\n",
      "915:\tlearn: 0.2781505\ttotal: 1m 41s\tremaining: 9.31s\n",
      "916:\tlearn: 0.2781303\ttotal: 1m 41s\tremaining: 9.21s\n",
      "917:\tlearn: 0.2781162\ttotal: 1m 41s\tremaining: 9.09s\n",
      "918:\tlearn: 0.2780936\ttotal: 1m 41s\tremaining: 8.98s\n",
      "919:\tlearn: 0.2780795\ttotal: 1m 42s\tremaining: 8.87s\n",
      "920:\tlearn: 0.2780610\ttotal: 1m 42s\tremaining: 8.76s\n",
      "921:\tlearn: 0.2780410\ttotal: 1m 42s\tremaining: 8.65s\n",
      "922:\tlearn: 0.2780195\ttotal: 1m 42s\tremaining: 8.54s\n",
      "923:\tlearn: 0.2779932\ttotal: 1m 42s\tremaining: 8.43s\n",
      "924:\tlearn: 0.2779726\ttotal: 1m 42s\tremaining: 8.32s\n",
      "925:\tlearn: 0.2779516\ttotal: 1m 42s\tremaining: 8.21s\n",
      "926:\tlearn: 0.2779293\ttotal: 1m 42s\tremaining: 8.1s\n",
      "927:\tlearn: 0.2779113\ttotal: 1m 42s\tremaining: 7.99s\n",
      "928:\tlearn: 0.2778993\ttotal: 1m 43s\tremaining: 7.88s\n",
      "929:\tlearn: 0.2778809\ttotal: 1m 43s\tremaining: 7.76s\n",
      "930:\tlearn: 0.2778655\ttotal: 1m 43s\tremaining: 7.65s\n",
      "931:\tlearn: 0.2778437\ttotal: 1m 43s\tremaining: 7.54s\n",
      "932:\tlearn: 0.2778174\ttotal: 1m 43s\tremaining: 7.43s\n",
      "933:\tlearn: 0.2778080\ttotal: 1m 43s\tremaining: 7.32s\n",
      "934:\tlearn: 0.2777805\ttotal: 1m 43s\tremaining: 7.21s\n",
      "935:\tlearn: 0.2777611\ttotal: 1m 43s\tremaining: 7.1s\n",
      "936:\tlearn: 0.2777410\ttotal: 1m 43s\tremaining: 6.99s\n",
      "937:\tlearn: 0.2777225\ttotal: 1m 44s\tremaining: 6.88s\n",
      "938:\tlearn: 0.2777040\ttotal: 1m 44s\tremaining: 6.77s\n",
      "939:\tlearn: 0.2776855\ttotal: 1m 44s\tremaining: 6.66s\n",
      "940:\tlearn: 0.2776677\ttotal: 1m 44s\tremaining: 6.55s\n",
      "941:\tlearn: 0.2776550\ttotal: 1m 44s\tremaining: 6.44s\n",
      "942:\tlearn: 0.2776343\ttotal: 1m 44s\tremaining: 6.32s\n",
      "943:\tlearn: 0.2776172\ttotal: 1m 44s\tremaining: 6.21s\n"
     ]
    },
    {
     "name": "stdout",
     "output_type": "stream",
     "text": [
      "944:\tlearn: 0.2775985\ttotal: 1m 44s\tremaining: 6.1s\n",
      "945:\tlearn: 0.2775450\ttotal: 1m 44s\tremaining: 5.99s\n",
      "946:\tlearn: 0.2775317\ttotal: 1m 45s\tremaining: 5.88s\n",
      "947:\tlearn: 0.2775078\ttotal: 1m 45s\tremaining: 5.77s\n",
      "948:\tlearn: 0.2774931\ttotal: 1m 45s\tremaining: 5.66s\n",
      "949:\tlearn: 0.2774759\ttotal: 1m 45s\tremaining: 5.55s\n",
      "950:\tlearn: 0.2774585\ttotal: 1m 45s\tremaining: 5.44s\n",
      "951:\tlearn: 0.2774402\ttotal: 1m 45s\tremaining: 5.33s\n",
      "952:\tlearn: 0.2774216\ttotal: 1m 45s\tremaining: 5.21s\n",
      "953:\tlearn: 0.2774054\ttotal: 1m 45s\tremaining: 5.1s\n",
      "954:\tlearn: 0.2773890\ttotal: 1m 45s\tremaining: 4.99s\n",
      "955:\tlearn: 0.2773768\ttotal: 1m 46s\tremaining: 4.88s\n",
      "956:\tlearn: 0.2773306\ttotal: 1m 46s\tremaining: 4.77s\n",
      "957:\tlearn: 0.2773146\ttotal: 1m 46s\tremaining: 4.66s\n",
      "958:\tlearn: 0.2772947\ttotal: 1m 46s\tremaining: 4.55s\n",
      "959:\tlearn: 0.2772790\ttotal: 1m 46s\tremaining: 4.44s\n",
      "960:\tlearn: 0.2772609\ttotal: 1m 46s\tremaining: 4.33s\n",
      "961:\tlearn: 0.2772424\ttotal: 1m 46s\tremaining: 4.22s\n",
      "962:\tlearn: 0.2772352\ttotal: 1m 46s\tremaining: 4.11s\n",
      "963:\tlearn: 0.2772183\ttotal: 1m 47s\tremaining: 4s\n",
      "964:\tlearn: 0.2771994\ttotal: 1m 47s\tremaining: 3.89s\n",
      "965:\tlearn: 0.2771823\ttotal: 1m 47s\tremaining: 3.77s\n",
      "966:\tlearn: 0.2771593\ttotal: 1m 47s\tremaining: 3.67s\n",
      "967:\tlearn: 0.2771448\ttotal: 1m 47s\tremaining: 3.55s\n",
      "968:\tlearn: 0.2771293\ttotal: 1m 47s\tremaining: 3.44s\n",
      "969:\tlearn: 0.2771107\ttotal: 1m 47s\tremaining: 3.33s\n",
      "970:\tlearn: 0.2770996\ttotal: 1m 47s\tremaining: 3.22s\n",
      "971:\tlearn: 0.2770851\ttotal: 1m 47s\tremaining: 3.11s\n",
      "972:\tlearn: 0.2770672\ttotal: 1m 48s\tremaining: 3s\n",
      "973:\tlearn: 0.2770490\ttotal: 1m 48s\tremaining: 2.89s\n",
      "974:\tlearn: 0.2770384\ttotal: 1m 48s\tremaining: 2.78s\n",
      "975:\tlearn: 0.2770215\ttotal: 1m 48s\tremaining: 2.67s\n",
      "976:\tlearn: 0.2769957\ttotal: 1m 48s\tremaining: 2.55s\n",
      "977:\tlearn: 0.2769790\ttotal: 1m 48s\tremaining: 2.44s\n",
      "978:\tlearn: 0.2769594\ttotal: 1m 48s\tremaining: 2.33s\n",
      "979:\tlearn: 0.2769430\ttotal: 1m 48s\tremaining: 2.22s\n",
      "980:\tlearn: 0.2769277\ttotal: 1m 48s\tremaining: 2.11s\n",
      "981:\tlearn: 0.2769106\ttotal: 1m 49s\tremaining: 2s\n",
      "982:\tlearn: 0.2769014\ttotal: 1m 49s\tremaining: 1.89s\n",
      "983:\tlearn: 0.2768839\ttotal: 1m 49s\tremaining: 1.78s\n",
      "984:\tlearn: 0.2768664\ttotal: 1m 49s\tremaining: 1.67s\n",
      "985:\tlearn: 0.2768544\ttotal: 1m 49s\tremaining: 1.55s\n",
      "986:\tlearn: 0.2768387\ttotal: 1m 49s\tremaining: 1.44s\n",
      "987:\tlearn: 0.2768200\ttotal: 1m 49s\tremaining: 1.33s\n",
      "988:\tlearn: 0.2768006\ttotal: 1m 49s\tremaining: 1.22s\n",
      "989:\tlearn: 0.2767770\ttotal: 1m 49s\tremaining: 1.11s\n",
      "990:\tlearn: 0.2767259\ttotal: 1m 50s\tremaining: 1000ms\n",
      "991:\tlearn: 0.2767073\ttotal: 1m 50s\tremaining: 889ms\n",
      "992:\tlearn: 0.2766879\ttotal: 1m 50s\tremaining: 778ms\n",
      "993:\tlearn: 0.2766807\ttotal: 1m 50s\tremaining: 667ms\n",
      "994:\tlearn: 0.2766662\ttotal: 1m 50s\tremaining: 556ms\n",
      "995:\tlearn: 0.2766423\ttotal: 1m 50s\tremaining: 444ms\n",
      "996:\tlearn: 0.2766297\ttotal: 1m 50s\tremaining: 333ms\n",
      "997:\tlearn: 0.2766106\ttotal: 1m 50s\tremaining: 222ms\n",
      "998:\tlearn: 0.2765948\ttotal: 1m 51s\tremaining: 111ms\n",
      "999:\tlearn: 0.2765817\ttotal: 1m 51s\tremaining: 0us\n"
     ]
    },
    {
     "ename": "NameError",
     "evalue": "name 'scores' is not defined",
     "output_type": "error",
     "traceback": [
      "\u001b[1;31m---------------------------------------------------------------------------\u001b[0m",
      "\u001b[1;31mNameError\u001b[0m                                 Traceback (most recent call last)",
      "\u001b[1;32m<ipython-input-139-597918a134c3>\u001b[0m in \u001b[0;36m<module>\u001b[1;34m\u001b[0m\n\u001b[0;32m      8\u001b[0m \u001b[1;33m\u001b[0m\u001b[0m\n\u001b[0;32m      9\u001b[0m \u001b[0mscore\u001b[0m \u001b[1;33m=\u001b[0m \u001b[0mroc_auc_score\u001b[0m\u001b[1;33m(\u001b[0m\u001b[0mvalid_y\u001b[0m\u001b[1;33m,\u001b[0m \u001b[0mpred_proba\u001b[0m\u001b[1;33m)\u001b[0m\u001b[1;33m\u001b[0m\u001b[1;33m\u001b[0m\u001b[0m\n\u001b[1;32m---> 10\u001b[1;33m \u001b[0mscores\u001b[0m\u001b[1;33m.\u001b[0m\u001b[0mappend\u001b[0m\u001b[1;33m(\u001b[0m\u001b[0mscore\u001b[0m\u001b[1;33m)\u001b[0m\u001b[1;33m\u001b[0m\u001b[1;33m\u001b[0m\u001b[0m\n\u001b[0m",
      "\u001b[1;31mNameError\u001b[0m: name 'scores' is not defined"
     ]
    }
   ],
   "source": [
    "\n",
    "model = CatBoostClassifier(random_state=42)\n",
    "\n",
    "    \n",
    "model.fit(train_X, train_y)\n",
    "    \n",
    "pred= model.predict(valid_X)\n",
    "pred_proba = model.predict_proba(valid_X)[:,1]\n",
    "    \n",
    "score = roc_auc_score(valid_y, pred_proba)"
   ]
  },
  {
   "cell_type": "code",
   "execution_count": 140,
   "metadata": {},
   "outputs": [
    {
     "data": {
      "text/plain": [
       "0.9429443527614216"
      ]
     },
     "execution_count": 140,
     "metadata": {},
     "output_type": "execute_result"
    }
   ],
   "source": [
    "score"
   ]
  },
  {
   "cell_type": "code",
   "execution_count": null,
   "metadata": {
    "colab": {
     "base_uri": "https://localhost:8080/"
    },
    "id": "f7Zy4yl-ew_J",
    "outputId": "ee8dbc4f-cc18-4bf0-c394-4929199306c4"
   },
   "outputs": [],
   "source": [
    "print(f'Catboost모델의 ROC_AUC 평균 성능:  {np.mean(scores):.4f}')"
   ]
  },
  {
   "cell_type": "code",
   "execution_count": null,
   "metadata": {
    "colab": {
     "base_uri": "https://localhost:8080/"
    },
    "id": "3_-AZ4Oaew_J",
    "outputId": "aafe50fb-d644-4b78-d94e-1d2570c9be01"
   },
   "outputs": [],
   "source": [
    "print(roc_auc_score(valid_y,model.predict_proba(valid_X)[:,1]))"
   ]
  },
  {
   "cell_type": "markdown",
   "metadata": {
    "id": "3_pHD9flpvZZ"
   },
   "source": [
    "* 점수확인"
   ]
  },
  {
   "cell_type": "code",
   "execution_count": 141,
   "metadata": {
    "id": "068-2rTJMAZh"
   },
   "outputs": [],
   "source": [
    "from sklearn.metrics import *\n",
    "\n",
    "def get_clf_eval(y_test, pred=None, pred_proba=None): \n",
    "    confusion = confusion_matrix(y_test, pred) \n",
    "    accuracy = accuracy_score(y_test, pred) \n",
    "    precision = precision_score(y_test, pred) \n",
    "    recall = recall_score(y_test, pred) \n",
    "    f1 = f1_score(y_test, pred) \n",
    "    # ROC AUC \n",
    "    roc_auc = roc_auc_score(y_test, pred_proba) \n",
    "    \n",
    "    print('Confusion Matrix') \n",
    "    print(confusion) \n",
    "    print('accuracy: {0:.4f}, precision: {1:.4f}, recall: {2:.4f}, f1: {3:.4f}, roc_auc: {4:.4f}'.format( accuracy, precision, recall, f1, roc_auc))"
   ]
  },
  {
   "cell_type": "code",
   "execution_count": 142,
   "metadata": {
    "colab": {
     "base_uri": "https://localhost:8080/"
    },
    "id": "cR409xZGew_K",
    "outputId": "ff1c1d69-fc7f-48ee-b006-24c258ea165d"
   },
   "outputs": [
    {
     "name": "stdout",
     "output_type": "stream",
     "text": [
      "Confusion Matrix\n",
      "[[201980  23899]\n",
      " [ 21939 103346]]\n",
      "accuracy: 0.8695, precision: 0.8122, recall: 0.8249, f1: 0.8185, roc_auc: 0.9429\n"
     ]
    }
   ],
   "source": [
    "get_clf_eval(valid_y,pred,pred_proba)"
   ]
  },
  {
   "cell_type": "markdown",
   "metadata": {
    "id": "JDsbi2eTMCpb"
   },
   "source": [
    "# 7. Submission"
   ]
  },
  {
   "cell_type": "code",
   "execution_count": 143,
   "metadata": {
    "id": "rXctYRHnRkh2"
   },
   "outputs": [],
   "source": [
    "pd.DataFrame({'ID': ID, 'STATUS':  model.predict_proba(X_test)[:,1]}).to_csv('Catboost_0.89732.csv', index=False)"
   ]
  }
 ],
 "metadata": {
  "colab": {
   "machine_shape": "hm",
   "name": "###1215_CAT_0.89580.ipynb",
   "provenance": []
  },
  "kernelspec": {
   "display_name": "Python 3",
   "language": "python",
   "name": "python3"
  },
  "language_info": {
   "codemirror_mode": {
    "name": "ipython",
    "version": 3
   },
   "file_extension": ".py",
   "mimetype": "text/x-python",
   "name": "python",
   "nbconvert_exporter": "python",
   "pygments_lexer": "ipython3",
   "version": "3.8.5"
  }
 },
 "nbformat": 4,
 "nbformat_minor": 1
}
