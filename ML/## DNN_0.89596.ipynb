{
 "cells": [
  {
   "cell_type": "markdown",
   "metadata": {
    "id": "rSlGkmrvWWCN"
   },
   "source": [
    "# 1. Import"
   ]
  },
  {
   "cell_type": "code",
   "execution_count": 1,
   "metadata": {
    "executionInfo": {
     "elapsed": 378,
     "status": "ok",
     "timestamp": 1639203197688,
     "user": {
      "displayName": "나ᄋ8ᄋ",
      "photoUrl": "https://lh3.googleusercontent.com/a/default-user=s64",
      "userId": "05265208169833205553"
     },
     "user_tz": -540
    },
    "id": "D1cHjZa0WWCd"
   },
   "outputs": [],
   "source": [
    "import pandas as pd\n",
    "import numpy as np\n",
    "import matplotlib.pyplot as plt\n",
    "import gc\n",
    "import warnings\n",
    "warnings.filterwarnings(\"ignore\")\n",
    "\n",
    "from tqdm import tqdm\n",
    "\n",
    "# Data Wrangling\n",
    "import pandas as pd\n",
    "from pandas import Series, DataFrame\n",
    "import numpy as np\n",
    "\n",
    "# Visualization\n",
    "import matplotlib.pylab as plt\n",
    "from matplotlib import font_manager, rc\n",
    "import seaborn as sns\n",
    "\n",
    "# Preprocessing & Feature Engineering\n",
    "from sklearn.model_selection import train_test_split\n",
    "\n",
    "# Modeling\n",
    "from lightgbm import LGBMClassifier\n",
    "\n",
    "# Evaluation\n",
    "from sklearn.metrics import *\n",
    "\n",
    "# Utility\n",
    "import os\n",
    "import time\n",
    "import random\n",
    "import warnings; warnings.filterwarnings(\"ignore\")\n",
    "from IPython.display import Image\n",
    "import pickle\n",
    "from tqdm import tqdm, tqdm_notebook\n",
    "import platform\n",
    "from itertools import combinations"
   ]
  },
  {
   "cell_type": "markdown",
   "metadata": {
    "id": "pvBIb77jWWCk"
   },
   "source": [
    "# 2. Read Data"
   ]
  },
  {
   "cell_type": "code",
   "execution_count": 2,
   "metadata": {
    "colab": {
     "base_uri": "https://localhost:8080/"
    },
    "executionInfo": {
     "elapsed": 6906,
     "status": "ok",
     "timestamp": 1639203205317,
     "user": {
      "displayName": "나ᄋ8ᄋ",
      "photoUrl": "https://lh3.googleusercontent.com/a/default-user=s64",
      "userId": "05265208169833205553"
     },
     "user_tz": -540
    },
    "id": "eSGXoOJ6duE-",
    "outputId": "3f076ba4-2524-4cf1-b05f-8aae82b6b451"
   },
   "outputs": [],
   "source": [
    "panel = pd.read_csv(os.path.abspath(\"../input\")+'/panel.csv')\n",
    "survey = pd.read_csv(os.path.abspath(\"../input\")+'/survey.csv')\n",
    "response_train = pd.read_csv(os.path.abspath(\"../input\")+'/response_train.csv')\n",
    "response_test = pd.read_csv(os.path.abspath(\"../input\")+'/response_test.csv')"
   ]
  },
  {
   "cell_type": "markdown",
   "metadata": {
    "id": "L4GOCsuKWWCm"
   },
   "source": [
    "__< 데이터 설명 >__  \n",
    "  \n",
    "* __panel__  \n",
    "  \n",
    "`GENDER` : 성별 - 1:남자 / 2:여자  \n",
    "`REGION` : 지역  \n",
    "`SQ1 ~ DQ7` : 설문조사 질문 설명  \n",
    "  \n",
    "* __Survey__  \n",
    "  \n",
    "`IR` : 난이도(응답가능성, 100이 최고) - 수치가 높으면 난이도가 높음  \n",
    "`LOI` : 설문하는데 걸리는 시간 (분단위)  \n",
    "`CPI` : 패널 응답 리워드 포인트 (1P~)  \n",
    "  \n",
    "* __Response_train__  \n",
    "  \n",
    "`ID` : submission을 식별하기 위한 ID로 사용"
   ]
  },
  {
   "cell_type": "markdown",
   "metadata": {
    "id": "_AYoef--WWCn"
   },
   "source": [
    "# 3. Data Cleansing"
   ]
  },
  {
   "cell_type": "markdown",
   "metadata": {
    "id": "ef9nmjBDWWCo"
   },
   "source": [
    "### panel"
   ]
  },
  {
   "cell_type": "code",
   "execution_count": 3,
   "metadata": {
    "colab": {
     "base_uri": "https://localhost:8080/"
    },
    "executionInfo": {
     "elapsed": 45,
     "status": "ok",
     "timestamp": 1639203205318,
     "user": {
      "displayName": "나ᄋ8ᄋ",
      "photoUrl": "https://lh3.googleusercontent.com/a/default-user=s64",
      "userId": "05265208169833205553"
     },
     "user_tz": -540
    },
    "id": "1duVNJq0WWCp",
    "outputId": "123fdf76-e5ec-4f45-d79a-e8ad1a4643c1",
    "scrolled": true
   },
   "outputs": [
    {
     "data": {
      "text/plain": [
       "218809"
      ]
     },
     "execution_count": 3,
     "metadata": {},
     "output_type": "execute_result"
    }
   ],
   "source": [
    "# panel 결측치 개수 확인\n",
    "panel.isna().sum().sum()"
   ]
  },
  {
   "cell_type": "code",
   "execution_count": 4,
   "metadata": {
    "colab": {
     "base_uri": "https://localhost:8080/"
    },
    "executionInfo": {
     "elapsed": 41,
     "status": "ok",
     "timestamp": 1639203205320,
     "user": {
      "displayName": "나ᄋ8ᄋ",
      "photoUrl": "https://lh3.googleusercontent.com/a/default-user=s64",
      "userId": "05265208169833205553"
     },
     "user_tz": -540
    },
    "id": "HK9B2aFwWWCs",
    "outputId": "85b095f0-bddf-42bd-a772-283237a7124f"
   },
   "outputs": [
    {
     "data": {
      "text/plain": [
       "1982.0"
      ]
     },
     "execution_count": 4,
     "metadata": {},
     "output_type": "execute_result"
    }
   ],
   "source": [
    "# BIRTH 대체할 결측치 확인\n",
    "panel.BIRTH.value_counts().sort_values(ascending = False).index[0]"
   ]
  },
  {
   "cell_type": "code",
   "execution_count": 5,
   "metadata": {
    "colab": {
     "base_uri": "https://localhost:8080/"
    },
    "executionInfo": {
     "elapsed": 40,
     "status": "ok",
     "timestamp": 1639203205322,
     "user": {
      "displayName": "나ᄋ8ᄋ",
      "photoUrl": "https://lh3.googleusercontent.com/a/default-user=s64",
      "userId": "05265208169833205553"
     },
     "user_tz": -540
    },
    "id": "WJRVsYKLWWCu",
    "outputId": "5af3fc22-3bd1-466b-b339-1ac67fa14af4",
    "scrolled": true
   },
   "outputs": [
    {
     "data": {
      "text/plain": [
       "2.0"
      ]
     },
     "execution_count": 5,
     "metadata": {},
     "output_type": "execute_result"
    }
   ],
   "source": [
    "# GENDER 대체할 결측치 확인\n",
    "panel.GENDER.value_counts().sort_values(ascending = False).index[0]"
   ]
  },
  {
   "cell_type": "code",
   "execution_count": 6,
   "metadata": {
    "colab": {
     "base_uri": "https://localhost:8080/"
    },
    "executionInfo": {
     "elapsed": 38,
     "status": "ok",
     "timestamp": 1639203205323,
     "user": {
      "displayName": "나ᄋ8ᄋ",
      "photoUrl": "https://lh3.googleusercontent.com/a/default-user=s64",
      "userId": "05265208169833205553"
     },
     "user_tz": -540
    },
    "id": "1FJJrh93WWCw",
    "outputId": "39c698f2-1e62-4829-d423-fffb546626f4"
   },
   "outputs": [
    {
     "data": {
      "text/plain": [
       "2.0"
      ]
     },
     "execution_count": 6,
     "metadata": {},
     "output_type": "execute_result"
    }
   ],
   "source": [
    "# REGION 대체할 결측치 확인\n",
    "panel.REGION.value_counts().sort_values(ascending = False).index[0]"
   ]
  },
  {
   "cell_type": "code",
   "execution_count": 7,
   "metadata": {
    "executionInfo": {
     "elapsed": 36,
     "status": "ok",
     "timestamp": 1639203205324,
     "user": {
      "displayName": "나ᄋ8ᄋ",
      "photoUrl": "https://lh3.googleusercontent.com/a/default-user=s64",
      "userId": "05265208169833205553"
     },
     "user_tz": -540
    },
    "id": "0awfokAYWWCy"
   },
   "outputs": [],
   "source": [
    "# 결측치 처리\n",
    "panel.BIRTH.fillna(panel.BIRTH.value_counts().sort_values(ascending = False).index[0],inplace = True)\n",
    "panel.GENDER.fillna(panel.GENDER.value_counts().sort_values(ascending = False).index[0], inplace = True)\n",
    "panel.REGION.fillna(panel.REGION.value_counts().sort_values(ascending = False).index[0],inplace = True)\n",
    "\n",
    "## 나머지 데이터는 설문조사 결과이므로 0으로 처리\n",
    "panel.fillna(0,inplace = True)"
   ]
  },
  {
   "cell_type": "code",
   "execution_count": 8,
   "metadata": {
    "colab": {
     "base_uri": "https://localhost:8080/"
    },
    "executionInfo": {
     "elapsed": 36,
     "status": "ok",
     "timestamp": 1639203205325,
     "user": {
      "displayName": "나ᄋ8ᄋ",
      "photoUrl": "https://lh3.googleusercontent.com/a/default-user=s64",
      "userId": "05265208169833205553"
     },
     "user_tz": -540
    },
    "id": "RLKU0IdaWWCz",
    "outputId": "0edb1551-54af-4b49-e79f-815f49154c6a"
   },
   "outputs": [
    {
     "data": {
      "text/plain": [
       "0"
      ]
     },
     "execution_count": 8,
     "metadata": {},
     "output_type": "execute_result"
    }
   ],
   "source": [
    "# 결측치 처리 후 확인\n",
    "panel.isna().sum().sum()"
   ]
  },
  {
   "cell_type": "markdown",
   "metadata": {
    "id": "r_6M93ZJWWC0"
   },
   "source": [
    "### 질문 데이터 전처리"
   ]
  },
  {
   "cell_type": "markdown",
   "metadata": {
    "id": "uRhPXlRpctaX"
   },
   "source": [
    "__< 처리 방법 >__  \n",
    "  \n",
    "* ',' , '.' 으로 이루어진 값을 `split`을 통해 응답값 통일화  \n",
    "* 질문 선지에 없는 답이 명시되어 있는 경우 : __-1__  \n",
    "* 멀티값인 경우 : __-2__"
   ]
  },
  {
   "cell_type": "markdown",
   "metadata": {
    "id": "o3eIVxSgWWC1"
   },
   "source": [
    "SQ1 - 성별"
   ]
  },
  {
   "cell_type": "code",
   "execution_count": 9,
   "metadata": {
    "executionInfo": {
     "elapsed": 34,
     "status": "ok",
     "timestamp": 1639203205326,
     "user": {
      "displayName": "나ᄋ8ᄋ",
      "photoUrl": "https://lh3.googleusercontent.com/a/default-user=s64",
      "userId": "05265208169833205553"
     },
     "user_tz": -540
    },
    "id": "tS-1Tq9lWWC2"
   },
   "outputs": [],
   "source": [
    "# `GENDER`열이 존재하기 때문에 삭제\n",
    "panel = panel.drop(columns = ['SQ1'])"
   ]
  },
  {
   "cell_type": "markdown",
   "metadata": {
    "id": "VI3diJXGWWC3"
   },
   "source": [
    "SQ2 - 출생년도"
   ]
  },
  {
   "cell_type": "code",
   "execution_count": 10,
   "metadata": {
    "executionInfo": {
     "elapsed": 34,
     "status": "ok",
     "timestamp": 1639203205327,
     "user": {
      "displayName": "나ᄋ8ᄋ",
      "photoUrl": "https://lh3.googleusercontent.com/a/default-user=s64",
      "userId": "05265208169833205553"
     },
     "user_tz": -540
    },
    "id": "OaYiqL1MWWC4"
   },
   "outputs": [],
   "source": [
    "# error로 변환\n",
    "panel.loc[panel['SQ2'] == 1 , 'SQ2'] = -1\n",
    "\n",
    "# BIRTH와 SQ2의 답이 다른 경우 error로 변환\n",
    "panel.loc[panel['SQ2'] != panel['BIRTH'] , 'SQ2'] = -1\n",
    "\n",
    "# int 변환\n",
    "panel['SQ2'] = panel['SQ2'].astype(int)"
   ]
  },
  {
   "cell_type": "markdown",
   "metadata": {
    "id": "eX_FMdr3WWC5"
   },
   "source": [
    "SQ3 - 사는 지역"
   ]
  },
  {
   "cell_type": "code",
   "execution_count": 11,
   "metadata": {
    "executionInfo": {
     "elapsed": 34,
     "status": "ok",
     "timestamp": 1639203205328,
     "user": {
      "displayName": "나ᄋ8ᄋ",
      "photoUrl": "https://lh3.googleusercontent.com/a/default-user=s64",
      "userId": "05265208169833205553"
     },
     "user_tz": -540
    },
    "id": "ZRKK87qYWWC6"
   },
   "outputs": [],
   "source": [
    "panel['SQ3'] = panel['SQ3'].astype(str)\n",
    "panel['SQ3'] = panel.SQ3.apply(lambda x : x.split('.')[0] if '.' in x else x).apply(lambda x : x.split(',')[0] if ',' in x else x)\n",
    "panel['SQ3'] = panel['SQ3'].astype(int)"
   ]
  },
  {
   "cell_type": "markdown",
   "metadata": {
    "id": "SmTmv-OHWWC7"
   },
   "source": [
    "SQ4 - 사는 곳 유형"
   ]
  },
  {
   "cell_type": "code",
   "execution_count": 12,
   "metadata": {
    "executionInfo": {
     "elapsed": 33,
     "status": "ok",
     "timestamp": 1639203205329,
     "user": {
      "displayName": "나ᄋ8ᄋ",
      "photoUrl": "https://lh3.googleusercontent.com/a/default-user=s64",
      "userId": "05265208169833205553"
     },
     "user_tz": -540
    },
    "id": "ERj8ygpCctag"
   },
   "outputs": [],
   "source": [
    "# SQ4 질문의 답\n",
    "lst_SQ4 = list(np.arange(0,7,1).astype(str));lst_SQ4.append('97');lst_SQ4.append('-2')"
   ]
  },
  {
   "cell_type": "code",
   "execution_count": 13,
   "metadata": {
    "executionInfo": {
     "elapsed": 33,
     "status": "ok",
     "timestamp": 1639203205330,
     "user": {
      "displayName": "나ᄋ8ᄋ",
      "photoUrl": "https://lh3.googleusercontent.com/a/default-user=s64",
      "userId": "05265208169833205553"
     },
     "user_tz": -540
    },
    "id": "JHzhrgHRctah"
   },
   "outputs": [],
   "source": [
    "panel['SQ4'] = panel['SQ4'].astype(str)\n",
    "panel['SQ4'] = panel.SQ4.apply(lambda x : x.split(',')[0] if x.split(',')[0] == '97' else x).apply(lambda x : x.split(',')[0] if len(x) < 3 else x).apply(lambda x : x if x in lst_SQ4 else -1)\n",
    "panel['SQ4'] = panel['SQ4'].astype(int)"
   ]
  },
  {
   "cell_type": "markdown",
   "metadata": {
    "id": "Jszt2MbnWWC9"
   },
   "source": [
    "SQ5 - 최종학력"
   ]
  },
  {
   "cell_type": "code",
   "execution_count": 14,
   "metadata": {
    "executionInfo": {
     "elapsed": 914,
     "status": "ok",
     "timestamp": 1639203206213,
     "user": {
      "displayName": "나ᄋ8ᄋ",
      "photoUrl": "https://lh3.googleusercontent.com/a/default-user=s64",
      "userId": "05265208169833205553"
     },
     "user_tz": -540
    },
    "id": "IGTx6OXHctai"
   },
   "outputs": [],
   "source": [
    "# SQ5 질문의 답\n",
    "lst_SQ5 = list(np.arange(0,5,1).astype(str))"
   ]
  },
  {
   "cell_type": "code",
   "execution_count": 15,
   "metadata": {
    "executionInfo": {
     "elapsed": 192,
     "status": "ok",
     "timestamp": 1639203206214,
     "user": {
      "displayName": "나ᄋ8ᄋ",
      "photoUrl": "https://lh3.googleusercontent.com/a/default-user=s64",
      "userId": "05265208169833205553"
     },
     "user_tz": -540
    },
    "id": "JM0lWjWmWWC9"
   },
   "outputs": [],
   "source": [
    "panel['SQ5'] = panel['SQ5'].astype(str)\n",
    "panel['SQ5'] = panel.SQ5.apply(lambda x : x if x in lst_SQ5  else '-1')\n",
    "panel['SQ5'] = panel['SQ5'].astype(int)"
   ]
  },
  {
   "cell_type": "markdown",
   "metadata": {
    "id": "OoKjUEVNWWC_"
   },
   "source": [
    "SQ6 - 결혼 유무"
   ]
  },
  {
   "cell_type": "code",
   "execution_count": 16,
   "metadata": {
    "executionInfo": {
     "elapsed": 191,
     "status": "ok",
     "timestamp": 1639203206215,
     "user": {
      "displayName": "나ᄋ8ᄋ",
      "photoUrl": "https://lh3.googleusercontent.com/a/default-user=s64",
      "userId": "05265208169833205553"
     },
     "user_tz": -540
    },
    "id": "bf08lV9dctaj"
   },
   "outputs": [],
   "source": [
    "# SQ6 질문의 답\n",
    "lst_SQ6 = list(np.arange(0,3,1).astype(str));lst_SQ6.append('97');lst_SQ6.append('-2')"
   ]
  },
  {
   "cell_type": "code",
   "execution_count": 17,
   "metadata": {
    "executionInfo": {
     "elapsed": 192,
     "status": "ok",
     "timestamp": 1639203206217,
     "user": {
      "displayName": "나ᄋ8ᄋ",
      "photoUrl": "https://lh3.googleusercontent.com/a/default-user=s64",
      "userId": "05265208169833205553"
     },
     "user_tz": -540
    },
    "id": "9gl3RbOEWWDB"
   },
   "outputs": [],
   "source": [
    "panel['SQ6'] = panel['SQ6'].astype(str)\n",
    "panel['SQ6'] = panel.SQ6.apply(lambda x : x.split(',')[0] if x.split(',')[0] == '97' else x).apply(lambda x : x.split(',')[0] if len(x) <= 5 else x).apply(lambda x : x if x in lst_SQ6 else -1)\n",
    "panel['SQ6'] = panel['SQ6'].astype(int)"
   ]
  },
  {
   "cell_type": "markdown",
   "metadata": {
    "id": "QowVhXHrWWDC"
   },
   "source": [
    "SQ7 - 자녀 나이"
   ]
  },
  {
   "cell_type": "code",
   "execution_count": 18,
   "metadata": {
    "executionInfo": {
     "elapsed": 192,
     "status": "ok",
     "timestamp": 1639203206218,
     "user": {
      "displayName": "나ᄋ8ᄋ",
      "photoUrl": "https://lh3.googleusercontent.com/a/default-user=s64",
      "userId": "05265208169833205553"
     },
     "user_tz": -540
    },
    "id": "CazwjerJctal"
   },
   "outputs": [],
   "source": [
    "# SQ7 질문의 답\n",
    "lst_SQ7 = list(np.arange(0,17,1).astype(str));lst_SQ7.append('99')"
   ]
  },
  {
   "cell_type": "code",
   "execution_count": 19,
   "metadata": {
    "executionInfo": {
     "elapsed": 192,
     "status": "ok",
     "timestamp": 1639203206219,
     "user": {
      "displayName": "나ᄋ8ᄋ",
      "photoUrl": "https://lh3.googleusercontent.com/a/default-user=s64",
      "userId": "05265208169833205553"
     },
     "user_tz": -540
    },
    "id": "aJF-mDVTctam"
   },
   "outputs": [],
   "source": [
    "panel['SQ7'] = panel['SQ7'].astype(str)\n",
    "panel['SQ7'] = panel.SQ7.apply(lambda x : x.split('.')[0] if x.split('.')[0] == '99' else x).apply(lambda x : x.split('.')[0] if x.split('.')[0] in lst_SQ7 else x).apply(lambda x : x if x in lst_SQ7 else -1)\n",
    "panel['SQ7'] = panel['SQ7'].astype(int)"
   ]
  },
  {
   "cell_type": "markdown",
   "metadata": {
    "id": "bNG9gGnLWWDD"
   },
   "source": [
    "SQ8 - 가족 수"
   ]
  },
  {
   "cell_type": "code",
   "execution_count": 20,
   "metadata": {
    "executionInfo": {
     "elapsed": 192,
     "status": "ok",
     "timestamp": 1639203206220,
     "user": {
      "displayName": "나ᄋ8ᄋ",
      "photoUrl": "https://lh3.googleusercontent.com/a/default-user=s64",
      "userId": "05265208169833205553"
     },
     "user_tz": -540
    },
    "id": "9fYoODyoctan"
   },
   "outputs": [],
   "source": [
    "# SQ8 질문의 답\n",
    "lst_SQ8 = list(np.arange(0,6,1).astype(str))"
   ]
  },
  {
   "cell_type": "code",
   "execution_count": 21,
   "metadata": {
    "executionInfo": {
     "elapsed": 192,
     "status": "ok",
     "timestamp": 1639203206221,
     "user": {
      "displayName": "나ᄋ8ᄋ",
      "photoUrl": "https://lh3.googleusercontent.com/a/default-user=s64",
      "userId": "05265208169833205553"
     },
     "user_tz": -540
    },
    "id": "eV9VCto9WWDE"
   },
   "outputs": [],
   "source": [
    "panel['SQ8'] = panel['SQ8'].astype(str)\n",
    "panel['SQ8'] = panel.SQ8.apply(lambda x : x if x in lst_SQ8 else '-1')\n",
    "panel['SQ8'] = panel['SQ8'].astype(int)"
   ]
  },
  {
   "cell_type": "markdown",
   "metadata": {
    "id": "oiNgs4gJctao"
   },
   "source": [
    "A1 - 최근 1년이내 구입한 가전제품 __(multi)__"
   ]
  },
  {
   "cell_type": "code",
   "execution_count": 22,
   "metadata": {
    "executionInfo": {
     "elapsed": 194,
     "status": "ok",
     "timestamp": 1639203206223,
     "user": {
      "displayName": "나ᄋ8ᄋ",
      "photoUrl": "https://lh3.googleusercontent.com/a/default-user=s64",
      "userId": "05265208169833205553"
     },
     "user_tz": -540
    },
    "id": "BrrSQ9vactap"
   },
   "outputs": [],
   "source": [
    "# A1 질문의 답\n",
    "lst_A1 = list(np.arange(0,23,1).astype(str));lst_A1.append('99');lst_A1.append('-2')"
   ]
  },
  {
   "cell_type": "code",
   "execution_count": 23,
   "metadata": {
    "executionInfo": {
     "elapsed": 193,
     "status": "ok",
     "timestamp": 1639203206224,
     "user": {
      "displayName": "나ᄋ8ᄋ",
      "photoUrl": "https://lh3.googleusercontent.com/a/default-user=s64",
      "userId": "05265208169833205553"
     },
     "user_tz": -540
    },
    "id": "xvhpFkjjctap"
   },
   "outputs": [],
   "source": [
    "panel['A1'] = panel['A1'].astype(str)\n",
    "panel['A1'] = panel.A1.apply(lambda x : x.split('.')[0] if x.split('.')[0] in lst_A1 and len(x) <= 3 else x).apply(lambda x : -2 if len(x) >=3 else x).apply(lambda x : x if x in lst_A1 else '-1')\n",
    "panel['A1'] = panel['A1'].astype(int)"
   ]
  },
  {
   "cell_type": "markdown",
   "metadata": {
    "id": "5Bdv8uM-ctaq"
   },
   "source": [
    "B1 - 휴대폰 인터넷 통신망  \n",
    "  "
   ]
  },
  {
   "cell_type": "code",
   "execution_count": 24,
   "metadata": {
    "colab": {
     "base_uri": "https://localhost:8080/"
    },
    "executionInfo": {
     "elapsed": 194,
     "status": "ok",
     "timestamp": 1639203206225,
     "user": {
      "displayName": "나ᄋ8ᄋ",
      "photoUrl": "https://lh3.googleusercontent.com/a/default-user=s64",
      "userId": "05265208169833205553"
     },
     "user_tz": -540
    },
    "id": "b1i9CTd9BSE3",
    "outputId": "1bbbbc67-1b40-44cb-b181-4143ea3fe7ca"
   },
   "outputs": [
    {
     "data": {
      "text/plain": [
       "0                3598\n",
       "4                3134\n",
       "1                2706\n",
       "99               1720\n",
       "8                1642\n",
       "                 ... \n",
       "971,와이 이즈 스타일       1\n",
       "3,4                 1\n",
       "1,10,2,3,6,7        1\n",
       "1,10,6,7            1\n",
       "26                  1\n",
       "Name: B1, Length: 119, dtype: int64"
      ]
     },
     "execution_count": 24,
     "metadata": {},
     "output_type": "execute_result"
    }
   ],
   "source": [
    "panel.B1.value_counts()"
   ]
  },
  {
   "cell_type": "code",
   "execution_count": 25,
   "metadata": {
    "executionInfo": {
     "elapsed": 65,
     "status": "ok",
     "timestamp": 1639203206226,
     "user": {
      "displayName": "나ᄋ8ᄋ",
      "photoUrl": "https://lh3.googleusercontent.com/a/default-user=s64",
      "userId": "05265208169833205553"
     },
     "user_tz": -540
    },
    "id": "qee72Hgvctaq"
   },
   "outputs": [],
   "source": [
    "# B1에 해당하는 답들이 아니라고 판단하여 삭제\n",
    "panel = panel.drop(columns = ['B1'])"
   ]
  },
  {
   "cell_type": "markdown",
   "metadata": {
    "id": "wpiuzjPyctar"
   },
   "source": [
    "B2 - 휴대폰 통신사  \n"
   ]
  },
  {
   "cell_type": "code",
   "execution_count": 26,
   "metadata": {
    "colab": {
     "base_uri": "https://localhost:8080/"
    },
    "executionInfo": {
     "elapsed": 65,
     "status": "ok",
     "timestamp": 1639203206227,
     "user": {
      "displayName": "나ᄋ8ᄋ",
      "photoUrl": "https://lh3.googleusercontent.com/a/default-user=s64",
      "userId": "05265208169833205553"
     },
     "user_tz": -540
    },
    "id": "dhY1flR2BSE6",
    "outputId": "b7abab97-5f7d-433a-9865-3eb800b41f56"
   },
   "outputs": [
    {
     "data": {
      "text/plain": [
       "0                 3981\n",
       "1                 3869\n",
       "3                 1765\n",
       "99                1360\n",
       "2                 1311\n",
       "                  ... \n",
       "1,3                  1\n",
       "6,97                 1\n",
       "2,4,5,6,7            1\n",
       "1,10,2,3,4,6,8       1\n",
       "97,있으나 모른다.          1\n",
       "Name: B2, Length: 109, dtype: int64"
      ]
     },
     "execution_count": 26,
     "metadata": {},
     "output_type": "execute_result"
    }
   ],
   "source": [
    "panel.B2.value_counts()"
   ]
  },
  {
   "cell_type": "code",
   "execution_count": 27,
   "metadata": {
    "executionInfo": {
     "elapsed": 65,
     "status": "ok",
     "timestamp": 1639203206228,
     "user": {
      "displayName": "나ᄋ8ᄋ",
      "photoUrl": "https://lh3.googleusercontent.com/a/default-user=s64",
      "userId": "05265208169833205553"
     },
     "user_tz": -540
    },
    "id": "kW-oMglsctar"
   },
   "outputs": [],
   "source": [
    "# B2에 해당하는 답들이 아니라고 판단하여 삭제\n",
    "panel = panel.drop(columns = ['B2'])"
   ]
  },
  {
   "cell_type": "markdown",
   "metadata": {
    "id": "DxEpsV_actas"
   },
   "source": [
    "B3 - 휴대폰 제조사  "
   ]
  },
  {
   "cell_type": "code",
   "execution_count": 28,
   "metadata": {
    "executionInfo": {
     "elapsed": 65,
     "status": "ok",
     "timestamp": 1639203206230,
     "user": {
      "displayName": "나ᄋ8ᄋ",
      "photoUrl": "https://lh3.googleusercontent.com/a/default-user=s64",
      "userId": "05265208169833205553"
     },
     "user_tz": -540
    },
    "id": "jOq5WJhuctas"
   },
   "outputs": [],
   "source": [
    "# B3 질문의 답\n",
    "lst_B3 = list(np.arange(0,8,1).astype(str));lst_B3.append('99');lst_B3.append('-2');lst_B3.append('97')"
   ]
  },
  {
   "cell_type": "code",
   "execution_count": 29,
   "metadata": {
    "executionInfo": {
     "elapsed": 65,
     "status": "ok",
     "timestamp": 1639203206231,
     "user": {
      "displayName": "나ᄋ8ᄋ",
      "photoUrl": "https://lh3.googleusercontent.com/a/default-user=s64",
      "userId": "05265208169833205553"
     },
     "user_tz": -540
    },
    "id": "bV_sVS11ctat"
   },
   "outputs": [],
   "source": [
    "panel['B3'] = panel['B3'].astype(str)\n",
    "\n",
    "# 9997 -> 현재 사용 중인 휴대폰 없음으로 처리\n",
    "panel.loc[panel['B3'] == '9997', 'B3'] == '99'\n",
    "panel['B3'] = panel.B3.apply(lambda x : x.split(',')[0] if x.split(',')[0] == '97' else x).apply(lambda x : -1 if len(x) >=3 else x).apply(lambda x : x if x in lst_B3 else '-1')\n",
    "panel['B3'] = panel['B3'].astype(int)"
   ]
  },
  {
   "cell_type": "markdown",
   "metadata": {
    "id": "1ICMS5dBctat"
   },
   "source": [
    "B4 - 사용하는 스마트 기기 __(multi)__"
   ]
  },
  {
   "cell_type": "code",
   "execution_count": 30,
   "metadata": {
    "executionInfo": {
     "elapsed": 58,
     "status": "ok",
     "timestamp": 1639203206233,
     "user": {
      "displayName": "나ᄋ8ᄋ",
      "photoUrl": "https://lh3.googleusercontent.com/a/default-user=s64",
      "userId": "05265208169833205553"
     },
     "user_tz": -540
    },
    "id": "Ot-RzgVDctat"
   },
   "outputs": [],
   "source": [
    "# B4 질문의 답\n",
    "lst_B4 = list(np.arange(0,9,1).astype(str));lst_B4.append('99');lst_B4.append('-2');lst_B4.append('97')"
   ]
  },
  {
   "cell_type": "code",
   "execution_count": 31,
   "metadata": {
    "executionInfo": {
     "elapsed": 58,
     "status": "ok",
     "timestamp": 1639203206234,
     "user": {
      "displayName": "나ᄋ8ᄋ",
      "photoUrl": "https://lh3.googleusercontent.com/a/default-user=s64",
      "userId": "05265208169833205553"
     },
     "user_tz": -540
    },
    "id": "KC3Q_F45ctau"
   },
   "outputs": [],
   "source": [
    "panel['B4'] = panel['B4'].astype(str)\n",
    "panel['B4'] =panel.B4.apply(lambda x : x.split(',')[0] if x.split(',')[0] == '97' else x).apply(lambda x : '-2' if len(x) >=3 else x).apply(lambda x : x if x in lst_B4 else '-1')\n",
    "panel['B4'] = panel['B4'].astype(int)"
   ]
  },
  {
   "cell_type": "markdown",
   "metadata": {
    "id": "oX0ZFFlFctau"
   },
   "source": [
    "B5 - TV 케이블 망"
   ]
  },
  {
   "cell_type": "code",
   "execution_count": 32,
   "metadata": {
    "executionInfo": {
     "elapsed": 58,
     "status": "ok",
     "timestamp": 1639203206235,
     "user": {
      "displayName": "나ᄋ8ᄋ",
      "photoUrl": "https://lh3.googleusercontent.com/a/default-user=s64",
      "userId": "05265208169833205553"
     },
     "user_tz": -540
    },
    "id": "0iJDVECFctav"
   },
   "outputs": [],
   "source": [
    "# B5 질문의 답\n",
    "lst_B5 = list(np.arange(0,11,1).astype(str));lst_B5.append('99');lst_B5.append('-2');lst_B5.append('97')"
   ]
  },
  {
   "cell_type": "code",
   "execution_count": 33,
   "metadata": {
    "executionInfo": {
     "elapsed": 58,
     "status": "ok",
     "timestamp": 1639203206236,
     "user": {
      "displayName": "나ᄋ8ᄋ",
      "photoUrl": "https://lh3.googleusercontent.com/a/default-user=s64",
      "userId": "05265208169833205553"
     },
     "user_tz": -540
    },
    "id": "GGPPxY-nctav"
   },
   "outputs": [],
   "source": [
    "panel['B5'] = panel['B5'].astype(str)\n",
    "panel['B5'] =panel.B5.apply(lambda x : x.split(',')[0] if x.split(',')[0] == '97' else x).apply(lambda x : x.split(',')[0] if x.split(',')[0] in lst_B5 and len(x) <= 3 else x).apply(lambda x : x if x in lst_B5 else '-1')\n",
    "panel['B5'] = panel['B5'].astype(int)"
   ]
  },
  {
   "cell_type": "markdown",
   "metadata": {
    "id": "d4FQRY2ictav"
   },
   "source": [
    "C1 - 가입 보험 종류 __(multi)__"
   ]
  },
  {
   "cell_type": "code",
   "execution_count": 34,
   "metadata": {
    "executionInfo": {
     "elapsed": 60,
     "status": "ok",
     "timestamp": 1639203206238,
     "user": {
      "displayName": "나ᄋ8ᄋ",
      "photoUrl": "https://lh3.googleusercontent.com/a/default-user=s64",
      "userId": "05265208169833205553"
     },
     "user_tz": -540
    },
    "id": "zl4KzxX9ctaw"
   },
   "outputs": [],
   "source": [
    "# C1 질문의 답\n",
    "lst_C1 = list(np.arange(0,16,1).astype(str));lst_C1.append('99');lst_C1.append('-2')"
   ]
  },
  {
   "cell_type": "code",
   "execution_count": 35,
   "metadata": {
    "executionInfo": {
     "elapsed": 60,
     "status": "ok",
     "timestamp": 1639203206239,
     "user": {
      "displayName": "나ᄋ8ᄋ",
      "photoUrl": "https://lh3.googleusercontent.com/a/default-user=s64",
      "userId": "05265208169833205553"
     },
     "user_tz": -540
    },
    "id": "t4qjSLjUctaw"
   },
   "outputs": [],
   "source": [
    "panel['C1'] = panel['C1'].astype(str)\n",
    "panel['C1'] =panel.C1.apply(lambda x : x.split(',')[0] if x.split(',')[0] == '99' else x).apply(lambda x : x.split(',')[0] if x.split(',')[0] in lst_C1 and len(x) <= 3 else x).apply(lambda x : '-2' if len(x) >=3 else x).apply(lambda x : x if x in lst_C1 else '-1')\n",
    "panel['C1'] = panel['C1'].astype(int)"
   ]
  },
  {
   "cell_type": "markdown",
   "metadata": {
    "id": "oJordW3Pctax"
   },
   "source": [
    "C2 - 주 거래 은행"
   ]
  },
  {
   "cell_type": "code",
   "execution_count": 36,
   "metadata": {
    "executionInfo": {
     "elapsed": 60,
     "status": "ok",
     "timestamp": 1639203206240,
     "user": {
      "displayName": "나ᄋ8ᄋ",
      "photoUrl": "https://lh3.googleusercontent.com/a/default-user=s64",
      "userId": "05265208169833205553"
     },
     "user_tz": -540
    },
    "id": "D7TE7jrPctax"
   },
   "outputs": [],
   "source": [
    "# C2 질문의 답\n",
    "lst_C2 = list(np.arange(0,15,1).astype(str));lst_C2.append('97')"
   ]
  },
  {
   "cell_type": "code",
   "execution_count": 37,
   "metadata": {
    "executionInfo": {
     "elapsed": 61,
     "status": "ok",
     "timestamp": 1639203206242,
     "user": {
      "displayName": "나ᄋ8ᄋ",
      "photoUrl": "https://lh3.googleusercontent.com/a/default-user=s64",
      "userId": "05265208169833205553"
     },
     "user_tz": -540
    },
    "id": "hWq2MOVKctay"
   },
   "outputs": [],
   "source": [
    "panel['C2'] = panel['C2'].astype(str)\n",
    "panel['C2'] =panel.C2.apply(lambda x : x.split(',')[0] if x.split(',')[0] == '97' else x).apply(lambda x : x.split(',')[0] if x.split(',')[0] in lst_C2 and len(x) <= 3 else x).apply(lambda x : x if x in lst_C2 else '-1')\n",
    "panel['C2'] = panel['C2'].astype(int)"
   ]
  },
  {
   "cell_type": "markdown",
   "metadata": {
    "id": "_VZQQXQectay"
   },
   "source": [
    "C3 - 사용중인 간편결제서비스 __(multi)__"
   ]
  },
  {
   "cell_type": "code",
   "execution_count": 38,
   "metadata": {
    "executionInfo": {
     "elapsed": 61,
     "status": "ok",
     "timestamp": 1639203206243,
     "user": {
      "displayName": "나ᄋ8ᄋ",
      "photoUrl": "https://lh3.googleusercontent.com/a/default-user=s64",
      "userId": "05265208169833205553"
     },
     "user_tz": -540
    },
    "id": "nFb9VOb6ctay"
   },
   "outputs": [],
   "source": [
    "# C3 질문의 답\n",
    "lst_C3 = list(np.arange(0,11,1).astype(str));lst_C3.append('97');lst_C3.append('99');lst_C3.append('-2')"
   ]
  },
  {
   "cell_type": "code",
   "execution_count": 39,
   "metadata": {
    "executionInfo": {
     "elapsed": 61,
     "status": "ok",
     "timestamp": 1639203206244,
     "user": {
      "displayName": "나ᄋ8ᄋ",
      "photoUrl": "https://lh3.googleusercontent.com/a/default-user=s64",
      "userId": "05265208169833205553"
     },
     "user_tz": -540
    },
    "id": "-CzzeaG3ctay"
   },
   "outputs": [],
   "source": [
    "panel['C3'] = panel['C3'].astype(str)\n",
    "panel['C3'] =panel.C3.apply(lambda x : x.split(',')[0] if x.split(',')[0] == '97' else x).apply(lambda x : x.split(',')[0] if x.split(',')[0] in lst_C3 and len(x) <= 3 else x).apply(lambda x : '-2' if len(x) >=3 else x).apply(lambda x : x if x in lst_C3 else '-1')\n",
    "panel['C3'] = panel['C3'].astype(int)"
   ]
  },
  {
   "cell_type": "markdown",
   "metadata": {
    "id": "YTFvuftHctaz"
   },
   "source": [
    "F1 - 주로 이용하는 대형할인마트"
   ]
  },
  {
   "cell_type": "code",
   "execution_count": 40,
   "metadata": {
    "executionInfo": {
     "elapsed": 60,
     "status": "ok",
     "timestamp": 1639203206245,
     "user": {
      "displayName": "나ᄋ8ᄋ",
      "photoUrl": "https://lh3.googleusercontent.com/a/default-user=s64",
      "userId": "05265208169833205553"
     },
     "user_tz": -540
    },
    "id": "BIrSfNPLctaz"
   },
   "outputs": [],
   "source": [
    "# F1 질문의 답\n",
    "lst_F1 = list(np.arange(0,11,1).astype(str));lst_F1.append('97');lst_F1.append('99')"
   ]
  },
  {
   "cell_type": "code",
   "execution_count": 41,
   "metadata": {
    "executionInfo": {
     "elapsed": 715,
     "status": "ok",
     "timestamp": 1639203206902,
     "user": {
      "displayName": "나ᄋ8ᄋ",
      "photoUrl": "https://lh3.googleusercontent.com/a/default-user=s64",
      "userId": "05265208169833205553"
     },
     "user_tz": -540
    },
    "id": "pzLzVjSGctaz"
   },
   "outputs": [],
   "source": [
    "panel['F1'] = panel['F1'].astype(str)\n",
    "panel['F1'] =panel.F1.apply(lambda x : x.split(',')[0] if x.split(',')[0] == '97' else x).apply(lambda x : x.split(',')[0] if x.split(',')[0] in lst_F1 and len(x) <= 3 else x).apply(lambda x : x if x in lst_F1 else '-1')\n",
    "panel['F1'] = panel['F1'].astype(int)"
   ]
  },
  {
   "cell_type": "markdown",
   "metadata": {
    "id": "USJjmzNYcta0"
   },
   "source": [
    "F2 - 주로 이용하는 온라인 대형할인마트"
   ]
  },
  {
   "cell_type": "code",
   "execution_count": 42,
   "metadata": {
    "executionInfo": {
     "elapsed": 92,
     "status": "ok",
     "timestamp": 1639203206904,
     "user": {
      "displayName": "나ᄋ8ᄋ",
      "photoUrl": "https://lh3.googleusercontent.com/a/default-user=s64",
      "userId": "05265208169833205553"
     },
     "user_tz": -540
    },
    "id": "7EsGrbcXcta0"
   },
   "outputs": [],
   "source": [
    "# F2 질문의 답\n",
    "lst_F2 = list(np.arange(0,6,1).astype(str));lst_F2.append('97');lst_F2.append('99')"
   ]
  },
  {
   "cell_type": "code",
   "execution_count": 43,
   "metadata": {
    "executionInfo": {
     "elapsed": 91,
     "status": "ok",
     "timestamp": 1639203206905,
     "user": {
      "displayName": "나ᄋ8ᄋ",
      "photoUrl": "https://lh3.googleusercontent.com/a/default-user=s64",
      "userId": "05265208169833205553"
     },
     "user_tz": -540
    },
    "id": "HQP-NJ7ncta0"
   },
   "outputs": [],
   "source": [
    "panel['F2'] = panel['F2'].astype(str)\n",
    "panel['F2'] =panel.F2.apply(lambda x : x.split(',')[0] if x.split(',')[0] == '97' else x).apply(lambda x : x.split(',')[0] if x.split(',')[0] in lst_F2 and len(x) <= 3 else x).apply(lambda x : x if x in lst_F2 else '-1')\n",
    "panel['F2'] = panel['F2'].astype(int)"
   ]
  },
  {
   "cell_type": "markdown",
   "metadata": {
    "id": "SzX8kFAecta0"
   },
   "source": [
    "H1 - 3개월간 음용한 주류"
   ]
  },
  {
   "cell_type": "code",
   "execution_count": 44,
   "metadata": {
    "executionInfo": {
     "elapsed": 92,
     "status": "ok",
     "timestamp": 1639203206907,
     "user": {
      "displayName": "나ᄋ8ᄋ",
      "photoUrl": "https://lh3.googleusercontent.com/a/default-user=s64",
      "userId": "05265208169833205553"
     },
     "user_tz": -540
    },
    "id": "5jRRNb6Scta1"
   },
   "outputs": [],
   "source": [
    "# H1 질문의 답\n",
    "lst_H1 = list(np.arange(0,12,1).astype(str));lst_H1.append('97');lst_H1.append('99')"
   ]
  },
  {
   "cell_type": "code",
   "execution_count": 45,
   "metadata": {
    "executionInfo": {
     "elapsed": 92,
     "status": "ok",
     "timestamp": 1639203206909,
     "user": {
      "displayName": "나ᄋ8ᄋ",
      "photoUrl": "https://lh3.googleusercontent.com/a/default-user=s64",
      "userId": "05265208169833205553"
     },
     "user_tz": -540
    },
    "id": "i0qdiomkcta1"
   },
   "outputs": [],
   "source": [
    "panel['H1'] = panel['H1'].astype(str)\n",
    "panel['H1'] =panel.H1.apply(lambda x : '-2' if len(x) >=3 else x).apply(lambda x : x if x in lst_H1 else '-1')\n",
    "panel['H1'] = panel['H1'].astype(int)"
   ]
  },
  {
   "cell_type": "markdown",
   "metadata": {
    "id": "FA8C0dPJcta2"
   },
   "source": [
    "T1 - 피우는 담배 브랜드"
   ]
  },
  {
   "cell_type": "code",
   "execution_count": 46,
   "metadata": {
    "executionInfo": {
     "elapsed": 92,
     "status": "ok",
     "timestamp": 1639203206910,
     "user": {
      "displayName": "나ᄋ8ᄋ",
      "photoUrl": "https://lh3.googleusercontent.com/a/default-user=s64",
      "userId": "05265208169833205553"
     },
     "user_tz": -540
    },
    "id": "3qOTwZoIcta3"
   },
   "outputs": [],
   "source": [
    "# T1 질문의 답\n",
    "lst_T1 = list(np.arange(0,34,1).astype(str));lst_T1.append('971');lst_T1.append('972');lst_T1.append('99')"
   ]
  },
  {
   "cell_type": "code",
   "execution_count": 47,
   "metadata": {
    "executionInfo": {
     "elapsed": 90,
     "status": "ok",
     "timestamp": 1639203206911,
     "user": {
      "displayName": "나ᄋ8ᄋ",
      "photoUrl": "https://lh3.googleusercontent.com/a/default-user=s64",
      "userId": "05265208169833205553"
     },
     "user_tz": -540
    },
    "id": "iT-SNuUscta3"
   },
   "outputs": [],
   "source": [
    "panel['T1'] = panel['T1'].astype(str)\n",
    "\n",
    "# 9997 -> 담배 피우지 않음으로 처리\n",
    "panel.loc[panel['T1'] == '9997', 'T1'] == '99'\n",
    "panel['T1'] =panel.T1.apply(lambda x : x.split(',')[0] if x.split(',')[0] == '971' else x).apply(lambda x : x.split(',')[0] if x.split(',')[0] == '972' else x).apply(lambda x : x.split(',')[0] if x.split(',')[0] in lst_T1 else x).apply(lambda x : x if x in lst_T1 else '-1')\n",
    "panel['T1'] = panel['T1'].astype(int)"
   ]
  },
  {
   "cell_type": "markdown",
   "metadata": {
    "id": "aChNISoxcta4"
   },
   "source": [
    "X1 - 주로 운전하는 자동차의 제조사"
   ]
  },
  {
   "cell_type": "code",
   "execution_count": 48,
   "metadata": {
    "executionInfo": {
     "elapsed": 89,
     "status": "ok",
     "timestamp": 1639203206912,
     "user": {
      "displayName": "나ᄋ8ᄋ",
      "photoUrl": "https://lh3.googleusercontent.com/a/default-user=s64",
      "userId": "05265208169833205553"
     },
     "user_tz": -540
    },
    "id": "BAH-N0pYcta4"
   },
   "outputs": [],
   "source": [
    "# X1 질문의 답\n",
    "lst_X1 = list(np.arange(0,26,1).astype(str));lst_X1.append('97');lst_X1.append('99')"
   ]
  },
  {
   "cell_type": "code",
   "execution_count": 49,
   "metadata": {
    "executionInfo": {
     "elapsed": 89,
     "status": "ok",
     "timestamp": 1639203206913,
     "user": {
      "displayName": "나ᄋ8ᄋ",
      "photoUrl": "https://lh3.googleusercontent.com/a/default-user=s64",
      "userId": "05265208169833205553"
     },
     "user_tz": -540
    },
    "id": "NlwpjD9Ycta4"
   },
   "outputs": [],
   "source": [
    "panel['X1'] = panel['X1'].astype(str)\n",
    "panel['X1'] =panel.X1.apply(lambda x : x.split(',')[0] if x.split(',')[0] == '97' else x).apply(lambda x : x.split(',')[0] if x.split(',')[0] in lst_X1 else x).apply(lambda x : x if x in lst_X1 else '-1')\n",
    "panel['X1'] = panel['X1'].astype(int)"
   ]
  },
  {
   "cell_type": "markdown",
   "metadata": {
    "id": "WG27RvEScta5"
   },
   "source": [
    "X2 - 자동차 구매 형태"
   ]
  },
  {
   "cell_type": "code",
   "execution_count": 50,
   "metadata": {
    "colab": {
     "base_uri": "https://localhost:8080/"
    },
    "executionInfo": {
     "elapsed": 87,
     "status": "ok",
     "timestamp": 1639203206914,
     "user": {
      "displayName": "나ᄋ8ᄋ",
      "photoUrl": "https://lh3.googleusercontent.com/a/default-user=s64",
      "userId": "05265208169833205553"
     },
     "user_tz": -540
    },
    "id": "Tk1IiujhBSGL",
    "outputId": "a4698ac3-71f9-4b7c-dfa1-5dadbb11ce0b"
   },
   "outputs": [
    {
     "data": {
      "text/plain": [
       "0          8799\n",
       "1.0        2186\n",
       "99.0       1119\n",
       "2.0         629\n",
       "1           469\n",
       "4.0         459\n",
       "3.0         429\n",
       "5.0         406\n",
       "6.0         367\n",
       "11.0        237\n",
       "7.0         217\n",
       "8.0         186\n",
       "9.0         180\n",
       "2           109\n",
       "10.0         88\n",
       "99           86\n",
       "21.0         64\n",
       "12.0         42\n",
       "4            38\n",
       "5            38\n",
       "16.0         37\n",
       "1.0          31\n",
       "13.0         28\n",
       "20.0         28\n",
       "6            27\n",
       "8            24\n",
       "14.0         23\n",
       "19.0         22\n",
       "97.0         21\n",
       "3            21\n",
       "7            19\n",
       "98.0         18\n",
       "17.0         13\n",
       "6.0          12\n",
       "99.0         10\n",
       "15.0          9\n",
       "2.0           8\n",
       "98            7\n",
       "3.0           7\n",
       "11            7\n",
       "9             7\n",
       "18.0          6\n",
       "4.0           5\n",
       "5.0           4\n",
       "10            3\n",
       "12            3\n",
       "7.0           3\n",
       "21.0          2\n",
       "22.0          2\n",
       "8.0           2\n",
       "14            1\n",
       "9.0           1\n",
       "97,프리랜서       1\n",
       "14.0          1\n",
       "11.0          1\n",
       "10.0          1\n",
       "Name: X2, dtype: int64"
      ]
     },
     "execution_count": 50,
     "metadata": {},
     "output_type": "execute_result"
    }
   ],
   "source": [
    "panel.X2.value_counts()"
   ]
  },
  {
   "cell_type": "code",
   "execution_count": 51,
   "metadata": {
    "executionInfo": {
     "elapsed": 80,
     "status": "ok",
     "timestamp": 1639203206915,
     "user": {
      "displayName": "나ᄋ8ᄋ",
      "photoUrl": "https://lh3.googleusercontent.com/a/default-user=s64",
      "userId": "05265208169833205553"
     },
     "user_tz": -540
    },
    "id": "Ty3xFX2kcta5"
   },
   "outputs": [],
   "source": [
    "# X2에 해당하는 답들이 아니라고 판단하여 삭제\n",
    "panel = panel.drop(columns = ['X2'])"
   ]
  },
  {
   "cell_type": "markdown",
   "metadata": {
    "id": "t5ZwYNzMcta5"
   },
   "source": [
    "X3 - 자주 이용하는 주유소"
   ]
  },
  {
   "cell_type": "code",
   "execution_count": 52,
   "metadata": {
    "executionInfo": {
     "elapsed": 76,
     "status": "ok",
     "timestamp": 1639203206916,
     "user": {
      "displayName": "나ᄋ8ᄋ",
      "photoUrl": "https://lh3.googleusercontent.com/a/default-user=s64",
      "userId": "05265208169833205553"
     },
     "user_tz": -540
    },
    "id": "JPogue44cta6"
   },
   "outputs": [],
   "source": [
    "# X3 질문의 답\n",
    "lst_X3 = list(np.arange(0,9,1).astype(str));lst_X3.append('97');lst_X3.append('99')"
   ]
  },
  {
   "cell_type": "code",
   "execution_count": 53,
   "metadata": {
    "executionInfo": {
     "elapsed": 75,
     "status": "ok",
     "timestamp": 1639203206917,
     "user": {
      "displayName": "나ᄋ8ᄋ",
      "photoUrl": "https://lh3.googleusercontent.com/a/default-user=s64",
      "userId": "05265208169833205553"
     },
     "user_tz": -540
    },
    "id": "xMEYtI9zcta6"
   },
   "outputs": [],
   "source": [
    "panel['X3'] = panel['X3'].astype(str)\n",
    "panel['X3'] =panel.X3.apply(lambda x : x.split(',')[0] if x.split(',')[0] == '97' else x).apply(lambda x : x.split(',')[0] if x.split(',')[0] in lst_X3 else x).apply(lambda x : x if x in lst_X3 else '-1')\n",
    "panel['X3'] = panel['X3'].astype(int)"
   ]
  },
  {
   "cell_type": "markdown",
   "metadata": {
    "id": "d6tQm6Bkcta7"
   },
   "source": [
    "X4 - 주 자동차 연료 타입"
   ]
  },
  {
   "cell_type": "code",
   "execution_count": 54,
   "metadata": {
    "executionInfo": {
     "elapsed": 75,
     "status": "ok",
     "timestamp": 1639203206918,
     "user": {
      "displayName": "나ᄋ8ᄋ",
      "photoUrl": "https://lh3.googleusercontent.com/a/default-user=s64",
      "userId": "05265208169833205553"
     },
     "user_tz": -540
    },
    "id": "ui48kh4ncta8"
   },
   "outputs": [],
   "source": [
    "# X4 질문의 답\n",
    "lst_X4 = list(np.arange(0,5,1).astype(str));lst_X4.append('97');lst_X4.append('99')"
   ]
  },
  {
   "cell_type": "code",
   "execution_count": 55,
   "metadata": {
    "executionInfo": {
     "elapsed": 76,
     "status": "ok",
     "timestamp": 1639203206919,
     "user": {
      "displayName": "나ᄋ8ᄋ",
      "photoUrl": "https://lh3.googleusercontent.com/a/default-user=s64",
      "userId": "05265208169833205553"
     },
     "user_tz": -540
    },
    "id": "d_Al374scta9"
   },
   "outputs": [],
   "source": [
    "panel['X4'] = panel['X4'].astype(str)\n",
    "panel['X4'] =panel.X4.apply(lambda x : x.split(',')[0] if x.split(',')[0] == '97' else x).apply(lambda x : x.split('.')[0] if x.split('.')[0] in lst_X4 else x).apply(lambda x : x if x in lst_X4 else '-1')\n",
    "panel['X4'] = panel['X4'].astype(int)"
   ]
  },
  {
   "cell_type": "markdown",
   "metadata": {
    "id": "CIfEywawcta-"
   },
   "source": [
    "DQ1 - 직업"
   ]
  },
  {
   "cell_type": "code",
   "execution_count": 56,
   "metadata": {
    "executionInfo": {
     "elapsed": 76,
     "status": "ok",
     "timestamp": 1639203206920,
     "user": {
      "displayName": "나ᄋ8ᄋ",
      "photoUrl": "https://lh3.googleusercontent.com/a/default-user=s64",
      "userId": "05265208169833205553"
     },
     "user_tz": -540
    },
    "id": "RZ8Erg_qcta_"
   },
   "outputs": [],
   "source": [
    "# DQ1 질문의 답\n",
    "lst_DQ1 = list(np.arange(0,16,1).astype(str));lst_DQ1.append('97');lst_DQ1.append('99')"
   ]
  },
  {
   "cell_type": "code",
   "execution_count": 57,
   "metadata": {
    "executionInfo": {
     "elapsed": 76,
     "status": "ok",
     "timestamp": 1639203206921,
     "user": {
      "displayName": "나ᄋ8ᄋ",
      "photoUrl": "https://lh3.googleusercontent.com/a/default-user=s64",
      "userId": "05265208169833205553"
     },
     "user_tz": -540
    },
    "id": "CXBRrLMbcta_"
   },
   "outputs": [],
   "source": [
    "panel['DQ1'] = panel['DQ1'].astype(str)\n",
    "panel['DQ1'] =panel.DQ1.apply(lambda x : x.split(',')[0] if x.split(',')[0] == '97' else x).apply(lambda x : x.split(',')[0] if x.split(',')[0] in lst_DQ1 else x).apply(lambda x : x if x in lst_DQ1 else '-1')\n",
    "panel['DQ1'] = panel['DQ1'].astype(int)"
   ]
  },
  {
   "cell_type": "markdown",
   "metadata": {
    "id": "lQiNOTWTcta_"
   },
   "source": [
    "DQ2 - 근무하는 직종"
   ]
  },
  {
   "cell_type": "code",
   "execution_count": 58,
   "metadata": {
    "executionInfo": {
     "elapsed": 77,
     "status": "ok",
     "timestamp": 1639203206922,
     "user": {
      "displayName": "나ᄋ8ᄋ",
      "photoUrl": "https://lh3.googleusercontent.com/a/default-user=s64",
      "userId": "05265208169833205553"
     },
     "user_tz": -540
    },
    "id": "ORXYPDjkctbA"
   },
   "outputs": [],
   "source": [
    "# DQ2 질문의 답\n",
    "lst_DQ2 = list(np.arange(0,23,1).astype(str));lst_DQ2.append('97');lst_DQ2.append('99')"
   ]
  },
  {
   "cell_type": "code",
   "execution_count": 59,
   "metadata": {
    "executionInfo": {
     "elapsed": 78,
     "status": "ok",
     "timestamp": 1639203206924,
     "user": {
      "displayName": "나ᄋ8ᄋ",
      "photoUrl": "https://lh3.googleusercontent.com/a/default-user=s64",
      "userId": "05265208169833205553"
     },
     "user_tz": -540
    },
    "id": "Js_W0u7SctbA"
   },
   "outputs": [],
   "source": [
    "panel['DQ2'] = panel['DQ2'].astype(str)\n",
    "panel['DQ2'] =panel.DQ2.apply(lambda x : x.split(',')[0] if x.split(',')[0] == '97' else x).apply(lambda x : x.split(',')[0] if x.split(',')[0] in lst_DQ2 else x).apply(lambda x : x if x in lst_DQ2 else '-1')\n",
    "panel['DQ2'] = panel['DQ2'].astype(int)"
   ]
  },
  {
   "cell_type": "markdown",
   "metadata": {
    "id": "YGVedtoectbA"
   },
   "source": [
    "DQ3 - 회사에서 담당하고 있는 직무분야"
   ]
  },
  {
   "cell_type": "code",
   "execution_count": 60,
   "metadata": {
    "executionInfo": {
     "elapsed": 77,
     "status": "ok",
     "timestamp": 1639203206924,
     "user": {
      "displayName": "나ᄋ8ᄋ",
      "photoUrl": "https://lh3.googleusercontent.com/a/default-user=s64",
      "userId": "05265208169833205553"
     },
     "user_tz": -540
    },
    "id": "E-zUcUnfctbA"
   },
   "outputs": [],
   "source": [
    "# DQ3 질문의 답\n",
    "lst_DQ3 = list(np.arange(0,22,1).astype(str));lst_DQ3.append('97');lst_DQ3.append('99')"
   ]
  },
  {
   "cell_type": "code",
   "execution_count": 61,
   "metadata": {
    "executionInfo": {
     "elapsed": 69,
     "status": "ok",
     "timestamp": 1639203206925,
     "user": {
      "displayName": "나ᄋ8ᄋ",
      "photoUrl": "https://lh3.googleusercontent.com/a/default-user=s64",
      "userId": "05265208169833205553"
     },
     "user_tz": -540
    },
    "id": "_ae2wfwCctbB"
   },
   "outputs": [],
   "source": [
    "panel['DQ3'] = panel['DQ3'].astype(str)\n",
    "panel['DQ3'] =panel.DQ3.apply(lambda x : x.split(',')[0] if x.split(',')[0] == '97' else x).apply(lambda x : x.split('.')[0] if x.split('.')[0] in lst_DQ3 else x).apply(lambda x : x if x in lst_DQ3 else '-1')\n",
    "panel['DQ3'] = panel['DQ3'].astype(int)"
   ]
  },
  {
   "cell_type": "markdown",
   "metadata": {
    "id": "-TTMFvv8ctbB"
   },
   "source": [
    "DQ4 - 직장에서 직급"
   ]
  },
  {
   "cell_type": "code",
   "execution_count": 62,
   "metadata": {
    "executionInfo": {
     "elapsed": 68,
     "status": "ok",
     "timestamp": 1639203206926,
     "user": {
      "displayName": "나ᄋ8ᄋ",
      "photoUrl": "https://lh3.googleusercontent.com/a/default-user=s64",
      "userId": "05265208169833205553"
     },
     "user_tz": -540
    },
    "id": "0O0EOyXlctbB"
   },
   "outputs": [],
   "source": [
    "# DQ4 질문의 답\n",
    "lst_DQ4 = list(np.arange(0,8,1).astype(str));lst_DQ4.append('97');lst_DQ4.append('99')"
   ]
  },
  {
   "cell_type": "code",
   "execution_count": 63,
   "metadata": {
    "executionInfo": {
     "elapsed": 68,
     "status": "ok",
     "timestamp": 1639203206927,
     "user": {
      "displayName": "나ᄋ8ᄋ",
      "photoUrl": "https://lh3.googleusercontent.com/a/default-user=s64",
      "userId": "05265208169833205553"
     },
     "user_tz": -540
    },
    "id": "Vvyv723GctbB"
   },
   "outputs": [],
   "source": [
    "panel['DQ4'] = panel['DQ4'].astype(str)\n",
    "panel['DQ4'] =panel.DQ4.apply(lambda x : x.split(',')[0] if x.split(',')[0] == '97' else x).apply(lambda x : x.split(',')[0] if x.split(',')[0] in lst_DQ4 else x).apply(lambda x : x if x in lst_DQ4 else '-1')\n",
    "panel['DQ4'] = panel['DQ4'].astype(int)"
   ]
  },
  {
   "cell_type": "markdown",
   "metadata": {
    "id": "-4PwI0HSctbC"
   },
   "source": [
    "DQ5 - 회사의 규모"
   ]
  },
  {
   "cell_type": "code",
   "execution_count": 64,
   "metadata": {
    "executionInfo": {
     "elapsed": 68,
     "status": "ok",
     "timestamp": 1639203206928,
     "user": {
      "displayName": "나ᄋ8ᄋ",
      "photoUrl": "https://lh3.googleusercontent.com/a/default-user=s64",
      "userId": "05265208169833205553"
     },
     "user_tz": -540
    },
    "id": "G_ZhOihLctbC"
   },
   "outputs": [],
   "source": [
    "panel['DQ5'] = panel['DQ5'].astype(int)"
   ]
  },
  {
   "cell_type": "markdown",
   "metadata": {
    "id": "Dv1XwoErctbC"
   },
   "source": [
    "DQ6 - 한달 평균 가구소득"
   ]
  },
  {
   "cell_type": "code",
   "execution_count": 65,
   "metadata": {
    "executionInfo": {
     "elapsed": 69,
     "status": "ok",
     "timestamp": 1639203206930,
     "user": {
      "displayName": "나ᄋ8ᄋ",
      "photoUrl": "https://lh3.googleusercontent.com/a/default-user=s64",
      "userId": "05265208169833205553"
     },
     "user_tz": -540
    },
    "id": "yDf-_L5rctbD"
   },
   "outputs": [],
   "source": [
    "panel['DQ6'] = panel['DQ6'].astype(int)"
   ]
  },
  {
   "cell_type": "markdown",
   "metadata": {
    "id": "Mt7fsRa0ctbD"
   },
   "source": [
    "DQ7 - 고용 형태"
   ]
  },
  {
   "cell_type": "code",
   "execution_count": 66,
   "metadata": {
    "executionInfo": {
     "elapsed": 68,
     "status": "ok",
     "timestamp": 1639203206931,
     "user": {
      "displayName": "나ᄋ8ᄋ",
      "photoUrl": "https://lh3.googleusercontent.com/a/default-user=s64",
      "userId": "05265208169833205553"
     },
     "user_tz": -540
    },
    "id": "A3f4gj1nctbD"
   },
   "outputs": [],
   "source": [
    "panel['DQ7'] = panel['DQ7'].astype(int)"
   ]
  },
  {
   "cell_type": "markdown",
   "metadata": {
    "id": "hxOSyDhAWWDG"
   },
   "source": [
    "### survey"
   ]
  },
  {
   "cell_type": "code",
   "execution_count": 67,
   "metadata": {
    "colab": {
     "base_uri": "https://localhost:8080/"
    },
    "executionInfo": {
     "elapsed": 69,
     "status": "ok",
     "timestamp": 1639203206932,
     "user": {
      "displayName": "나ᄋ8ᄋ",
      "photoUrl": "https://lh3.googleusercontent.com/a/default-user=s64",
      "userId": "05265208169833205553"
     },
     "user_tz": -540
    },
    "id": "DqnzoKtWWWDG",
    "outputId": "ba134250-b087-45d8-ee31-5547ee0c64f1"
   },
   "outputs": [
    {
     "data": {
      "text/plain": [
       "surveyID         0\n",
       "TITLE            0\n",
       "IR               0\n",
       "LOI              0\n",
       "CATEGORIES    5027\n",
       "CPI              0\n",
       "dtype: int64"
      ]
     },
     "execution_count": 67,
     "metadata": {},
     "output_type": "execute_result"
    }
   ],
   "source": [
    "survey.isna().sum()"
   ]
  },
  {
   "cell_type": "code",
   "execution_count": 68,
   "metadata": {
    "executionInfo": {
     "elapsed": 68,
     "status": "ok",
     "timestamp": 1639203206934,
     "user": {
      "displayName": "나ᄋ8ᄋ",
      "photoUrl": "https://lh3.googleusercontent.com/a/default-user=s64",
      "userId": "05265208169833205553"
     },
     "user_tz": -540
    },
    "id": "ko69W4HpWWDH"
   },
   "outputs": [],
   "source": [
    "# CATEGORIES 열은 의미가 없다고 판단되어 삭제\n",
    "survey.drop(columns  = 'CATEGORIES',inplace = True)"
   ]
  },
  {
   "cell_type": "code",
   "execution_count": 69,
   "metadata": {
    "colab": {
     "base_uri": "https://localhost:8080/"
    },
    "executionInfo": {
     "elapsed": 68,
     "status": "ok",
     "timestamp": 1639203206935,
     "user": {
      "displayName": "나ᄋ8ᄋ",
      "photoUrl": "https://lh3.googleusercontent.com/a/default-user=s64",
      "userId": "05265208169833205553"
     },
     "user_tz": -540
    },
    "id": "ooTzTIEyWWDH",
    "outputId": "5debdc5d-2b68-421b-c443-707f0720b950"
   },
   "outputs": [
    {
     "name": "stdout",
     "output_type": "stream",
     "text": [
      "<class 'pandas.core.frame.DataFrame'>\n",
      "RangeIndex: 5976 entries, 0 to 5975\n",
      "Data columns (total 5 columns):\n",
      " #   Column    Non-Null Count  Dtype  \n",
      "---  ------    --------------  -----  \n",
      " 0   surveyID  5976 non-null   object \n",
      " 1   TITLE     5976 non-null   object \n",
      " 2   IR        5976 non-null   int64  \n",
      " 3   LOI       5976 non-null   int64  \n",
      " 4   CPI       5976 non-null   float64\n",
      "dtypes: float64(1), int64(2), object(2)\n",
      "memory usage: 233.6+ KB\n"
     ]
    }
   ],
   "source": [
    "survey.info()"
   ]
  },
  {
   "cell_type": "markdown",
   "metadata": {
    "id": "0TygoawGWWDI"
   },
   "source": [
    "### response_train"
   ]
  },
  {
   "cell_type": "code",
   "execution_count": 70,
   "metadata": {
    "colab": {
     "base_uri": "https://localhost:8080/"
    },
    "executionInfo": {
     "elapsed": 699,
     "status": "ok",
     "timestamp": 1639203207569,
     "user": {
      "displayName": "나ᄋ8ᄋ",
      "photoUrl": "https://lh3.googleusercontent.com/a/default-user=s64",
      "userId": "05265208169833205553"
     },
     "user_tz": -540
    },
    "id": "6Qe5FzAFWWDI",
    "outputId": "e036a52f-1cb2-4c1f-dc77-bc0e3776211d"
   },
   "outputs": [
    {
     "data": {
      "text/plain": [
       "userID      0\n",
       "surveyID    0\n",
       "TIME        0\n",
       "STATUS      0\n",
       "dtype: int64"
      ]
     },
     "execution_count": 70,
     "metadata": {},
     "output_type": "execute_result"
    }
   ],
   "source": [
    "response_train.isna().sum()"
   ]
  },
  {
   "cell_type": "markdown",
   "metadata": {
    "id": "eU1n88UhWWDI"
   },
   "source": [
    "### response_test"
   ]
  },
  {
   "cell_type": "code",
   "execution_count": 71,
   "metadata": {
    "colab": {
     "base_uri": "https://localhost:8080/"
    },
    "executionInfo": {
     "elapsed": 41,
     "status": "ok",
     "timestamp": 1639203208060,
     "user": {
      "displayName": "나ᄋ8ᄋ",
      "photoUrl": "https://lh3.googleusercontent.com/a/default-user=s64",
      "userId": "05265208169833205553"
     },
     "user_tz": -540
    },
    "id": "v93CrxR0WWDI",
    "outputId": "d0b26707-3d27-4de3-e3c0-345c2cf2b19c",
    "scrolled": false
   },
   "outputs": [
    {
     "data": {
      "text/plain": [
       "ID          0\n",
       "userID      0\n",
       "surveyID    0\n",
       "TIME        0\n",
       "dtype: int64"
      ]
     },
     "execution_count": 71,
     "metadata": {},
     "output_type": "execute_result"
    }
   ],
   "source": [
    "response_test.isna().sum()"
   ]
  },
  {
   "cell_type": "markdown",
   "metadata": {
    "id": "orFYY4wQWWDJ"
   },
   "source": [
    "### Merge Data"
   ]
  },
  {
   "cell_type": "code",
   "execution_count": 72,
   "metadata": {
    "colab": {
     "base_uri": "https://localhost:8080/"
    },
    "executionInfo": {
     "elapsed": 17,
     "status": "ok",
     "timestamp": 1639203208061,
     "user": {
      "displayName": "나ᄋ8ᄋ",
      "photoUrl": "https://lh3.googleusercontent.com/a/default-user=s64",
      "userId": "05265208169833205553"
     },
     "user_tz": -540
    },
    "id": "zm0TH_fw4wxU",
    "outputId": "8a179e0f-f6bf-4d48-8b8d-c412e1fdbd00"
   },
   "outputs": [
    {
     "name": "stdout",
     "output_type": "stream",
     "text": [
      "userID // 0.0\n",
      "BIRTH // 0.0\n",
      "GENDER // 0.0\n",
      "REGION // 0.0\n",
      "TYPE // 0.0\n",
      "SQ2 // 0.0\n",
      "SQ3 // 0.09690273501177323\n",
      "SQ4 // 0.0973253637626034\n",
      "SQ5 // 0.15190484815552738\n",
      "SQ6 // 0.15220672583469178\n",
      "SQ7 // 0.1849906417919459\n",
      "SQ8 // 0.18728491215359536\n",
      "A1 // 0.20956348487592827\n",
      "B3 // 0.24403791583650306\n",
      "B4 // 0.25381875264142967\n",
      "B5 // 0.26323733623135903\n",
      "C1 // 0.3160659300851295\n",
      "C2 // 0.41484030670772204\n",
      "C3 // 0.4265531606593009\n",
      "F1 // 0.4703857996739721\n",
      "F2 // 0.4793213789772384\n",
      "H1 // 0.4933285032904667\n",
      "T1 // 0.49846042383626155\n",
      "X1 // 0.5119845438628268\n",
      "X3 // 0.5558775584133309\n",
      "X4 // 0.6999335869105838\n",
      "DQ1 // 0.7594034897059712\n",
      "DQ2 // 0.7828895731449617\n",
      "DQ3 // 0.7886856245849182\n",
      "DQ4 // 0.790315764052406\n",
      "DQ5 // 0.7946628026323733\n",
      "DQ6 // 0.7953873090623679\n",
      "DQ7 // 0.798406085854012\n"
     ]
    }
   ],
   "source": [
    "# 결측값 확인\n",
    "for i in panel.columns:\n",
    "    try:\n",
    "        print( i,'//' ,np.sum(panel[i] == 0) / panel.shape[0])\n",
    "    except:\n",
    "        pass"
   ]
  },
  {
   "cell_type": "code",
   "execution_count": 73,
   "metadata": {
    "executionInfo": {
     "elapsed": 3944,
     "status": "ok",
     "timestamp": 1639203211995,
     "user": {
      "displayName": "나ᄋ8ᄋ",
      "photoUrl": "https://lh3.googleusercontent.com/a/default-user=s64",
      "userId": "05265208169833205553"
     },
     "user_tz": -540
    },
    "id": "5TqOWo2aWWDJ"
   },
   "outputs": [],
   "source": [
    "train = response_train.merge(survey).merge(panel, on = 'userID')\n",
    "test = response_test.merge(survey).merge(panel, on = 'userID')"
   ]
  },
  {
   "cell_type": "code",
   "execution_count": 74,
   "metadata": {
    "colab": {
     "base_uri": "https://localhost:8080/"
    },
    "executionInfo": {
     "elapsed": 54,
     "status": "ok",
     "timestamp": 1639203212000,
     "user": {
      "displayName": "나ᄋ8ᄋ",
      "photoUrl": "https://lh3.googleusercontent.com/a/default-user=s64",
      "userId": "05265208169833205553"
     },
     "user_tz": -540
    },
    "id": "oKLAfhf0BSHt",
    "outputId": "308191f7-3af8-433c-b2ed-729848d86d98",
    "scrolled": true
   },
   "outputs": [
    {
     "data": {
      "text/plain": [
       "100"
      ]
     },
     "execution_count": 74,
     "metadata": {},
     "output_type": "execute_result"
    }
   ],
   "source": [
    "gc.collect()"
   ]
  },
  {
   "cell_type": "markdown",
   "metadata": {
    "id": "N0ASqJzxWWDK"
   },
   "source": [
    "# 4. Features Engineering"
   ]
  },
  {
   "cell_type": "markdown",
   "metadata": {
    "id": "IlD7q4SPmUyj"
   },
   "source": [
    "* 질문관련"
   ]
  },
  {
   "cell_type": "code",
   "execution_count": 75,
   "metadata": {
    "executionInfo": {
     "elapsed": 1590,
     "status": "ok",
     "timestamp": 1639203213558,
     "user": {
      "displayName": "나ᄋ8ᄋ",
      "photoUrl": "https://lh3.googleusercontent.com/a/default-user=s64",
      "userId": "05265208169833205553"
     },
     "user_tz": -540
    },
    "id": "_8w5aRhSmW4w"
   },
   "outputs": [],
   "source": [
    "train['error_sum'] = (train.loc[:,'SQ2':'DQ7']==0).sum(axis=1)\n",
    "test['error_sum'] = (test.loc[:,'SQ2':'DQ7']==0).sum(axis=1)"
   ]
  },
  {
   "cell_type": "markdown",
   "metadata": {
    "id": "9XR__4UKmYFp"
   },
   "source": [
    "* 분할"
   ]
  },
  {
   "cell_type": "code",
   "execution_count": 76,
   "metadata": {
    "colab": {
     "base_uri": "https://localhost:8080/"
    },
    "executionInfo": {
     "elapsed": 68,
     "status": "ok",
     "timestamp": 1639203213560,
     "user": {
      "displayName": "나ᄋ8ᄋ",
      "photoUrl": "https://lh3.googleusercontent.com/a/default-user=s64",
      "userId": "05265208169833205553"
     },
     "user_tz": -540
    },
    "id": "R7tU-iBbnnqF",
    "outputId": "e997b267-f1ac-45ed-ce14-39b624f049e2"
   },
   "outputs": [
    {
     "data": {
      "text/plain": [
       "Index(['userID', 'surveyID', 'TIME', 'STATUS', 'TITLE', 'IR', 'LOI', 'CPI',\n",
       "       'BIRTH', 'GENDER', 'REGION', 'TYPE', 'SQ2', 'SQ3', 'SQ4', 'SQ5', 'SQ6',\n",
       "       'SQ7', 'SQ8', 'A1', 'B3', 'B4', 'B5', 'C1', 'C2', 'C3', 'F1', 'F2',\n",
       "       'H1', 'T1', 'X1', 'X3', 'X4', 'DQ1', 'DQ2', 'DQ3', 'DQ4', 'DQ5', 'DQ6',\n",
       "       'DQ7', 'error_sum'],\n",
       "      dtype='object')"
      ]
     },
     "execution_count": 76,
     "metadata": {},
     "output_type": "execute_result"
    }
   ],
   "source": [
    "train.columns"
   ]
  },
  {
   "cell_type": "code",
   "execution_count": 77,
   "metadata": {
    "executionInfo": {
     "elapsed": 4127,
     "status": "ok",
     "timestamp": 1639203217628,
     "user": {
      "displayName": "나ᄋ8ᄋ",
      "photoUrl": "https://lh3.googleusercontent.com/a/default-user=s64",
      "userId": "05265208169833205553"
     },
     "user_tz": -540
    },
    "id": "eHcO9sNTe9VA"
   },
   "outputs": [],
   "source": [
    "train = train.drop([ 'C2', 'C3', 'F1', 'F2',\n",
    "       'H1', 'T1', 'X1', 'X3', 'X4', 'DQ1', 'DQ2', 'DQ3', 'DQ4', 'DQ5', 'DQ6',\n",
    "       'DQ7'],axis=1)\n",
    "\n",
    "test = test.drop([ 'C2', 'C3', 'F1', 'F2',\n",
    "       'H1', 'T1', 'X1', 'X3', 'X4', 'DQ1', 'DQ2', 'DQ3', 'DQ4', 'DQ5', 'DQ6',\n",
    "       'DQ7'],axis=1)"
   ]
  },
  {
   "cell_type": "code",
   "execution_count": 78,
   "metadata": {
    "colab": {
     "base_uri": "https://localhost:8080/"
    },
    "executionInfo": {
     "elapsed": 56,
     "status": "ok",
     "timestamp": 1639203217632,
     "user": {
      "displayName": "나ᄋ8ᄋ",
      "photoUrl": "https://lh3.googleusercontent.com/a/default-user=s64",
      "userId": "05265208169833205553"
     },
     "user_tz": -540
    },
    "id": "HHw3fBmBDDSk",
    "outputId": "70d6780c-647e-49a4-f58d-e96da6bf08a2"
   },
   "outputs": [
    {
     "data": {
      "text/plain": [
       "891"
      ]
     },
     "execution_count": 78,
     "metadata": {},
     "output_type": "execute_result"
    }
   ],
   "source": [
    "len(set(train.userID.unique())-set((test.userID.unique())))"
   ]
  },
  {
   "cell_type": "code",
   "execution_count": 79,
   "metadata": {
    "executionInfo": {
     "elapsed": 2281,
     "status": "ok",
     "timestamp": 1639203219872,
     "user": {
      "displayName": "나ᄋ8ᄋ",
      "photoUrl": "https://lh3.googleusercontent.com/a/default-user=s64",
      "userId": "05265208169833205553"
     },
     "user_tz": -540
    },
    "id": "g1lkISLee9VA"
   },
   "outputs": [],
   "source": [
    "# train 데이터 분할\n",
    "before_train = train.query(\"TIME>='2020-11-01 00:00:00' and TIME< '2021-03-01 00:00:00'\")\n",
    "train = train.query(\"TIME>='2021-03-01 00:00:00'\")"
   ]
  },
  {
   "cell_type": "code",
   "execution_count": 80,
   "metadata": {
    "colab": {
     "base_uri": "https://localhost:8080/"
    },
    "executionInfo": {
     "elapsed": 19,
     "status": "ok",
     "timestamp": 1639203219874,
     "user": {
      "displayName": "나ᄋ8ᄋ",
      "photoUrl": "https://lh3.googleusercontent.com/a/default-user=s64",
      "userId": "05265208169833205553"
     },
     "user_tz": -540
    },
    "id": "-g03kUMpB3sk",
    "outputId": "fd5957fc-f5e8-46c9-a369-b629fd9cc448"
   },
   "outputs": [
    {
     "data": {
      "text/plain": [
       "182"
      ]
     },
     "execution_count": 80,
     "metadata": {},
     "output_type": "execute_result"
    }
   ],
   "source": [
    "len(set(test.userID.unique()) - set(train.userID.unique()))"
   ]
  },
  {
   "cell_type": "markdown",
   "metadata": {
    "id": "-yE9IrXAmaGz"
   },
   "source": [
    "* 최초 응답"
   ]
  },
  {
   "cell_type": "code",
   "execution_count": 81,
   "metadata": {
    "executionInfo": {
     "elapsed": 1761,
     "status": "ok",
     "timestamp": 1639203222124,
     "user": {
      "displayName": "나ᄋ8ᄋ",
      "photoUrl": "https://lh3.googleusercontent.com/a/default-user=s64",
      "userId": "05265208169833205553"
     },
     "user_tz": -540
    },
    "id": "3qUXIndufgmc"
   },
   "outputs": [],
   "source": [
    "a = train.sort_values(by='TIME').drop_duplicates(['userID'],keep='first')"
   ]
  },
  {
   "cell_type": "code",
   "execution_count": 82,
   "metadata": {
    "executionInfo": {
     "elapsed": 13,
     "status": "ok",
     "timestamp": 1639203222125,
     "user": {
      "displayName": "나ᄋ8ᄋ",
      "photoUrl": "https://lh3.googleusercontent.com/a/default-user=s64",
      "userId": "05265208169833205553"
     },
     "user_tz": -540
    },
    "id": "5JTlHQogicQO"
   },
   "outputs": [],
   "source": [
    "first_survey = a.query('STATUS == 1')"
   ]
  },
  {
   "cell_type": "code",
   "execution_count": 83,
   "metadata": {
    "executionInfo": {
     "elapsed": 12,
     "status": "ok",
     "timestamp": 1639203222126,
     "user": {
      "displayName": "나ᄋ8ᄋ",
      "photoUrl": "https://lh3.googleusercontent.com/a/default-user=s64",
      "userId": "05265208169833205553"
     },
     "user_tz": -540
    },
    "id": "7kQZdUa9jjKu"
   },
   "outputs": [],
   "source": [
    "first_survey['first_survey'] = 1"
   ]
  },
  {
   "cell_type": "code",
   "execution_count": 84,
   "metadata": {
    "executionInfo": {
     "elapsed": 507,
     "status": "ok",
     "timestamp": 1639203222622,
     "user": {
      "displayName": "나ᄋ8ᄋ",
      "photoUrl": "https://lh3.googleusercontent.com/a/default-user=s64",
      "userId": "05265208169833205553"
     },
     "user_tz": -540
    },
    "id": "0SSFpqhfjqqF"
   },
   "outputs": [],
   "source": [
    "train = train.merge(first_survey[['userID','first_survey']], how='left')"
   ]
  },
  {
   "cell_type": "code",
   "execution_count": 85,
   "metadata": {
    "executionInfo": {
     "elapsed": 921,
     "status": "ok",
     "timestamp": 1639203223539,
     "user": {
      "displayName": "나ᄋ8ᄋ",
      "photoUrl": "https://lh3.googleusercontent.com/a/default-user=s64",
      "userId": "05265208169833205553"
     },
     "user_tz": -540
    },
    "id": "-rXI-AzeklYm"
   },
   "outputs": [],
   "source": [
    "train.fillna(0,inplace=True)"
   ]
  },
  {
   "cell_type": "code",
   "execution_count": 86,
   "metadata": {
    "executionInfo": {
     "elapsed": 9,
     "status": "ok",
     "timestamp": 1639203223541,
     "user": {
      "displayName": "나ᄋ8ᄋ",
      "photoUrl": "https://lh3.googleusercontent.com/a/default-user=s64",
      "userId": "05265208169833205553"
     },
     "user_tz": -540
    },
    "id": "u5acE4gnqrZZ"
   },
   "outputs": [],
   "source": [
    "train.first_survey = train.first_survey.astype(object)"
   ]
  },
  {
   "cell_type": "code",
   "execution_count": 87,
   "metadata": {
    "executionInfo": {
     "elapsed": 1537,
     "status": "ok",
     "timestamp": 1639203225071,
     "user": {
      "displayName": "나ᄋ8ᄋ",
      "photoUrl": "https://lh3.googleusercontent.com/a/default-user=s64",
      "userId": "05265208169833205553"
     },
     "user_tz": -540
    },
    "id": "RrWUiDjrkUvo"
   },
   "outputs": [],
   "source": [
    "test = test.merge(first_survey[['userID','first_survey']], on='userID',how = 'left').fillna(0)"
   ]
  },
  {
   "cell_type": "code",
   "execution_count": 88,
   "metadata": {
    "executionInfo": {
     "elapsed": 1569,
     "status": "ok",
     "timestamp": 1639203226632,
     "user": {
      "displayName": "나ᄋ8ᄋ",
      "photoUrl": "https://lh3.googleusercontent.com/a/default-user=s64",
      "userId": "05265208169833205553"
     },
     "user_tz": -540
    },
    "id": "aabFXDV8-nvZ"
   },
   "outputs": [],
   "source": [
    "# 패널 아이디별, CPI 획득량 \n",
    "Points_earned = pd.DataFrame(before_train.query('STATUS==1').groupby('userID')['CPI'].agg([('Points_earned',np.sum)])).reset_index()\n",
    "\n",
    "train = train.merge(Points_earned, how='left')\n",
    "train['Points_earned'].fillna(train['Points_earned'].mean(), inplace = True)\n",
    "test = test.merge(Points_earned, how='left')\n",
    "test['Points_earned'].fillna(test['Points_earned'].mean(), inplace = True)"
   ]
  },
  {
   "cell_type": "code",
   "execution_count": 89,
   "metadata": {
    "executionInfo": {
     "elapsed": 1276,
     "status": "ok",
     "timestamp": 1639203227900,
     "user": {
      "displayName": "나ᄋ8ᄋ",
      "photoUrl": "https://lh3.googleusercontent.com/a/default-user=s64",
      "userId": "05265208169833205553"
     },
     "user_tz": -540
    },
    "id": "mrGgr-g9_ANc"
   },
   "outputs": [],
   "source": [
    "# 패널 아이디별, LOI 실제 sum\n",
    "LOI_SUM = pd.DataFrame(before_train.query('STATUS==1').groupby('userID')['LOI'].agg([('LOI_SUM',np.sum)])).reset_index()\n",
    "\n",
    "train = train.merge(LOI_SUM, how='left')\n",
    "train['LOI_SUM'].fillna(train['LOI_SUM'].mean(), inplace = True)\n",
    "test = test.merge(LOI_SUM, how='left')\n",
    "test['LOI_SUM'].fillna(test['LOI_SUM'].mean(), inplace = True)"
   ]
  },
  {
   "cell_type": "code",
   "execution_count": 90,
   "metadata": {
    "executionInfo": {
     "elapsed": 971,
     "status": "ok",
     "timestamp": 1639203228866,
     "user": {
      "displayName": "나ᄋ8ᄋ",
      "photoUrl": "https://lh3.googleusercontent.com/a/default-user=s64",
      "userId": "05265208169833205553"
     },
     "user_tz": -540
    },
    "id": "8rnDL_KL_MV0"
   },
   "outputs": [],
   "source": [
    "# 패널 아이디별, IR 실제 sum\n",
    "IR_SUM = pd.DataFrame(before_train.query('STATUS==1').groupby('userID')['IR'].agg([('IR_SUM',np.sum)])).reset_index()\n",
    "\n",
    "train = train.merge(IR_SUM, how='left')\n",
    "train['IR_SUM'].fillna(train['IR_SUM'].mean(), inplace = True)\n",
    "test = test.merge(IR_SUM, how='left')\n",
    "test['IR_SUM'].fillna(test['IR_SUM'].mean(), inplace = True)"
   ]
  },
  {
   "cell_type": "markdown",
   "metadata": {
    "id": "qpVyZmNnBimu"
   },
   "source": [
    "* IR별 응답비율\n",
    "\n",
    "\n",
    "\n"
   ]
  },
  {
   "cell_type": "code",
   "execution_count": 91,
   "metadata": {
    "executionInfo": {
     "elapsed": 518,
     "status": "ok",
     "timestamp": 1639203229379,
     "user": {
      "displayName": "나ᄋ8ᄋ",
      "photoUrl": "https://lh3.googleusercontent.com/a/default-user=s64",
      "userId": "05265208169833205553"
     },
     "user_tz": -540
    },
    "id": "mz9Qr5Kwe9VA"
   },
   "outputs": [],
   "source": [
    "train_IR = ((train.groupby('IR')['STATUS'].sum())/(train.IR.value_counts().sort_index())).reset_index().rename(columns = {0 : 'STATUS_ratio_IR'})"
   ]
  },
  {
   "cell_type": "code",
   "execution_count": 92,
   "metadata": {
    "executionInfo": {
     "elapsed": 1484,
     "status": "ok",
     "timestamp": 1639203230858,
     "user": {
      "displayName": "나ᄋ8ᄋ",
      "photoUrl": "https://lh3.googleusercontent.com/a/default-user=s64",
      "userId": "05265208169833205553"
     },
     "user_tz": -540
    },
    "id": "cG-WBiA0e9VA"
   },
   "outputs": [],
   "source": [
    "train = train.merge(train_IR,on='IR')\n",
    "test = test.merge(train_IR,on='IR', how = 'left').fillna(train_IR.mean()[1])"
   ]
  },
  {
   "cell_type": "markdown",
   "metadata": {
    "id": "jtj0H5qfWWDT"
   },
   "source": [
    "* LOI구간 별 응답비율"
   ]
  },
  {
   "cell_type": "code",
   "execution_count": 93,
   "metadata": {
    "executionInfo": {
     "elapsed": 9,
     "status": "ok",
     "timestamp": 1639203230859,
     "user": {
      "displayName": "나ᄋ8ᄋ",
      "photoUrl": "https://lh3.googleusercontent.com/a/default-user=s64",
      "userId": "05265208169833205553"
     },
     "user_tz": -540
    },
    "id": "hmGn4UcLe9VB"
   },
   "outputs": [],
   "source": [
    "train_LOI = ((train.groupby('LOI')['STATUS'].sum())/(train.LOI.value_counts().sort_index())).reset_index().rename(columns = {0 : 'STATUS_ratio_LOI'})"
   ]
  },
  {
   "cell_type": "code",
   "execution_count": 94,
   "metadata": {
    "executionInfo": {
     "elapsed": 3090,
     "status": "ok",
     "timestamp": 1639203233942,
     "user": {
      "displayName": "나ᄋ8ᄋ",
      "photoUrl": "https://lh3.googleusercontent.com/a/default-user=s64",
      "userId": "05265208169833205553"
     },
     "user_tz": -540
    },
    "id": "wpvHXWi2e9VB"
   },
   "outputs": [],
   "source": [
    "train = train.merge(train_LOI,on='LOI')\n",
    "test = test.merge(train_LOI, how = 'left').fillna(train_LOI.mean()[1])"
   ]
  },
  {
   "cell_type": "markdown",
   "metadata": {
    "id": "6rUqEGfUWWDX"
   },
   "source": [
    "* CPI구간 별 응답비율"
   ]
  },
  {
   "cell_type": "code",
   "execution_count": 95,
   "metadata": {
    "executionInfo": {
     "elapsed": 13,
     "status": "ok",
     "timestamp": 1639203233943,
     "user": {
      "displayName": "나ᄋ8ᄋ",
      "photoUrl": "https://lh3.googleusercontent.com/a/default-user=s64",
      "userId": "05265208169833205553"
     },
     "user_tz": -540
    },
    "id": "JRuP04eXe9VB"
   },
   "outputs": [],
   "source": [
    "train_CPI = ((train.groupby('CPI')['STATUS'].sum())/(train.CPI.value_counts().sort_index())).reset_index().rename(columns = {0 : 'STATUS_ratio_CPI'})"
   ]
  },
  {
   "cell_type": "code",
   "execution_count": 96,
   "metadata": {
    "executionInfo": {
     "elapsed": 522,
     "status": "ok",
     "timestamp": 1639203234453,
     "user": {
      "displayName": "나ᄋ8ᄋ",
      "photoUrl": "https://lh3.googleusercontent.com/a/default-user=s64",
      "userId": "05265208169833205553"
     },
     "user_tz": -540
    },
    "id": "Z5zVw8Fde9VB"
   },
   "outputs": [],
   "source": [
    "train = train.merge(train_CPI,on='CPI')\n",
    "test = test.merge(train_CPI, how = 'left').fillna(train_CPI.mean()[1])"
   ]
  },
  {
   "cell_type": "code",
   "execution_count": 97,
   "metadata": {
    "colab": {
     "base_uri": "https://localhost:8080/"
    },
    "executionInfo": {
     "elapsed": 26,
     "status": "ok",
     "timestamp": 1639203234456,
     "user": {
      "displayName": "나ᄋ8ᄋ",
      "photoUrl": "https://lh3.googleusercontent.com/a/default-user=s64",
      "userId": "05265208169833205553"
     },
     "user_tz": -540
    },
    "id": "D_ghNx7me9VB",
    "outputId": "deab5c27-89b3-4c8e-d304-81312c299420",
    "scrolled": false
   },
   "outputs": [
    {
     "data": {
      "text/plain": [
       "((1170545, 32), (1355517, 32))"
      ]
     },
     "execution_count": 97,
     "metadata": {},
     "output_type": "execute_result"
    }
   ],
   "source": [
    "train.shape, test.shape"
   ]
  },
  {
   "cell_type": "markdown",
   "metadata": {
    "id": "ptT-FthFIqT6"
   },
   "source": [
    "* 시계열 피쳐 생성"
   ]
  },
  {
   "cell_type": "code",
   "execution_count": 98,
   "metadata": {
    "executionInfo": {
     "elapsed": 1624,
     "status": "ok",
     "timestamp": 1639203236064,
     "user": {
      "displayName": "나ᄋ8ᄋ",
      "photoUrl": "https://lh3.googleusercontent.com/a/default-user=s64",
      "userId": "05265208169833205553"
     },
     "user_tz": -540
    },
    "id": "s7wuaV6Ze9VB"
   },
   "outputs": [],
   "source": [
    "# month는 drop 예정\n",
    "train['TIME'] =  pd.to_datetime(train['TIME'], format='%Y/%m/%d')\n",
    "train['weekday'] = train['TIME'].dt.dayofweek\n",
    "train['month'] = train['TIME'].dt.month\n",
    "train['hour'] = train['TIME'].dt.hour\n",
    "\n",
    "test['TIME'] =  pd.to_datetime(test['TIME'], format='%Y/%m/%d')\n",
    "test['weekday'] = test['TIME'].dt.dayofweek\n",
    "test['month'] = train['TIME'].dt.month\n",
    "test['hour'] = test['TIME'].dt.hour"
   ]
  },
  {
   "cell_type": "code",
   "execution_count": 99,
   "metadata": {
    "executionInfo": {
     "elapsed": 1420,
     "status": "ok",
     "timestamp": 1639203237451,
     "user": {
      "displayName": "나ᄋ8ᄋ",
      "photoUrl": "https://lh3.googleusercontent.com/a/default-user=s64",
      "userId": "05265208169833205553"
     },
     "user_tz": -540
    },
    "id": "DCxEdzzie9VC"
   },
   "outputs": [],
   "source": [
    "# 6~10월 요일 별 응답률\n",
    "train_weekday_ratio = train.groupby('weekday')['STATUS'].mean().reset_index().rename(columns = {'STATUS' : 'STATUS_ratio_weekday'})\n",
    "\n",
    "train = train.merge(train_weekday_ratio,on='weekday')\n",
    "test = test.merge(train_weekday_ratio,on='weekday')\n",
    "#tr_test = tr_test.merge(train_weekday_ratio,on='weekday')"
   ]
  },
  {
   "cell_type": "code",
   "execution_count": 100,
   "metadata": {
    "executionInfo": {
     "elapsed": 1248,
     "status": "ok",
     "timestamp": 1639203238691,
     "user": {
      "displayName": "나ᄋ8ᄋ",
      "photoUrl": "https://lh3.googleusercontent.com/a/default-user=s64",
      "userId": "05265208169833205553"
     },
     "user_tz": -540
    },
    "id": "CHQNXJqte9VC"
   },
   "outputs": [],
   "source": [
    "# 6~10월 시간 별 응답률\n",
    "train_hour_ratio = train.groupby('hour')['STATUS'].mean().reset_index().rename(columns = {'STATUS' : 'STATUS_ratio_hour'})\n",
    "\n",
    "train = train.merge(train_hour_ratio,on='hour')\n",
    "test = test.merge(train_hour_ratio,on='hour')\n",
    "#tr_test = tr_test.merge(train_hour_ratio,on='hour')"
   ]
  },
  {
   "cell_type": "code",
   "execution_count": 101,
   "metadata": {
    "colab": {
     "base_uri": "https://localhost:8080/"
    },
    "executionInfo": {
     "elapsed": 74,
     "status": "ok",
     "timestamp": 1639203238697,
     "user": {
      "displayName": "나ᄋ8ᄋ",
      "photoUrl": "https://lh3.googleusercontent.com/a/default-user=s64",
      "userId": "05265208169833205553"
     },
     "user_tz": -540
    },
    "id": "5g_01uaoe9VC",
    "outputId": "6300e587-cc5a-4bd5-bb18-ff595045bc52"
   },
   "outputs": [
    {
     "data": {
      "text/plain": [
       "((1170545, 37), (1355517, 37))"
      ]
     },
     "execution_count": 101,
     "metadata": {},
     "output_type": "execute_result"
    }
   ],
   "source": [
    "train.shape, test.shape "
   ]
  },
  {
   "cell_type": "markdown",
   "metadata": {
    "id": "6qHheM9Ce9VC"
   },
   "source": [
    "* BIRTH 이산화"
   ]
  },
  {
   "cell_type": "code",
   "execution_count": 104,
   "metadata": {
    "executionInfo": {
     "elapsed": 1034,
     "status": "ok",
     "timestamp": 1639203239693,
     "user": {
      "displayName": "나ᄋ8ᄋ",
      "photoUrl": "https://lh3.googleusercontent.com/a/default-user=s64",
      "userId": "05265208169833205553"
     },
     "user_tz": -540
    },
    "id": "A1_gPTtUe9VC"
   },
   "outputs": [],
   "source": [
    "train.loc[train.BIRTH < 1950,'BIRTH'] = 1940\n",
    "train.loc[(1950 <=train.BIRTH) & (train.BIRTH < 1960),'BIRTH'] = 1950\n",
    "train.loc[(1960 <= train.BIRTH) & (train.BIRTH < 1970),'BIRTH'] = 1960\n",
    "train.loc[(1970 <=train.BIRTH) & (train.BIRTH < 1980),'BIRTH'] = 1970\n",
    "train.loc[(1980 <=train.BIRTH) & (train.BIRTH < 1990),'BIRTH'] = 1980\n",
    "train.loc[(1990 <=train.BIRTH) & (train.BIRTH < 2000),'BIRTH'] = 1990\n",
    "train.loc[(2000 <=train.BIRTH) & (train.BIRTH < 2010),'BIRTH'] = 2000\n",
    "\n",
    "# 나름대로 유의미?\n",
    "train['BIRTH'] = train['BIRTH']\n",
    "\n",
    "test.loc[test.BIRTH < 1950,'BIRTH'] = 1940\n",
    "test.loc[(1950 <=test.BIRTH) & (test.BIRTH < 1960),'BIRTH'] = 1950\n",
    "test.loc[(1960 <= test.BIRTH) & (test.BIRTH < 1970),'BIRTH'] = 1960\n",
    "test.loc[(1970 <=test.BIRTH) & (test.BIRTH < 1980),'BIRTH'] = 1970\n",
    "test.loc[(1980 <=test.BIRTH) & (test.BIRTH < 1990),'BIRTH'] = 1980\n",
    "test.loc[(1990 <=test.BIRTH) & (test.BIRTH < 2000),'BIRTH'] = 1990\n",
    "test.loc[(2000 <=test.BIRTH) & (test.BIRTH < 2010),'BIRTH'] = 2000\n",
    "\n",
    "test['BIRTH'] = test['BIRTH']"
   ]
  },
  {
   "cell_type": "code",
   "execution_count": 105,
   "metadata": {
    "executionInfo": {
     "elapsed": 2992,
     "status": "ok",
     "timestamp": 1639203242675,
     "user": {
      "displayName": "나ᄋ8ᄋ",
      "photoUrl": "https://lh3.googleusercontent.com/a/default-user=s64",
      "userId": "05265208169833205553"
     },
     "user_tz": -540
    },
    "id": "l67kY_fQe9VD"
   },
   "outputs": [],
   "source": [
    "a = train.groupby('BIRTH')['STATUS'].mean().reset_index()\n",
    "a = a.rename(columns = {'STATUS' : 'BIRTH_STATUS'})\n",
    "train['BIRTH_STATUS'] = train.merge(a,on = 'BIRTH')['BIRTH_STATUS']\n",
    "test['BIRTH_STATUS'] = test.merge(a,on = 'BIRTH')['BIRTH_STATUS']\n",
    "#tr_test['BIRTH_STATUS'] = tr_test.merge(a,on = 'BIRTH')['BIRTH_STATUS']"
   ]
  },
  {
   "cell_type": "code",
   "execution_count": 106,
   "metadata": {
    "colab": {
     "base_uri": "https://localhost:8080/"
    },
    "executionInfo": {
     "elapsed": 31,
     "status": "ok",
     "timestamp": 1639203242676,
     "user": {
      "displayName": "나ᄋ8ᄋ",
      "photoUrl": "https://lh3.googleusercontent.com/a/default-user=s64",
      "userId": "05265208169833205553"
     },
     "user_tz": -540
    },
    "id": "-RxVR7xRe9VD",
    "outputId": "ed96ac1a-7fab-41e6-df39-f905e64c0f58"
   },
   "outputs": [
    {
     "data": {
      "text/plain": [
       "((1170545, 38), (1355517, 38))"
      ]
     },
     "execution_count": 106,
     "metadata": {},
     "output_type": "execute_result"
    }
   ],
   "source": [
    "train.shape, test.shape"
   ]
  },
  {
   "cell_type": "markdown",
   "metadata": {
    "id": "53XjUyVBe9VD"
   },
   "source": [
    "* 응답 추세(2020/6~10)"
   ]
  },
  {
   "cell_type": "code",
   "execution_count": 107,
   "metadata": {
    "executionInfo": {
     "elapsed": 503,
     "status": "ok",
     "timestamp": 1639203243165,
     "user": {
      "displayName": "나ᄋ8ᄋ",
      "photoUrl": "https://lh3.googleusercontent.com/a/default-user=s64",
      "userId": "05265208169833205553"
     },
     "user_tz": -540
    },
    "id": "vOFqdvT9e9VD"
   },
   "outputs": [],
   "source": [
    "week_to = train['TIME'].max()\n",
    "week_trans = []\n",
    "for i in range(6):\n",
    "    week_from = week_to + pd.DateOffset(weeks=-1)\n",
    "    week_trans.append(train.query('@week_from < TIME <= @week_to')\n",
    "                      .groupby('userID')['STATUS']\n",
    "                      .agg([(f'w{6-i}', 'mean')])\n",
    "                      .reset_index())\n",
    "    week_to = week_from\n",
    "    #userID별 월별 응답 평균"
   ]
  },
  {
   "cell_type": "code",
   "execution_count": 108,
   "metadata": {
    "executionInfo": {
     "elapsed": 594,
     "status": "ok",
     "timestamp": 1639203243754,
     "user": {
      "displayName": "나ᄋ8ᄋ",
      "photoUrl": "https://lh3.googleusercontent.com/a/default-user=s64",
      "userId": "05265208169833205553"
     },
     "user_tz": -540
    },
    "id": "jCqQ-6xke9VD"
   },
   "outputs": [],
   "source": [
    "# 리스트로부터 데이터프레임 변환    \n",
    "f = pd.DataFrame({'userID': train.userID.unique()})"
   ]
  },
  {
   "cell_type": "code",
   "execution_count": 109,
   "metadata": {
    "executionInfo": {
     "elapsed": 22,
     "status": "ok",
     "timestamp": 1639203243755,
     "user": {
      "displayName": "나ᄋ8ᄋ",
      "photoUrl": "https://lh3.googleusercontent.com/a/default-user=s64",
      "userId": "05265208169833205553"
     },
     "user_tz": -540
    },
    "id": "YfjGFCrbe9VD"
   },
   "outputs": [],
   "source": [
    "for w in week_trans[::-1]:\n",
    "    f = f.merge(w,how='left',on='userID')"
   ]
  },
  {
   "cell_type": "code",
   "execution_count": 110,
   "metadata": {
    "executionInfo": {
     "elapsed": 18,
     "status": "ok",
     "timestamp": 1639203243756,
     "user": {
      "displayName": "나ᄋ8ᄋ",
      "photoUrl": "https://lh3.googleusercontent.com/a/default-user=s64",
      "userId": "05265208169833205553"
     },
     "user_tz": -540
    },
    "id": "BAN_Z-Dke9VD"
   },
   "outputs": [],
   "source": [
    "for i in f.columns[1:]:\n",
    "    f = f.fillna(f[i].mean())"
   ]
  },
  {
   "cell_type": "code",
   "execution_count": 111,
   "metadata": {
    "executionInfo": {
     "elapsed": 2944,
     "status": "ok",
     "timestamp": 1639203246683,
     "user": {
      "displayName": "나ᄋ8ᄋ",
      "photoUrl": "https://lh3.googleusercontent.com/a/default-user=s64",
      "userId": "05265208169833205553"
     },
     "user_tz": -540
    },
    "id": "1XmAQOJJe9VD"
   },
   "outputs": [],
   "source": [
    "train = train.merge(f, how='left')\n",
    "test = test.merge(f, how='left')\n",
    "#tr_test = tr_test.merge(f, how ='left')"
   ]
  },
  {
   "cell_type": "code",
   "execution_count": 112,
   "metadata": {
    "colab": {
     "base_uri": "https://localhost:8080/"
    },
    "executionInfo": {
     "elapsed": 22,
     "status": "ok",
     "timestamp": 1639203246684,
     "user": {
      "displayName": "나ᄋ8ᄋ",
      "photoUrl": "https://lh3.googleusercontent.com/a/default-user=s64",
      "userId": "05265208169833205553"
     },
     "user_tz": -540
    },
    "id": "wbLr0uNLe9VD",
    "outputId": "5ac67251-0c00-449b-b10e-032e1874e06b"
   },
   "outputs": [
    {
     "data": {
      "text/plain": [
       "((1170545, 44), (1355517, 44))"
      ]
     },
     "execution_count": 112,
     "metadata": {},
     "output_type": "execute_result"
    }
   ],
   "source": [
    "train.shape, test.shape"
   ]
  },
  {
   "cell_type": "code",
   "execution_count": 113,
   "metadata": {
    "colab": {
     "base_uri": "https://localhost:8080/"
    },
    "executionInfo": {
     "elapsed": 1520,
     "status": "ok",
     "timestamp": 1639203248193,
     "user": {
      "displayName": "나ᄋ8ᄋ",
      "photoUrl": "https://lh3.googleusercontent.com/a/default-user=s64",
      "userId": "05265208169833205553"
     },
     "user_tz": -540
    },
    "id": "Incu_wvEwvuC",
    "outputId": "8d8c63b9-e531-4b10-9ec1-b5b0d9479a4a"
   },
   "outputs": [
    {
     "data": {
      "text/plain": [
       "((1170545, 45), (1355517, 45))"
      ]
     },
     "execution_count": 113,
     "metadata": {},
     "output_type": "execute_result"
    }
   ],
   "source": [
    "a = (before_train.groupby('userID')['STATUS'].sum())/(before_train.groupby('userID')['userID'].count())\n",
    "a.name = 'user'\n",
    "a = a.reset_index()\n",
    "train = train.merge( a , on ='userID',how='left')\n",
    "test = test.merge(a, on = 'userID',how='left')\n",
    "#tr_test = tr_test.merge(a, on ='userID',how = 'left')\n",
    "train['user'].fillna(train['user'].mean(),inplace = True)\n",
    "test['user'].fillna(test['user'].mean(),inplace = True)\n",
    "#tr_test['user'].fillna(tr_test['user'].mean(),inplace = True)\n",
    "train.shape,test.shape"
   ]
  },
  {
   "cell_type": "code",
   "execution_count": 114,
   "metadata": {
    "executionInfo": {
     "elapsed": 2712,
     "status": "ok",
     "timestamp": 1639203250899,
     "user": {
      "displayName": "나ᄋ8ᄋ",
      "photoUrl": "https://lh3.googleusercontent.com/a/default-user=s64",
      "userId": "05265208169833205553"
     },
     "user_tz": -540
    },
    "id": "ltagglwvHRmk"
   },
   "outputs": [],
   "source": [
    "a = before_train.groupby('userID')['userID'].count()\n",
    "a.name = 'user_count'\n",
    "a = a.reset_index()\n",
    "before_train = before_train.merge(a, on = 'userID',how ='left')\n",
    "train = train.merge(a, on = 'userID', how = 'left')\n",
    "test = test.merge(a,on = 'userID', how ='left')\n",
    "#tr_test = tr_test.merge(a,on = 'userID', how ='left')\n",
    "train['user_count'].fillna(train['user_count'].mean(),inplace = True)\n",
    "test['user_count'].fillna(test['user_count'].mean(),inplace = True)\n",
    "#tr_test['user_count'].fillna(tr_test['user_count'].mean(),inplace = True)"
   ]
  },
  {
   "cell_type": "code",
   "execution_count": 115,
   "metadata": {
    "executionInfo": {
     "elapsed": 2946,
     "status": "ok",
     "timestamp": 1639203253837,
     "user": {
      "displayName": "나ᄋ8ᄋ",
      "photoUrl": "https://lh3.googleusercontent.com/a/default-user=s64",
      "userId": "05265208169833205553"
     },
     "user_tz": -540
    },
    "id": "lOLS8RwwHl0F"
   },
   "outputs": [],
   "source": [
    "a = (before_train.query('STATUS == 1')['user_count'].value_counts()/before_train.query('STATUS == 1')['user_count'].value_counts().sum()).reset_index()\n",
    "a = a.rename(columns = {'user_count' : 'STAT1user_count'})\n",
    "a = a.rename(columns = {'index' : 'user_count'})\n",
    "before_train = before_train.merge(a,on = 'user_count')\n",
    "train = train.merge(a,on = 'user_count',how ='left')\n",
    "test = test.merge(a,on = 'user_count', how ='left')\n",
    "#tr_test = tr_test.merge(a,on = 'user_count', how ='left')\n",
    "train['STAT1user_count'].fillna(train['STAT1user_count'].mean(),inplace = True)\n",
    "test['STAT1user_count'].fillna(test['STAT1user_count'].mean(),inplace = True)"
   ]
  },
  {
   "cell_type": "code",
   "execution_count": 116,
   "metadata": {
    "executionInfo": {
     "elapsed": 2744,
     "status": "ok",
     "timestamp": 1639203256543,
     "user": {
      "displayName": "나ᄋ8ᄋ",
      "photoUrl": "https://lh3.googleusercontent.com/a/default-user=s64",
      "userId": "05265208169833205553"
     },
     "user_tz": -540
    },
    "id": "NcITXQYSLZ3I"
   },
   "outputs": [],
   "source": [
    "IR_index = (before_train.query('STATUS == 1')['IR'].value_counts()/before_train.query('STATUS == 1')['IR'].value_counts().sum()).sort_values(ascending = False).head(2).index.tolist()\n",
    "LOI_index = (before_train.query('STATUS == 1')['LOI'].value_counts()/before_train.query('STATUS == 1')['LOI'].value_counts().sum()).sort_values(ascending = False).head(5).index.tolist()\n",
    "CPI_index = (before_train.query('STATUS == 1')['CPI'].value_counts()/before_train.query('STATUS == 1')['CPI'].value_counts().sum()).sort_values(ascending = False).head(5).index.tolist()"
   ]
  },
  {
   "cell_type": "code",
   "execution_count": 117,
   "metadata": {
    "executionInfo": {
     "elapsed": 1722,
     "status": "ok",
     "timestamp": 1639203258251,
     "user": {
      "displayName": "나ᄋ8ᄋ",
      "photoUrl": "https://lh3.googleusercontent.com/a/default-user=s64",
      "userId": "05265208169833205553"
     },
     "user_tz": -540
    },
    "id": "4bGfksYKpS9A"
   },
   "outputs": [],
   "source": [
    "train['IR_ind'] = train['IR'].apply(lambda x : 1if x in IR_index else 0)\n",
    "train['LOI_ind'] = train['LOI'].apply(lambda x : 1 if x in LOI_index else 0)\n",
    "train['CPI_ind'] = train['CPI'].apply(lambda x : 1 if x in CPI_index else 0)\n",
    "test['IR_ind'] = test['IR'].apply(lambda x : 1 if x in IR_index else 0)\n",
    "test['LOI_ind'] = test['LOI'].apply(lambda x : 1 if x in LOI_index else 0)\n",
    "test['CPI_ind'] = test['CPI'].apply(lambda x : 1 if x in CPI_index else 0)"
   ]
  },
  {
   "cell_type": "markdown",
   "metadata": {
    "id": "GRIwCTlmGhai"
   },
   "source": [
    "# 5. Feature Selection"
   ]
  },
  {
   "cell_type": "markdown",
   "metadata": {
    "id": "DTTVWzN0iagf"
   },
   "source": [
    "* 학습용 데이터들 만들기"
   ]
  },
  {
   "cell_type": "code",
   "execution_count": 144,
   "metadata": {
    "executionInfo": {
     "elapsed": 540,
     "status": "ok",
     "timestamp": 1639202808083,
     "user": {
      "displayName": "나ᄋ8ᄋ",
      "photoUrl": "https://lh3.googleusercontent.com/a/default-user=s64",
      "userId": "05265208169833205553"
     },
     "user_tz": -540
    },
    "id": "eV7C3_qOE_zA"
   },
   "outputs": [],
   "source": [
    "X_train = train.iloc[:,5:]\n",
    "y_train = train.STATUS\n",
    "X_test = test.iloc[:,5:]\n",
    "ID = test['ID']"
   ]
  },
  {
   "cell_type": "code",
   "execution_count": 145,
   "metadata": {
    "colab": {
     "base_uri": "https://localhost:8080/"
    },
    "executionInfo": {
     "elapsed": 326,
     "status": "ok",
     "timestamp": 1639202439957,
     "user": {
      "displayName": "나ᄋ8ᄋ",
      "photoUrl": "https://lh3.googleusercontent.com/a/default-user=s64",
      "userId": "05265208169833205553"
     },
     "user_tz": -540
    },
    "id": "vTmXlQhUFB_u",
    "outputId": "0d8b8534-72d4-4c36-e3cb-381f8aced142"
   },
   "outputs": [
    {
     "data": {
      "text/plain": [
       "Index(['IR', 'LOI', 'CPI', 'BIRTH', 'GENDER', 'REGION', 'TYPE', 'SQ2', 'SQ3',\n",
       "       'SQ4', 'SQ5', 'SQ6', 'SQ7', 'SQ8', 'A1', 'B3', 'B4', 'B5', 'C1',\n",
       "       'error_sum', 'first_survey', 'Points_earned', 'LOI_SUM', 'IR_SUM',\n",
       "       'STATUS_ratio_IR', 'STATUS_ratio_LOI', 'STATUS_ratio_CPI', 'weekday',\n",
       "       'month', 'hour', 'STATUS_ratio_weekday', 'STATUS_ratio_hour',\n",
       "       'BIRTH_STATUS', 'w1', 'w2', 'w3', 'w4', 'w5', 'w6', 'user',\n",
       "       'user_count', 'STAT1user_count', 'IR_ind', 'LOI_ind', 'CPI_ind'],\n",
       "      dtype='object')"
      ]
     },
     "execution_count": 145,
     "metadata": {},
     "output_type": "execute_result"
    }
   ],
   "source": [
    "X_train.columns"
   ]
  },
  {
   "cell_type": "code",
   "execution_count": 146,
   "metadata": {
    "executionInfo": {
     "elapsed": 5,
     "status": "ok",
     "timestamp": 1639202809809,
     "user": {
      "displayName": "나ᄋ8ᄋ",
      "photoUrl": "https://lh3.googleusercontent.com/a/default-user=s64",
      "userId": "05265208169833205553"
     },
     "user_tz": -540
    },
    "id": "XsFj7bExE_zF"
   },
   "outputs": [],
   "source": [
    "num = ['IR','LOI','CPI','error_sum', 'STATUS_ratio_IR', 'STATUS_ratio_LOI', 'STATUS_ratio_CPI','STATUS_ratio_weekday'\n",
    ", 'STATUS_ratio_hour', 'BIRTH_STATUS', 'w1', 'w2', 'w3', 'w4', 'w5', 'w6','user', 'user_count', \n",
    "'STAT1user_count','Points_earned', 'LOI_SUM', 'IR_SUM']\n",
    "drop = ['hour','SQ2', 'SQ3', 'SQ4', 'SQ5','SQ7', 'SQ8', 'A1', 'B3', 'B4', 'B5', 'C1','REGION','BIRTH','SQ6']\n",
    "cat = ['TYPE','weekday']\n",
    "encode = [ 'IR_ind', 'LOI_ind','CPI_ind','first_suvey','GENDER']"
   ]
  },
  {
   "cell_type": "code",
   "execution_count": 147,
   "metadata": {
    "executionInfo": {
     "elapsed": 340,
     "status": "ok",
     "timestamp": 1639202811716,
     "user": {
      "displayName": "나ᄋ8ᄋ",
      "photoUrl": "https://lh3.googleusercontent.com/a/default-user=s64",
      "userId": "05265208169833205553"
     },
     "user_tz": -540
    },
    "id": "lCxXZIrfE_zI"
   },
   "outputs": [],
   "source": [
    "# 중복이 되는 값 제외, TITLE, TITLE_S 제외\n",
    "X_train.drop(drop,axis=1,inplace=True)\n",
    "X_test.drop(drop,axis=1,inplace=True)"
   ]
  },
  {
   "cell_type": "code",
   "execution_count": 148,
   "metadata": {
    "executionInfo": {
     "elapsed": 1160,
     "status": "ok",
     "timestamp": 1639202866807,
     "user": {
      "displayName": "나ᄋ8ᄋ",
      "photoUrl": "https://lh3.googleusercontent.com/a/default-user=s64",
      "userId": "05265208169833205553"
     },
     "user_tz": -540
    },
    "id": "b99yeDicE_zI"
   },
   "outputs": [],
   "source": [
    "X_train['GENDER'] = X_train['GENDER'].astype(int)\n",
    "#X_train['REGION'] = X_train['REGION'].astype(int)\n",
    "X_test['GENDER'] = X_test['GENDER'].astype(int)\n",
    "#X_test['REGION'] = X_test['REGION'].astype(int)\n",
    "X_train['first_survey'] = X_train['first_survey'].astype(int)\n",
    "X_test['first_survey'] = X_test['first_survey'].astype(int)\n",
    "X_train['GENDER'] = X_train['GENDER'].apply(lambda x : 1 if x == 1 else 0)\n",
    "X_test['GENDER'] = X_test['GENDER'].apply(lambda x : 1 if x == 1 else 0)"
   ]
  },
  {
   "cell_type": "code",
   "execution_count": 149,
   "metadata": {
    "executionInfo": {
     "elapsed": 24985,
     "status": "ok",
     "timestamp": 1639202892275,
     "user": {
      "displayName": "나ᄋ8ᄋ",
      "photoUrl": "https://lh3.googleusercontent.com/a/default-user=s64",
      "userId": "05265208169833205553"
     },
     "user_tz": -540
    },
    "id": "bzdTkWcwE_zJ"
   },
   "outputs": [],
   "source": [
    "#StandardScaler|\n",
    "from sklearn.preprocessing import StandardScaler\n",
    "scaler = StandardScaler()\n",
    "X_train[num] = scaler.fit_transform(X_train[num])\n",
    "X_test[num] = scaler.transform(X_test[num])"
   ]
  },
  {
   "cell_type": "code",
   "execution_count": 150,
   "metadata": {
    "executionInfo": {
     "elapsed": 285,
     "status": "ok",
     "timestamp": 1639202892392,
     "user": {
      "displayName": "나ᄋ8ᄋ",
      "photoUrl": "https://lh3.googleusercontent.com/a/default-user=s64",
      "userId": "05265208169833205553"
     },
     "user_tz": -540
    },
    "id": "gLVv_QrrE_zJ"
   },
   "outputs": [],
   "source": [
    "# 원핫 인코딩\n",
    "df_encoded = pd.get_dummies(pd.concat([X_train, X_test]), columns=cat)\n",
    "X_train = df_encoded[:X_train.shape[0]]\n",
    "X_test = df_encoded[X_train.shape[0]:]"
   ]
  },
  {
   "cell_type": "code",
   "execution_count": 151,
   "metadata": {
    "executionInfo": {
     "elapsed": 279,
     "status": "ok",
     "timestamp": 1639202892395,
     "user": {
      "displayName": "나ᄋ8ᄋ",
      "photoUrl": "https://lh3.googleusercontent.com/a/default-user=s64",
      "userId": "05265208169833205553"
     },
     "user_tz": -540
    },
    "id": "1DWaBsQgm5Ij"
   },
   "outputs": [],
   "source": [
    "X_train, X_dev, y_train, y_dev = train_test_split(X_train, y_train, test_size=0.4, random_state=42) "
   ]
  },
  {
   "cell_type": "code",
   "execution_count": 153,
   "metadata": {},
   "outputs": [
    {
     "data": {
      "text/plain": [
       "((702327, 38), (1355517, 38))"
      ]
     },
     "execution_count": 153,
     "metadata": {},
     "output_type": "execute_result"
    }
   ],
   "source": [
    "X_train.shape, X_test.shape"
   ]
  },
  {
   "cell_type": "markdown",
   "metadata": {
    "id": "5yRxrC1-BSIz"
   },
   "source": [
    "### Shap"
   ]
  },
  {
   "cell_type": "code",
   "execution_count": 154,
   "metadata": {
    "id": "ojPEajXOYw64",
    "scrolled": false
   },
   "outputs": [
    {
     "data": {
      "image/png": "[encoded data removed]",
      "text/plain": [
       "<Figure size 576x684 with 1 Axes>"
      ]
     },
     "metadata": {
      "needs_background": "light"
     },
     "output_type": "display_data"
    },
    {
     "data": {
      "text/html": [
       "<div>\n",
       "<style scoped>\n",
       "    .dataframe tbody tr th:only-of-type {\n",
       "        vertical-align: middle;\n",
       "    }\n",
       "\n",
       "    .dataframe tbody tr th {\n",
       "        vertical-align: top;\n",
       "    }\n",
       "\n",
       "    .dataframe thead th {\n",
       "        text-align: right;\n",
       "    }\n",
       "</style>\n",
       "<table border=\"1\" class=\"dataframe\">\n",
       "  <thead>\n",
       "    <tr style=\"text-align: right;\">\n",
       "      <th></th>\n",
       "      <th>column_name</th>\n",
       "      <th>shap_importance</th>\n",
       "    </tr>\n",
       "  </thead>\n",
       "  <tbody>\n",
       "    <tr>\n",
       "      <th>19</th>\n",
       "      <td>w4</td>\n",
       "      <td>0.568341</td>\n",
       "    </tr>\n",
       "    <tr>\n",
       "      <th>16</th>\n",
       "      <td>w1</td>\n",
       "      <td>0.505435</td>\n",
       "    </tr>\n",
       "    <tr>\n",
       "      <th>11</th>\n",
       "      <td>STATUS_ratio_CPI</td>\n",
       "      <td>0.498359</td>\n",
       "    </tr>\n",
       "    <tr>\n",
       "      <th>17</th>\n",
       "      <td>w2</td>\n",
       "      <td>0.406087</td>\n",
       "    </tr>\n",
       "    <tr>\n",
       "      <th>22</th>\n",
       "      <td>user</td>\n",
       "      <td>0.368822</td>\n",
       "    </tr>\n",
       "    <tr>\n",
       "      <th>18</th>\n",
       "      <td>w3</td>\n",
       "      <td>0.273657</td>\n",
       "    </tr>\n",
       "    <tr>\n",
       "      <th>20</th>\n",
       "      <td>w5</td>\n",
       "      <td>0.2687</td>\n",
       "    </tr>\n",
       "    <tr>\n",
       "      <th>21</th>\n",
       "      <td>w6</td>\n",
       "      <td>0.252155</td>\n",
       "    </tr>\n",
       "    <tr>\n",
       "      <th>5</th>\n",
       "      <td>first_survey</td>\n",
       "      <td>0.222788</td>\n",
       "    </tr>\n",
       "    <tr>\n",
       "      <th>14</th>\n",
       "      <td>STATUS_ratio_hour</td>\n",
       "      <td>0.191848</td>\n",
       "    </tr>\n",
       "    <tr>\n",
       "      <th>12</th>\n",
       "      <td>month</td>\n",
       "      <td>0.180754</td>\n",
       "    </tr>\n",
       "    <tr>\n",
       "      <th>13</th>\n",
       "      <td>STATUS_ratio_weekday</td>\n",
       "      <td>0.092076</td>\n",
       "    </tr>\n",
       "    <tr>\n",
       "      <th>9</th>\n",
       "      <td>STATUS_ratio_IR</td>\n",
       "      <td>0.08582</td>\n",
       "    </tr>\n",
       "    <tr>\n",
       "      <th>8</th>\n",
       "      <td>IR_SUM</td>\n",
       "      <td>0.047086</td>\n",
       "    </tr>\n",
       "    <tr>\n",
       "      <th>0</th>\n",
       "      <td>IR</td>\n",
       "      <td>0.045123</td>\n",
       "    </tr>\n",
       "    <tr>\n",
       "      <th>3</th>\n",
       "      <td>GENDER</td>\n",
       "      <td>0.040815</td>\n",
       "    </tr>\n",
       "    <tr>\n",
       "      <th>36</th>\n",
       "      <td>weekday_5</td>\n",
       "      <td>0.031305</td>\n",
       "    </tr>\n",
       "    <tr>\n",
       "      <th>23</th>\n",
       "      <td>user_count</td>\n",
       "      <td>0.027029</td>\n",
       "    </tr>\n",
       "    <tr>\n",
       "      <th>1</th>\n",
       "      <td>LOI</td>\n",
       "      <td>0.026951</td>\n",
       "    </tr>\n",
       "    <tr>\n",
       "      <th>4</th>\n",
       "      <td>error_sum</td>\n",
       "      <td>0.026904</td>\n",
       "    </tr>\n",
       "    <tr>\n",
       "      <th>35</th>\n",
       "      <td>weekday_4</td>\n",
       "      <td>0.026381</td>\n",
       "    </tr>\n",
       "    <tr>\n",
       "      <th>10</th>\n",
       "      <td>STATUS_ratio_LOI</td>\n",
       "      <td>0.0257</td>\n",
       "    </tr>\n",
       "    <tr>\n",
       "      <th>15</th>\n",
       "      <td>BIRTH_STATUS</td>\n",
       "      <td>0.022189</td>\n",
       "    </tr>\n",
       "    <tr>\n",
       "      <th>2</th>\n",
       "      <td>CPI</td>\n",
       "      <td>0.018048</td>\n",
       "    </tr>\n",
       "    <tr>\n",
       "      <th>25</th>\n",
       "      <td>IR_ind</td>\n",
       "      <td>0.015625</td>\n",
       "    </tr>\n",
       "    <tr>\n",
       "      <th>30</th>\n",
       "      <td>TYPE_D</td>\n",
       "      <td>0.01552</td>\n",
       "    </tr>\n",
       "    <tr>\n",
       "      <th>34</th>\n",
       "      <td>weekday_3</td>\n",
       "      <td>0.013136</td>\n",
       "    </tr>\n",
       "    <tr>\n",
       "      <th>6</th>\n",
       "      <td>Points_earned</td>\n",
       "      <td>0.012699</td>\n",
       "    </tr>\n",
       "    <tr>\n",
       "      <th>28</th>\n",
       "      <td>TYPE_B</td>\n",
       "      <td>0.012595</td>\n",
       "    </tr>\n",
       "    <tr>\n",
       "      <th>27</th>\n",
       "      <td>CPI_ind</td>\n",
       "      <td>0.006293</td>\n",
       "    </tr>\n",
       "    <tr>\n",
       "      <th>29</th>\n",
       "      <td>TYPE_C</td>\n",
       "      <td>0.005446</td>\n",
       "    </tr>\n",
       "    <tr>\n",
       "      <th>26</th>\n",
       "      <td>LOI_ind</td>\n",
       "      <td>0.003322</td>\n",
       "    </tr>\n",
       "    <tr>\n",
       "      <th>7</th>\n",
       "      <td>LOI_SUM</td>\n",
       "      <td>0.003301</td>\n",
       "    </tr>\n",
       "    <tr>\n",
       "      <th>33</th>\n",
       "      <td>weekday_2</td>\n",
       "      <td>0.002583</td>\n",
       "    </tr>\n",
       "    <tr>\n",
       "      <th>32</th>\n",
       "      <td>weekday_1</td>\n",
       "      <td>0.001438</td>\n",
       "    </tr>\n",
       "    <tr>\n",
       "      <th>24</th>\n",
       "      <td>STAT1user_count</td>\n",
       "      <td>0.001192</td>\n",
       "    </tr>\n",
       "    <tr>\n",
       "      <th>31</th>\n",
       "      <td>weekday_0</td>\n",
       "      <td>0.0</td>\n",
       "    </tr>\n",
       "    <tr>\n",
       "      <th>37</th>\n",
       "      <td>weekday_6</td>\n",
       "      <td>0.0</td>\n",
       "    </tr>\n",
       "  </tbody>\n",
       "</table>\n",
       "</div>"
      ],
      "text/plain": [
       "             column_name shap_importance\n",
       "19                    w4        0.568341\n",
       "16                    w1        0.505435\n",
       "11      STATUS_ratio_CPI        0.498359\n",
       "17                    w2        0.406087\n",
       "22                  user        0.368822\n",
       "18                    w3        0.273657\n",
       "20                    w5          0.2687\n",
       "21                    w6        0.252155\n",
       "5           first_survey        0.222788\n",
       "14     STATUS_ratio_hour        0.191848\n",
       "12                 month        0.180754\n",
       "13  STATUS_ratio_weekday        0.092076\n",
       "9        STATUS_ratio_IR         0.08582\n",
       "8                 IR_SUM        0.047086\n",
       "0                     IR        0.045123\n",
       "3                 GENDER        0.040815\n",
       "36             weekday_5        0.031305\n",
       "23            user_count        0.027029\n",
       "1                    LOI        0.026951\n",
       "4              error_sum        0.026904\n",
       "35             weekday_4        0.026381\n",
       "10      STATUS_ratio_LOI          0.0257\n",
       "15          BIRTH_STATUS        0.022189\n",
       "2                    CPI        0.018048\n",
       "25                IR_ind        0.015625\n",
       "30                TYPE_D         0.01552\n",
       "34             weekday_3        0.013136\n",
       "6          Points_earned        0.012699\n",
       "28                TYPE_B        0.012595\n",
       "27               CPI_ind        0.006293\n",
       "29                TYPE_C        0.005446\n",
       "26               LOI_ind        0.003322\n",
       "7                LOI_SUM        0.003301\n",
       "33             weekday_2        0.002583\n",
       "32             weekday_1        0.001438\n",
       "24       STAT1user_count        0.001192\n",
       "31             weekday_0             0.0\n",
       "37             weekday_6             0.0"
      ]
     },
     "execution_count": 154,
     "metadata": {},
     "output_type": "execute_result"
    }
   ],
   "source": [
    "import shap\n",
    "\n",
    "# DF, based on which importance is checked\n",
    "X_importance = X_test\n",
    "\n",
    "# Explain model predictions using shap library:\n",
    "model = LGBMClassifier(random_state=42).fit(X_train, y_train)\n",
    "explainer = shap.TreeExplainer(model)\n",
    "shap_values = explainer.shap_values(X_importance)\n",
    "\n",
    "# Plot summary_plot as barplot:\n",
    "shap.summary_plot(shap_values, X_importance, plot_type='bar')\n",
    "\n",
    "shap_sum = np.abs(shap_values).mean(axis=1)[1,:]\n",
    "importance_df = pd.DataFrame([X_importance.columns.tolist(), shap_sum.tolist()]).T\n",
    "importance_df.columns = ['column_name', 'shap_importance']\n",
    "importance_df = importance_df.sort_values('shap_importance', ascending=False)\n",
    "importance_df"
   ]
  },
  {
   "cell_type": "code",
   "execution_count": null,
   "metadata": {
    "id": "kVeWzOcpmYE2"
   },
   "outputs": [],
   "source": [
    "features_selected = importance_df.query('shap_importance > 0').column_name.tolist()\n",
    "X_train = X_train[features_selected]\n",
    "X_test = X_test[features_selected]\n",
    "#X_valid = X_valid[features_selected]\n",
    "X_train.shape, X_test.shape#, X_valid.shape"
   ]
  },
  {
   "cell_type": "code",
   "execution_count": null,
   "metadata": {
    "colab": {
     "base_uri": "https://localhost:8080/"
    },
    "executionInfo": {
     "elapsed": 430,
     "status": "ok",
     "timestamp": 1639170828204,
     "user": {
      "displayName": "나ᄋ8ᄋ",
      "photoUrl": "https://lh3.googleusercontent.com/a/default-user=s64",
      "userId": "05265208169833205553"
     },
     "user_tz": -540
    },
    "id": "XQPsvEc3EVRf",
    "outputId": "6c056f5b-5a89-4ad8-f6e4-e22794a4fa4b",
    "scrolled": true
   },
   "outputs": [],
   "source": [
    "X_train.shape, X_test.shape#, X_valid.shape"
   ]
  },
  {
   "cell_type": "code",
   "execution_count": null,
   "metadata": {
    "colab": {
     "base_uri": "https://localhost:8080/"
    },
    "executionInfo": {
     "elapsed": 457,
     "status": "ok",
     "timestamp": 1639167909380,
     "user": {
      "displayName": "나ᄋ8ᄋ",
      "photoUrl": "https://lh3.googleusercontent.com/a/default-user=s64",
      "userId": "05265208169833205553"
     },
     "user_tz": -540
    },
    "id": "cxRR8WbRBE_E",
    "outputId": "9436e982-3f24-4fa7-f297-90abd1fb2dd6"
   },
   "outputs": [],
   "source": [
    "len(set(test.userID.unique()) - set(before_train.userID.unique()))\n",
    "# 비포 트레인에 없는 ID => 총 3천개\n",
    "# 트레인에 없는 ID => 총 4백개\n",
    "# tr_test에 없는 ID => 총 1700개"
   ]
  },
  {
   "cell_type": "markdown",
   "metadata": {},
   "source": [
    "# 6. Modeling"
   ]
  },
  {
   "cell_type": "markdown",
   "metadata": {},
   "source": [
    "### DNN"
   ]
  },
  {
   "cell_type": "code",
   "execution_count": null,
   "metadata": {},
   "outputs": [],
   "source": [
    "# 매번 모델링을 할 때마다 동일한 결과를 얻기 위해 랜덤 시드 설정 동일하게 유지\n",
    "# 럭키 시드 찾는건 시간상 어려움\n",
    "\n",
    "# tensorflow 패키지\n",
    "#!pip install tensorflow\n",
    "import tensorflow as tf\n",
    "from tensorflow import keras\n",
    "import re\n",
    "def reset_seeds(reset_graph_with_backend=None):\n",
    "    if reset_graph_with_backend is not None:\n",
    "        K = reset_graph_with_backend\n",
    "        K.clear_session()\n",
    "        tf.compat.v1.reset_default_graph()\n",
    "        print(\"KERAS AND TENSORFLOW GRAPHS RESET\")  # optional\n",
    "\n",
    "    np.random.seed(1)\n",
    "    random.seed(2)\n",
    "    tf.compat.v1.set_random_seed(3)\n",
    "    os.environ['CUDA_VISIBLE_DEVICES'] = ''  # for GPU\n",
    "    print(\"RANDOM SEEDS RESET\")  # optional\n",
    "   \n",
    "reset_seeds()"
   ]
  },
  {
   "cell_type": "code",
   "execution_count": null,
   "metadata": {},
   "outputs": [],
   "source": [
    "from keras.callbacks import ModelCheckpoint\n",
    "input = keras.Input(shape=(X_train.shape[1],))\n",
    "\n",
    "x = keras.layers.Dense(128, activation='relu')(input) # 은닉층 낮추기\n",
    "output = keras.layers.Dense(1, activation='sigmoid')(x)\n",
    "\n",
    "DEEP = keras.Model(input, output)\n",
    "\n",
    "DEEP.summary()\n",
    "\n",
    "#Image(keras.utils.model_to_dot(DEEP,show_shapes=True,show_layer_names=False, dpi=100).create(prog='dot', format='png'))\n",
    "\n",
    "DEEP.compile(loss='binary_crossentropy', optimizer='adam', metrics=['acc', keras.metrics.AUC()])\n",
    "\n",
    "callbacks = [keras.callbacks.EarlyStopping(monitor='val_loss', patience = 5),] # patience 낮추기\n",
    "\n",
    "mc = ModelCheckpoint('best_model.h5', monitor='val_loss', mode='min', save_best_only=True)\n",
    "\n",
    "hist = DEEP.fit(X_train, y_train, validation_data=(X_dev, y_dev), \n",
    "                 batch_size=1024, epochs=10, callbacks=[callbacks, mc], shuffle=False, verbose=2)"
   ]
  },
  {
   "cell_type": "markdown",
   "metadata": {
    "id": "JDsbi2eTMCpb"
   },
   "source": [
    "# 7. Submission"
   ]
  },
  {
   "cell_type": "code",
   "execution_count": 367,
   "metadata": {
    "executionInfo": {
     "elapsed": 43900,
     "status": "ok",
     "timestamp": 1639203036343,
     "user": {
      "displayName": "나ᄋ8ᄋ",
      "photoUrl": "https://lh3.googleusercontent.com/a/default-user=s64",
      "userId": "05265208169833205553"
     },
     "user_tz": -540
    },
    "id": "e7y-7s4Bnm_U"
   },
   "outputs": [],
   "source": [
    "pd.DataFrame({'ID': ID, 'STATUS': DEEP.predict(X_test).flatten()}).to_csv('DNN_0.89596.csv', index=False)"
   ]
  }
 ],
 "metadata": {
  "kernelspec": {
   "display_name": "Python 3",
   "language": "python",
   "name": "python3"
  },
  "language_info": {
   "codemirror_mode": {
    "name": "ipython",
    "version": 3
   },
   "file_extension": ".py",
   "mimetype": "text/x-python",
   "name": "python",
   "nbconvert_exporter": "python",
   "pygments_lexer": "ipython3",
   "version": "3.8.5"
  }
 },
 "nbformat": 4,
 "nbformat_minor": 4
}
