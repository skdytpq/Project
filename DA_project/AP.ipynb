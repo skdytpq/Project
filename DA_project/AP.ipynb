{
 "cells": [
  {
   "cell_type": "code",
   "execution_count": 53,
   "metadata": {},
   "outputs": [],
   "source": [
    "import pandas as pd\n",
    "import numpy as np\n",
    "import matplotlib.pyplot as plt\n",
    "import seaborn as sns\n",
    "from statsmodels.formula.api import ols\n",
    "from pandas import Series, DataFrame"
   ]
  },
  {
   "cell_type": "code",
   "execution_count": 2,
   "metadata": {},
   "outputs": [],
   "source": [
    "%matplotlib inline\n",
    "\n",
    "plt.rc('font', family='malgun gothic')\n",
    "plt.rc('axes', unicode_minus=False)"
   ]
  },
  {
   "cell_type": "code",
   "execution_count": 3,
   "metadata": {},
   "outputs": [],
   "source": [
    "cs=pd.read_csv('Demo.csv',encoding='cp949',engine='python')\n",
    "tr=pd.read_csv('구매내역정보.csv',encoding='cp949',engine='python')\n",
    "market=pd.read_csv('marketing_data.csv',encoding='cp949',engine='python')"
   ]
  },
  {
   "cell_type": "code",
   "execution_count": 10,
   "metadata": {},
   "outputs": [],
   "source": [
    "df=pd.merge(cs,tr,on='ID')"
   ]
  },
  {
   "cell_type": "code",
   "execution_count": 11,
   "metadata": {},
   "outputs": [
    {
     "data": {
      "text/plain": [
       "구매지역\n",
       "서울 중구      957541000\n",
       "서울 송파구     836051000\n",
       "경기 안양시     781708000\n",
       "부산 부산진구    449327000\n",
       "부산 해운대구    438403000\n",
       "             ...    \n",
       "경기 김포시       3112000\n",
       "경기 오산시       1944000\n",
       "부산 북구        1923000\n",
       "경기 양주시       1496000\n",
       "경기 여주시          9000\n",
       "Name: 구매금액, Length: 65, dtype: int64"
      ]
     },
     "execution_count": 11,
     "metadata": {},
     "output_type": "execute_result"
    }
   ],
   "source": [
    "df.groupby('구매지역')['구매금액'].sum().sort_values(ascending=False) #중구가 높은 이유: 주변 지가가 높으며 소비자들의\n",
    "#소득수준이 높음"
   ]
  },
  {
   "cell_type": "code",
   "execution_count": 33,
   "metadata": {},
   "outputs": [],
   "source": [
    "#각 소비자별 매장 이용 횟수는?\n",
    "df.groupby('ID')['구매금액'].count().sort_values(ascending=False).reset_index()\n",
    "#df.구매일자=df.구매일자.astype(str).astype('datetime64')"
   ]
  },
  {
   "cell_type": "code",
   "execution_count": 456,
   "metadata": {},
   "outputs": [],
   "source": [
    "#어떤 상품을 샀을 때 재방문율이 가장 높은가?\n",
    "#대분류명으로 일단 나눔\n",
    "ID_count=df['ID'].value_counts().reset_index()\n",
    "ID_count.columns=['ID','구매횟수']\n",
    "idq=ID_count.query('구매횟수>1')['ID'].reset_index()\n",
    "#상품을 2번 이상 구매한 고객들\n",
    "df1=pd.merge(pd.merge(idq,cs,on='ID',how='inner').drop('index',axis=1),tr,on='ID',how='inner')"
   ]
  },
  {
   "cell_type": "code",
   "execution_count": 513,
   "metadata": {},
   "outputs": [
    {
     "data": {
      "text/plain": [
       "{'whiskers': [<matplotlib.lines.Line2D at 0x228698e2880>,\n",
       "  <matplotlib.lines.Line2D at 0x228698e2be0>],\n",
       " 'caps': [<matplotlib.lines.Line2D at 0x228698e2f40>,\n",
       "  <matplotlib.lines.Line2D at 0x228698fe2e0>],\n",
       " 'boxes': [<matplotlib.lines.Line2D at 0x228698e2520>],\n",
       " 'medians': [<matplotlib.lines.Line2D at 0x228698fe640>],\n",
       " 'fliers': [<matplotlib.lines.Line2D at 0x228698fe9a0>],\n",
       " 'means': []}"
      ]
     },
     "execution_count": 513,
     "metadata": {},
     "output_type": "execute_result"
    },
    {
     "data": {
      "image/png": "[encoded data removed]",
      "text/plain": [
       "<Figure size 432x288 with 1 Axes>"
      ]
     },
     "metadata": {
      "needs_background": "light"
     },
     "output_type": "display_data"
    }
   ],
   "source": [
    "#두번이상 구매한 사람이 많다. 1번 방문하는 고객 거의 없음\n",
    "(len(df1),\n",
    "len(df))\n",
    "#어떤 상품의 재방문율이 가장 높은가? 즉, 어떤 상품이 가장 많이 팔렸는가?\n",
    "df1.상품대분류명.value_counts() #식품이 가장 많이 팔렸는데 식품구매와 재방문율은 상관관계가 있을까?\n",
    "#구매한 횟수 vs 고객 분위별 횟수\n",
    "#고객은 주로 몇번 방문했는가?\n",
    "q1=df1['ID'].value_counts().quantile(0.25)\n",
    "q3=df1['ID'].value_counts().quantile(0.75)\n",
    "df2=df1['ID'].value_counts().reset_index()\n",
    "plt.boxplot(df2.loc[(df2['ID']<q3+(q3-q1)*1.5) & (q1-(q3-q1)*1.5<df2['ID'])].drop('index',axis=1))\n",
    "#대략적인 구매횟수의 분포도이다.\n",
    "#plt.hist(df1['ID'].value_counts())"
   ]
  },
  {
   "cell_type": "code",
   "execution_count": 329,
   "metadata": {
    "scrolled": true
   },
   "outputs": [],
   "source": [
    "#2번이상 방문한 고객들은 처음 산 물품이 뭐였을까?\n",
    "#처음 구매일자에 구매한 상품 대분류명\n",
    "df1['구매일자']=df1.구매일자.astype(str).astype('datetime64')\n",
    "#처음 구매한 품목들의 종류\n",
    "df1.groupby('ID')['구매일자'].min() #이때 구매한 상품은?\n",
    "#가장 처음 구매한 상품들을 구한 후 특정상품의 비율이 높다면 그 상품이 만족스러웠다는 것이라고 할 수 있다\n",
    "b={}\n",
    "for i in df1.groupby(\"ID\")[\"구매일자\"].min().reset_index().index:\n",
    "    x=df1.loc[(df1['ID']==df1.groupby(\"ID\")[\"구매일자\"].min().reset_index().iloc[i]['ID'])&\n",
    "            (df1['구매일자']==df1.groupby(\"ID\")[\"구매일자\"].min().reset_index().iloc[i]['구매일자'])]['상품대분류명'].values[0]\n",
    "    b[x]=b.get(x,0)+1"
   ]
  },
  {
   "cell_type": "code",
   "execution_count": null,
   "metadata": {},
   "outputs": [],
   "source": [
    "c={}\n",
    "for i in df1.groupby(\"ID\")[\"구매일자\"].min().reset_index().index:\n",
    "    x=df1.loc[(df1['ID']==df1.groupby(\"ID\")[\"구매일자\"].min().reset_index().iloc[i]['ID'])&\n",
    "            (df1['구매일자']==df1.groupby(\"ID\")[\"구매일자\"].min().reset_index().iloc[i]['구매일자'])]['상품중분류명'].values[0]\n",
    "    c[x]=c.get(x,0)+1"
   ]
  },
  {
   "cell_type": "code",
   "execution_count": 357,
   "metadata": {},
   "outputs": [],
   "source": [
    "#두번 이상 방문한 사람들의 첫 방문시 구매한 상품은 의류이다. \n",
    "#첫 방문시 의류를 구매한다면 다시 방문할 확률이 높다고 해석가능한가?\n",
    "first_buy1=pd.Series(b)\n",
    "first_buy2=pd.Series(c)"
   ]
  },
  {
   "cell_type": "code",
   "execution_count": 360,
   "metadata": {},
   "outputs": [
    {
     "data": {
      "text/html": [
       "<div>\n",
       "<style scoped>\n",
       "    .dataframe tbody tr th:only-of-type {\n",
       "        vertical-align: middle;\n",
       "    }\n",
       "\n",
       "    .dataframe tbody tr th {\n",
       "        vertical-align: top;\n",
       "    }\n",
       "\n",
       "    .dataframe thead th {\n",
       "        text-align: right;\n",
       "    }\n",
       "</style>\n",
       "<table border=\"1\" class=\"dataframe\">\n",
       "  <thead>\n",
       "    <tr style=\"text-align: right;\">\n",
       "      <th></th>\n",
       "      <th>대분류품목</th>\n",
       "      <th>첫방문시 구매 횟수</th>\n",
       "      <th>총구매횟수</th>\n",
       "    </tr>\n",
       "  </thead>\n",
       "  <tbody>\n",
       "    <tr>\n",
       "      <th>0</th>\n",
       "      <td>의류잡화</td>\n",
       "      <td>1039</td>\n",
       "      <td>32015</td>\n",
       "    </tr>\n",
       "    <tr>\n",
       "      <th>1</th>\n",
       "      <td>식품</td>\n",
       "      <td>903</td>\n",
       "      <td>38589</td>\n",
       "    </tr>\n",
       "    <tr>\n",
       "      <th>2</th>\n",
       "      <td>가전제품</td>\n",
       "      <td>767</td>\n",
       "      <td>10980</td>\n",
       "    </tr>\n",
       "    <tr>\n",
       "      <th>3</th>\n",
       "      <td>생활잡화</td>\n",
       "      <td>389</td>\n",
       "      <td>10085</td>\n",
       "    </tr>\n",
       "    <tr>\n",
       "      <th>4</th>\n",
       "      <td>레포츠</td>\n",
       "      <td>313</td>\n",
       "      <td>8015</td>\n",
       "    </tr>\n",
       "    <tr>\n",
       "      <th>5</th>\n",
       "      <td>명품</td>\n",
       "      <td>49</td>\n",
       "      <td>1226</td>\n",
       "    </tr>\n",
       "    <tr>\n",
       "      <th>6</th>\n",
       "      <td>가구</td>\n",
       "      <td>33</td>\n",
       "      <td>733</td>\n",
       "    </tr>\n",
       "  </tbody>\n",
       "</table>\n",
       "</div>"
      ],
      "text/plain": [
       "  대분류품목  첫방문시 구매 횟수  총구매횟수\n",
       "0  의류잡화        1039  32015\n",
       "1    식품         903  38589\n",
       "2  가전제품         767  10980\n",
       "3  생활잡화         389  10085\n",
       "4   레포츠         313   8015\n",
       "5    명품          49   1226\n",
       "6    가구          33    733"
      ]
     },
     "execution_count": 360,
     "metadata": {},
     "output_type": "execute_result"
    }
   ],
   "source": [
    "#처음 구매하는 상품의 구매횟수와 총 구매횟수를 묶음\n",
    "buy_list=pd.merge(first_buy1.sort_values(ascending=False).reset_index(),df1['상품대분류명'].value_counts().reset_index(),on='index'\n",
    "                  ,how='outer')\n",
    "buy_list1=pd.merge(first_buy2.sort_values(ascending=False).reset_index(),df1['상품중분류명'].value_counts().reset_index(),on='index'\n",
    "        ,how='outer')\n",
    "buy_list.columns=['대분류품목','첫방문시 구매 횟수','총구매횟수']\n",
    "buy_list1.columns=['중분류품목','첫방문시 구매 횟수','총구매횟수']"
   ]
  },
  {
   "cell_type": "code",
   "execution_count": 376,
   "metadata": {},
   "outputs": [
    {
     "data": {
      "text/plain": [
       "<matplotlib.collections.PathCollection at 0x2285f0134c0>"
      ]
     },
     "execution_count": 376,
     "metadata": {},
     "output_type": "execute_result"
    },
    {
     "data": {
      "image/png": "[encoded data removed]",
      "text/plain": [
       "<Figure size 432x288 with 2 Axes>"
      ]
     },
     "metadata": {
      "needs_background": "light"
     },
     "output_type": "display_data"
    }
   ],
   "source": [
    "buy_list.sort_values(by='총구매횟수',ascending=False)\n",
    "plt.subplot(1,2,1)\n",
    "plt.scatter(buy_list1.sort_values(by='총구매횟수',ascending=False)['첫방문시 구매 횟수'],\n",
    "           buy_list1.sort_values(by='총구매횟수',ascending=False)['총구매횟수'])\n",
    "plt.subplot(1,2,2)\n",
    "plt.scatter(buy_list.sort_values(by='총구매횟수',ascending=False)['첫방문시 구매 횟수'],\n",
    "           buy_list.sort_values(by='총구매횟수',ascending=False)['총구매횟수'])\n",
    "#첫방문시 구매한 상품들이 총 구매횟수도 높게 나타난다."
   ]
  },
  {
   "cell_type": "code",
   "execution_count": null,
   "metadata": {},
   "outputs": [],
   "source": []
  },
  {
   "cell_type": "markdown",
   "metadata": {},
   "source": [
    "처음 구매한 상품= 의류가 가장 많았다. 의류에 대한 상품의 만족도가 가장 높다고 할 수 있는건가?\n",
    "어느 매장의 고객 재방문 횟수가 가장 많은가?"
   ]
  },
  {
   "cell_type": "code",
   "execution_count": 387,
   "metadata": {},
   "outputs": [
    {
     "data": {
      "text/plain": [
       "부산 사상구    12\n",
       "Name: 구매지역, dtype: int64"
      ]
     },
     "execution_count": 387,
     "metadata": {},
     "output_type": "execute_result"
    }
   ],
   "source": [
    "one_time=pd.merge(pd.merge(ID_count.query(\"구매횟수==1\"),cs,on ='ID'),tr,on='ID')\n",
    "one_time['구매지역'].value_counts().head(1)\n",
    "#한번 이용한 고객은 부산 사상구 점포를 가장 많이 방문"
   ]
  },
  {
   "cell_type": "code",
   "execution_count": 402,
   "metadata": {},
   "outputs": [
    {
     "data": {
      "text/plain": [
       "[<matplotlib.lines.Line2D at 0x2285ef66a00>]"
      ]
     },
     "execution_count": 402,
     "metadata": {},
     "output_type": "execute_result"
    },
    {
     "data": {
      "image/png": "[encoded data removed]",
      "text/plain": [
       "<Figure size 432x288 with 1 Axes>"
      ]
     },
     "metadata": {
      "needs_background": "light"
     },
     "output_type": "display_data"
    }
   ],
   "source": [
    "df1.groupby('구매지역')['ID'].nunique().sort_values(ascending=False)\n",
    "#서울 중구에서 재방문을 한 고객의 수가 가장 많았다.\n",
    "df1.groupby('구매지역')['ID'].count().sort_values(ascending=False)\n",
    "#가장 구매가 많이 이루어진 곳은 서울 송파구\n",
    "#재방문 고객의 수와 구매의 많이 이루어진 수의 관계는?\n",
    "plt.plot(df1.groupby('구매지역')['ID'].nunique().sort_values(ascending=False),\n",
    "        df1.groupby('구매지역')['ID'].count().sort_values(ascending=False))\n",
    "#재방문한고객의 수가 많을수록 총 판매수가 많다."
   ]
  },
  {
   "cell_type": "code",
   "execution_count": 441,
   "metadata": {},
   "outputs": [
    {
     "data": {
      "text/html": [
       "<div>\n",
       "<style scoped>\n",
       "    .dataframe tbody tr th:only-of-type {\n",
       "        vertical-align: middle;\n",
       "    }\n",
       "\n",
       "    .dataframe tbody tr th {\n",
       "        vertical-align: top;\n",
       "    }\n",
       "\n",
       "    .dataframe thead th {\n",
       "        text-align: right;\n",
       "    }\n",
       "</style>\n",
       "<table border=\"1\" class=\"dataframe\">\n",
       "  <thead>\n",
       "    <tr style=\"text-align: right;\">\n",
       "      <th></th>\n",
       "      <th>대분류품목</th>\n",
       "      <th>첫방문시 구매 횟수</th>\n",
       "      <th>총구매횟수</th>\n",
       "    </tr>\n",
       "  </thead>\n",
       "  <tbody>\n",
       "    <tr>\n",
       "      <th>0</th>\n",
       "      <td>의류잡화</td>\n",
       "      <td>1039</td>\n",
       "      <td>32015</td>\n",
       "    </tr>\n",
       "    <tr>\n",
       "      <th>1</th>\n",
       "      <td>식품</td>\n",
       "      <td>903</td>\n",
       "      <td>38589</td>\n",
       "    </tr>\n",
       "    <tr>\n",
       "      <th>2</th>\n",
       "      <td>가전제품</td>\n",
       "      <td>767</td>\n",
       "      <td>10980</td>\n",
       "    </tr>\n",
       "    <tr>\n",
       "      <th>3</th>\n",
       "      <td>생활잡화</td>\n",
       "      <td>389</td>\n",
       "      <td>10085</td>\n",
       "    </tr>\n",
       "    <tr>\n",
       "      <th>4</th>\n",
       "      <td>레포츠</td>\n",
       "      <td>313</td>\n",
       "      <td>8015</td>\n",
       "    </tr>\n",
       "    <tr>\n",
       "      <th>5</th>\n",
       "      <td>명품</td>\n",
       "      <td>49</td>\n",
       "      <td>1226</td>\n",
       "    </tr>\n",
       "    <tr>\n",
       "      <th>6</th>\n",
       "      <td>가구</td>\n",
       "      <td>33</td>\n",
       "      <td>733</td>\n",
       "    </tr>\n",
       "  </tbody>\n",
       "</table>\n",
       "</div>"
      ],
      "text/plain": [
       "  대분류품목  첫방문시 구매 횟수  총구매횟수\n",
       "0  의류잡화        1039  32015\n",
       "1    식품         903  38589\n",
       "2  가전제품         767  10980\n",
       "3  생활잡화         389  10085\n",
       "4   레포츠         313   8015\n",
       "5    명품          49   1226\n",
       "6    가구          33    733"
      ]
     },
     "execution_count": 441,
     "metadata": {},
     "output_type": "execute_result"
    }
   ],
   "source": [
    "buy_list #주얼리를 구매한 고객은 첫방문시 주얼리를 구매하지 않았다. \n",
    "#주얼리를 구매한 사람들의 구매 양상은?"
   ]
  },
  {
   "cell_type": "code",
   "execution_count": 439,
   "metadata": {},
   "outputs": [
    {
     "data": {
      "text/plain": [
       "100.94117647058823"
      ]
     },
     "execution_count": 439,
     "metadata": {},
     "output_type": "execute_result"
    }
   ],
   "source": [
    "one_time #한번만 방문한 사람들도 주얼리를 구매한 고객이 없음\n",
    "#주얼리를 구매한 사람들은 어떤 상품들을 추가로 구매하였는가?\n",
    "jew=df1.query('상품중분류명==\"주얼리\"')[\"ID\"].unique()\n",
    "df1.query('ID in @jew').groupby('ID')['상품중분류명'].count().mean()\n",
    "#대체적으로 점포방문 횟수가 많은 사람들이 주얼리를 구매한다."
   ]
  },
  {
   "cell_type": "markdown",
   "metadata": {},
   "source": [
    "상품의 품질요인과 서비스 요인도 소비자 만족도에 영향을 미치는 것으로 나타났지만 소비자 만족도에 가장 많은 영향을 미치는 요인은 접근용이성 요인으로 나\n",
    "타났다 또한 만족도가 높을수록 재방문율도 높다"
   ]
  },
  {
   "cell_type": "code",
   "execution_count": 471,
   "metadata": {},
   "outputs": [],
   "source": [
    " #구매횟수를 범위로 나눠 구매횟수 분위별 구매액의 차이는 어떻게 되는지 구하기.\n",
    "#df3=pd.merge(df1,ID_count,on='ID')\n"
   ]
  },
  {
   "cell_type": "code",
   "execution_count": 472,
   "metadata": {},
   "outputs": [],
   "source": [
    "df3['구매횟수분위'] = pd.qcut(df3['구매횟수'], q=5, labels=range(5,0,-1)).astype(int)"
   ]
  },
  {
   "cell_type": "code",
   "execution_count": 473,
   "metadata": {},
   "outputs": [
    {
     "data": {
      "text/plain": [
       "구매횟수분위\n",
       "1     50257.304100\n",
       "2     62551.525506\n",
       "3     66140.019112\n",
       "4     84200.387655\n",
       "5    118525.483886\n",
       "Name: 구매금액, dtype: float64"
      ]
     },
     "execution_count": 473,
     "metadata": {},
     "output_type": "execute_result"
    }
   ],
   "source": [
    "df3.groupby('구매횟수분위')['구매금액'].mean()# 2번이상 구매한 고객중 구매횟수가 많은 고객일수록 평균 구매금액은 적다."
   ]
  },
  {
   "cell_type": "code",
   "execution_count": 474,
   "metadata": {},
   "outputs": [
    {
     "data": {
      "text/plain": [
       "구매횟수분위\n",
       "1    20023\n",
       "2    20485\n",
       "3    19883\n",
       "4    20121\n",
       "5    21131\n",
       "Name: 구매금액, dtype: int64"
      ]
     },
     "execution_count": 474,
     "metadata": {},
     "output_type": "execute_result"
    }
   ],
   "source": [
    "df3.groupby('구매횟수분위')['구매금액'].count()"
   ]
  },
  {
   "cell_type": "code",
   "execution_count": 477,
   "metadata": {},
   "outputs": [
    {
     "name": "stderr",
     "output_type": "stream",
     "text": [
      "<ipython-input-477-c0ddd84f5164>:3: SettingWithCopyWarning: \n",
      "A value is trying to be set on a copy of a slice from a DataFrame.\n",
      "Try using .loc[row_indexer,col_indexer] = value instead\n",
      "\n",
      "See the caveats in the documentation: https://pandas.pydata.org/pandas-docs/stable/user_guide/indexing.html#returning-a-view-versus-a-copy\n",
      "  df4['구매횟수분위'] = pd.qcut(df4['구매횟수'], q=5, labels=range(5,0,-1)).astype(int)\n"
     ]
    }
   ],
   "source": [
    "df4=df3.loc[(df3['구매횟수']<q3+(q3-q1)*1.5)&(q1-(q3-q1)*1.5<df3['구매횟수'])]\n",
    "#이상값들을 제거한 후 다시 분위내고 구해보기\n",
    "df4['구매횟수분위'] = pd.qcut(df4['구매횟수'], q=5, labels=range(5,0,-1)).astype(int)"
   ]
  },
  {
   "cell_type": "code",
   "execution_count": 483,
   "metadata": {},
   "outputs": [
    {
     "data": {
      "text/plain": [
       "[<matplotlib.lines.Line2D at 0x22859325b20>]"
      ]
     },
     "execution_count": 483,
     "metadata": {},
     "output_type": "execute_result"
    },
    {
     "data": {
      "image/png": "[encoded data removed]",
      "text/plain": [
       "<Figure size 432x288 with 1 Axes>"
      ]
     },
     "metadata": {
      "needs_background": "light"
     },
     "output_type": "display_data"
    }
   ],
   "source": [
    "df4.groupby('구매횟수분위')['구매금액'].mean()\n",
    "#이상치를 제거해도 구매횟수가 낮은 고객일수록 구매액이 많다.\n",
    "plt.plot(df4.groupby('구매횟수분위')['구매금액'].mean())"
   ]
  },
  {
   "cell_type": "markdown",
   "metadata": {},
   "source": [
    "재방문율을 높이기위해 접근 용이성과 상품의 품질을 높일 필요가 있다. 재방문한 고객이 가장 많이 구매한 첫 구매상품은\n",
    "의류로 나옴. 의류에 대한 만족도가 높다는 뜻. 낮을수록 상품에대한 만족도가 낮다고 할 수 있다.\n",
    "\n",
    "또한 매장의 재방문한 고객의 수와 총 판매량에 대한 양의 상관관계가 있다고 할 수 있다.\n",
    "재방문율을 높이기 위해 해야할 것은?\n",
    "재방문 횟수가 많을수록 평균적으로 구매하는 금액은 낮아진다. 재방문율이 높은 고객은 접근용이성이 있는가?"
   ]
  },
  {
   "cell_type": "code",
   "execution_count": 497,
   "metadata": {},
   "outputs": [],
   "source": [
    "#구매횟수가 많은 고객들의 거주지,구매지의 차이의 관계는?\n",
    "diff_region={}\n",
    "for i in range(1,6):\n",
    "    x=df4.loc[df4['구매횟수분위']==i].groupby('거주지역')['구매지역'].nunique().sum()\n",
    "    diff_region[i]=x\n",
    "    \n",
    "#구매횟수가 많은 고객일수록 거주지역과 구매지역의 차이가 적다.?"
   ]
  },
  {
   "cell_type": "code",
   "execution_count": 501,
   "metadata": {},
   "outputs": [
    {
     "data": {
      "text/plain": [
       "{1: 265, 2: 308, 3: 345, 4: 487, 5: 714}"
      ]
     },
     "execution_count": 501,
     "metadata": {},
     "output_type": "execute_result"
    },
    {
     "data": {
      "image/png": "[encoded data removed]",
      "text/plain": [
       "<Figure size 432x288 with 1 Axes>"
      ]
     },
     "metadata": {
      "needs_background": "light"
     },
     "output_type": "display_data"
    }
   ],
   "source": [
    "plt.plot(pd.Series(diff_region))\n",
    "diff_region"
   ]
  },
  {
   "cell_type": "markdown",
   "metadata": {},
   "source": [
    "재방문율을 높이기위해 해야하는 것은 상품의 만족도를 높이는 것. 매장의 입점시 고려사항은 접근 용이성.\n",
    "첫방문시 구매하는 의류,식품등의 만족도를 높여 총 판매액을 높일 수 있다.\n",
    "만족도에 휴게시설도 영향을 줄 수 있다. 따라서 상품의 만족도를 높이고 휴게시설의 배치를 조정해야함."
   ]
  },
  {
   "cell_type": "code",
   "execution_count": 522,
   "metadata": {},
   "outputs": [
    {
     "data": {
      "text/html": [
       "<div>\n",
       "<style scoped>\n",
       "    .dataframe tbody tr th:only-of-type {\n",
       "        vertical-align: middle;\n",
       "    }\n",
       "\n",
       "    .dataframe tbody tr th {\n",
       "        vertical-align: top;\n",
       "    }\n",
       "\n",
       "    .dataframe thead th {\n",
       "        text-align: right;\n",
       "    }\n",
       "</style>\n",
       "<table border=\"1\" class=\"dataframe\">\n",
       "  <thead>\n",
       "    <tr style=\"text-align: right;\">\n",
       "      <th></th>\n",
       "      <th>ID</th>\n",
       "      <th>성별</th>\n",
       "      <th>연령</th>\n",
       "      <th>거주지역</th>\n",
       "      <th>상품대분류명</th>\n",
       "      <th>상품중분류명</th>\n",
       "      <th>구매지역</th>\n",
       "      <th>구매일자</th>\n",
       "      <th>구매시간</th>\n",
       "      <th>구매수량</th>\n",
       "      <th>구매금액</th>\n",
       "      <th>취소여부</th>\n",
       "    </tr>\n",
       "  </thead>\n",
       "  <tbody>\n",
       "    <tr>\n",
       "      <th>97723</th>\n",
       "      <td>741463</td>\n",
       "      <td>1</td>\n",
       "      <td>78</td>\n",
       "      <td>서울 동대문구</td>\n",
       "      <td>의류잡화</td>\n",
       "      <td>남성용의류-캐주얼</td>\n",
       "      <td>서울 동대문구</td>\n",
       "      <td>20140115</td>\n",
       "      <td>13</td>\n",
       "      <td>1</td>\n",
       "      <td>44000</td>\n",
       "      <td>0</td>\n",
       "    </tr>\n",
       "    <tr>\n",
       "      <th>76050</th>\n",
       "      <td>909249</td>\n",
       "      <td>2</td>\n",
       "      <td>56</td>\n",
       "      <td>부산 해운대구</td>\n",
       "      <td>의류잡화</td>\n",
       "      <td>남성용의류-정장류</td>\n",
       "      <td>부산 중구</td>\n",
       "      <td>20140118</td>\n",
       "      <td>13</td>\n",
       "      <td>1</td>\n",
       "      <td>999000</td>\n",
       "      <td>0</td>\n",
       "    </tr>\n",
       "    <tr>\n",
       "      <th>92474</th>\n",
       "      <td>1065068</td>\n",
       "      <td>2</td>\n",
       "      <td>64</td>\n",
       "      <td>서울 성동구</td>\n",
       "      <td>생활잡화</td>\n",
       "      <td>화장품</td>\n",
       "      <td>서울 송파구</td>\n",
       "      <td>20140706</td>\n",
       "      <td>19</td>\n",
       "      <td>1</td>\n",
       "      <td>102000</td>\n",
       "      <td>0</td>\n",
       "    </tr>\n",
       "    <tr>\n",
       "      <th>101528</th>\n",
       "      <td>1310410</td>\n",
       "      <td>2</td>\n",
       "      <td>69</td>\n",
       "      <td>서울 마포구</td>\n",
       "      <td>의류잡화</td>\n",
       "      <td>여성용의류-SPA</td>\n",
       "      <td>경기 고양시</td>\n",
       "      <td>20140119</td>\n",
       "      <td>17</td>\n",
       "      <td>2</td>\n",
       "      <td>53000</td>\n",
       "      <td>0</td>\n",
       "    </tr>\n",
       "    <tr>\n",
       "      <th>97881</th>\n",
       "      <td>1387032</td>\n",
       "      <td>2</td>\n",
       "      <td>56</td>\n",
       "      <td>서울 은평구</td>\n",
       "      <td>의류잡화</td>\n",
       "      <td>구두</td>\n",
       "      <td>서울 중구</td>\n",
       "      <td>20140118</td>\n",
       "      <td>15</td>\n",
       "      <td>1</td>\n",
       "      <td>27000</td>\n",
       "      <td>0</td>\n",
       "    </tr>\n",
       "    <tr>\n",
       "      <th>...</th>\n",
       "      <td>...</td>\n",
       "      <td>...</td>\n",
       "      <td>...</td>\n",
       "      <td>...</td>\n",
       "      <td>...</td>\n",
       "      <td>...</td>\n",
       "      <td>...</td>\n",
       "      <td>...</td>\n",
       "      <td>...</td>\n",
       "      <td>...</td>\n",
       "      <td>...</td>\n",
       "      <td>...</td>\n",
       "    </tr>\n",
       "    <tr>\n",
       "      <th>100345</th>\n",
       "      <td>998386599</td>\n",
       "      <td>2</td>\n",
       "      <td>67</td>\n",
       "      <td>서울 송파구</td>\n",
       "      <td>가전제품</td>\n",
       "      <td>생활가전</td>\n",
       "      <td>서울 송파구</td>\n",
       "      <td>20141112</td>\n",
       "      <td>18</td>\n",
       "      <td>1</td>\n",
       "      <td>49000</td>\n",
       "      <td>0</td>\n",
       "    </tr>\n",
       "    <tr>\n",
       "      <th>85047</th>\n",
       "      <td>998623524</td>\n",
       "      <td>2</td>\n",
       "      <td>58</td>\n",
       "      <td>경기 안양시</td>\n",
       "      <td>식품</td>\n",
       "      <td>건강식품</td>\n",
       "      <td>경기 안양시</td>\n",
       "      <td>20140221</td>\n",
       "      <td>11</td>\n",
       "      <td>1</td>\n",
       "      <td>18000</td>\n",
       "      <td>0</td>\n",
       "    </tr>\n",
       "    <tr>\n",
       "      <th>100703</th>\n",
       "      <td>999024423</td>\n",
       "      <td>2</td>\n",
       "      <td>58</td>\n",
       "      <td>서울 송파구</td>\n",
       "      <td>가전제품</td>\n",
       "      <td>주방가전</td>\n",
       "      <td>서울 송파구</td>\n",
       "      <td>20140517</td>\n",
       "      <td>16</td>\n",
       "      <td>1</td>\n",
       "      <td>6000</td>\n",
       "      <td>0</td>\n",
       "    </tr>\n",
       "    <tr>\n",
       "      <th>78589</th>\n",
       "      <td>999184958</td>\n",
       "      <td>2</td>\n",
       "      <td>61</td>\n",
       "      <td>부산 해운대구</td>\n",
       "      <td>생활잡화</td>\n",
       "      <td>침구류</td>\n",
       "      <td>부산 해운대구</td>\n",
       "      <td>20140115</td>\n",
       "      <td>14</td>\n",
       "      <td>1</td>\n",
       "      <td>44000</td>\n",
       "      <td>0</td>\n",
       "    </tr>\n",
       "    <tr>\n",
       "      <th>100270</th>\n",
       "      <td>999494396</td>\n",
       "      <td>2</td>\n",
       "      <td>61</td>\n",
       "      <td>서울 송파구</td>\n",
       "      <td>의류잡화</td>\n",
       "      <td>여성용의류-SPA</td>\n",
       "      <td>서울 송파구</td>\n",
       "      <td>20140626</td>\n",
       "      <td>11</td>\n",
       "      <td>1</td>\n",
       "      <td>27000</td>\n",
       "      <td>0</td>\n",
       "    </tr>\n",
       "  </tbody>\n",
       "</table>\n",
       "<p>3385 rows × 12 columns</p>\n",
       "</div>"
      ],
      "text/plain": [
       "               ID  성별  연령     거주지역 상품대분류명     상품중분류명     구매지역      구매일자  구매시간  \\\n",
       "97723      741463   1  78  서울 동대문구   의류잡화  남성용의류-캐주얼  서울 동대문구  20140115    13   \n",
       "76050      909249   2  56  부산 해운대구   의류잡화  남성용의류-정장류    부산 중구  20140118    13   \n",
       "92474     1065068   2  64   서울 성동구   생활잡화        화장품   서울 송파구  20140706    19   \n",
       "101528    1310410   2  69   서울 마포구   의류잡화  여성용의류-SPA   경기 고양시  20140119    17   \n",
       "97881     1387032   2  56   서울 은평구   의류잡화         구두    서울 중구  20140118    15   \n",
       "...           ...  ..  ..      ...    ...        ...      ...       ...   ...   \n",
       "100345  998386599   2  67   서울 송파구   가전제품       생활가전   서울 송파구  20141112    18   \n",
       "85047   998623524   2  58   경기 안양시     식품       건강식품   경기 안양시  20140221    11   \n",
       "100703  999024423   2  58   서울 송파구   가전제품       주방가전   서울 송파구  20140517    16   \n",
       "78589   999184958   2  61  부산 해운대구   생활잡화        침구류  부산 해운대구  20140115    14   \n",
       "100270  999494396   2  61   서울 송파구   의류잡화  여성용의류-SPA   서울 송파구  20140626    11   \n",
       "\n",
       "        구매수량    구매금액  취소여부  \n",
       "97723      1   44000     0  \n",
       "76050      1  999000     0  \n",
       "92474      1  102000     0  \n",
       "101528     2   53000     0  \n",
       "97881      1   27000     0  \n",
       "...      ...     ...   ...  \n",
       "100345     1   49000     0  \n",
       "85047      1   18000     0  \n",
       "100703     1    6000     0  \n",
       "78589      1   44000     0  \n",
       "100270     1   27000     0  \n",
       "\n",
       "[3385 rows x 12 columns]"
      ]
     },
     "execution_count": 522,
     "metadata": {},
     "output_type": "execute_result"
    }
   ],
   "source": [
    "df1.sort_values(by=['ID', '구매일자']).drop_duplicates(['ID']).query('취소여부==0')\n",
    "#첫구매시의 피벗테이블\n"
   ]
  }
 ],
 "metadata": {
  "kernelspec": {
   "display_name": "Python 3",
   "language": "python",
   "name": "python3"
  },
  "language_info": {
   "codemirror_mode": {
    "name": "ipython",
    "version": 3
   },
   "file_extension": ".py",
   "mimetype": "text/x-python",
   "name": "python",
   "nbconvert_exporter": "python",
   "pygments_lexer": "ipython3",
   "version": "3.8.5"
  }
 },
 "nbformat": 4,
 "nbformat_minor": 4
}
